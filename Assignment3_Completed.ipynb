{
 "cells": [
  {
   "cell_type": "markdown",
   "metadata": {},
   "source": [
    "# Assignment 3"
   ]
  },
  {
   "cell_type": "markdown",
   "metadata": {},
   "source": [
    "## Task 1"
   ]
  },
  {
   "cell_type": "markdown",
   "metadata": {},
   "source": [
    "### 1.Write a function to compute 5/0 and use try/except to catch the exceptions."
   ]
  },
  {
   "cell_type": "code",
   "execution_count": 1,
   "metadata": {},
   "outputs": [
    {
     "name": "stdout",
     "output_type": "stream",
     "text": [
      "O/P: Got Exception as \"division by zero\"\n"
     ]
    }
   ],
   "source": [
    "def compute(a, b):\n",
    "    try:\n",
    "        return a/b\n",
    "    except Exception as e:\n",
    "        raise e\n",
    "\n",
    "if __name__ == '__main__':\n",
    "    try:\n",
    "        compute(5, 0)\n",
    "    except Exception as e:\n",
    "        print('O/P: Got Exception as \"{}\"'.format(e))"
   ]
  },
  {
   "cell_type": "markdown",
   "metadata": {},
   "source": [
    "### 2. Implement a Python program to generate all sentences where subject is in [\"Americans\", \"Indians\"] and verb is in [\"Play\", \"watch\"] and the object is in [\"Baseball\",\"cricket\"]."
   ]
  },
  {
   "cell_type": "code",
   "execution_count": 2,
   "metadata": {},
   "outputs": [
    {
     "name": "stdout",
     "output_type": "stream",
     "text": [
      "O/P:\n",
      "Americas Play Baseball\n",
      "Americas Play cricket\n",
      "Americas watch Baseball\n",
      "Americas watch cricket\n",
      "Indians Play Baseball\n",
      "Indians Play cricket\n",
      "Indians watch Baseball\n",
      "Indians watch cricket\n"
     ]
    }
   ],
   "source": [
    "if __name__ == '__main__':\n",
    "    print('O/P:')\n",
    "    for subject in ['Americas', 'Indians']:\n",
    "        for verb in ['Play', 'watch']:\n",
    "            for obj in ['Baseball', 'cricket']:\n",
    "                print('{} {} {}'.format(subject, verb, obj))"
   ]
  },
  {
   "cell_type": "markdown",
   "metadata": {},
   "source": [
    "## Task 2"
   ]
  },
  {
   "cell_type": "markdown",
   "metadata": {},
   "source": [
    "### Write a function so that the columns of the output matrix are powers of the input vector.  \n",
    "The order of the powers is determined by the increasing boolean argument. Specifically, when              increasing is False, the i-th output column is the input vector raised element-wise to the power                of N - i - 1"
   ]
  },
  {
   "cell_type": "code",
   "execution_count": 3,
   "metadata": {},
   "outputs": [
    {
     "name": "stdout",
     "output_type": "stream",
     "text": [
      "O/P: [[8, 4, 2, 1], [64, 16, 4, 1], [216, 36, 6, 1], [512, 64, 8, 1]]\n"
     ]
    }
   ],
   "source": [
    "\"\"\" First Solution where created own function based on condition in problem statement. \"\"\"\n",
    "def alex_theophile_vandermonde_algo(ls_input_vector, power_val):\n",
    "    ls_temp = []\n",
    "    for each_val in ls_input_vector:\n",
    "        ls_temp.append([(each_val**(power_val-1-i)) for i in range(power_val)])\n",
    "    return ls_temp\n",
    "\n",
    "\n",
    "if __name__ == '__main__':\n",
    "    ls_input_vector = [2,4,6,8]\n",
    "    ls_output = alex_theophile_vandermonde_algo(ls_input_vector, 4)\n",
    "    print('O/P: {}'.format(ls_output))"
   ]
  },
  {
   "cell_type": "code",
   "execution_count": 5,
   "metadata": {},
   "outputs": [
    {
     "data": {
      "text/plain": [
       "array([[  8,   4,   2,   1],\n",
       "       [ 64,  16,   4,   1],\n",
       "       [216,  36,   6,   1],\n",
       "       [512,  64,   8,   1]])"
      ]
     },
     "execution_count": 5,
     "metadata": {},
     "output_type": "execute_result"
    }
   ],
   "source": [
    "\"\"\" Second Solution is directly using numpy's vander() function. \"\"\"\n",
    "import numpy as np\n",
    "x = np.array([2,4,6,8])\n",
    "N = 4\n",
    "np.vander(x, N, increasing=False)"
   ]
  }
 ],
 "metadata": {
  "kernelspec": {
   "display_name": "Python 3",
   "language": "python",
   "name": "python3"
  },
  "language_info": {
   "codemirror_mode": {
    "name": "ipython",
    "version": 3
   },
   "file_extension": ".py",
   "mimetype": "text/x-python",
   "name": "python",
   "nbconvert_exporter": "python",
   "pygments_lexer": "ipython3",
   "version": "3.6.5"
  }
 },
 "nbformat": 4,
 "nbformat_minor": 2
}
