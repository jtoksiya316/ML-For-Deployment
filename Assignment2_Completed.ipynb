{
 "cells": [
  {
   "cell_type": "markdown",
   "metadata": {},
   "source": [
    "# Assignment 2"
   ]
  },
  {
   "cell_type": "markdown",
   "metadata": {},
   "source": [
    "## Task 1"
   ]
  },
  {
   "cell_type": "markdown",
   "metadata": {},
   "source": [
    "### 1.1 Write a Python Program to implement your own myreduce() function which works exactly like Python's built-in function reduce() "
   ]
  },
  {
   "cell_type": "code",
   "execution_count": 9,
   "metadata": {},
   "outputs": [
    {
     "name": "stdout",
     "output_type": "stream",
     "text": [
      "Maximum number from list [2, 30, 75, 45, 9] is 75\n"
     ]
    }
   ],
   "source": [
    "# Custom reduce function\n",
    "def myreduce(customfunc, seq):\n",
    "    result = seq[0]\n",
    "    for item in seq[1:]:\n",
    "        result = customfunc(result, item)\n",
    "\n",
    "    return result\n",
    "\n",
    "# Function to find max item between a and b\n",
    "def find_max_item(a, b):\n",
    "    if a > b:\n",
    "        return a\n",
    "    else: \n",
    "        return b\n",
    "    \n",
    "\n",
    "if __name__ == '__main__':\n",
    "    ls_data = [2, 30, 75, 45, 9]\n",
    "    print('Maximum number from list {} is {}'.format(ls_data, myreduce(find_max_item, ls_data)))"
   ]
  },
  {
   "cell_type": "markdown",
   "metadata": {},
   "source": [
    "### 1.2 Write a Python program to implement your own myfilter() function which works exactly like Python's built-in function filter() "
   ]
  },
  {
   "cell_type": "code",
   "execution_count": 10,
   "metadata": {},
   "outputs": [
    {
     "name": "stdout",
     "output_type": "stream",
     "text": [
      "List of items filter by j: ['Jack', 'jill']\n"
     ]
    }
   ],
   "source": [
    "# Custom filter function\n",
    "def my_filter(customfunc, seq, ch):\n",
    "    ls_result = []\n",
    "    for item in seq:\n",
    "        if customfunc(item, ch):\n",
    "            ls_result.append(item)\n",
    "            \n",
    "    return ls_result\n",
    "\n",
    "\n",
    "# Function to filter and return list as per character 'ch'\n",
    "def filter_by_char_j(ls_data, ch):\n",
    "    ls_temp = []\n",
    "    for data in ls_data:\n",
    "        if data[0].lower() == ch:\n",
    "            ls_temp.append(data)\n",
    "\n",
    "    return ls_temp\n",
    "\n",
    "\n",
    "if __name__=='__main__':\n",
    "    ch = 'j'\n",
    "    ls_data = 'Jack and jill went up the hill'.split(' ')\n",
    "    print('List of items filter by {}: {}'.format(ch, my_filter(filter_by_char_j, ls_data, ch)))"
   ]
  },
  {
   "cell_type": "markdown",
   "metadata": {},
   "source": [
    "### 2. Implement List comprehensions to produce the following lists. \n",
    " \n",
    "Write List comprehensions to produce the following Lists \n",
    " \n",
    "['A', 'C', 'A', 'D', 'G', 'I', ’L’, ‘ D’] \n",
    " \n",
    "['x', 'xx', 'xxx', 'xxxx', 'y', 'yy', 'yyy', 'yyyy', 'z', 'zz', 'zzz', 'zzzz'] \n",
    " \n",
    "['x', 'y', 'z', 'xx', 'yy', 'zz', 'xx', 'yy', 'zz', 'xxxx', 'yyyy', 'zzzz'] \n",
    "\n",
    "[[2], [3], [4], [3], [4], [5], [4], [5], [6]] \n",
    " \n",
    "[[2, 3, 4, 5], [3, 4, 5, 6], [4, 5, 6, 7], [5, 6, 7, 8]] \n",
    " \n",
    "[(1, 1), (2, 1), (3, 1), (1, 2), (2, 2), (3, 2), (1, 3), (2, 3), (3, 3)] "
   ]
  },
  {
   "cell_type": "code",
   "execution_count": 11,
   "metadata": {},
   "outputs": [
    {
     "name": "stdout",
     "output_type": "stream",
     "text": [
      "['A', 'C', 'A', 'D', 'G', 'I', 'L', 'D']\n",
      "['x', 'xx', 'xxx', 'xxxx', 'y', 'yy', 'yyy', 'yyyy', 'z', 'zz', 'zzz', 'zzzz']\n",
      "['x', 'y', 'z', 'xx', 'yy', 'zz', 'xxx', 'yyy', 'zzz', 'xxxx', 'yyyy', 'zzzz']\n",
      "[[2], [3], [4], [3], [4], [5], [4], [5], [6]]\n",
      "[[2, 3, 4, 5], [3, 4, 5, 6], [4, 5, 6, 7], [5, 6, 7, 8]]\n",
      "[(1, 1), (2, 1), (3, 1), (1, 2), (2, 2), (3, 2), (1, 3), (2, 3), (3, 3)]\n"
     ]
    }
   ],
   "source": [
    "if __name__ == '__main__':\n",
    "    # 1\n",
    "    ls_temp = []\n",
    "    ls_temp = [i for i in 'ACADGILD']\n",
    "    print(ls_temp)\n",
    "    \n",
    "    # 2\n",
    "    ls_temp.clear()\n",
    "    ls_temp = [i*j for i in 'xyz' for j in range(1,5)]\n",
    "    print(ls_temp)\n",
    "    \n",
    "    # 3\n",
    "    ls_temp.clear()\n",
    "    ls_temp = [i*j for j in range(1,5) for i in 'xyz']\n",
    "    print(ls_temp)\n",
    "    \n",
    "    # 4\n",
    "    ls_temp.clear()\n",
    "    ls_temp = [[i+j] for j in range(0, 3) for i in range(2, 5)]\n",
    "    print(ls_temp)\n",
    "    \n",
    "    # 5\n",
    "    ls_temp.clear()\n",
    "    ls_temp = [[i+j for i in range(1,5)] for j in range(1,5)]\n",
    "    print(ls_temp)\n",
    "    \n",
    "    # 6\n",
    "    ls_temp.clear()\n",
    "    ls_temp = [(j,i) for i in range(1,4) for j in range(1,4)]\n",
    "    print(ls_temp)"
   ]
  },
  {
   "cell_type": "markdown",
   "metadata": {},
   "source": [
    "### 3.Implement a function longestWord() that takes a list of words and returns the longest one"
   ]
  },
  {
   "cell_type": "code",
   "execution_count": 12,
   "metadata": {},
   "outputs": [
    {
     "name": "stdout",
     "output_type": "stream",
     "text": [
      "Longest word from list: \"Assignment\"\n"
     ]
    }
   ],
   "source": [
    "def longest_word(ls_words):\n",
    "    output = ''\n",
    "    temp = 0\n",
    "    for word in ls_words:\n",
    "        if len(word) > temp:\n",
    "            temp = len(word)\n",
    "            output = word\n",
    "\n",
    "    return output\n",
    "\n",
    "if __name__ == '__main__':\n",
    "    ls_words = 'This is an Assignment 2 Task 2 Program 3'.split(' ')\n",
    "    lg_word = longest_word(ls_words)\n",
    "    print('Longest word from list: \"{}\"'.format(lg_word))"
   ]
  },
  {
   "cell_type": "markdown",
   "metadata": {},
   "source": [
    "## Task 2"
   ]
  },
  {
   "cell_type": "markdown",
   "metadata": {},
   "source": [
    "### 1.1 Write a Python Program(with class concepts) to find the area of the triangle using the below formula. \n",
    "area = (s*(s-a)*(s-b)*(s-c)) ** 0.5 \n",
    " \n",
    "Function to take the length of the sides of triangle from user should be defined in the parent class and function to calculate the area should be defined in subclass. "
   ]
  },
  {
   "cell_type": "code",
   "execution_count": 13,
   "metadata": {},
   "outputs": [
    {
     "name": "stdout",
     "output_type": "stream",
     "text": [
      "Calculating Area of Triangle having side 14, 18, 16\n",
      "Ctor of Parent Class - Triangle\n",
      "Ctor of Subclass - SubTriangle\n",
      "Setting values of a, b, c\n",
      "\n",
      "Area of Triangle(14,18,16): 107.33126291998991\n"
     ]
    }
   ],
   "source": [
    "class Triangle(object):\n",
    "    def __init__(self):\n",
    "        print('Ctor of Parent Class - Triangle')\n",
    "\n",
    "        \n",
    "    def set_sides(self, a, b, c):\n",
    "        if (a+b > c) and (b+c > a) and (a+c > b):\n",
    "            print('Setting values of a, b, c')\n",
    "            self.a = a\n",
    "            self.b = b\n",
    "            self.c = c\n",
    "            return True\n",
    "        else:\n",
    "            print('ERROR - Value of a, b, c is not set!!!')\n",
    "            return False\n",
    "        \n",
    "\n",
    "class SubTriangle(Triangle):\n",
    "    def __init__(self):\n",
    "        Triangle.__init__(self)\n",
    "        print('Ctor of Subclass - SubTriangle')\n",
    "        \n",
    "        \n",
    "    def get_area(self):\n",
    "        s = (self.a + self.b + self.c) / 2\n",
    "        area = (s * (s - self.a) * (s - self.b) * (s - self.c)) ** 0.5\n",
    "        return area\n",
    "    \n",
    "\n",
    "if __name__ == '__main__':\n",
    "    print('Calculating Area of Triangle having side 14, 18, 16')\n",
    "    obj_triangle = SubTriangle()\n",
    "    if obj_triangle.set_sides(14,18,16):\n",
    "        print()\n",
    "        print('Area of Triangle(14,18,16): {}'.format(obj_triangle.get_area()))"
   ]
  },
  {
   "cell_type": "markdown",
   "metadata": {},
   "source": [
    "### 1.2 Write a function filter_long_words() that takes a list of words and an integer n and returns the list of words that are longer than n. "
   ]
  },
  {
   "cell_type": "code",
   "execution_count": 14,
   "metadata": {},
   "outputs": [
    {
     "name": "stdout",
     "output_type": "stream",
     "text": [
      "List of words:                ['This', 'is', 'an', 'Assignment', '2', 'Task', '2', 'Program', '3']\n",
      "\n",
      "List of words greater than 5 (using filter()): ['Assignment', 'Program']\n",
      "\n",
      "List of words greater than 5: ['Assignment', 'Program']\n"
     ]
    }
   ],
   "source": [
    "def filter_long_words(ls_words, n):\n",
    "    ls_temp = []\n",
    "    for word in ls_words:\n",
    "        if len(word) > n:\n",
    "            ls_temp.append(word)\n",
    "    return ls_temp\n",
    "\n",
    "def filter_long_words_using_filter(ls_words, n):\n",
    "    ls_temp = filter(lambda x: len(x) > n, ls_words)\n",
    "    return [word for word in ls_temp]\n",
    "\n",
    "if __name__ == '__main__':\n",
    "    n=5\n",
    "    ls_words = 'This is an Assignment 2 Task 2 Program 3'.split(' ')\n",
    "    print('List of words:                {}'.format(ls_words))\n",
    "    \n",
    "    # Using filter()\n",
    "    print()\n",
    "    data = filter_long_words_using_filter(ls_words, n)\n",
    "    print('List of words greater than {} (using filter()): {}'.format(n, data))\n",
    "\n",
    "    # Using for-loop\n",
    "    print()\n",
    "    print('List of words greater than {}: {}'.format(n, filter_long_words(ls_words, n)))"
   ]
  },
  {
   "cell_type": "markdown",
   "metadata": {},
   "source": [
    "### 2.1 Write a Python program using function concept that maps  list of words into a list of integers representing the lengths of the corresponding words​. "
   ]
  },
  {
   "cell_type": "code",
   "execution_count": 15,
   "metadata": {},
   "outputs": [
    {
     "name": "stdout",
     "output_type": "stream",
     "text": [
      "List of words:            ['This', 'is', 'an', 'Assignment', '2', 'Task', '2', 'Program', '3']\n",
      "\n",
      "Words length using map(): [4, 2, 2, 10, 1, 4, 1, 7, 1]\n",
      "\n",
      "List of integers(count):  [4, 2, 2, 10, 1, 4, 1, 7, 1]\n"
     ]
    }
   ],
   "source": [
    "def words_length(ls_words):\n",
    "    ls_temp = []\n",
    "    for word in ls_words:\n",
    "        ls_temp.append(len(word))\n",
    "    \n",
    "    return ls_temp\n",
    "\n",
    "def words_length_using_map(ls_words):\n",
    "    return map(len, ls_words)\n",
    "\n",
    "if __name__ == '__main__':\n",
    "    ls_words = 'This is an Assignment 2 Task 2 Program 3'.split(' ')\n",
    "    print('List of words:            {}'.format(ls_words))\n",
    "    \n",
    "    # Using map()\n",
    "    print()\n",
    "    data = words_length_using_map(ls_words)\n",
    "    print('Words length using map(): {}'.format([d for d in data]))\n",
    "    \n",
    "    # Using for-loop\n",
    "    print()\n",
    "    print('List of integers(count):  {}'.format(words_length(ls_words)))"
   ]
  },
  {
   "cell_type": "markdown",
   "metadata": {},
   "source": [
    "### 2.2 Write a Python function which takes a character (i.e. a string of length 1) and returns True if it is a vowel, False otherwise."
   ]
  },
  {
   "cell_type": "code",
   "execution_count": 16,
   "metadata": {},
   "outputs": [
    {
     "name": "stdout",
     "output_type": "stream",
     "text": [
      "False\n",
      "False\n",
      "True\n",
      "False\n",
      "True\n",
      "False\n",
      "True\n"
     ]
    }
   ],
   "source": [
    "def is_vowel(ch):\n",
    "    if ch.lower() in ['a','e','i','o','u']:\n",
    "        return True\n",
    "    return False\n",
    "\n",
    "if __name__ == '__main__':\n",
    "    ls_test_chars = ['r','h','a','k','i','g', 'o']\n",
    "    for each_char in ls_test_chars:\n",
    "        print(is_vowel(each_char))"
   ]
  },
  {
   "cell_type": "code",
   "execution_count": null,
   "metadata": {},
   "outputs": [],
   "source": []
  }
 ],
 "metadata": {
  "kernelspec": {
   "display_name": "Python 3",
   "language": "python",
   "name": "python3"
  },
  "language_info": {
   "codemirror_mode": {
    "name": "ipython",
    "version": 3
   },
   "file_extension": ".py",
   "mimetype": "text/x-python",
   "name": "python",
   "nbconvert_exporter": "python",
   "pygments_lexer": "ipython3",
   "version": "3.6.5"
  }
 },
 "nbformat": 4,
 "nbformat_minor": 2
}
