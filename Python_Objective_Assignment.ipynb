{
 "cells": [
  {
   "cell_type": "markdown",
   "metadata": {},
   "source": [
    "# Python Objective Assignment"
   ]
  },
  {
   "cell_type": "markdown",
   "metadata": {},
   "source": [
    "Q1. How can we create an iterator object from a list?\n",
    "\n",
    "Ans: a"
   ]
  },
  {
   "cell_type": "markdown",
   "metadata": {},
   "source": [
    "Q2. If function contains at least of one \"yield\" statement, then it becomes ____\n",
    "\n",
    "Ans. b"
   ]
  },
  {
   "cell_type": "markdown",
   "metadata": {},
   "source": [
    "Q3. What is the output of the code?\n",
    "\n",
    "mylist = [1, 3, 6, 10]\n",
    "\n",
    "a = (x**2 for x in mylist)\n",
    "\n",
    "print(next(a), next(a))\n",
    "\n",
    "Ans. b"
   ]
  },
  {
   "cell_type": "markdown",
   "metadata": {},
   "source": [
    "Q4. What are the criteria that must be met to create closure in Python?\n",
    "\n",
    "Ans. d"
   ]
  },
  {
   "cell_type": "markdown",
   "metadata": {},
   "source": [
    "Q5. What is the output of the code?\n",
    "\n",
    "def Foo(n):\n",
    "    \n",
    "    def multiplier(x):\n",
    "        returnx*n\n",
    "    return multiplier\n",
    "\n",
    "a = Foo(5)\n",
    "\n",
    "b = Foo(5)\n",
    "\n",
    "print(a(b(2)))\n",
    "\n",
    "Ans. d"
   ]
  },
  {
   "cell_type": "markdown",
   "metadata": {},
   "source": [
    "Q6. What is the output of the code?\n",
    "def make_pretty(func):\n",
    "\n",
    "    def inner():\n",
    "        print(\"I got decorated\")\n",
    "    func()\n",
    "    return inner\n",
    "    \n",
    "def ordinary():\n",
    "    print(\"I am ordinary\")\n",
    "\n",
    "pretty = make_pretty(ordinary)\n",
    "\n",
    "pretty()\n",
    "\n",
    "Ans. d"
   ]
  },
  {
   "cell_type": "markdown",
   "metadata": {},
   "source": [
    "Q7: What is the more pythonic way to use getters and setters?\n",
    "\n",
    "Ans. d"
   ]
  },
  {
   "cell_type": "markdown",
   "metadata": {},
   "source": [
    "Q8.  In Python, there is a built-in function property() that returns a property object. The property object has which of the methods?\n",
    "\n",
    "Ans. b"
   ]
  },
  {
   "cell_type": "markdown",
   "metadata": {},
   "source": [
    "Q9. Which of the following statement is true?\n",
    "\n",
    "Ans. d"
   ]
  },
  {
   "cell_type": "markdown",
   "metadata": {},
   "source": [
    "Q10. For the following codes, which of the following statements is true?\n",
    "\n",
    "Ans. b"
   ]
  },
  {
   "cell_type": "markdown",
   "metadata": {},
   "source": [
    "Q11. What is the output of the program?\n",
    "\n",
    "def outerFunction():\n",
    "    global a\n",
    "    a=20\n",
    "    def innerFunction():\n",
    "        global a\n",
    "        a=30\n",
    "        print('a =', a)\n",
    "\n",
    "a=10\n",
    "outerFunction()\n",
    "print('a =', a)\n",
    "\n",
    "Ans. a=20 not in option"
   ]
  },
  {
   "cell_type": "markdown",
   "metadata": {},
   "source": [
    "Q12. Which of the following statements is true?\n",
    "\n",
    "Ans. c"
   ]
  },
  {
   "cell_type": "markdown",
   "metadata": {},
   "source": [
    "Q13. What is the output of the code?\n",
    "class Foo:\n",
    "\n",
    "    def printLine(self, line='Python'):\n",
    "        print(line)\n",
    "        \n",
    "o1 = Foo()\n",
    "\n",
    "o1.printLine('Java')\n",
    "\n",
    "\n",
    "Ans. c"
   ]
  },
  {
   "cell_type": "markdown",
   "metadata": {},
   "source": [
    "Q14. What is the function of the __init__() function in Python?\n",
    "\n",
    "Ans. b"
   ]
  },
  {
   "cell_type": "markdown",
   "metadata": {},
   "source": [
    "Q15. What is the output of the code?\n",
    "\n",
    "Ans. b"
   ]
  },
  {
   "cell_type": "markdown",
   "metadata": {},
   "source": [
    "Q16. Which of the following code used the inheritance feature?\n",
    "\n",
    "Ans. c"
   ]
  },
  {
   "cell_type": "markdown",
   "metadata": {},
   "source": [
    "Q17. If you a class is derived from two different classes, it’s called ___\n",
    "\n",
    "Ans. b "
   ]
  },
  {
   "cell_type": "markdown",
   "metadata": {},
   "source": [
    "Q18. Which of the following statements is true?\n",
    "\n",
    "Ans. d"
   ]
  },
  {
   "cell_type": "markdown",
   "metadata": {},
   "source": [
    "Q19. What is the output of the code?\n",
    "\n",
    "Ans. b"
   ]
  },
  {
   "cell_type": "markdown",
   "metadata": {},
   "source": [
    "Q20. Opening a file in ‘a’ mode\n",
    "\n",
    "Ans. c"
   ]
  },
  {
   "cell_type": "markdown",
   "metadata": {},
   "source": [
    "Q21. What does the following code do? \n",
    "f = open(\"test.txt\")\n",
    "\n",
    "Ans. b"
   ]
  },
  {
   "cell_type": "markdown",
   "metadata": {},
   "source": [
    "Q22. Which of the codes closes files automatically if an exception occurs?\n",
    "\n",
    "Ans. d"
   ]
  },
  {
   "cell_type": "markdown",
   "metadata": {},
   "source": [
    "Q23. For the following code,\n",
    "    f = open('test.txt', 'r', encoding = 'utf-8')\n",
    "    f.read()\n",
    "\n",
    "Which of the following statement is true\n",
    "    \n",
    "Ans. d"
   ]
  },
  {
   "cell_type": "markdown",
   "metadata": {},
   "source": [
    "Q24. What does the following code do? \n",
    "os.listdir()\n",
    "\n",
    "Ans. c"
   ]
  },
  {
   "cell_type": "markdown",
   "metadata": {},
   "source": [
    "Q25. Which of the following is correct?\n",
    "\n",
    "Ans. d"
   ]
  },
  {
   "cell_type": "markdown",
   "metadata": {},
   "source": [
    "Q26. What will happen if we try to open the file that doesn’t exist?\n",
    "\n",
    "Ans. c"
   ]
  },
  {
   "cell_type": "markdown",
   "metadata": {},
   "source": [
    "Q27. What is the output of the code?\n",
    "\n",
    "Ans. b"
   ]
  },
  {
   "cell_type": "markdown",
   "metadata": {},
   "source": [
    "Q28. What does the following code do?\n",
    "\n",
    "Ans. c"
   ]
  },
  {
   "cell_type": "markdown",
   "metadata": {},
   "source": [
    "Q29. Which of the following statement is true?\n",
    "\n",
    "Ans. b"
   ]
  },
  {
   "cell_type": "markdown",
   "metadata": {},
   "source": [
    "Q30. Which of the following statement is true?\n",
    "\n",
    "Ans. c "
   ]
  },
  {
   "cell_type": "markdown",
   "metadata": {},
   "source": [
    "Q31. What is the output of the code?\n",
    "\n",
    "Ans. b"
   ]
  },
  {
   "cell_type": "markdown",
   "metadata": {},
   "source": [
    "Q32. If the return statement is not used inside the function, the function will return:\n",
    "\n",
    "Ans. b"
   ]
  },
  {
   "cell_type": "markdown",
   "metadata": {},
   "source": [
    "Q33. What is the output of the code?\n",
    "\n",
    "Ans. b"
   ]
  },
  {
   "cell_type": "markdown",
   "metadata": {},
   "source": [
    "Q34. What is a recursive function?\n",
    "    Choose one\n",
    "    \n",
    "Ans. b"
   ]
  },
  {
   "cell_type": "markdown",
   "metadata": {},
   "source": [
    "Q35. What is the output of the program?\n",
    "\n",
    "Ans. c"
   ]
  },
  {
   "cell_type": "markdown",
   "metadata": {},
   "source": [
    "Q36. What is the output of the program?\n",
    "\n",
    "Ans. a"
   ]
  },
  {
   "cell_type": "markdown",
   "metadata": {},
   "source": [
    "Q37. Suppose you need to print pi constant defined in the math module. Which of the following code can do this task?\n",
    "\n",
    "Ans. c"
   ]
  },
  {
   "cell_type": "markdown",
   "metadata": {},
   "source": [
    "Q38. Which operator is used in Python to import modules from the packages?\n",
    "     Choose one\n",
    "    \n",
    "Ans. b"
   ]
  },
  {
   "cell_type": "markdown",
   "metadata": {},
   "source": [
    "Q39. What is the output of the code?\n",
    "\n",
    "Ans. b"
   ]
  },
  {
   "cell_type": "markdown",
   "metadata": {},
   "source": [
    "Q40. What is the output of the code?\n",
    "\n",
    "Ans. d"
   ]
  },
  {
   "cell_type": "markdown",
   "metadata": {},
   "source": [
    "Q41. The if-elif-else executes only one block of code among several blocks.\n",
    "\n",
    "Ans. a"
   ]
  },
  {
   "cell_type": "markdown",
   "metadata": {},
   "source": [
    "Q42. What is the output of the code?\n",
    "\n",
    "Ans. a"
   ]
  },
  {
   "cell_type": "markdown",
   "metadata": {},
   "source": [
    "Q43. In the Python, for and while loop can have the optional else statement?\n",
    "\n",
    "Ans. d"
   ]
  },
  {
   "cell_type": "markdown",
   "metadata": {},
   "source": [
    "Q44. What is the output of the code?\n",
    "\n",
    "Ans. b"
   ]
  },
  {
   "cell_type": "markdown",
   "metadata": {},
   "source": [
    "Q45. What is the output of the code?\n",
    "\n",
    "Ans. c"
   ]
  },
  {
   "cell_type": "markdown",
   "metadata": {},
   "source": [
    "Q46. Is it better to use the for loop instead of while, if we are iterating through a sequence?\n",
    "\n",
    "Ans. b"
   ]
  },
  {
   "cell_type": "markdown",
   "metadata": {},
   "source": [
    "Q47. Which of the following statement is true?\n",
    "\n",
    "Ans. d\n",
    "\n",
    "Q48. What is the output of the code?\n",
    "\n",
    "Ans. No option. Output is coming same as input -> PYTHON STRING.\n"
   ]
  },
  {
   "cell_type": "markdown",
   "metadata": {},
   "source": [
    "Q49. Which of the statement is true about the “pass” statement?\n",
    "\n",
    "Ans. c"
   ]
  },
  {
   "cell_type": "markdown",
   "metadata": {},
   "source": [
    "Q50. In regards to seperated values files such as .csv and .tsv, what is the delimiter?\n",
    "\n",
    "Ans. d"
   ]
  },
  {
   "cell_type": "markdown",
   "metadata": {},
   "source": [
    "Q51. In separated value files such as.csv and .tsv, what does the first row in the file typically contain?\n",
    "\n",
    "Ans. a"
   ]
  },
  {
   "cell_type": "markdown",
   "metadata": {},
   "source": [
    "Q52. Assume you have a file object   , which has properly opened a separated value file that uses the tab character \n",
    "     (\\t) as the delimiter. What is the proper way to open the file using the Python CSV module and assign it to \n",
    "     the variable   ?\n",
    "\n",
    "Ans. b"
   ]
  },
  {
   "cell_type": "markdown",
   "metadata": {},
   "source": [
    "Q53. When iterating over an object returned from csv.reader(), what is returned with each iteration?\n",
    "\n",
    "Ans. b"
   ]
  },
  {
   "cell_type": "markdown",
   "metadata": {},
   "source": [
    "Q54. When writing to a CSV file using the   method of the csv.DictWriter object, what must each key in the\n",
    "input dict represent? Below is an example:\n",
    "\n",
    "Ans. c"
   ]
  },
  {
   "cell_type": "markdown",
   "metadata": {},
   "source": [
    "Q55. Which is the correct way to open the CSV file hrdata.csv for reading using the pandas package? \n",
    "     Assume that the pandas package has already been imported.\n",
    "\n",
    "Ans. c"
   ]
  },
  {
   "cell_type": "markdown",
   "metadata": {},
   "source": [
    "Q56. By default, pandas uses 0-based indices for indexing rows. \n",
    "     Which is the correct way to import the CSV file hrdata.csv for reading and using the 'Name' column as \n",
    "     the index row instead?\n",
    "\n",
    "Ans. a"
   ]
  },
  {
   "cell_type": "markdown",
   "metadata": {},
   "source": [
    "Q57. \n",
    "\n",
    "Ans. b, c"
   ]
  },
  {
   "cell_type": "markdown",
   "metadata": {},
   "source": [
    "Q58. Given the following directory structure:\n",
    "\n",
    "Ans. animals/feline/"
   ]
  },
  {
   "cell_type": "markdown",
   "metadata": {},
   "source": [
    "Q59. Given the file jack_russel.png, which of the following is correct\n",
    "\n",
    "way to open the file for reading as a buffered binary file? Select all that apply.\n",
    "\n",
    "Ans. a, d"
   ]
  },
  {
   "cell_type": "markdown",
   "metadata": {},
   "source": [
    "Q60. Using the same directory structure as before:\n",
    "\n",
    "ans. animals/ursine/bears.gif"
   ]
  },
  {
   "cell_type": "markdown",
   "metadata": {},
   "source": [
    "Q61. Whenever possible, what is the recommended way to ensure that \n",
    "a file object is properly closed after usage?\n",
    "\n",
    "Ans. d"
   ]
  },
  {
   "cell_type": "markdown",
   "metadata": {},
   "source": [
    "Q62. Using the same directory structure as before:\n",
    "\n",
    "Ans. ../bears.gif"
   ]
  },
  {
   "cell_type": "markdown",
   "metadata": {},
   "source": [
    "Q63. When reading a file using the file object, what method is best for reading the entire file into a single string?\n",
    "\n",
    "Ans. b"
   ]
  },
  {
   "cell_type": "markdown",
   "metadata": {},
   "source": [
    "Q64. The value 1.73 rounded to one decimal place using the “rounding up” strategy is...\n",
    "\n",
    "Ans. b"
   ]
  },
  {
   "cell_type": "markdown",
   "metadata": {},
   "source": [
    "Q65. The value -2.961 rounded to two decimal places using the \"rounding down\" strategy is...\n",
    "\n",
    "Ans. b"
   ]
  },
  {
   "cell_type": "markdown",
   "metadata": {},
   "source": [
    "Q66. When a value is truncated to 3 decimal places, which of the following is true?\n",
    "\n",
    "Ans. b"
   ]
  },
  {
   "cell_type": "markdown",
   "metadata": {},
   "source": [
    "Q67. The value -0.045 rounded to 2 decimal places using the \"round half away from zero\" strategy is...\n",
    "\n",
    "Ans. a"
   ]
  },
  {
   "cell_type": "markdown",
   "metadata": {},
   "source": [
    "Q68. Which rounding strategy does Python's built-in round() function use?\n",
    "\n",
    "Ans. d"
   ]
  },
  {
   "cell_type": "markdown",
   "metadata": {},
   "source": [
    "Q69. The value 4.65 rounded to one decimal place using the \"round half to even\" startegy in...\n",
    "\n",
    "Ans. b"
   ]
  },
  {
   "cell_type": "markdown",
   "metadata": {},
   "source": [
    "Q70. Which problem arises due to the multiple inheritances, if hierarchical inheritance is used previously \n",
    "     for its base classes?\n",
    "    \n",
    "Ans. a"
   ]
  },
  {
   "cell_type": "markdown",
   "metadata": {},
   "source": [
    "Q71. How many classes should a program contain to implement the\n",
    " multiple inheritances?\n",
    "\n",
    "Ans. c"
   ]
  },
  {
   "cell_type": "markdown",
   "metadata": {},
   "source": [
    "Q72. If class a inherits class b and class c as \n",
    "     “class a: public class b, public class c {// class body ;}; ”, \n",
    "     which class constructor will be called first.\n",
    "        \n",
    "Ans. b"
   ]
  },
  {
   "cell_type": "markdown",
   "metadata": {},
   "source": [
    "Q73. If all the members of all base classes are private then\n",
    "\n",
    "Ans. d"
   ]
  },
  {
   "cell_type": "markdown",
   "metadata": {},
   "source": [
    "Q74. Can the derived class be made abstract if multiple inheritance is used?\n",
    "\n",
    "Ans. @TODO"
   ]
  },
  {
   "cell_type": "markdown",
   "metadata": {},
   "source": [
    "Q75. Which among the following best defines the multilevel inheritance? \n",
    "\n",
    "Ans. b"
   ]
  },
  {
   "cell_type": "markdown",
   "metadata": {},
   "source": [
    "Q76. If there are 5 classes, E is derived from D, D from C, C from B and B from A. Which class \n",
    "     constructor will be called first if the object of E or D is created?\n",
    "    \n",
    "Ans. c"
   ]
  },
  {
   "cell_type": "markdown",
   "metadata": {},
   "source": [
    "Q77. Which Class is having the highest degree of abstraction in multilevel inheritance of 5 levels?\n",
    "\n",
    "Ans. a"
   ]
  },
  {
   "cell_type": "markdown",
   "metadata": {},
   "source": [
    "Q78. Multilevel inheritance allows _________________ in the program.\n",
    "\n",
    "Ans. d"
   ]
  },
  {
   "cell_type": "markdown",
   "metadata": {},
   "source": [
    "Q79. If all the classes used parameterized constructors and no default\n",
    "     constructor then, ___________\n",
    "    \n",
    "Ans. b"
   ]
  },
  {
   "cell_type": "markdown",
   "metadata": {},
   "source": [
    "Q80. Which is the universal exception handler class?\n",
    "\n",
    "Ans. d"
   ]
  },
  {
   "cell_type": "markdown",
   "metadata": {},
   "source": [
    "Q81. What are two exception classes in the hierarchy of java exceptions class?\n",
    "\n",
    "Ans. c"
   ]
  },
  {
   "cell_type": "markdown",
   "metadata": {},
   "source": [
    "Q82. Which are the two blocks that are used to check error and handle the error?\n",
    "\n",
    "Ans. a"
   ]
  },
  {
   "cell_type": "markdown",
   "metadata": {},
   "source": [
    "Q83. To catch the exceptions ___________________\n",
    "\n",
    "Ans. a"
   ]
  },
  {
   "cell_type": "markdown",
   "metadata": {},
   "source": [
    "Q84. Which class is used to handle the input and output exceptions?\n",
    "\n",
    "Ans. c"
   ]
  },
  {
   "cell_type": "markdown",
   "metadata": {},
   "source": [
    "Q85. Which among the following is true for the class exceptions?\n",
    "\n",
    "Ans. d"
   ]
  },
  {
   "cell_type": "markdown",
   "metadata": {},
   "source": [
    "Q86. If both base and derived class caught the exceptions, _____.\n",
    "\n",
    "Ans. a"
   ]
  },
  {
   "cell_type": "markdown",
   "metadata": {},
   "source": [
    "Q87. The catching of base class the exception _________ in java.\n",
    "\n",
    "Ans. b"
   ]
  },
  {
   "cell_type": "markdown",
   "metadata": {},
   "source": [
    "Q88. Which of the following handles the undefined class in the program?\n",
    "\n",
    "Ans. d"
   ]
  },
  {
   "cell_type": "markdown",
   "metadata": {},
   "source": [
    "Q89. Which among the following is true?\n",
    "\n",
    "Ans. d"
   ]
  },
  {
   "cell_type": "markdown",
   "metadata": {},
   "source": [
    "Q90. Which condition among the following might result in memory exception?\n",
    "\n",
    "Ans. c"
   ]
  },
  {
   "cell_type": "markdown",
   "metadata": {},
   "source": [
    "Q91. Which among the following is the correct definition for static member functions?\n",
    "\n",
    "Ans. c"
   ]
  },
  {
   "cell_type": "markdown",
   "metadata": {},
   "source": [
    "Q92. The static member functions __________________\n",
    "\n",
    "Ans. c"
   ]
  },
  {
   "cell_type": "markdown",
   "metadata": {},
   "source": [
    "Q93. Which is the correct syntax to access the static member functions with a class name?\n",
    "\n",
    "Ans. a"
   ]
  },
  {
   "cell_type": "markdown",
   "metadata": {},
   "source": [
    "Q94. The static members are ______________________\n",
    "\n",
    "Ans. d"
   ]
  },
  {
   "cell_type": "markdown",
   "metadata": {},
   "source": [
    "Q95. Which among the following is true?\n",
    "\n",
    "Ans. b"
   ]
  },
  {
   "cell_type": "markdown",
   "metadata": {},
   "source": [
    "Q96. The static member functions _______________\n",
    "\n",
    "Ans. d"
   ]
  },
  {
   "cell_type": "markdown",
   "metadata": {},
   "source": [
    "Q97. Which among the following can’t be used to access the members in anyway?\n",
    "\n",
    "Ans. c"
   ]
  },
  {
   "cell_type": "markdown",
   "metadata": {},
   "source": [
    "Q98. If static data member are made inline, ______________\n",
    "\n",
    "Ans. a"
   ]
  },
  {
   "cell_type": "markdown",
   "metadata": {},
   "source": [
    "Q99. The static data member _________________\n",
    "\n",
    "Ans. b"
   ]
  },
  {
   "cell_type": "markdown",
   "metadata": {},
   "source": [
    "Q100. We can use the static member functions and static data member __________________.\n",
    "\n",
    "Ans. a"
   ]
  },
  {
   "cell_type": "markdown",
   "metadata": {},
   "source": [
    "Q101. Point out the wrong statement:\n",
    "\n",
    "Ans. c"
   ]
  },
  {
   "cell_type": "markdown",
   "metadata": {},
   "source": [
    "Q102. The ________ function returns its argument with the modified shape, whereas the ________ method \n",
    "      modifies the array itself.\n",
    "    \n",
    "Ans. a"
   ]
  },
  {
   "cell_type": "markdown",
   "metadata": {},
   "source": [
    "Q103. To create sequences of the numbers, NumPy provides a function __________ analogous to range that returns \n",
    "      arrays instead of lists.\n",
    "\n",
    "Ans. a"
   ]
  },
  {
   "cell_type": "markdown",
   "metadata": {},
   "source": [
    "Q104. Point out the correct statement:\n",
    "\n",
    "Ans. d"
   ]
  },
  {
   "cell_type": "markdown",
   "metadata": {},
   "source": [
    "Q105. Which of the following function stack 1D array as the columns into 2D array?\n",
    "\n",
    "Ans. b"
   ]
  },
  {
   "cell_type": "markdown",
   "metadata": {},
   "source": [
    "Q106. ndarray is also known as an alias array.\n",
    "\n",
    "Ans. a"
   ]
  },
  {
   "cell_type": "markdown",
   "metadata": {},
   "source": [
    "Q107. Which of the following method creates the new array object that looks at the same data?\n",
    "\n",
    "Ans. a"
   ]
  },
  {
   "cell_type": "markdown",
   "metadata": {},
   "source": [
    "Q108. Which of the functions can be used to combine the different vectors to obtain the result for each n-uplet?\n",
    "\n",
    "Ans. b"
   ]
  },
  {
   "cell_type": "markdown",
   "metadata": {},
   "source": [
    "Q109. ndarray.dataitemSize is the buffer containing actual elements of an array.\n",
    "\n",
    "Ans. a"
   ]
  },
  {
   "cell_type": "markdown",
   "metadata": {},
   "source": [
    "Q110. Which of the following is in the NumPy library?\n",
    "\n",
    "Ans. d"
   ]
  },
  {
   "cell_type": "markdown",
   "metadata": {},
   "source": [
    "Q111. Which of the following sets the size of the buffer used in ufuncs ?\n",
    "\n",
    "Ans. c"
   ]
  },
  {
   "cell_type": "markdown",
   "metadata": {},
   "source": [
    "Q112. Point out the wrong statement:\n",
    "\n",
    "Ans. b"
   ]
  },
  {
   "cell_type": "markdown",
   "metadata": {},
   "source": [
    "Q113. Which of the following attribute should be used while checking the type combination input and output?\n",
    "\n",
    "Ans. a"
   ]
  },
  {
   "cell_type": "markdown",
   "metadata": {},
   "source": [
    "Q114. Which of the following returns an array of “ones” with the same shape and type as a given array?\n",
    "\n",
    "Ans. b"
   ]
  },
  {
   "cell_type": "markdown",
   "metadata": {},
   "source": [
    "Q115. Point out the wrong statement:\n",
    "    \n",
    "Ans. c"
   ]
  },
  {
   "cell_type": "markdown",
   "metadata": {},
   "source": [
    "Q116. Which of the following set of a floating-point error callback function or a log object?\n",
    "\n",
    "Ans. b"
   ]
  },
  {
   "cell_type": "markdown",
   "metadata": {},
   "source": [
    "Q117. Some ufuncs can take output arguments.\n",
    "\n",
    "Ans. b"
   ]
  },
  {
   "cell_type": "markdown",
   "metadata": {},
   "source": [
    "Q118. ___________ decompose the elements of x into the mantissa and the two’s exponent.\n",
    "\n",
    "Ans. c"
   ]
  },
  {
   "cell_type": "markdown",
   "metadata": {},
   "source": [
    "Q119. Which of the following function take the only a single value as input?\n",
    "\n",
    "Ans. a"
   ]
  },
  {
   "cell_type": "markdown",
   "metadata": {},
   "source": [
    "Q120. The array object returned by the _array_prepare_ is passed to ufunc for computation\n",
    "\n",
    "Ans. a"
   ]
  },
  {
   "cell_type": "markdown",
   "metadata": {},
   "source": [
    "Q121. All pandas data structures are ___mutable but not always\n",
    "_______-mutable.\n",
    "\n",
    "Ans. c"
   ]
  },
  {
   "cell_type": "markdown",
   "metadata": {},
   "source": [
    "Q122. Point out the correct statement:\n",
    "\n",
    "Ans. d"
   ]
  },
  {
   "cell_type": "markdown",
   "metadata": {},
   "source": [
    "Q123. Which of the following statement will import the pandas?\n",
    "\n",
    "Ans. a"
   ]
  },
  {
   "cell_type": "markdown",
   "metadata": {},
   "source": [
    "Q124. Which of the following object did we get after reading the CSV\n",
    " file?\n",
    "    \n",
    "Ans. a"
   ]
  },
  {
   "cell_type": "markdown",
   "metadata": {},
   "source": [
    "Q125. Point out the wrong statement:\n",
    "    \n",
    "Ans. c"
   ]
  },
  {
   "cell_type": "markdown",
   "metadata": {},
   "source": [
    "Q126. Which of the following library is similar to the pandas?\n",
    "\n",
    "Ans. a"
   ]
  },
  {
   "cell_type": "markdown",
   "metadata": {},
   "source": [
    "Q127. Panel is a container for the Series, and DataFrame is a\n",
    "container for DataFrame objects.\n",
    "\n",
    "Ans. b"
   ]
  },
  {
   "cell_type": "markdown",
   "metadata": {},
   "source": [
    "Q128. Which of the following is the prominent python “statistics and\n",
    " econometrics library”?\n",
    "    \n",
    "Ans. c"
   ]
  },
  {
   "cell_type": "markdown",
   "metadata": {},
   "source": [
    "Q129. Which of the following is the foundational exploratory visualisation\n",
    " package for the R language in the pandas ecosystem?\n",
    "    \n",
    "Ans. a"
   ]
  },
  {
   "cell_type": "markdown",
   "metadata": {},
   "source": [
    "Q130. Pandas consist of static and the moving window linear and panel\n",
    "  regression.\n",
    "    \n",
    "Ans. a"
   ]
  },
  {
   "cell_type": "markdown",
   "metadata": {},
   "source": [
    "Q131. Quandl API for Python wraps the __ REST API to\n",
    " returns the pandas DataFrames with time series indexes.\n",
    "    \n",
    "Ans. a"
   ]
  },
  {
   "cell_type": "markdown",
   "metadata": {},
   "source": [
    "Q132. Point out the correct statement:\n",
    "    \n",
    "Ans. a"
   ]
  },
  {
   "cell_type": "markdown",
   "metadata": {},
   "source": [
    "Q133. Which of the following library is used to retrieve and to acquire statistical data and metadata\n",
    " disseminated in SDMX2.1?\n",
    "    \n",
    "Ans. a"
   ]
  },
  {
   "cell_type": "markdown",
   "metadata": {},
   "source": [
    "Q134. Which of the following provides the standard API for doing computations with MongoDB?\n",
    "\n",
    "Ans. a"
   ]
  },
  {
   "cell_type": "markdown",
   "metadata": {},
   "source": [
    "Q135. Point out the wrong statement:\n",
    "    \n",
    "Ans. c"
   ]
  },
  {
   "cell_type": "markdown",
   "metadata": {},
   "source": [
    "Q136. Which of the following makes use of the pandas and returns data in Series or Dataframe?\n",
    "\n",
    "Ans. b"
   ]
  },
  {
   "cell_type": "markdown",
   "metadata": {},
   "source": [
    "Q137. Spyder can introspect and display Pandas DataFrames.\n",
    "\n",
    "Ans. b"
   ]
  },
  {
   "cell_type": "markdown",
   "metadata": {},
   "source": [
    "Q138. Which of the following is used for machine learning in the python?\n",
    "\n",
    "Ans. a"
   ]
  },
  {
   "cell_type": "markdown",
   "metadata": {},
   "source": [
    "Q139. The ________ project builds on top of the pandas and matplotlib to provide easy plotting of data.\n",
    "\n",
    "Ans. b"
   ]
  },
  {
   "cell_type": "markdown",
   "metadata": {},
   "source": [
    "Q140. x-ray brings the labelled data power of pandas to the physical\n",
    "sciences.\n",
    "\n",
    "Ans. a"
   ]
  },
  {
   "cell_type": "markdown",
   "metadata": {},
   "source": [
    "Q141. Which of the following is the base layer of all of the sparse has it indexed data structure?\n",
    "\n",
    "Ans. b"
   ]
  },
  {
   "cell_type": "markdown",
   "metadata": {},
   "source": [
    "Q142. Point out the correct statement\n",
    "\n",
    "Ans. d"
   ]
  },
  {
   "cell_type": "markdown",
   "metadata": {},
   "source": [
    "Q143. Which of the following is not an indexed object?\n",
    "\n",
    "Ans. d"
   ]
  },
  {
   "cell_type": "markdown",
   "metadata": {},
   "source": [
    "Q144. Which of the following list like data structure is used for managing\n",
    " the dynamic collection of SparseArrays?\n",
    "    \n",
    "Ans. a"
   ]
  },
  {
   "cell_type": "markdown",
   "metadata": {},
   "source": [
    "Q145. Point out the wrong statement\n",
    "\n",
    "Ans. a"
   ]
  },
  {
   "cell_type": "markdown",
   "metadata": {},
   "source": [
    "Q146. Which of the following method used for transforming the Sparse-series index by the multindex to a \n",
    "      scipy.sparse.coo_matrix?\n",
    "    \n",
    "Ans. a"
   ]
  },
  {
   "cell_type": "markdown",
   "metadata": {},
   "source": [
    "Q147. The integer format tracks only the locations and the sizes of\n",
    "  blocks of data\n",
    "    \n",
    "Ans. b"
   ]
  },
  {
   "cell_type": "markdown",
   "metadata": {},
   "source": [
    "Q148. Which of the following is used for the testing for membership in the list of column names?\n",
    "\n",
    "Ans. a"
   ]
  },
  {
   "cell_type": "markdown",
   "metadata": {},
   "source": [
    "Q149. Which of the following indexing capabilities is used as the concise\n",
    " means of selecting data from a pandas object?\n",
    "    \n",
    "Ans. b"
   ]
  },
  {
   "cell_type": "markdown",
   "metadata": {},
   "source": [
    "Q150. Pandas follow the NumPy convention of raising an error when\n",
    " you try to convert something to a bool.\n",
    "    \n",
    "Ans. a"
   ]
  },
  {
   "cell_type": "code",
   "execution_count": null,
   "metadata": {},
   "outputs": [],
   "source": []
  }
 ],
 "metadata": {
  "kernelspec": {
   "display_name": "Python 3",
   "language": "python",
   "name": "python3"
  },
  "language_info": {
   "codemirror_mode": {
    "name": "ipython",
    "version": 3
   },
   "file_extension": ".py",
   "mimetype": "text/x-python",
   "name": "python",
   "nbconvert_exporter": "python",
   "pygments_lexer": "ipython3",
   "version": "3.6.3"
  }
 },
 "nbformat": 4,
 "nbformat_minor": 2
}
