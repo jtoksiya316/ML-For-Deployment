{
 "cells": [
  {
   "cell_type": "code",
   "execution_count": 1,
   "metadata": {},
   "outputs": [],
   "source": [
    "import pandas as pd\n",
    "import numpy as np\n",
    "import matplotlib.pyplot as plt"
   ]
  },
  {
   "cell_type": "markdown",
   "metadata": {},
   "source": [
    "### Q1. Write a Python program to get the string from the given string where all the occurrence of its first char has been changed to '$,' except first char itself?"
   ]
  },
  {
   "cell_type": "markdown",
   "metadata": {},
   "source": [
    "### Ans. "
   ]
  },
  {
   "cell_type": "code",
   "execution_count": 2,
   "metadata": {},
   "outputs": [
    {
     "name": "stdout",
     "output_type": "stream",
     "text": [
      "Ouuput: \n",
      "pros$ect\n"
     ]
    }
   ],
   "source": [
    "def program_01(sample_str):\n",
    "    first_ch = sample_str[0]\n",
    "    expected_str = first_ch\n",
    "    ls_temp = []\n",
    "    ls_temp.append(first_ch)\n",
    "    for index, ch in enumerate(sample_str):\n",
    "        if index == 0:\n",
    "            continue\n",
    "\n",
    "        if ch == first_ch.lower():\n",
    "            ls_temp.append('$')\n",
    "            expected_str = expected_str + '$'\n",
    "        else:\n",
    "            ls_temp.append(ch)\n",
    "            expected_str = expected_str + ch\n",
    "\n",
    "    s = ''.join(ls_temp)\n",
    "    print(expected_str)\n",
    "    \n",
    "if __name__ == '__main__':\n",
    "    str = \"prospect\"\n",
    "    print('Ouuput: ')\n",
    "    program_01(str)"
   ]
  },
  {
   "cell_type": "markdown",
   "metadata": {},
   "source": [
    "### Q2. Write a Python program to get the single string from the two given strings, and separated by the space and swap the first two characters of each string?"
   ]
  },
  {
   "cell_type": "markdown",
   "metadata": {},
   "source": [
    "### Ans."
   ]
  },
  {
   "cell_type": "code",
   "execution_count": 3,
   "metadata": {},
   "outputs": [
    {
     "name": "stdout",
     "output_type": "stream",
     "text": [
      "xyc abz\n"
     ]
    }
   ],
   "source": [
    "def program_02(str1, str2):\n",
    "    a = str2[:2] + str1[2:]\n",
    "    b = str1[:2] + str2[2:]\n",
    "    print('{} {}'.format(a,b))\n",
    "    \n",
    "\n",
    "program_02('abc', 'xyz')"
   ]
  },
  {
   "cell_type": "code",
   "execution_count": null,
   "metadata": {},
   "outputs": [],
   "source": []
  },
  {
   "cell_type": "markdown",
   "metadata": {},
   "source": [
    "### Q3. Write the Python program to add 'ing' at the end of the given string (length of the string should be at least 3). If given string already ends with 'ing,' then add 'ly' instead. If string length of the given string is less than 3, leave it unchanged?"
   ]
  },
  {
   "cell_type": "markdown",
   "metadata": {},
   "source": [
    "### Ans."
   ]
  },
  {
   "cell_type": "code",
   "execution_count": 4,
   "metadata": {},
   "outputs": [
    {
     "name": "stdout",
     "output_type": "stream",
     "text": [
      "Output:\n",
      "\n",
      "abcing\n",
      "stringly\n",
      "testingly\n",
      "jk\n"
     ]
    }
   ],
   "source": [
    "def program_003(data):\n",
    "    if len(data) >= 3:\n",
    "        if data.endswith('ing'):\n",
    "            return data+'ly'\n",
    "        else:\n",
    "            return data+'ing'\n",
    "    else:\n",
    "        return data\n",
    "\n",
    "if __name__ == '__main__':\n",
    "    print('Output:\\n')\n",
    "    print(program_003('abc'))\n",
    "    print(program_003('string'))\n",
    "    print(program_003('testing'))\n",
    "    print(program_003('jk'))"
   ]
  },
  {
   "cell_type": "markdown",
   "metadata": {},
   "source": [
    "### Q4.  Write the Python program to find the first appearance of the substring 'not' and 'poor' from the given string, if 'not' follows the 'poor', replace the whole 'not'...' poor' substring with 'good'.Return the resulting string."
   ]
  },
  {
   "cell_type": "markdown",
   "metadata": {},
   "source": [
    "### Ans."
   ]
  },
  {
   "cell_type": "code",
   "execution_count": 5,
   "metadata": {},
   "outputs": [
    {
     "name": "stdout",
     "output_type": "stream",
     "text": [
      "Output:\n",
      "The lyrics are good!\n"
     ]
    }
   ],
   "source": [
    "def program_004(data):\n",
    "    not_pos = data.find('not')\n",
    "    poor_pos = data.find('poor')\n",
    "\n",
    "    if not_pos > 0 and poor_pos > 0:\n",
    "        if not_pos < poor_pos:\n",
    "            data = data.replace(data[not_pos:(poor_pos+4)], 'good')\n",
    "            return data\n",
    "        else:\n",
    "            return str(ls_data)\n",
    "    else:\n",
    "        return data\n",
    "\n",
    "\n",
    "if __name__ == '__main__':\n",
    "    print('Output:')\n",
    "    print(program_004('The lyrics are not that poor!'))"
   ]
  },
  {
   "cell_type": "markdown",
   "metadata": {},
   "source": [
    "### Q5. Write the Python program to remove the characters which have odd index values of a given string. "
   ]
  },
  {
   "cell_type": "markdown",
   "metadata": {},
   "source": [
    "### Ans."
   ]
  },
  {
   "cell_type": "code",
   "execution_count": 6,
   "metadata": {},
   "outputs": [
    {
     "name": "stdout",
     "output_type": "stream",
     "text": [
      "Output:\n",
      "Ti sM ore\n"
     ]
    }
   ],
   "source": [
    "def program_005(data):\n",
    "    temp_data=''\n",
    "    for i,d in enumerate(data):\n",
    "        if i%2 == 0:\n",
    "          temp_data=temp_data+d\n",
    "    return temp_data\n",
    "\n",
    "if __name__ == '__main__':\n",
    "    print('Output:')\n",
    "    print(program_005('This is ML Course'))"
   ]
  },
  {
   "cell_type": "markdown",
   "metadata": {},
   "source": [
    "### Q6. Write the Python function to get a string made of 4 copies of the last two characters of the specified string (length must be at least 2).  "
   ]
  },
  {
   "cell_type": "markdown",
   "metadata": {},
   "source": [
    "### Ans."
   ]
  },
  {
   "cell_type": "code",
   "execution_count": 7,
   "metadata": {},
   "outputs": [
    {
     "name": "stdout",
     "output_type": "stream",
     "text": [
      "Output:\n",
      "ckckckck\n"
     ]
    }
   ],
   "source": [
    "def program_006(word):\n",
    "    if len(word) >= 2:\n",
    "        return word[-2:]*4\n",
    "    else:\n",
    "        return word\n",
    "\n",
    "if __name__ == '__main__':\n",
    "    print('Output:')\n",
    "    print(program_006('Jack'))"
   ]
  },
  {
   "cell_type": "markdown",
   "metadata": {},
   "source": [
    "### Q7. Write the python function to get a string made of its first three characters of a specified string. If the length of the string is less than 3 then return the original string."
   ]
  },
  {
   "cell_type": "markdown",
   "metadata": {},
   "source": [
    "### Ans."
   ]
  },
  {
   "cell_type": "code",
   "execution_count": 8,
   "metadata": {},
   "outputs": [
    {
     "name": "stdout",
     "output_type": "stream",
     "text": [
      "Output:\n",
      "Pyt\n",
      "ipy\n",
      "ip\n"
     ]
    }
   ],
   "source": [
    "def program_007(word):\n",
    "    if len(word) > 3:\n",
    "        return word[:3]\n",
    "    else:\n",
    "        return word\n",
    "\n",
    "if __name__ == '__main__':\n",
    "    print('Output:')\n",
    "    print(program_007('Python'))\n",
    "    print(program_007('ipy'))\n",
    "    print(program_007('ip'))"
   ]
  },
  {
   "cell_type": "markdown",
   "metadata": {},
   "source": [
    "### Q8. Write the python program to print the following floating numbers up   to 2 decimal places?"
   ]
  },
  {
   "cell_type": "markdown",
   "metadata": {},
   "source": [
    "### Ans."
   ]
  },
  {
   "cell_type": "code",
   "execution_count": 9,
   "metadata": {},
   "outputs": [
    {
     "name": "stdout",
     "output_type": "stream",
     "text": [
      "3.14\n",
      "3.46\n"
     ]
    }
   ],
   "source": [
    "import math\n",
    "if __name__ == '__main__':\n",
    "    print(round(math.pi, 2))\n",
    "    print('%.2f' % 3.45678)"
   ]
  },
  {
   "cell_type": "markdown",
   "metadata": {},
   "source": [
    "### Q9. Write the Python program to format a number with a percentage? "
   ]
  },
  {
   "cell_type": "markdown",
   "metadata": {},
   "source": [
    "### Ans."
   ]
  },
  {
   "cell_type": "code",
   "execution_count": 10,
   "metadata": {},
   "outputs": [
    {
     "name": "stdout",
     "output_type": "stream",
     "text": [
      "Formatting 1/4 with a percentage:\n",
      "25%\n"
     ]
    }
   ],
   "source": [
    "if __name__ == '__main__':\n",
    "    print('Formatting 1/4 with a percentage:')\n",
    "    print(\"{0:.0%}\".format(1/4))"
   ]
  },
  {
   "cell_type": "markdown",
   "metadata": {},
   "source": [
    "### Q10. Write the Python program to count occurrences of a substring in a   String?"
   ]
  },
  {
   "cell_type": "markdown",
   "metadata": {},
   "source": [
    "### Ans."
   ]
  },
  {
   "cell_type": "code",
   "execution_count": 11,
   "metadata": {},
   "outputs": [
    {
     "name": "stdout",
     "output_type": "stream",
     "text": [
      "Output\n",
      "2\n"
     ]
    }
   ],
   "source": [
    "def program_010(data):\n",
    "    return data.count('This is')\n",
    "\n",
    "if __name__ == '__main__':\n",
    "    print('Output')\n",
    "    print(program_010('This is not just a string. This is a Python string'))"
   ]
  },
  {
   "cell_type": "markdown",
   "metadata": {},
   "source": [
    "### Q11. Write the Python program to count repeated characters in a string."
   ]
  },
  {
   "cell_type": "markdown",
   "metadata": {},
   "source": [
    "### Ans."
   ]
  },
  {
   "cell_type": "code",
   "execution_count": 12,
   "metadata": {},
   "outputs": [
    {
     "name": "stdout",
     "output_type": "stream",
     "text": [
      "Input String: thequickbrownjumpsoverthelazydog\n",
      "t 2\n",
      "h 2\n",
      "e 3\n",
      "q 1\n",
      "u 2\n",
      "i 1\n",
      "c 1\n",
      "k 1\n",
      "b 1\n",
      "r 2\n",
      "o 3\n",
      "w 1\n",
      "n 1\n",
      "j 1\n",
      "m 1\n",
      "p 1\n",
      "s 1\n",
      "v 1\n",
      "l 1\n",
      "a 1\n",
      "z 1\n",
      "y 1\n",
      "d 1\n",
      "g 1\n"
     ]
    }
   ],
   "source": [
    "from collections import Counter\n",
    "def program_011(data):\n",
    "    return Counter(data)\n",
    "\n",
    "if __name__ == '__main__':\n",
    "    data = 'thequickbrownjumpsoverthelazydog'\n",
    "    print('Input String: {}'.format(data))\n",
    "    dict_data = program_011(data)\n",
    "    for key in dict_data:\n",
    "        print('{} {}'.format(key, dict_data[key]))"
   ]
  },
  {
   "cell_type": "markdown",
   "metadata": {},
   "source": [
    "### Q12. Write the Python program to print the square and cube symbol in   the area of a rectangle and volume of a cylinder? "
   ]
  },
  {
   "cell_type": "markdown",
   "metadata": {},
   "source": [
    "### Ans."
   ]
  },
  {
   "cell_type": "code",
   "execution_count": 13,
   "metadata": {},
   "outputs": [
    {
     "name": "stdout",
     "output_type": "stream",
     "text": [
      "Output:\n",
      "Area of your rectangle is 44.5 cm²\n",
      "Volume of Cylinder is 2235.6 cm³\n"
     ]
    }
   ],
   "source": [
    "area = 44.5\n",
    "vol=2235.6\n",
    "print('Output:')\n",
    "print(\"Area of your rectangle is {} cm\\u00b2\".format(area))\n",
    "print(\"Volume of Cylinder is {} cm\\u00b3\".format(vol))"
   ]
  },
  {
   "cell_type": "markdown",
   "metadata": {},
   "source": [
    "### Q13. Write the Python program to check if a string contains all letters of   the alphabet?"
   ]
  },
  {
   "cell_type": "markdown",
   "metadata": {},
   "source": [
    "### Ans."
   ]
  },
  {
   "cell_type": "code",
   "execution_count": 14,
   "metadata": {},
   "outputs": [
    {
     "name": "stdout",
     "output_type": "stream",
     "text": [
      "Output:\n",
      "\"The quick brown fox jumps over the little lazy dog\" contains all letters of the alphabets\n"
     ]
    }
   ],
   "source": [
    "def program_013(data):\n",
    "    letters=set('abcdefghijklmnopqrstuvwxyz')\n",
    "    set_data = set(data.lower())\n",
    "    if set(data.lower()) >= letters:\n",
    "        return True\n",
    "    else:\n",
    "        return False\n",
    "        \n",
    "        \n",
    "if __name__ == '__main__':\n",
    "    data = 'The quick brown fox jumps over the little lazy dog'\n",
    "    print('Output:')\n",
    "    bout = program_013(data)\n",
    "    if bout:\n",
    "        print('\"{}\" contains all letters of the alphabets'.format(data))\n",
    "    else:\n",
    "        print('\"{}\" does not contains all letters of the alphabet'.format(data))"
   ]
  },
  {
   "cell_type": "markdown",
   "metadata": {},
   "source": [
    "### Q14.  Write the Python program to find the second most repeated word   in a given string?"
   ]
  },
  {
   "cell_type": "markdown",
   "metadata": {},
   "source": [
    "### Ans."
   ]
  },
  {
   "cell_type": "code",
   "execution_count": 15,
   "metadata": {},
   "outputs": [
    {
     "name": "stdout",
     "output_type": "stream",
     "text": [
      "Output\n",
      "\n",
      "Counter({'of': 7, 'to': 6, 'a': 5, 'the': 5, 'who': 5, 'pleasure': 4, 'and': 4, 'pain': 4, 'or': 4, 'because': 4, 'is': 3, 'that': 3, 'But': 2, 'I': 2, 'you': 2, 'how': 2, 'great': 2, 'one': 2, 'avoids': 2, 'itself,': 2, 'it': 2, 'but': 2, 'obtain': 2, 'which': 2, 'some': 2, 'has': 2, 'no': 2, 'must': 1, 'explain': 1, 'all': 1, 'this': 1, 'mistaken': 1, 'idea': 1, 'denouncing': 1, 'praising': 1, 'was': 1, 'born': 1, 'will': 1, 'give': 1, 'complete': 1, 'account': 1, 'system,': 1, 'expound': 1, 'actual': 1, 'teachings': 1, 'explorer': 1, 'truth,': 1, 'master-builder': 1, 'human': 1, 'happiness.': 1, 'No': 1, 'rejects,': 1, 'dislikes,': 1, 'pleasure,': 1, 'those': 1, 'do': 1, 'not': 1, 'know': 1, 'pursue': 1, 'rationally': 1, 'encounter': 1, 'consequences': 1, 'are': 1, 'extremely': 1, 'painful.': 1, 'Nor': 1, 'again': 1, 'there': 1, 'anyone': 1, 'loves': 1, 'pursues': 1, 'desires': 1, 'pain,': 1, 'occasionally': 1, 'circumstances': 1, 'occur': 1, 'in': 1, 'toil': 1, 'can': 1, 'procure': 1, 'him': 1, 'pleasure.': 1, 'To': 1, 'take': 1, 'trivial': 1, 'example,': 1, 'us': 1, 'ever': 1, 'undertakes': 1, 'laborious': 1, 'physical': 1, 'exercise,': 1, 'except': 1, 'advantage': 1, 'from': 1, 'it?': 1, 'any': 1, 'right': 1, 'find': 1, 'fault': 1, 'with': 1, 'man': 1, 'chooses': 1, 'enjoy': 1, 'annoying': 1, 'consequences,': 1, 'produces': 1, 'resultant': 1, 'pleasure?': 1})\n",
      "\n",
      "Second most repeated word in a given string is \"to\"\n"
     ]
    }
   ],
   "source": [
    "from collections import Counter\n",
    "def program_014(data):\n",
    "    ls_data = data.split(' ')\n",
    "    counter = Counter(ls_data)\n",
    "    print(counter)\n",
    "    print('')\n",
    "    # returning 2nd most common word in a string\n",
    "    return counter.most_common()[1][0]\n",
    "\n",
    "if __name__ == '__main__':\n",
    "    print('Output')\n",
    "    data = 'But I must explain to you how all this mistaken idea of denouncing pleasure and praising pain was born and I will give you a complete account of the system, and expound the actual teachings of the great explorer of the truth, the master-builder of human happiness. No one rejects, dislikes, or avoids pleasure itself, because it is pleasure, but because those who do not know how to pursue pleasure rationally encounter consequences that are extremely painful. Nor again is there anyone who loves or pursues or desires to obtain pain of itself, because it is pain, but because occasionally circumstances occur in which toil and pain can procure him some great pleasure. To take a trivial example, which of us ever undertakes laborious physical exercise, except to obtain some advantage from it? But who has any right to find fault with a man who chooses to enjoy a pleasure that has no annoying consequences, or one who avoids a pain that produces no resultant pleasure?'\n",
    "    print('')\n",
    "    print('Second most repeated word in a given string is \"{}\"'.format(program_014(data)))"
   ]
  },
  {
   "cell_type": "markdown",
   "metadata": {},
   "source": [
    "### Q15. Write the Python program to find the minimum window in the given  string, which will contains all the characters of another given   strings?"
   ]
  },
  {
   "cell_type": "markdown",
   "metadata": {},
   "source": [
    "### Ans."
   ]
  },
  {
   "cell_type": "code",
   "execution_count": 16,
   "metadata": {},
   "outputs": [
    {
     "name": "stdout",
     "output_type": "stream",
     "text": [
      "Input String1: PRWSOERIUSFK\n",
      "Input String2: OSU\n",
      "Minimum window is OERIUS\n"
     ]
    }
   ],
   "source": [
    "def program_015(str1, str2):\n",
    "    from collections import Counter\n",
    "    result_char, missing_char = Counter(str2), len(str2)\n",
    "    i = p = q = 0\n",
    "    for j, c in enumerate(str1, 1):\n",
    "        missing_char -= result_char[c] > 0\n",
    "        result_char[c] -= 1\n",
    "        if not missing_char:\n",
    "            while i < q and result_char[str1[i]] < 0:\n",
    "                result_char[str1[i]] += 1\n",
    "                i += 1\n",
    "            if not q or j - i <= q - p:\n",
    "                p, q = i, j\n",
    "    return str1[p:q]\n",
    "\n",
    "\n",
    "if __name__ == '__main__':\n",
    "    main_str = 'PRWSOERIUSFK'\n",
    "    sub_str = 'OSU'\n",
    "    print('Input String1: {}'.format(main_str))\n",
    "    print('Input String2: {}'.format(sub_str))\n",
    "    \n",
    "    output = program_015(main_str, sub_str)\n",
    "    print('Minimum window is {}'.format(output))"
   ]
  },
  {
   "cell_type": "markdown",
   "metadata": {},
   "source": [
    "### Q16. Write the Python program to find smallest window that contains all   characters of the given string"
   ]
  },
  {
   "cell_type": "markdown",
   "metadata": {},
   "source": [
    "### Ans."
   ]
  },
  {
   "cell_type": "code",
   "execution_count": 17,
   "metadata": {},
   "outputs": [
    {
     "name": "stdout",
     "output_type": "stream",
     "text": [
      "Original Strings: asdaewsqgtwwsa\n",
      "\n",
      "Smallest window that contains all characters of the said string:\n",
      "daewsqgt\n"
     ]
    }
   ],
   "source": [
    "def program_16(str): \n",
    "    from collections import defaultdict \n",
    "    str_len = len(str) \n",
    "      \n",
    "    # Count all distinct characters. \n",
    "    dist_count_char = len(set([x for x in str])) \n",
    "  \n",
    "    ctr, start_pos, start_pos_index, min_len = 0, 0, -1, 9999999999\n",
    "    curr_count = defaultdict(lambda: 0) \n",
    "    for i in range(str_len): \n",
    "        curr_count[str[i]] += 1\n",
    " \n",
    "        if curr_count[str[i]] == 1: \n",
    "            ctr += 1\n",
    "  \n",
    "        if ctr == dist_count_char: \n",
    "            while curr_count[str[start_pos]] > 1: \n",
    "                if curr_count[str[start_pos]] > 1: \n",
    "                    curr_count[str[start_pos]] -= 1\n",
    "                start_pos += 1\n",
    "  \n",
    "            len_window = i - start_pos + 1\n",
    "            if min_len > len_window: \n",
    "                min_len = len_window \n",
    "                start_pos_index = start_pos \n",
    "    return str[start_pos_index: start_pos_index + min_len] \n",
    "      \n",
    "if __name__ == '__main__':\n",
    "    main_str = \"asdaewsqgtwwsa\"\n",
    "    print(\"Original Strings: {}\".format(main_str))\n",
    "    print(\"\\nSmallest window that contains all characters of the said string:\")\n",
    "    print(program_16(main_str)) "
   ]
  },
  {
   "cell_type": "markdown",
   "metadata": {},
   "source": [
    "### Q17.  Write the Python program to count number of substrings from a   given string of lowercase alphabets with exactly k distinct (given)   characters? "
   ]
  },
  {
   "cell_type": "markdown",
   "metadata": {},
   "source": [
    "### Ans."
   ]
  },
  {
   "cell_type": "code",
   "execution_count": 18,
   "metadata": {},
   "outputs": [
    {
     "name": "stdout",
     "output_type": "stream",
     "text": [
      "Input a string (lowercase alphabets):\n",
      "Input k: \n",
      "Number of substrings with exactly 4 distinct characters : 1\n"
     ]
    }
   ],
   "source": [
    "def program_17(str1, k): \n",
    "\tstr_len = len(str1) \n",
    "\t\n",
    "\tresult = 0\n",
    "\n",
    "\tctr = [0] * 27\n",
    "\n",
    "\tfor i in range(0, str_len): \n",
    "\t\tdist_ctr = 0\n",
    "\n",
    "\t\tctr = [0] * 27\n",
    "\n",
    "\t\tfor j in range(i, str_len): \n",
    "\t\t\t\n",
    "\t\t\tif(ctr[ord(str1[j]) - 97] == 0): \n",
    "\t\t\t\tdist_ctr += 1\n",
    "\n",
    "\t\t\tctr[ord(str1[j]) - 97] += 1\n",
    "\n",
    "\t\t\tif(dist_ctr == k): \n",
    "\t\t\t\tresult += 1\n",
    "\t\t\tif(dist_ctr > k): \n",
    "\t\t\t\tbreak\n",
    "\n",
    "\treturn result \n",
    "\n",
    "if __name__ == '__main__':\n",
    "    print(\"Input a string (lowercase alphabets):\")\n",
    "    main_str = \"wolf\"\n",
    "    print(\"Input k: \")\n",
    "    k = 4\n",
    "    print(\"Number of substrings with exactly\", k, \"distinct characters : \", end = \"\") \n",
    "    print(program_17(main_str, k))"
   ]
  },
  {
   "cell_type": "markdown",
   "metadata": {},
   "source": [
    "### Q18. Write the Python program to count number of non-empty   substrings of the given string?"
   ]
  },
  {
   "cell_type": "markdown",
   "metadata": {},
   "source": [
    "### Ans."
   ]
  },
  {
   "cell_type": "code",
   "execution_count": 19,
   "metadata": {},
   "outputs": [
    {
     "name": "stdout",
     "output_type": "stream",
     "text": [
      "Input a string: \n",
      "Number of substrings:\n",
      "190\n"
     ]
    }
   ],
   "source": [
    "def program_18(str): \n",
    "\tstr_len = len(str); \n",
    "\treturn int(str_len * (str_len + 1) / 2); \n",
    "\n",
    "if __name__ == '__main__':\n",
    "    print(\"Input a string: \")\n",
    "    main_str = \"This is a substring\"\n",
    "    print(\"Number of substrings:\") \n",
    "    print(program_18(main_str))"
   ]
  },
  {
   "cell_type": "markdown",
   "metadata": {},
   "source": [
    "### Q19. Write the Python program to count number of substrings with same   first and last characters of the given string?"
   ]
  },
  {
   "cell_type": "markdown",
   "metadata": {},
   "source": [
    "### Ans."
   ]
  },
  {
   "cell_type": "code",
   "execution_count": 20,
   "metadata": {},
   "outputs": [
    {
     "name": "stdout",
     "output_type": "stream",
     "text": [
      "Input a string: \n",
      "6\n"
     ]
    }
   ],
   "source": [
    "def program_19(str1): \n",
    "\tresult = 0; \n",
    "\tn = len(str1); \n",
    "\tfor i in range(n): \n",
    "\t\tfor j in range(i, n): \n",
    "\t\t\tif (str1[i] == str1[j]): \n",
    "\t\t\t\tresult = result + 1\n",
    "\treturn result \n",
    "\n",
    "if __name__ == '__main__':\n",
    "    print('Input a string: ')\n",
    "    main_str = \"austin\"\n",
    "    print(program_19(main_str))"
   ]
  },
  {
   "cell_type": "markdown",
   "metadata": {},
   "source": [
    "### Q20. Write the Python program to count the number of strings where the   string length is 2 or more, and  first and last character are same   from a given list of strings."
   ]
  },
  {
   "cell_type": "markdown",
   "metadata": {},
   "source": [
    "### Ans."
   ]
  },
  {
   "cell_type": "code",
   "execution_count": 21,
   "metadata": {},
   "outputs": [
    {
     "data": {
      "text/plain": [
       "2"
      ]
     },
     "execution_count": 21,
     "metadata": {},
     "output_type": "execute_result"
    }
   ],
   "source": [
    "def program_20(ls_strs):\n",
    "\ttry:\n",
    "\t\tls_result = []\n",
    "\t\tfor item in ls_strs:\n",
    "\t\t\tif len(item) > 2 and item[0] == item[-1]:\n",
    "\t\t\t\tls_result.append(item)\n",
    "\t\treturn len(ls_result)\n",
    "\texcept Exception as e:\n",
    "\t\traise e\n",
    "        \n",
    "\n",
    "program_20(['abc', 'xyz', 'wxw', '1331'])"
   ]
  },
  {
   "cell_type": "markdown",
   "metadata": {},
   "source": [
    "### Q21. Write the Python program to get a list, sorted in increasing order by   the last element in each tuple from the given list of non-empty   tuples? "
   ]
  },
  {
   "cell_type": "markdown",
   "metadata": {},
   "source": [
    "### Ans."
   ]
  },
  {
   "cell_type": "code",
   "execution_count": 22,
   "metadata": {},
   "outputs": [
    {
     "data": {
      "text/plain": [
       "[(2, 1), (1, 2), (2, 3), (4, 4), (2, 5)]"
      ]
     },
     "execution_count": 22,
     "metadata": {},
     "output_type": "execute_result"
    }
   ],
   "source": [
    "def program_21(ls_tuples):\n",
    "\ttry:\n",
    "\t\treturn sorted(ls_tuples, key=lambda x: x[1])\n",
    "\texcept Exception as e:\n",
    "\t\traise e\n",
    "\n",
    "program_21([(2,5), (1,2), (4,4), (2,3), (2,1)])"
   ]
  },
  {
   "cell_type": "markdown",
   "metadata": {},
   "source": [
    "### Q22. Write the Python program to remove duplicates from a list? "
   ]
  },
  {
   "cell_type": "markdown",
   "metadata": {},
   "source": [
    "### Ans."
   ]
  },
  {
   "cell_type": "code",
   "execution_count": 23,
   "metadata": {},
   "outputs": [
    {
     "data": {
      "text/plain": [
       "['Red', 'Green']"
      ]
     },
     "execution_count": 23,
     "metadata": {},
     "output_type": "execute_result"
    }
   ],
   "source": [
    "def program_22(ls_words):\n",
    "\ttry:\n",
    "\t\treturn list(set(ls_words))\n",
    "\texcept Exception as e:\n",
    "\t\traise e\n",
    "        \n",
    "program_22(['Red', 'Green', 'Red', 'Green'])"
   ]
  },
  {
   "cell_type": "markdown",
   "metadata": {},
   "source": [
    "### Q23. Write the Python program to find the list of words that are longer   than n from a given list of words? "
   ]
  },
  {
   "cell_type": "markdown",
   "metadata": {},
   "source": [
    "### Ans."
   ]
  },
  {
   "cell_type": "code",
   "execution_count": 24,
   "metadata": {},
   "outputs": [
    {
     "data": {
      "text/plain": [
       "['Yellow']"
      ]
     },
     "execution_count": 24,
     "metadata": {},
     "output_type": "execute_result"
    }
   ],
   "source": [
    "def program_23(ls_words, n):\n",
    "\ttry:\n",
    "\t\tls_result = []\n",
    "\t\tfor item in ls_words:\n",
    "\t\t\tif len(item) > n:\n",
    "\t\t\t\tls_result.append(item)\n",
    "\n",
    "\t\treturn ls_result\n",
    "\texcept Exception as e:\n",
    "\t\traise e\n",
    "\n",
    "program_23(['Red', 'Green', 'White', 'Black', 'Pink', 'Yellow'], 5)"
   ]
  },
  {
   "cell_type": "markdown",
   "metadata": {},
   "source": [
    "### Q24. Write the Python program to print a specified list after removing the  0th, 4th, and 5th elements? "
   ]
  },
  {
   "cell_type": "markdown",
   "metadata": {},
   "source": [
    "### Ans."
   ]
  },
  {
   "cell_type": "code",
   "execution_count": 25,
   "metadata": {},
   "outputs": [
    {
     "name": "stdout",
     "output_type": "stream",
     "text": [
      "Sample List: ['Red', 'Green', 'White', 'Black', 'Pink', 'Yellow']\n",
      "Output: \n",
      "['Green', 'White', 'Black']\n"
     ]
    }
   ],
   "source": [
    "def program_24(ls_colors):\n",
    "\ttry:\n",
    "\t\tls_result = []\n",
    "\t\tfor index, item in enumerate(ls_colors):\n",
    "\t\t\tif index not in [0,4,5]:\n",
    "\t\t\t\tls_result.append(item)\n",
    "\n",
    "\t\treturn ls_result\n",
    "\texcept Exception as e:\n",
    "\t\traise e\n",
    "\n",
    "if __name__ == '__main__':\n",
    "    ls_data =['Red', 'Green', 'White', 'Black', 'Pink', 'Yellow']\n",
    "    print('Sample List: {}'.format(ls_data))\n",
    "    print('Output: ')\n",
    "    print(program_24(ls_data))"
   ]
  },
  {
   "cell_type": "markdown",
   "metadata": {},
   "source": [
    "### Q25. Write the Python program to generate all permutations of a list in   Python? "
   ]
  },
  {
   "cell_type": "markdown",
   "metadata": {},
   "source": [
    "### Ans."
   ]
  },
  {
   "cell_type": "code",
   "execution_count": 26,
   "metadata": {},
   "outputs": [
    {
     "data": {
      "text/plain": [
       "[('a', 'b', 'c', 'd'),\n",
       " ('a', 'b', 'd', 'c'),\n",
       " ('a', 'c', 'b', 'd'),\n",
       " ('a', 'c', 'd', 'b'),\n",
       " ('a', 'd', 'b', 'c'),\n",
       " ('a', 'd', 'c', 'b'),\n",
       " ('b', 'a', 'c', 'd'),\n",
       " ('b', 'a', 'd', 'c'),\n",
       " ('b', 'c', 'a', 'd'),\n",
       " ('b', 'c', 'd', 'a'),\n",
       " ('b', 'd', 'a', 'c'),\n",
       " ('b', 'd', 'c', 'a'),\n",
       " ('c', 'a', 'b', 'd'),\n",
       " ('c', 'a', 'd', 'b'),\n",
       " ('c', 'b', 'a', 'd'),\n",
       " ('c', 'b', 'd', 'a'),\n",
       " ('c', 'd', 'a', 'b'),\n",
       " ('c', 'd', 'b', 'a'),\n",
       " ('d', 'a', 'b', 'c'),\n",
       " ('d', 'a', 'c', 'b'),\n",
       " ('d', 'b', 'a', 'c'),\n",
       " ('d', 'b', 'c', 'a'),\n",
       " ('d', 'c', 'a', 'b'),\n",
       " ('d', 'c', 'b', 'a')]"
      ]
     },
     "execution_count": 26,
     "metadata": {},
     "output_type": "execute_result"
    }
   ],
   "source": [
    "def program_25(ls_strs):\n",
    "\tfrom itertools import permutations\n",
    "\ttry:\n",
    "\t\treturn list(permutations(ls_strs))\n",
    "\texcept Exception as e:\n",
    "\t\traise e\n",
    "\n",
    "program_25(list('abcd'))"
   ]
  },
  {
   "cell_type": "markdown",
   "metadata": {},
   "source": [
    "### Q26. Write the Python program to convert a pair of values into a sorted   unique array?"
   ]
  },
  {
   "cell_type": "markdown",
   "metadata": {},
   "source": [
    "### Ans."
   ]
  },
  {
   "cell_type": "code",
   "execution_count": 27,
   "metadata": {},
   "outputs": [
    {
     "name": "stdout",
     "output_type": "stream",
     "text": [
      "Original List - [(1, 2), (3, 4), (1, 2), (5, 6), (7, 8), (1, 2), (3, 4), (3, 4), (7, 8), (9, 10)]\n",
      "Sorted Unique Data - \n",
      "[1, 2, 3, 4, 5, 6, 7, 8, 9, 10]\n"
     ]
    }
   ],
   "source": [
    "def program_26(ls_data):\n",
    "\ttry:\n",
    "\t\tls_result = []\n",
    "\t\tls_temp = list(set(ls_data))\n",
    "\t\tfor item in ls_temp:\n",
    "\t\t\tif item[0] not in ls_result:\n",
    "\t\t\t\tls_result.append(item[0])\n",
    "\t\t\tif item[1] not in ls_result:\n",
    "\t\t\t\tls_result.append(item[1])\n",
    "\t\treturn sorted(ls_result)\n",
    "\texcept Exception as e:\n",
    "\t\traise e\n",
    "        \n",
    "if __name__ == '__main__':\n",
    "    ls_data = [ (1, 2), (3, 4), (1, 2), (5, 6), (7, 8), (1, 2), (3, 4), (3, 4), (7, 8), (9, 10) ]\n",
    "    print('Original List - {}'.format(ls_data))\n",
    "    print('Sorted Unique Data - ')\n",
    "    print(program_26(ls_data))"
   ]
  },
  {
   "cell_type": "markdown",
   "metadata": {},
   "source": [
    "### Q27.  Write the Python class to convert an integer to a roman numeral? "
   ]
  },
  {
   "cell_type": "markdown",
   "metadata": {},
   "source": [
    "### Ans."
   ]
  },
  {
   "cell_type": "code",
   "execution_count": 28,
   "metadata": {},
   "outputs": [
    {
     "name": "stdout",
     "output_type": "stream",
     "text": [
      "Roman numeral for Integer: 256\n",
      "CCLVI\n"
     ]
    }
   ],
   "source": [
    "class Numeral:\n",
    "    def int_to_roman(self, num):\n",
    "        val = [\n",
    "            1000, 900, 500, 400,\n",
    "            100, 90, 50, 40,\n",
    "            10, 9, 5, 4,\n",
    "            1\n",
    "            ]\n",
    "        syb = [\n",
    "            \"M\", \"CM\", \"D\", \"CD\",\n",
    "            \"C\", \"XC\", \"L\", \"XL\",\n",
    "            \"X\", \"IX\", \"V\", \"IV\",\n",
    "            \"I\"\n",
    "            ]\n",
    "        roman_num = ''\n",
    "        i = 0\n",
    "        while  num > 0:\n",
    "            for _ in range(num // val[i]):\n",
    "                roman_num += syb[i]\n",
    "                num -= val[i]\n",
    "            i += 1\n",
    "        return roman_num\n",
    "\n",
    "if __name__ == '__main__':\n",
    "    obj_numeral = Numeral()\n",
    "    int_num = 256\n",
    "    print('Roman numeral for Integer: {}'.format(int_num))\n",
    "    print(obj_numeral.int_to_roman(int_num))"
   ]
  },
  {
   "cell_type": "markdown",
   "metadata": {},
   "source": [
    "### Q28 Write the Python class to convert a Roman numeral to an integer?"
   ]
  },
  {
   "cell_type": "markdown",
   "metadata": {},
   "source": [
    "### Ans."
   ]
  },
  {
   "cell_type": "code",
   "execution_count": 29,
   "metadata": {},
   "outputs": [
    {
     "name": "stdout",
     "output_type": "stream",
     "text": [
      "Integer for Roman numeral: CMLXXV\n",
      "975\n"
     ]
    }
   ],
   "source": [
    "class Numeral:\n",
    "    def roman_to_int(self, s):\n",
    "        rom_val = {'I': 1, 'V': 5, 'X': 10, 'L': 50, 'C': 100, 'D': 500, 'M': 1000}\n",
    "        int_val = 0\n",
    "        for i in range(len(s)):\n",
    "            if i > 0 and rom_val[s[i]] > rom_val[s[i - 1]]:\n",
    "                int_val += rom_val[s[i]] - 2 * rom_val[s[i - 1]]\n",
    "            else:\n",
    "                int_val += rom_val[s[i]]\n",
    "        return int_val\n",
    "\n",
    "\n",
    "if __name__ == '__main__':\n",
    "    obj_numeral = Numeral()\n",
    "    roman_num = 'CMLXXV'\n",
    "    print('Integer for Roman numeral: {}'.format(roman_num))\n",
    "    print(obj_numeral.roman_to_int(roman_num))"
   ]
  },
  {
   "cell_type": "markdown",
   "metadata": {},
   "source": [
    "### Q29.  Write the Python class to find  the validity of the string of the parentheses, '(', ')', '{', '}', '[' and '] and the brackets must be closed  in the correct order, example - \"()\" and \"()[]{}\" are valid but \"[)\", \"({[)]\" and \"{{{\" are invalid"
   ]
  },
  {
   "cell_type": "markdown",
   "metadata": {},
   "source": [
    "### Ans."
   ]
  },
  {
   "cell_type": "code",
   "execution_count": 30,
   "metadata": {},
   "outputs": [
    {
     "name": "stdout",
     "output_type": "stream",
     "text": [
      "True\n",
      "False\n",
      "True\n"
     ]
    }
   ],
   "source": [
    "class Program_29:\n",
    "   def is_valid_parenthese(self, str1):\n",
    "        stack, pchar = [], {\"(\": \")\", \"{\": \"}\", \"[\": \"]\"}\n",
    "        for parenthese in str1:\n",
    "            if parenthese in pchar:\n",
    "                stack.append(parenthese)\n",
    "            elif len(stack) == 0 or pchar[stack.pop()] != parenthese:\n",
    "                return False\n",
    "        return len(stack) == 0\n",
    "    \n",
    "if __name__ == '__main__':\n",
    "    obj_prg = Program_29()\n",
    "    print(obj_prg.is_valid_parenthese(\"(){}[]\"))\n",
    "    print(obj_prg.is_valid_parenthese(\"()[{)}\"))\n",
    "    print(obj_prg.is_valid_parenthese(\"()\"))"
   ]
  },
  {
   "cell_type": "markdown",
   "metadata": {},
   "source": [
    "### Q30. Write the Python class to get all possible unique subsets from a set   of distinct integers?"
   ]
  },
  {
   "cell_type": "markdown",
   "metadata": {},
   "source": [
    "### Ans."
   ]
  },
  {
   "cell_type": "code",
   "execution_count": 31,
   "metadata": {},
   "outputs": [
    {
     "name": "stdout",
     "output_type": "stream",
     "text": [
      "Input - [4, 5, 6]\n",
      "Class to give unique subsets from a set of distinct integers\n",
      "Output\n",
      "[[], [4], [5], [6], [4, 5], [4, 6], [5, 6], [4, 5, 6]]\n"
     ]
    }
   ],
   "source": [
    "class Program_30(object):\n",
    "\n",
    "\tdef __init__(self, ls_data):\n",
    "\t\tprint('Class to give unique subsets from a set of distinct integers')\n",
    "\t\tself.ls_data = list(set(ls_data)) # Converting to distinct integers\n",
    "\n",
    "\n",
    "\tdef unique_subsets(self):\n",
    "\t\ttry:\n",
    "\t\t\tls_result = []\n",
    "\t\t\td = ''\n",
    "\t\t\tfrom itertools import permutations, combinations\n",
    "\t\t\tfor i in range(0, len(self.ls_data)+1):\n",
    "\t\t\t\tobj_combinations = combinations(self.ls_data, i)\n",
    "\t\t\t\tfor iter_obj in obj_combinations:\n",
    "\t\t\t\t\tls_result.append(list(iter_obj))\n",
    "\n",
    "\t\t\treturn ls_result\n",
    "\t\texcept Exception as e:\n",
    "\t\t\traise e\n",
    "\n",
    "\n",
    "if __name__ == '__main__':\n",
    "    ls_data = [4,5,6]\n",
    "    print('Input - {}'.format(ls_data))\n",
    "    obj_program30 = Program_30(ls_data)\n",
    "    ls_output = obj_program30.unique_subsets()\n",
    "    print('Output')\n",
    "    print(ls_output)\n"
   ]
  },
  {
   "cell_type": "markdown",
   "metadata": {},
   "source": [
    "### Q31. Write the Python class to find a pair of elements (indices of the two   numbers) from a given array whose sum equals the specific target   number?"
   ]
  },
  {
   "cell_type": "markdown",
   "metadata": {},
   "source": [
    "### Ans."
   ]
  },
  {
   "cell_type": "code",
   "execution_count": 32,
   "metadata": {},
   "outputs": [
    {
     "name": "stdout",
     "output_type": "stream",
     "text": [
      "Input - [10, 20, 10, 40, 50, 60, 70], 50\n",
      "Output\n",
      "[(3, 4)]\n"
     ]
    }
   ],
   "source": [
    "class Program_31():\n",
    "\tdef __init__(self, ls_data, target_sum):\n",
    "\t\tself.ls_data = ls_data\n",
    "\t\tself.target_sum = target_sum\n",
    "\n",
    "\tdef pair_of_elems(self):\n",
    "\t\ttry:\n",
    "\t\t\t# Empty list declaration\n",
    "\t\t\tls_result = []\n",
    "\t\t\t# Enumerating each data in ls_data\n",
    "\t\t\tfor index, data in enumerate(self.ls_data):\n",
    "\t\t\t\t# This comparision is done to avoid 'list index out of range Error'\n",
    "\t\t\t\tif index  == len(self.ls_data)-1:\n",
    "\t\t\t\t\tbreak\n",
    "\n",
    "\t\t\t\t# summing index and index+1 data\n",
    "\t\t\t\tcum_sum = data + self.ls_data[index+1]\n",
    "\n",
    "\t\t\t\t# comparing if sum is equal to target_sum, if 'yes', appending pair of elements as a tuple in a list\n",
    "\t\t\t\t# As output as assumed that array starts from 1, i have incremented values of first_index and second_index by 1.\n",
    "\t\t\t\tif cum_sum == self.target_sum:\n",
    "\t\t\t\t\tls_result.append((index+1, index+2))\n",
    "\n",
    "\n",
    "\t\t\treturn ls_result\n",
    "\t\texcept Exception as e:\n",
    "\t\t\tprint(e)\n",
    "\n",
    "if __name__ == '__main__':\n",
    "    ls_data = [10,20,10,40,50,60,70]\n",
    "    print('Input - {}, {}'.format(ls_data, 50))\n",
    "    obj_program31 = Program_31(ls_data, 50)\n",
    "    ls_output = obj_program31.pair_of_elems()\n",
    "    print('Output')\n",
    "    print(ls_output)\n"
   ]
  },
  {
   "cell_type": "markdown",
   "metadata": {},
   "source": [
    "### Q32. Write the Python class to find the three elements that sum to zero   from the set of n real numbers? "
   ]
  },
  {
   "cell_type": "markdown",
   "metadata": {},
   "source": [
    "### Ans."
   ]
  },
  {
   "cell_type": "code",
   "execution_count": 33,
   "metadata": {},
   "outputs": [
    {
     "name": "stdout",
     "output_type": "stream",
     "text": [
      "Input array - [-25, -10, -7, -3, 2, 4, 8, 10]\n",
      "Class to give combinations having sum equals to zero\n",
      "Output\n",
      "[[-10, 2, 8], [-7, -3, 10]]\n"
     ]
    }
   ],
   "source": [
    "class Program_32(object):\n",
    "\n",
    "\tdef __init__(self, ls_real_nums):\n",
    "\t\tprint('Class to give combinations having sum equals to zero')\n",
    "\t\tself.ls_real_nums = ls_real_nums\n",
    "\n",
    "\tdef combinations_equal_to_zero(self):\n",
    "\t\tfrom itertools import combinations\n",
    "\t\ttry:\n",
    "\t\t\tls_result = []\n",
    "\t\t\tls_combinations = list(combinations(self.ls_real_nums, 3))\n",
    "\t\t\tfor each_combination in ls_combinations:\n",
    "\t\t\t\tif each_combination[0] + each_combination[1] + each_combination[2] == 0:\n",
    "\t\t\t\t\tls_result.append(list(each_combination))\n",
    "\n",
    "\t\t\treturn ls_result\n",
    "\t\texcept Exception as e:\n",
    "\t\t\traise e\n",
    "       \n",
    "if __name__ == '__main__':\n",
    "    ls_data = [-25, -10, -7, -3, 2, 4, 8, 10]\n",
    "    print('Input array - {}'.format(ls_data))\n",
    "    obj_program32 = Program_32(ls_data)\n",
    "    ls_output = obj_program32.combinations_equal_to_zero()\n",
    "    print('Output')\n",
    "    print(ls_output)\n",
    "    "
   ]
  },
  {
   "cell_type": "markdown",
   "metadata": {},
   "source": [
    "### Q33. Write the Python class to implement pow(x, n)?"
   ]
  },
  {
   "cell_type": "markdown",
   "metadata": {},
   "source": [
    "### Ans."
   ]
  },
  {
   "cell_type": "code",
   "execution_count": 34,
   "metadata": {},
   "outputs": [
    {
     "name": "stdout",
     "output_type": "stream",
     "text": [
      "Class to implement pow(x,n)\n",
      "8\n"
     ]
    }
   ],
   "source": [
    "class Program_33(object):\n",
    "\n",
    "\tdef __init__(self):\n",
    "\t\tprint('Class to implement pow(x,n)')\n",
    "\n",
    "\tdef pow(self,x,n):\n",
    "\t\t\n",
    "\t\ttry:\n",
    "\t\t\treturn x**n\n",
    "\t\texcept Exception as e:\n",
    "\t\t\traise e\n",
    "            \n",
    "\n",
    "obj_program33 = Program_33()\n",
    "print(obj_program33.pow(2,3))"
   ]
  },
  {
   "cell_type": "markdown",
   "metadata": {},
   "source": [
    "### Q34. Write the Python class which has two methods get_String and   print_String. get_String accept the string from the user and print_String print the string in upper case.  "
   ]
  },
  {
   "cell_type": "markdown",
   "metadata": {},
   "source": [
    "### Ans."
   ]
  },
  {
   "cell_type": "code",
   "execution_count": 35,
   "metadata": {},
   "outputs": [
    {
     "name": "stdout",
     "output_type": "stream",
     "text": [
      "Class to implement get_string() and print_string()\n",
      "Please enter any string\n",
      "Ml for Deployment\n",
      "ML FOR DEPLOYMENT\n"
     ]
    }
   ],
   "source": [
    "class Program_34(object):\n",
    "\tdef __init__(self):\n",
    "\t\tprint('Class to implement get_string() and print_string()')\n",
    "\n",
    "\tdef get_String(self):\n",
    "\t\t\n",
    "\t\ttry:\n",
    "\t\t\tself.input_string = input('Please enter any string\\n')\n",
    "\t\texcept Exception as e:\n",
    "\t\t\traise e\n",
    "\n",
    "\tdef print_String(self):\n",
    "\t\tprint(self.input_string.upper())\n",
    "\n",
    "obj_program34 = Program_34()\n",
    "obj_program34.get_String()\n",
    "obj_program34.print_String()"
   ]
  },
  {
   "cell_type": "markdown",
   "metadata": {},
   "source": [
    "### Q35. Write the Python class named Rectangle constructed by a length   and width and the method which will compute the area of the   rectangle? "
   ]
  },
  {
   "cell_type": "markdown",
   "metadata": {},
   "source": [
    "### Ans."
   ]
  },
  {
   "cell_type": "code",
   "execution_count": 36,
   "metadata": {},
   "outputs": [
    {
     "name": "stdout",
     "output_type": "stream",
     "text": [
      "Area of Rectangle: 144\n"
     ]
    }
   ],
   "source": [
    "class Rectangle():\n",
    "    def __init__(self, l, w):\n",
    "        self.length = l\n",
    "        self.width  = w\n",
    "\n",
    "    def rectangle_area(self):\n",
    "        return self.length*self.width\n",
    "\n",
    "\n",
    "if __name__ == '__main__':\n",
    "    obj_rectangle = Rectangle(18, 8)\n",
    "    print('Area of Rectangle: {}'.format(obj_rectangle.rectangle_area()))"
   ]
  },
  {
   "cell_type": "markdown",
   "metadata": {},
   "source": [
    "### Q36.  Write the Python class named Circle constructed by the radius   and two methods which will compute the area and perimeter of   the circle?"
   ]
  },
  {
   "cell_type": "markdown",
   "metadata": {},
   "source": [
    "### Ans."
   ]
  },
  {
   "cell_type": "code",
   "execution_count": 37,
   "metadata": {},
   "outputs": [
    {
     "name": "stdout",
     "output_type": "stream",
     "text": [
      "creating a Circle having radius 5\n",
      "Area of Circle: 78.5\n",
      "Perimeter of Circle: 31.400000000000002\n"
     ]
    }
   ],
   "source": [
    "class Circle():\n",
    "    def __init__(self, r):\n",
    "        self.radius = r\n",
    "\n",
    "    def area(self):\n",
    "        return self.radius**2*3.14\n",
    "    \n",
    "    def perimeter(self):\n",
    "        return 2*self.radius*3.14\n",
    "\n",
    "\n",
    "if __name__ == '__main__':\n",
    "    radius = 5\n",
    "    print('creating a Circle having radius {}'.format(radius))\n",
    "    obj_circle = Circle(radius)\n",
    "    \n",
    "    print('Area of Circle: {}'.format(obj_circle.area()))\n",
    "    print('Perimeter of Circle: {}'.format(obj_circle.perimeter()))"
   ]
  },
  {
   "cell_type": "markdown",
   "metadata": {},
   "source": [
    "### Q37. Write the Python program to get the class name of an instance in   Python?"
   ]
  },
  {
   "cell_type": "markdown",
   "metadata": {},
   "source": [
    "### Ans."
   ]
  },
  {
   "cell_type": "code",
   "execution_count": 38,
   "metadata": {},
   "outputs": [
    {
     "name": "stdout",
     "output_type": "stream",
     "text": [
      "WIthin init() of A\n",
      "Class Name of Instance <__main__.A object at 0x000001BE8BCAEA90>\n",
      "A\n"
     ]
    }
   ],
   "source": [
    "class A():\n",
    "    def __init__(self):\n",
    "        print('WIthin init() of A')\n",
    "        \n",
    "if __name__ == '__main__':\n",
    "    obj_a = A()\n",
    "    print('Class Name of Instance {}'.format(obj_a))\n",
    "    print(type(obj_a).__name__)"
   ]
  },
  {
   "cell_type": "markdown",
   "metadata": {},
   "source": [
    "### Q38. Write the Python program to count the number of students of   individual class? "
   ]
  },
  {
   "cell_type": "markdown",
   "metadata": {},
   "source": [
    "### Ans."
   ]
  },
  {
   "cell_type": "code",
   "execution_count": 39,
   "metadata": {},
   "outputs": [
    {
     "name": "stdout",
     "output_type": "stream",
     "text": [
      "Counter({'VI': 3, 'V': 2, 'VII': 1})\n"
     ]
    }
   ],
   "source": [
    "def program_38(tuple_class_students):\n",
    "\tfrom collections import Counter\n",
    "\ttry:\n",
    "\t\treturn Counter(class_name for class_name, students in tuple_class_students)\n",
    "\n",
    "\texcept Exception as e:\n",
    "\t\traise e\n",
    "        \n",
    "print(program_38([('V', 1),('VI', 1),('V', 2),('VI', 2),('VI', 3),('VII', 1),]))"
   ]
  },
  {
   "cell_type": "code",
   "execution_count": null,
   "metadata": {},
   "outputs": [],
   "source": []
  },
  {
   "cell_type": "markdown",
   "metadata": {},
   "source": [
    "### Q39. Write the Python program to create an instance of an OrderedDict using the given dictionary and sort dictionary during the      creation and print members of the dictionary in reverse order? "
   ]
  },
  {
   "cell_type": "markdown",
   "metadata": {},
   "source": [
    "### Ans."
   ]
  },
  {
   "cell_type": "code",
   "execution_count": 40,
   "metadata": {},
   "outputs": [
    {
     "name": "stdout",
     "output_type": "stream",
     "text": [
      "Afghanistan 93\n",
      "Albania 355\n",
      "Algeria 213\n",
      "Andorra 376\n",
      "Angola 244\n",
      "\n",
      "In reverse order:\n",
      "Angola 244\n",
      "Andorra 376\n",
      "Algeria 213\n",
      "Albania 355\n",
      "Afghanistan 93\n"
     ]
    }
   ],
   "source": [
    "def program_39(dict_data):\n",
    "    from collections import OrderedDict\n",
    "    \n",
    "    new_dict = OrderedDict(dict_data.items())\n",
    "    for key in new_dict:\n",
    "        print (key, new_dict[key])\n",
    "\n",
    "    print(\"\\nIn reverse order:\")\n",
    "    for key in reversed(new_dict):\n",
    "        print (key, new_dict[key])\n",
    "        \n",
    "if __name__ == '__main__':\n",
    "    dict_data = {'Afghanistan': 93, 'Albania': 355, 'Algeria': 213, 'Andorra': 376, 'Angola': 244}\n",
    "    program_39(dict_data)"
   ]
  },
  {
   "cell_type": "markdown",
   "metadata": {},
   "source": [
    "### Q40.Write the Python program to compare two unordered lists (not sets)?"
   ]
  },
  {
   "cell_type": "markdown",
   "metadata": {},
   "source": [
    "### Ans."
   ]
  },
  {
   "cell_type": "code",
   "execution_count": 41,
   "metadata": {},
   "outputs": [
    {
     "name": "stdout",
     "output_type": "stream",
     "text": [
      "False\n"
     ]
    }
   ],
   "source": [
    "from collections import Counter\n",
    "def program_40(x, y):\n",
    "    return Counter(x) == Counter(y)\n",
    "\n",
    "if __name__ == '__main__':\n",
    "    n1 = [60, 40, 50]\n",
    "    n2 = [40, 50, 80]\n",
    "    print(program_40(n1, n2))"
   ]
  },
  {
   "cell_type": "markdown",
   "metadata": {},
   "source": [
    "### Q41. Write the Python program to get an array buffer information?"
   ]
  },
  {
   "cell_type": "markdown",
   "metadata": {},
   "source": [
    "### Ans."
   ]
  },
  {
   "cell_type": "code",
   "execution_count": 42,
   "metadata": {},
   "outputs": [
    {
     "name": "stdout",
     "output_type": "stream",
     "text": [
      "Array buffer start address in memory and number of elements.\n",
      "(1917895336704, 2)\n"
     ]
    }
   ],
   "source": [
    "from array import array\n",
    "def program_41():\n",
    "    a = array('I', (12,25))\n",
    "    print(\"Array buffer start address in memory and number of elements.\")\n",
    "    print(a.buffer_info())\n",
    "    \n",
    "if __name__ == '__main__':\n",
    "    program_41()\n",
    "    "
   ]
  },
  {
   "cell_type": "markdown",
   "metadata": {},
   "source": [
    "### Q42. Write the Python program to convert an array to an array of   machine values and return the bytes representation?"
   ]
  },
  {
   "cell_type": "markdown",
   "metadata": {},
   "source": [
    "### Ans."
   ]
  },
  {
   "cell_type": "code",
   "execution_count": 43,
   "metadata": {},
   "outputs": [
    {
     "name": "stdout",
     "output_type": "stream",
     "text": [
      "Bytes to String: \n",
      "b'\\x01\\x00\\x00\\x00\\x02\\x00\\x00\\x00\\x03\\x00\\x00\\x00\\x04\\x00\\x00\\x00\\x05\\x00\\x00\\x00\\x06\\x00\\x00\\x00'\n",
      "Bytes to String:\n",
      "b'Python bytes'\n"
     ]
    }
   ],
   "source": [
    "from array import *\n",
    "def program_42():\n",
    "    print(\"Bytes to String: \")\n",
    "    arr = array('i', [1,2,3,4,5,6])\n",
    "    print(arr.tobytes())\n",
    "    \n",
    "    print('Bytes to String:')\n",
    "    arr = array('b', [80, 121, 116, 104, 111, 110, 32, 98, 121, 116, 101, 115])\n",
    "    print(arr.tobytes())\n",
    "    \n",
    "if __name__ == '__main__':\n",
    "    program_42()"
   ]
  },
  {
   "cell_type": "markdown",
   "metadata": {},
   "source": [
    "### Q43. Write the Python program to read a string and interpreting the   string as an array of machine values?"
   ]
  },
  {
   "cell_type": "markdown",
   "metadata": {},
   "source": [
    "### Ans."
   ]
  },
  {
   "cell_type": "code",
   "execution_count": 44,
   "metadata": {},
   "outputs": [
    {
     "name": "stdout",
     "output_type": "stream",
     "text": [
      "Array: array('i', [7, 8, 9, 10])\n",
      "Bytes: b'0700000008000000090000000a000000'\n"
     ]
    }
   ],
   "source": [
    "from array import array\n",
    "import binascii\n",
    "\n",
    "def program_43():\n",
    "    arr = array('i', [7, 8, 9, 10])\n",
    "    print('Array:', arr)\n",
    "    as_bytes = arr.tobytes()\n",
    "    print('Bytes:', binascii.hexlify(as_bytes))\n",
    "    \n",
    "if __name__ == '__main__':\n",
    "    program_43()\n"
   ]
  },
  {
   "cell_type": "markdown",
   "metadata": {},
   "source": [
    "### Q44. Write the Python program to push three items into the heap and   return the smallest item from the heap. Also, return and pop the   smallest item from the heap?"
   ]
  },
  {
   "cell_type": "markdown",
   "metadata": {},
   "source": [
    "### Ans."
   ]
  },
  {
   "cell_type": "code",
   "execution_count": 45,
   "metadata": {},
   "outputs": [
    {
     "name": "stdout",
     "output_type": "stream",
     "text": [
      "Items in the heap:\n",
      "('VI', 1)\n",
      "('VII', 3)\n",
      "('VIII', 2)\n",
      "----------------------\n",
      "The smallest item in the heap:\n",
      "('VI', 1)\n",
      "----------------------\n",
      "Pop the smallest item in the heap:\n",
      "('VII', 3)\n",
      "('VIII', 2)\n"
     ]
    }
   ],
   "source": [
    "import heapq\n",
    "\n",
    "def program_44():\n",
    "    heap = []\n",
    "    heapq.heappush(heap, ('VI', 1))\n",
    "    heapq.heappush(heap, ('VII', 3))\n",
    "    heapq.heappush(heap, ('VIII', 2))\n",
    "    print(\"Items in the heap:\")\n",
    "    for a in heap:\n",
    "        print(a)\n",
    "    print(\"----------------------\")\n",
    "    print(\"The smallest item in the heap:\")\n",
    "    print(heap[0])\n",
    "    print(\"----------------------\")\n",
    "    print(\"Pop the smallest item in the heap:\")\n",
    "    heapq.heappop(heap)\n",
    "    for a in heap:\n",
    "        print(a)\n",
    "        \n",
    "if __name__ == '__main__':\n",
    "    program_44()"
   ]
  },
  {
   "cell_type": "markdown",
   "metadata": {},
   "source": [
    "### Q45.Write the Python program to locate the left insertion point for a   specified value in sorted order? "
   ]
  },
  {
   "cell_type": "markdown",
   "metadata": {},
   "source": [
    "### Ans."
   ]
  },
  {
   "cell_type": "code",
   "execution_count": 46,
   "metadata": {},
   "outputs": [
    {
     "name": "stdout",
     "output_type": "stream",
     "text": [
      "Output: \n",
      "4\n",
      "2\n"
     ]
    }
   ],
   "source": [
    "import bisect\n",
    "def program_45(a, x):\n",
    "    i = bisect.bisect_left(a, x)\n",
    "    return i\n",
    "    \n",
    "if __name__ == '__main__':\n",
    "    a = [1,2,4,5]\n",
    "    print('Output: ')\n",
    "    print(program_45(a, 6))\n",
    "    print(program_45(a, 3))"
   ]
  },
  {
   "cell_type": "markdown",
   "metadata": {},
   "source": [
    "### Q46. Write the Python program to create the FIFO queue? "
   ]
  },
  {
   "cell_type": "markdown",
   "metadata": {},
   "source": [
    "### Ans."
   ]
  },
  {
   "cell_type": "code",
   "execution_count": 47,
   "metadata": {},
   "outputs": [
    {
     "name": "stdout",
     "output_type": "stream",
     "text": [
      "0 1 2 3 \n",
      "\n"
     ]
    }
   ],
   "source": [
    "import queue\n",
    "def program_46():\n",
    "    q = queue.Queue()\n",
    "\n",
    "    #insert items at the end of the queue \n",
    "    for x in range(4):\n",
    "        q.put(x)\n",
    "\n",
    "    #remove items from the head of the queue \n",
    "    while not q.empty():\n",
    "        print(q.get(), end=\" \")\n",
    "    print(\"\\n\")\n",
    "    \n",
    "if __name__ == '__main__':\n",
    "    program_46()"
   ]
  },
  {
   "cell_type": "markdown",
   "metadata": {},
   "source": [
    "### Q47. Write the Python program to calculate the harmonic sum of n-1.          Note: The harmonic sum is the sum of reciprocals of the positive   Integers?"
   ]
  },
  {
   "cell_type": "markdown",
   "metadata": {},
   "source": [
    "### Ans."
   ]
  },
  {
   "cell_type": "code",
   "execution_count": 48,
   "metadata": {},
   "outputs": [
    {
     "name": "stdout",
     "output_type": "stream",
     "text": [
      "2.283333333333333\n",
      "2.4499999999999997\n"
     ]
    }
   ],
   "source": [
    "def program_47(n):\n",
    "  if n < 2:\n",
    "    return 1\n",
    "  else:\n",
    "    return 1 / n + (program_47(n - 1))\n",
    "    \n",
    "if __name__ == '__main__':\n",
    "    print(program_47(5))\n",
    "    print(program_47(6))"
   ]
  },
  {
   "cell_type": "markdown",
   "metadata": {},
   "source": [
    "### Q48. Write the NumPy program to create a 2d array with 6 on the border   and 0 inside? "
   ]
  },
  {
   "cell_type": "markdown",
   "metadata": {},
   "source": [
    "### Ans."
   ]
  },
  {
   "cell_type": "code",
   "execution_count": 49,
   "metadata": {},
   "outputs": [
    {
     "name": "stdout",
     "output_type": "stream",
     "text": [
      "Original array:\n",
      "[[6 6 6 6 6]\n",
      " [6 6 6 6 6]\n",
      " [6 6 6 6 6]\n",
      " [6 6 6 6 6]\n",
      " [6 6 6 6 6]]\n",
      "\n",
      "6 on the border and 0 inside in the array\n",
      "[[6 6 6 6 6]\n",
      " [6 0 0 0 6]\n",
      " [6 0 0 0 6]\n",
      " [6 0 0 0 6]\n",
      " [6 6 6 6 6]]\n"
     ]
    }
   ],
   "source": [
    "import numpy as np\n",
    "\n",
    "def program_48(x):\n",
    "    print(\"Original array:\")\n",
    "    print(x)\n",
    "\n",
    "    print(\"\\n6 on the border and 0 inside in the array\")\n",
    "    x[1:-1,1:-1] = 0\n",
    "    print(x)\n",
    "\n",
    "if __name__ == '__main__':\n",
    "    x = np.full((5, 5), 6)\n",
    "    program_48(x)"
   ]
  },
  {
   "cell_type": "markdown",
   "metadata": {},
   "source": [
    "### Q49. Write the NumPy program to create a 8x8 matrix and fill it with the   checkerboard pattern?"
   ]
  },
  {
   "cell_type": "markdown",
   "metadata": {},
   "source": [
    "### Ans."
   ]
  },
  {
   "cell_type": "code",
   "execution_count": 50,
   "metadata": {},
   "outputs": [
    {
     "name": "stdout",
     "output_type": "stream",
     "text": [
      "Checkerboard pattern:\n",
      "[[3 9 3 9 3 9 3 9]\n",
      " [9 3 9 3 9 3 9 3]\n",
      " [3 9 3 9 3 9 3 9]\n",
      " [9 3 9 3 9 3 9 3]\n",
      " [3 9 3 9 3 9 3 9]\n",
      " [9 3 9 3 9 3 9 3]\n",
      " [3 9 3 9 3 9 3 9]\n",
      " [9 3 9 3 9 3 9 3]]\n"
     ]
    }
   ],
   "source": [
    "import numpy as np\n",
    "def program_49(x):\n",
    "    print(\"Checkerboard pattern:\")\n",
    "    x = np.full((8, 8), 3, dtype=int)\n",
    "    x[1::2,::2] = 9\n",
    "    x[::2,1::2] = 9\n",
    "    print(x)\n",
    "\n",
    "if __name__ == '__main__':\n",
    "    x = np.full((3, 3), 9)\n",
    "    program_49(x)\n"
   ]
  },
  {
   "cell_type": "markdown",
   "metadata": {},
   "source": [
    "### Q50.  Write the NumPy program to create an empty and a full array"
   ]
  },
  {
   "cell_type": "markdown",
   "metadata": {},
   "source": [
    "### Ans."
   ]
  },
  {
   "cell_type": "code",
   "execution_count": 51,
   "metadata": {},
   "outputs": [
    {
     "name": "stdout",
     "output_type": "stream",
     "text": [
      "Empty array: \n",
      "[[0. 0. 0. 0.]\n",
      " [0. 0. 0. 0.]\n",
      " [0. 0. 0. 0.]]\n",
      "Full array: \n",
      "[[6 6 6]\n",
      " [6 6 6]\n",
      " [6 6 6]]\n"
     ]
    }
   ],
   "source": [
    "import numpy as np\n",
    "\n",
    "def program_50():\n",
    "    # Create an empty array\n",
    "    x = np.empty((3,4))\n",
    "    print('Empty array: ')\n",
    "    print(x)\n",
    "    # Create a full array\n",
    "    y = np.full((3,3),6)\n",
    "    print('Full array: ')\n",
    "    print(y)\n",
    "    \n",
    "if __name__ == '__main__':\n",
    "    program_50()"
   ]
  },
  {
   "cell_type": "markdown",
   "metadata": {},
   "source": [
    "### Q51. Write the NumPy program to convert the values of Centigrade degrees into the Fahrenheit degrees and the centigrade values are  stored in the NumPy array."
   ]
  },
  {
   "cell_type": "markdown",
   "metadata": {},
   "source": [
    "### Ans."
   ]
  },
  {
   "cell_type": "code",
   "execution_count": 52,
   "metadata": {},
   "outputs": [
    {
     "name": "stdout",
     "output_type": "stream",
     "text": [
      "Values in Fahrenheit degrees:\n",
      "[ 0.   12.   45.21 34.   99.91]\n",
      "Values in  Centigrade degrees:\n",
      "[-17.77777778 -11.11111111   7.33888889   1.11111111  37.72777778]\n"
     ]
    }
   ],
   "source": [
    "import numpy as np\n",
    "\n",
    "def program_51(ls_data):\n",
    "    F = np.array(ls_data)\n",
    "    print(\"Values in Fahrenheit degrees:\")\n",
    "    print(F)\n",
    "    print(\"Values in  Centigrade degrees:\") \n",
    "    print(5*F/9 - 5*32/9)\n",
    "\n",
    "if __name__ == '__main__':\n",
    "    ls_values = [0, 12, 45.21, 34, 99.91]\n",
    "    program_51(ls_values)"
   ]
  },
  {
   "cell_type": "markdown",
   "metadata": {},
   "source": [
    "### Q52. Write the NumPy program to find the real and imaginary parts of an   array of complex numbers? "
   ]
  },
  {
   "cell_type": "markdown",
   "metadata": {},
   "source": [
    "### Ans."
   ]
  },
  {
   "cell_type": "code",
   "execution_count": 53,
   "metadata": {},
   "outputs": [
    {
     "name": "stdout",
     "output_type": "stream",
     "text": [
      "Original array:  [1.+0.j] [0.70710678+0.70710678j]\n",
      "Real part of the array:\n",
      "[1.]\n",
      "[0.70710678]\n",
      "Imaginary part of the array:\n",
      "[0.]\n",
      "[0.70710678]\n"
     ]
    }
   ],
   "source": [
    "import numpy as np\n",
    "def program_52(x,y):\n",
    "    print(\"Real part of the array:\")\n",
    "    print(x.real)\n",
    "    print(y.real)\n",
    "    print(\"Imaginary part of the array:\")\n",
    "    print(x.imag)\n",
    "    print(y.imag)\n",
    "    \n",
    "if __name__ == '__main__':\n",
    "    x = np.sqrt([1+0j])\n",
    "    y = np.sqrt([0+1j])\n",
    "    print(\"Original array: \",x, y)\n",
    "    program_52(x, y)"
   ]
  },
  {
   "cell_type": "markdown",
   "metadata": {},
   "source": [
    "### Q53. Write the NumPy program to test whether each element of a 1-D   array is also present in the second array? "
   ]
  },
  {
   "cell_type": "markdown",
   "metadata": {},
   "source": [
    "### Ans."
   ]
  },
  {
   "cell_type": "code",
   "execution_count": 54,
   "metadata": {},
   "outputs": [
    {
     "name": "stdout",
     "output_type": "stream",
     "text": [
      "Arr1:  [ 0 10 20 40 60]\n",
      "Arr2:  [0, 40]\n",
      "Compare each element of arr1 and arr2\n",
      "[ True False False  True False]\n"
     ]
    }
   ],
   "source": [
    "import numpy as np\n",
    "def program_53(arr1, arr2):\n",
    "    print(\"Compare each element of arr1 and arr2\")\n",
    "    print(np.in1d(arr1, arr2))\n",
    "    \n",
    "if __name__ == '__main__':\n",
    "    arr1 = np.array([0, 10, 20, 40, 60])\n",
    "    print(\"Arr1: \",arr1)\n",
    "    arr2 = [0, 40]\n",
    "    print(\"Arr2: \",arr2)\n",
    "    program_53(arr1, arr2)\n",
    "    "
   ]
  },
  {
   "cell_type": "markdown",
   "metadata": {},
   "source": [
    "### Q54. Write the NumPy program to find common values between two   arrays? "
   ]
  },
  {
   "cell_type": "markdown",
   "metadata": {},
   "source": [
    "### Ans."
   ]
  },
  {
   "cell_type": "code",
   "execution_count": 55,
   "metadata": {},
   "outputs": [
    {
     "name": "stdout",
     "output_type": "stream",
     "text": [
      "Common values between 2 arrays\n",
      "[10 40]\n"
     ]
    }
   ],
   "source": [
    "def program_54():\n",
    "\timport numpy as np\n",
    "\tls_result = []\n",
    "\tnp_array1 = np.array([0,10,20,40,60])\n",
    "\tnp_array2 = np.array([10,30,40])\n",
    "\tprint(np.intersect1d(np_array1, np_array2))\t\t\n",
    "\n",
    "print('Common values between 2 arrays')\n",
    "program_54()"
   ]
  },
  {
   "cell_type": "markdown",
   "metadata": {},
   "source": [
    "### Q55. Write the NumPy program to get the unique elements of an array? "
   ]
  },
  {
   "cell_type": "markdown",
   "metadata": {},
   "source": [
    "### Ans."
   ]
  },
  {
   "cell_type": "code",
   "execution_count": 56,
   "metadata": {},
   "outputs": [
    {
     "name": "stdout",
     "output_type": "stream",
     "text": [
      "unique elements: \n",
      "[10 20 30]\n",
      "[1 2 3]\n"
     ]
    }
   ],
   "source": [
    "def program_55():\n",
    "\timport numpy as np\n",
    "\tls_result = []\n",
    "\tnp_array = np.array([10,10,20,20,30,30])\n",
    "\tprint(np.unique(np_array))\n",
    "    \n",
    "\tnp_array1 = np.array([[1,1],[2,3]])\n",
    "\tprint(np.unique(np_array1))\n",
    "    \n",
    "print('unique elements: ')\n",
    "program_55()"
   ]
  },
  {
   "cell_type": "markdown",
   "metadata": {},
   "source": [
    "### Q56. Write the NumPy program to find the set exclusive-or of two arrays.   Set exclusive-or will return the sorted, unique values that are in   only one (not both) of the input arrays? "
   ]
  },
  {
   "cell_type": "markdown",
   "metadata": {},
   "source": [
    "### Ans."
   ]
  },
  {
   "cell_type": "code",
   "execution_count": 57,
   "metadata": {},
   "outputs": [
    {
     "name": "stdout",
     "output_type": "stream",
     "text": [
      "Unique values that are in only one (not both) of the input arrays\n",
      "[ 0 20 30 50 60 70 80]\n"
     ]
    }
   ],
   "source": [
    "def program_56():\n",
    "\timport numpy as np\n",
    "\tnp_array1 = np.array([0,10,20,40,60,80])\n",
    "\tnp_array2 = np.array([10,30,40,50,70])\n",
    "\tprint(np.setxor1d(np_array1, np_array2))\n",
    "    \n",
    "print('Unique values that are in only one (not both) of the input arrays')\n",
    "program_56()"
   ]
  },
  {
   "cell_type": "markdown",
   "metadata": {},
   "source": [
    "### Q57. Write the NumPy program to test if all elements in an array   evaluate to True ?"
   ]
  },
  {
   "cell_type": "markdown",
   "metadata": {},
   "source": [
    "### Ans."
   ]
  },
  {
   "cell_type": "code",
   "execution_count": 58,
   "metadata": {},
   "outputs": [
    {
     "name": "stdout",
     "output_type": "stream",
     "text": [
      "False\n",
      "True\n",
      "True\n",
      "True\n"
     ]
    }
   ],
   "source": [
    "def program_57():\n",
    "\timport numpy as np\n",
    "\tprint(np.all([True, False]))\n",
    "\tprint(np.all([True, True]))\n",
    "\tprint(np.all([1, -1]))\n",
    "\tprint(np.all([[1, 1], [True, True]]))\n",
    "\n",
    "program_57()"
   ]
  },
  {
   "cell_type": "markdown",
   "metadata": {},
   "source": [
    "### Q58 Write the NumPy program to test whether any array element along   the given axis evaluates to True?  "
   ]
  },
  {
   "cell_type": "markdown",
   "metadata": {},
   "source": [
    "### Ans."
   ]
  },
  {
   "cell_type": "code",
   "execution_count": 59,
   "metadata": {},
   "outputs": [
    {
     "name": "stdout",
     "output_type": "stream",
     "text": [
      "False\n",
      "True\n",
      "True\n",
      "True\n"
     ]
    }
   ],
   "source": [
    "def program_58():\n",
    "\timport numpy as np\n",
    "\tprint(np.any([False, False]))\n",
    "\tprint(np.any([True, True]))\n",
    "\tprint(np.any([1, -1]))\n",
    "\tprint(np.any([[1, 1], [True, True]]))\n",
    "    \n",
    "program_58()"
   ]
  },
  {
   "cell_type": "markdown",
   "metadata": {},
   "source": [
    "### Q59. Write the NumPy program to construct an array by repeating?"
   ]
  },
  {
   "cell_type": "markdown",
   "metadata": {},
   "source": [
    "### Ans."
   ]
  },
  {
   "cell_type": "code",
   "execution_count": 60,
   "metadata": {},
   "outputs": [
    {
     "name": "stdout",
     "output_type": "stream",
     "text": [
      "[1 1 2 2 3 3 4 4]\n"
     ]
    }
   ],
   "source": [
    "def program_59():\n",
    "\timport numpy as np\n",
    "\tnp_arr = np.arange(1,5)\n",
    "\tprint(np_arr.repeat(repeats=2))\n",
    "    \n",
    "program_59()"
   ]
  },
  {
   "cell_type": "code",
   "execution_count": null,
   "metadata": {},
   "outputs": [],
   "source": []
  },
  {
   "cell_type": "markdown",
   "metadata": {},
   "source": [
    "### Q60.  Write the NumPy program to find the indices of the maximum and   minimum values with the given axis of an array? "
   ]
  },
  {
   "cell_type": "markdown",
   "metadata": {},
   "source": [
    "### Ans."
   ]
  },
  {
   "cell_type": "code",
   "execution_count": 61,
   "metadata": {},
   "outputs": [
    {
     "name": "stdout",
     "output_type": "stream",
     "text": [
      "Original array:  [1 2 3 4 5 6]\n",
      "Maximum Values:  5\n",
      "Minimum Values:  0\n"
     ]
    }
   ],
   "source": [
    "import numpy as np\n",
    "x = np.array([1, 2, 3, 4, 5, 6])\n",
    "print(\"Original array: \",x)\n",
    "print(\"Maximum Values: \",np.argmax(x))\n",
    "print(\"Minimum Values: \",np.argmin(x))"
   ]
  },
  {
   "cell_type": "markdown",
   "metadata": {},
   "source": [
    "### Q61.  Write the NumPy program compare two arrays using numpy? "
   ]
  },
  {
   "cell_type": "markdown",
   "metadata": {},
   "source": [
    "### Ans."
   ]
  },
  {
   "cell_type": "code",
   "execution_count": 62,
   "metadata": {},
   "outputs": [
    {
     "name": "stdout",
     "output_type": "stream",
     "text": [
      "np_a > np_b: [False False]\n",
      "np_a >= np_b[False False]\n",
      "np_a < np_b: [ True  True]\n",
      "np_a <= np_b: [ True  True]\n"
     ]
    }
   ],
   "source": [
    "def program_61():\n",
    "\timport numpy as np\n",
    "\tnp_a = np.array([1,2])\n",
    "\tnp_b = np.array([4,5])\n",
    "\tprint('np_a > np_b: {}'.format(np_a > np_b))\n",
    "\tprint('np_a >= np_b{}'.format(np_a >= np_b))\n",
    "\tprint('np_a < np_b: {}'.format(np_a < np_b))\n",
    "\tprint('np_a <= np_b: {}'.format(np_a <= np_b))\n",
    "    \n",
    "program_61()"
   ]
  },
  {
   "cell_type": "markdown",
   "metadata": {},
   "source": [
    "### Q62. Write the NumPy program to sort an along the first, last axis of an   array? "
   ]
  },
  {
   "cell_type": "markdown",
   "metadata": {},
   "source": [
    "### Ans."
   ]
  },
  {
   "cell_type": "code",
   "execution_count": 63,
   "metadata": {},
   "outputs": [
    {
     "name": "stdout",
     "output_type": "stream",
     "text": [
      "Sort along first axis\n",
      "[[2 1]\n",
      " [4 6]]\n",
      "Sort along last axis\n",
      "[[1 2]\n",
      " [4 6]]\n"
     ]
    }
   ],
   "source": [
    "def program_62():\n",
    "    import numpy as np\n",
    "    np_arr = np.array([[4,6],[2,1]])\n",
    "    print('Sort along first axis')\n",
    "    a = np.sort(np_arr, axis=0) # Sort Column wise (first axis)\n",
    "    print(a)\n",
    "    print('Sort along last axis')\n",
    "    b = np.sort(a, axis=1) # default axis=-1, sort row wise (last axis)\n",
    "    print(b)\n",
    "    \n",
    "program_62()"
   ]
  },
  {
   "cell_type": "markdown",
   "metadata": {},
   "source": [
    "### Q63.  Write the NumPy program to sort pairs of first name and last name   return their indices (first by last name, then by first name). "
   ]
  },
  {
   "cell_type": "markdown",
   "metadata": {},
   "source": [
    "### Ans."
   ]
  },
  {
   "cell_type": "code",
   "execution_count": 64,
   "metadata": {},
   "outputs": [
    {
     "name": "stdout",
     "output_type": "stream",
     "text": [
      "[1 3 2 4 0]\n"
     ]
    }
   ],
   "source": [
    "import numpy as np\n",
    "def program_63(first_names, last_names):\n",
    "    x = np.lexsort((first_names, last_names))\n",
    "    print(x)\n",
    "\n",
    "if __name__ == '__main__':\n",
    "    f_names = ('Margery', 'Betsey', 'Shelley', 'Lanell', 'Genesis')\n",
    "    l_names = ('Woolum', 'Battle', 'Plotner', 'Brien', 'Stahl')\n",
    "    program_63(f_names, l_names)"
   ]
  },
  {
   "cell_type": "markdown",
   "metadata": {},
   "source": [
    "### Q64. Write the NumPy program to get the values and indices of the   elements that are bigger than 10 in the given array?"
   ]
  },
  {
   "cell_type": "markdown",
   "metadata": {},
   "source": [
    "### Ans."
   ]
  },
  {
   "cell_type": "code",
   "execution_count": 65,
   "metadata": {},
   "outputs": [
    {
     "name": "stdout",
     "output_type": "stream",
     "text": [
      "Original array: \n",
      "[[ 0 10 20]\n",
      " [20 30 40]]\n",
      "Values bigger than 10 = [20 20 30 40]\n",
      "Their indices are  (array([0, 1, 1, 1], dtype=int64), array([2, 0, 1, 2], dtype=int64))\n"
     ]
    }
   ],
   "source": [
    "import numpy as np\n",
    "def program_64(x):\n",
    "    print(\"Values bigger than 10 =\", x[x>10])\n",
    "    print(\"Their indices are \", np.nonzero(x > 10))\n",
    "    \n",
    "if __name__ == '__main__':\n",
    "    x = np.array([[0, 10, 20], [20, 30, 40]])\n",
    "    print(\"Original array: \")\n",
    "    print(x)\n",
    "    program_64(x)"
   ]
  },
  {
   "cell_type": "markdown",
   "metadata": {},
   "source": [
    "### Q65. Write the NumPy program to find the memory size of a NumPy   array?"
   ]
  },
  {
   "cell_type": "markdown",
   "metadata": {},
   "source": [
    "### Ans."
   ]
  },
  {
   "cell_type": "code",
   "execution_count": 66,
   "metadata": {},
   "outputs": [
    {
     "name": "stdout",
     "output_type": "stream",
     "text": [
      "32 bytes\n",
      "72 bytes\n",
      "128 bytes\n"
     ]
    }
   ],
   "source": [
    "def program_65():\n",
    "\timport numpy as np\n",
    "\tprint('{} bytes'.format(np.zeros((2,2)).nbytes))\n",
    "\tprint('{} bytes'.format(np.zeros((3,3)).nbytes))\n",
    "\tprint('{} bytes'.format(np.zeros((4,4)).nbytes))\n",
    "    \n",
    "program_65()"
   ]
  },
  {
   "cell_type": "markdown",
   "metadata": {},
   "source": [
    "### Q66. Write the NumPy program to create an array of ones and an array   of zeros?"
   ]
  },
  {
   "cell_type": "markdown",
   "metadata": {},
   "source": [
    "### Ans."
   ]
  },
  {
   "cell_type": "code",
   "execution_count": 67,
   "metadata": {},
   "outputs": [
    {
     "name": "stdout",
     "output_type": "stream",
     "text": [
      "Zeros: Default type is \"float\"\n",
      "[[0. 0. 0. 0.]\n",
      " [0. 0. 0. 0.]\n",
      " [0. 0. 0. 0.]\n",
      " [0. 0. 0. 0.]]\n",
      "Zeros: Type changes to \"int\"\n",
      "[[0 0 0 0]\n",
      " [0 0 0 0]\n",
      " [0 0 0 0]\n",
      " [0 0 0 0]]\n",
      "Ones: Default type is \"float\"\n",
      "[[1. 1. 1. 1.]\n",
      " [1. 1. 1. 1.]\n",
      " [1. 1. 1. 1.]\n",
      " [1. 1. 1. 1.]]\n",
      "Ones: Type changes to \"int\"\n",
      "[[1 1 1 1]\n",
      " [1 1 1 1]\n",
      " [1 1 1 1]\n",
      " [1 1 1 1]]\n"
     ]
    }
   ],
   "source": [
    "def program_66():\n",
    "\timport numpy as np\n",
    "\tprint('Zeros: Default type is \"float\"')\n",
    "\tprint(np.zeros((4,4)))\n",
    "\tprint('Zeros: Type changes to \"int\"')\n",
    "\tprint(np.zeros((4,4), dtype=int))\n",
    "\tprint('Ones: Default type is \"float\"')\n",
    "\tprint(np.ones((4,4)))\n",
    "\tprint('Ones: Type changes to \"int\"')\n",
    "\tprint(np.ones((4,4), dtype=int))\n",
    "    \n",
    "program_66()"
   ]
  },
  {
   "cell_type": "markdown",
   "metadata": {},
   "source": [
    "### Q67. Write the NumPy program to change the dimension of an array?  "
   ]
  },
  {
   "cell_type": "markdown",
   "metadata": {},
   "source": [
    "### Ans."
   ]
  },
  {
   "cell_type": "code",
   "execution_count": 68,
   "metadata": {},
   "outputs": [
    {
     "name": "stdout",
     "output_type": "stream",
     "text": [
      "6 rows and 0 columns\n",
      "(6,)\n",
      "(3, 3) -> 3 rows and 3 columns \n",
      "[[1 2 3]\n",
      " [4 5 6]\n",
      " [7 8 9]]\n",
      "Change array shape to (3, 3) -> 3 rows and 3 columns \n",
      "[[1 2 3]\n",
      " [4 5 6]\n",
      " [7 8 9]]\n"
     ]
    }
   ],
   "source": [
    "import numpy as np\n",
    "x = np.array([1, 2, 3, 4, 5, 6])\n",
    "print(\"6 rows and 0 columns\")\n",
    "print(x.shape)\n",
    "\n",
    "y = np.array([[1, 2, 3],[4, 5, 6],[7,8,9]])\n",
    "print(\"(3, 3) -> 3 rows and 3 columns \")\n",
    "print(y)\n",
    "\n",
    "x = np.array([1,2,3,4,5,6,7,8,9])\n",
    "print(\"Change array shape to (3, 3) -> 3 rows and 3 columns \")\n",
    "x.shape = (3, 3)\n",
    "print(x)"
   ]
  },
  {
   "cell_type": "markdown",
   "metadata": {},
   "source": [
    "### Q68. Write the NumPy program to create a new shape to an array   without changing its data ? "
   ]
  },
  {
   "cell_type": "markdown",
   "metadata": {},
   "source": [
    "### Ans."
   ]
  },
  {
   "cell_type": "code",
   "execution_count": 69,
   "metadata": {},
   "outputs": [
    {
     "name": "stdout",
     "output_type": "stream",
     "text": [
      "Reshape 3x2:\n",
      "[[1 2]\n",
      " [3 4]\n",
      " [5 6]]\n",
      "Reshape 2x3:\n",
      "[[1 2 3]\n",
      " [4 5 6]]\n"
     ]
    }
   ],
   "source": [
    "def program_68():\n",
    "\timport numpy as np\n",
    "\ttry:\n",
    "\t\tnp_arr = np.array([[1, 2, 3, 4, 5,6]])\n",
    "\t\tprint('Reshape 3x2:')\n",
    "\t\tprint(np.reshape(np_arr,(3,2)))\n",
    "\t\t\n",
    "\t\tnp_arr_t = np.reshape(np_arr,(2,3))\n",
    "\t\tprint('Reshape 2x3:')\n",
    "\t\tprint(np_arr_t)\n",
    "\texcept Exception as e:\n",
    "\t\traise e\n",
    "        \n",
    "program_68()"
   ]
  },
  {
   "cell_type": "markdown",
   "metadata": {},
   "source": [
    "### Q69. Write the NumPy program to create a new array of 3*5, filled with 2?"
   ]
  },
  {
   "cell_type": "markdown",
   "metadata": {},
   "source": [
    "### Ans."
   ]
  },
  {
   "cell_type": "code",
   "execution_count": 70,
   "metadata": {},
   "outputs": [
    {
     "name": "stdout",
     "output_type": "stream",
     "text": [
      "[[2 2 2 2 2]\n",
      " [2 2 2 2 2]\n",
      " [2 2 2 2 2]]\n"
     ]
    }
   ],
   "source": [
    "def program_69():\n",
    "\timport numpy as np\n",
    "\ttry:\n",
    "\t\tnp_arr = np.full((3,5), 2, dtype=int)\n",
    "\t\tprint(np_arr)\n",
    "\texcept Exception as e:\n",
    "\t\traise e\n",
    "        \n",
    "program_69()"
   ]
  },
  {
   "cell_type": "markdown",
   "metadata": {},
   "source": [
    "### Q70. Write the NumPy program to create a 3-D array with ones on a   diagonal and zeros elsewhere? "
   ]
  },
  {
   "cell_type": "markdown",
   "metadata": {},
   "source": [
    "### Ans."
   ]
  },
  {
   "cell_type": "code",
   "execution_count": 71,
   "metadata": {},
   "outputs": [
    {
     "name": "stdout",
     "output_type": "stream",
     "text": [
      "[[1. 0. 0.]\n",
      " [0. 1. 0.]\n",
      " [0. 0. 1.]]\n"
     ]
    }
   ],
   "source": [
    "def program_70():\n",
    "\timport numpy as np\n",
    "\ttry:\n",
    "\t\tnp_arr = np.identity(3)\n",
    "\t\tprint(np_arr)\n",
    "\texcept Exception as e:\n",
    "\t\traise e\n",
    "        \n",
    "program_70()"
   ]
  },
  {
   "cell_type": "markdown",
   "metadata": {},
   "source": [
    "### Q71. Write the NumPy program to split an array of 14 elements into the   3 arrays and each of which has 2, 4, and 8 elements in original   order?"
   ]
  },
  {
   "cell_type": "markdown",
   "metadata": {},
   "source": [
    "### Ans."
   ]
  },
  {
   "cell_type": "code",
   "execution_count": 72,
   "metadata": {},
   "outputs": [
    {
     "name": "stdout",
     "output_type": "stream",
     "text": [
      "[ 1  2  3  4  5  6  7  8  9 10 11 12 13 14]\n",
      "[array([1, 2]), array([3, 4, 5, 6]), array([ 7,  8,  9, 10, 11, 12, 13, 14])]\n"
     ]
    }
   ],
   "source": [
    "def program_71():\n",
    "\timport numpy as np\n",
    "\ttry:\n",
    "\t\tnp_arr = np.arange(1,15)\n",
    "\t\tprint(np_arr)\n",
    "\t\tprint(np.split(np_arr, [2,6]))\n",
    "\texcept Exception as e:\n",
    "\t\traise e\n",
    "        \n",
    "program_71()"
   ]
  },
  {
   "cell_type": "markdown",
   "metadata": {},
   "source": [
    "### Q72. Write the NumPy program to split of an array of shape 4x4 it into   two arrays along the second axis ?  "
   ]
  },
  {
   "cell_type": "markdown",
   "metadata": {},
   "source": [
    "### Ans."
   ]
  },
  {
   "cell_type": "code",
   "execution_count": 73,
   "metadata": {},
   "outputs": [
    {
     "name": "stdout",
     "output_type": "stream",
     "text": [
      "Sample array:\n",
      "[[ 0  1  2  3]\n",
      " [ 4  5  6  7]\n",
      " [ 8  9 10 11]\n",
      " [12 13 14 15]]\n",
      "\n",
      "\n",
      "[array([], shape=(4, 0), dtype=int32), array([[ 0,  1],\n",
      "       [ 4,  5],\n",
      "       [ 8,  9],\n",
      "       [12, 13]]), array([[ 2,  3],\n",
      "       [ 6,  7],\n",
      "       [10, 11],\n",
      "       [14, 15]])]\n"
     ]
    }
   ],
   "source": [
    "def program_72():\n",
    "    import numpy as np\n",
    "    try:\n",
    "        np_arr = np.array([[0,1,2,3], [4,5,6,7],[8,9,10,11],[12,13,14,15]])\n",
    "        print('Sample array:')\n",
    "        print(np_arr)\n",
    "        print('\\n')\n",
    "        print(np.split(np_arr, [0,2],axis=1))\n",
    "    except Exception as e:\n",
    "        raise e\n",
    "        \n",
    "program_72()"
   ]
  },
  {
   "cell_type": "markdown",
   "metadata": {},
   "source": [
    "### Q73. Write the NumPy program to create a 5x5 matrix with row values   ranging from 0 to 4?"
   ]
  },
  {
   "cell_type": "markdown",
   "metadata": {},
   "source": [
    "### Ans."
   ]
  },
  {
   "cell_type": "code",
   "execution_count": 74,
   "metadata": {},
   "outputs": [
    {
     "name": "stdout",
     "output_type": "stream",
     "text": [
      "[[0. 0. 0. 0. 0.]\n",
      " [0. 0. 0. 0. 0.]\n",
      " [0. 0. 0. 0. 0.]\n",
      " [0. 0. 0. 0. 0.]\n",
      " [0. 0. 0. 0. 0.]]\n",
      "Row values ranging from 0 to 4\n",
      "[[0. 1. 2. 3. 4.]\n",
      " [0. 1. 2. 3. 4.]\n",
      " [0. 1. 2. 3. 4.]\n",
      " [0. 1. 2. 3. 4.]\n",
      " [0. 1. 2. 3. 4.]]\n"
     ]
    }
   ],
   "source": [
    "def program_73():\n",
    "    import numpy as np\n",
    "    try:\n",
    "        np_arr = np.zeros((5,5))\n",
    "        print(np_arr)\n",
    "        np_arr += np.arange(5)\n",
    "        print('Row values ranging from 0 to 4')\n",
    "        print(np_arr)\n",
    "    except Exception as e:\n",
    "        raise e\n",
    "        \n",
    "program_73()"
   ]
  },
  {
   "cell_type": "markdown",
   "metadata": {},
   "source": [
    "### Q74. Write the NumPy program to create an array of zeros and three   column types (integer, float, character)?"
   ]
  },
  {
   "cell_type": "markdown",
   "metadata": {},
   "source": [
    "### Ans."
   ]
  },
  {
   "cell_type": "code",
   "execution_count": 75,
   "metadata": {},
   "outputs": [
    {
     "name": "stdout",
     "output_type": "stream",
     "text": [
      "[(1, 2., b'Albert Einstein') (2, 2., b'Edmond Halley')\n",
      " (3, 3., b'Gertrude B. Elion')]\n"
     ]
    }
   ],
   "source": [
    "def program_74():\n",
    "\timport numpy as np\n",
    "\ttry:\n",
    "\t\tnp_arr = np.zeros((3,), dtype=('i4,f4,a40'))\n",
    "\t\tnp_arr[:] = [(1, 2., b'Albert Einstein'),(2, 2., b'Edmond Halley'),(3, 3., b'Gertrude B. Elion')]\n",
    "\t\tprint(np_arr)\n",
    "\texcept Exception as e:\n",
    "\t\traise e\n",
    "        \n",
    "program_74()"
   ]
  },
  {
   "cell_type": "markdown",
   "metadata": {},
   "source": [
    "### Q75. Write the NumPy program to remove the negative values in the   numpy array with 0?"
   ]
  },
  {
   "cell_type": "markdown",
   "metadata": {},
   "source": [
    "### Ans."
   ]
  },
  {
   "cell_type": "code",
   "execution_count": 76,
   "metadata": {},
   "outputs": [
    {
     "name": "stdout",
     "output_type": "stream",
     "text": [
      "Using np.where(): [0 0 0 2 3 4 5 0]\n",
      "Using np.clip(): [0 0 0 2 3 4 5 0]\n"
     ]
    }
   ],
   "source": [
    "def program_75():\n",
    "\timport numpy as np\n",
    "\tnp_ori_arr = np.array([-1, -4, 0, 2, 3, 4, 5, -6])\n",
    "\t# Two ways to do this:\n",
    "\t# Code that changes negative values with zero based on condition\n",
    "\tresult = np.where(np_ori_arr<0, 0, np_ori_arr) \n",
    "\tprint('Using np.where(): {}'.format(result))\n",
    "\n",
    "\t# code to replace all negative value with 0 \n",
    "\tresult = np.clip(np_ori_arr, 0, 1000) \n",
    "\tprint('Using np.clip(): {}'.format(result))\n",
    "    \n",
    "program_75()"
   ]
  },
  {
   "cell_type": "markdown",
   "metadata": {},
   "source": [
    "### Q76. Write the NumPy program to compute the histogram of a set of data?"
   ]
  },
  {
   "cell_type": "markdown",
   "metadata": {},
   "source": [
    "### Ans."
   ]
  },
  {
   "cell_type": "code",
   "execution_count": 77,
   "metadata": {},
   "outputs": [
    {
     "data": {
      "image/png": "[encoded data removed]",
      "text/plain": [
       "<Figure size 432x288 with 1 Axes>"
      ]
     },
     "metadata": {
      "needs_background": "light"
     },
     "output_type": "display_data"
    }
   ],
   "source": [
    "def program_76():\n",
    "    import numpy as np\n",
    "    import matplotlib.pyplot as plt\n",
    "    %matplotlib inline\n",
    "    plt.hist([1,2,1], bins=[0,1,2,3,4,5])\n",
    "    plt.show()\n",
    "    \n",
    "program_76()"
   ]
  },
  {
   "cell_type": "markdown",
   "metadata": {},
   "source": [
    "### Q77.  Write the NumPy program to compute the line graph of a set of data? "
   ]
  },
  {
   "cell_type": "markdown",
   "metadata": {},
   "source": [
    "### Ans."
   ]
  },
  {
   "cell_type": "code",
   "execution_count": 78,
   "metadata": {},
   "outputs": [
    {
     "name": "stdout",
     "output_type": "stream",
     "text": [
      "[15 30 43 37 31 32  9 34  3  8]\n"
     ]
    },
    {
     "name": "stderr",
     "output_type": "stream",
     "text": [
      "c:\\program files\\python36\\lib\\site-packages\\matplotlib\\figure.py:457: UserWarning: matplotlib is currently using a non-GUI backend, so cannot show the figure\n",
      "  \"matplotlib is currently using a non-GUI backend, \"\n"
     ]
    },
    {
     "data": {
      "image/png": "[encoded data removed]",
      "text/plain": [
       "<Figure size 432x288 with 1 Axes>"
      ]
     },
     "metadata": {
      "needs_background": "light"
     },
     "output_type": "display_data"
    }
   ],
   "source": [
    "def program_77():\n",
    "    import numpy as np    \n",
    "    import matplotlib.pyplot as plt\n",
    "    %matplotlib inline\n",
    "    arr = np.random.randint(1, 50, 10)\n",
    "    print(arr)\n",
    "    y, x = np.histogram(arr, bins=np.arange(51))\n",
    "    fig, ax = plt.subplots()\n",
    "    ax.plot(x[:-1], y)\n",
    "    fig.show()\n",
    "    \n",
    "program_77()"
   ]
  },
  {
   "cell_type": "markdown",
   "metadata": {},
   "source": [
    "### Q78.Write the NumPy program to extracts all the elements from second   row from given (4x4) array? "
   ]
  },
  {
   "cell_type": "markdown",
   "metadata": {},
   "source": [
    "### Ans."
   ]
  },
  {
   "cell_type": "code",
   "execution_count": 79,
   "metadata": {},
   "outputs": [
    {
     "name": "stdout",
     "output_type": "stream",
     "text": [
      "Second Row: [4 5 6 7]\n"
     ]
    }
   ],
   "source": [
    "def program_78():\n",
    "\timport numpy as np\n",
    "\tnp_ori_arr = np.array([[0, 1, 2, 3], [4, 5, 6, 7], [8, 9, 10, 11], [12, 13, 14, 15]])\n",
    "\tprint('Second Row: {}'.format(np_ori_arr[1, :])) \n",
    "    \n",
    "program_78()"
   ]
  },
  {
   "cell_type": "markdown",
   "metadata": {},
   "source": [
    "### Q79. Write the NumPy program to extract first element of the second  row  and fourth element of fourth row from a given (4x4) array? "
   ]
  },
  {
   "cell_type": "markdown",
   "metadata": {},
   "source": [
    "### Ans."
   ]
  },
  {
   "cell_type": "code",
   "execution_count": 80,
   "metadata": {},
   "outputs": [
    {
     "name": "stdout",
     "output_type": "stream",
     "text": [
      "Extracted data- First element of the second row and fourth element of fourth row: [ 4 15]\n"
     ]
    }
   ],
   "source": [
    "def program_79():\n",
    "    import numpy as np\n",
    "    np_ori_arr = np.array([[0, 1, 2, 3], [4, 5, 6, 7], [8, 9, 10, 11], [12, 13, 14, 15]])\n",
    "    print('Extracted data- First element of the second row and fourth element of fourth row: {}'.format(np_ori_arr[[1,3],[0,3]])) # np_ori_arr[[x1,x2],[y1,y2]]\n",
    "    \n",
    "program_79()"
   ]
  },
  {
   "cell_type": "markdown",
   "metadata": {},
   "source": [
    "### Q80.Write the NumPy program to add two arrays A and B of sizes (3,3)   and (,3)? "
   ]
  },
  {
   "cell_type": "markdown",
   "metadata": {},
   "source": [
    "### Ans."
   ]
  },
  {
   "cell_type": "code",
   "execution_count": 81,
   "metadata": {},
   "outputs": [
    {
     "name": "stdout",
     "output_type": "stream",
     "text": [
      "Array1: [[1 1 1]\n",
      " [1 1 1]\n",
      " [1 1 1]]\n",
      "\n",
      "Array2: [0 1 2]\n",
      "\n",
      "Output: [[1 2 3]\n",
      " [1 2 3]\n",
      " [1 2 3]]\n"
     ]
    }
   ],
   "source": [
    "def program_80():\n",
    "    import numpy as np\n",
    "    arr1 = np.ones((3,3), dtype='int')\n",
    "    print('Array1: {}\\n'.format(arr1))\n",
    "    arr2 = np.arange(3, dtype='int')\n",
    "    print('Array2: {}\\n'.format(arr2))\n",
    "\n",
    "    out = arr1 + arr2\n",
    "    print('Output: {}'.format(out))\n",
    "    \n",
    "program_80()"
   ]
  },
  {
   "cell_type": "markdown",
   "metadata": {},
   "source": [
    "### Q81.Write the NumPy program to copy data from a given array to another array?"
   ]
  },
  {
   "cell_type": "markdown",
   "metadata": {},
   "source": [
    "### Ans."
   ]
  },
  {
   "cell_type": "code",
   "execution_count": 82,
   "metadata": {},
   "outputs": [
    {
     "name": "stdout",
     "output_type": "stream",
     "text": [
      "Original Numpy Array: [24 27 30 29 18 14]\n",
      "Copied Numpy Array: [24 27 30 29 18 14]\n"
     ]
    }
   ],
   "source": [
    "def program_81():\n",
    "    import numpy as np\n",
    "    arr1 = np.array([24,27, 30, 29, 18, 14])\n",
    "    print('Original Numpy Array: {}'.format(arr1))\n",
    "    arr2 = np.copy(arr1)\n",
    "    print('Copied Numpy Array: {}'.format(arr2))\n",
    "    \n",
    "program_81()"
   ]
  },
  {
   "cell_type": "markdown",
   "metadata": {},
   "source": [
    "### Q82. Write the NumPy program to calculate the sum of all columns of the 2D numpy array? "
   ]
  },
  {
   "cell_type": "markdown",
   "metadata": {},
   "source": [
    "### Ans."
   ]
  },
  {
   "cell_type": "code",
   "execution_count": 83,
   "metadata": {},
   "outputs": [
    {
     "name": "stdout",
     "output_type": "stream",
     "text": [
      "Original Numpy Array: [[ 0  1  2  3  4  5  6  7  8]\n",
      " [ 9 10 11 12 13 14 15 16 17]\n",
      " [18 19 20 21 22 23 24 25 26]\n",
      " [27 28 29 30 31 32 33 34 35]]\n",
      "\n",
      "Sum of all Columns: [54 58 62 66 70 74 78 82 86]\n"
     ]
    }
   ],
   "source": [
    "def program_82():\n",
    "\timport numpy as np\n",
    "\tarr = np.array([[ 0, 1, 2, 3, 4, 5, 6, 7, 8],\n",
    "\t\t\t\t\t[ 9, 10, 11, 12, 13, 14, 15, 16, 17],\n",
    "\t\t\t\t\t[18, 19, 20, 21, 22, 23, 24, 25, 26],\n",
    "\t\t\t\t\t[27, 28, 29, 30, 31, 32, 33, 34, 35]])\n",
    "\tprint('Original Numpy Array: {}\\n'.format(arr))\n",
    "\tprint('Sum of all Columns: {}'.format(np.sum(arr, axis=0))) # axis = 0 -> column wise addition, 1-> row wise addition\n",
    "    \n",
    "program_82()"
   ]
  },
  {
   "cell_type": "markdown",
   "metadata": {},
   "source": [
    "### Q83. Write the NumPy program to calculate averages without NaNs   along the given array? "
   ]
  },
  {
   "cell_type": "markdown",
   "metadata": {},
   "source": [
    "### Ans."
   ]
  },
  {
   "cell_type": "code",
   "execution_count": 84,
   "metadata": {},
   "outputs": [
    {
     "name": "stdout",
     "output_type": "stream",
     "text": [
      "Original Numpy Array: \n",
      "[[10. 20. 30.]\n",
      " [40. 50. nan]\n",
      " [nan  6. nan]\n",
      " [nan nan nan]]\n",
      "\n",
      "Averages without NaNs along the said array: [20. 45.  6. nan]\n"
     ]
    },
    {
     "name": "stderr",
     "output_type": "stream",
     "text": [
      "c:\\program files\\python36\\lib\\site-packages\\ipykernel_launcher.py:5: RuntimeWarning: Mean of empty slice\n",
      "  \"\"\"\n"
     ]
    }
   ],
   "source": [
    "def program_83():\n",
    "\timport numpy as np\n",
    "\tarr = np.array([[10, 20, 30], [40, 50, np.nan],[np.nan, 6, np.nan],[np.nan, np.nan, np.nan]], dtype='float')\n",
    "\tprint('Original Numpy Array: \\n{}\\n'.format(arr))\n",
    "\tavg = np.nanmean(arr, axis=1)\n",
    "\tprint('Averages without NaNs along the said array: {}'.format(avg))\n",
    "\n",
    "program_83()"
   ]
  },
  {
   "cell_type": "markdown",
   "metadata": {},
   "source": [
    "### Q84. Create two arrays of six elements. Write the NumPy program to   count the number of instances of a value occurring in one array on   the condition of another array"
   ]
  },
  {
   "cell_type": "markdown",
   "metadata": {},
   "source": [
    "### Ans."
   ]
  },
  {
   "cell_type": "code",
   "execution_count": 85,
   "metadata": {},
   "outputs": [
    {
     "name": "stdout",
     "output_type": "stream",
     "text": [
      "Original arrays:\n",
      "[ 10 -10  10 -10 -10  10]\n",
      "[0.85 0.45 0.9  0.8  0.12 0.6 ]\n",
      "\n",
      "Number of instances of a value occurring in one aray on the condition of another array:\n",
      "3\n"
     ]
    }
   ],
   "source": [
    "import numpy as np\n",
    "def program_84():\n",
    "    x = np.array([10,-10,10,-10,-10,10])\n",
    "    y = np.array([.85,.45,.9,.8,.12,.6])\n",
    "    print(\"Original arrays:\")\n",
    "    print(x)\n",
    "    print(y)\n",
    "    result = np.sum((x == 10) & (y > .5))\n",
    "    print(\"\\nNumber of instances of a value occurring in one aray on the condition of another array:\")\n",
    "    print(result)\n",
    "    \n",
    "program_84()"
   ]
  },
  {
   "cell_type": "markdown",
   "metadata": {},
   "source": [
    "### Q85. Write the NumPy program to convert a Python dictionary to a   Numpy ndarray "
   ]
  },
  {
   "cell_type": "markdown",
   "metadata": {},
   "source": [
    "### Ans."
   ]
  },
  {
   "cell_type": "code",
   "execution_count": 86,
   "metadata": {},
   "outputs": [
    {
     "name": "stdout",
     "output_type": "stream",
     "text": [
      "Original Dictionary -\n",
      "{'column0': {'a': 1, 'b': 0.0, 'c': 0.0, 'd': 2.0},\n",
      " 'column1': {'a': 3.0, 'b': 1, 'c': 0.0, 'd': -1.0},\n",
      " 'column2': {'a': 4, 'b': 1, 'c': 5.0, 'd': -1.0},\n",
      " 'column3': {'a': 3.0, 'b': -1.0, 'c': -1.0, 'd': -1.0}}\n",
      "\n",
      "\n",
      "Type: <class 'dict'>\n",
      "ndarray: \n",
      "[[ 1.  0.  0.  2.]\n",
      " [ 3.  1.  0. -1.]\n",
      " [ 4.  1.  5. -1.]\n",
      " [ 3. -1. -1. -1.]]\n"
     ]
    }
   ],
   "source": [
    "def program_85():\n",
    "    import numpy as np\n",
    "    from pprint import pprint\n",
    "    ori_dict = {'column0': {'a': 1, 'b': 0.0, 'c': 0.0, 'd': 2.0}, 'column1': {'a': 3.0, 'b': 1, 'c': 0.0, 'd': -1.0}, 'column2': {'a': 4, 'b': 1, 'c': 5.0, 'd': -1.0}, 'column3': {'a': 3.0, 'b': -1.0, 'c': -1.0, 'd': -1.0}} \n",
    "    print('Original Dictionary -')\n",
    "    pprint(ori_dict)\n",
    "    print('\\n')\n",
    "    print('Type: {}'.format(type(ori_dict)))\n",
    "    val = np.array(list(ori_dict.values())) #, dtype='float')\n",
    "    arr1 = []\n",
    "    for v in val:\n",
    "        arr1.append(np.fromiter(v.values(), dtype='float'))\n",
    "\n",
    "    print('ndarray: \\n{}'.format(np.asarray(arr1)))\n",
    "    \n",
    "program_85()"
   ]
  },
  {
   "cell_type": "markdown",
   "metadata": {},
   "source": [
    "### Q86. Write the Numpy program to find and store the non-zero unique   rows in an array after comparing each row with other row in the   given matrix? "
   ]
  },
  {
   "cell_type": "markdown",
   "metadata": {},
   "source": [
    "### Ans."
   ]
  },
  {
   "cell_type": "code",
   "execution_count": 87,
   "metadata": {},
   "outputs": [
    {
     "name": "stdout",
     "output_type": "stream",
     "text": [
      "Original Array - \n",
      "[[ 1  1  0]\n",
      " [ 0  0  0]\n",
      " [ 0  2  3]\n",
      " [ 0  0  0]\n",
      " [ 0 -1  1]\n",
      " [ 0  0  0]]\n",
      "\n",
      "Non-zero unique rows-\n",
      "[[ 1  1  0]\n",
      " [ 0  2  3]\n",
      " [ 0 -1  1]]\n"
     ]
    }
   ],
   "source": [
    "def program_86():\n",
    "    import numpy as np\n",
    "    arr = np.array([[1, 1, 0], [0, 0, 0], [0, 2, 3], [0, 0, 0],[0, -1, 1], [0, 0, 0]])\n",
    "    print('Original Array - ')\n",
    "    print(arr)\n",
    "    print('\\nNon-zero unique rows-')\n",
    "    print(arr[arr.any(axis=1)])\n",
    "    \n",
    "program_86()"
   ]
  },
  {
   "cell_type": "markdown",
   "metadata": {},
   "source": [
    "### Q87.Write the NumPy program to multiply the matrix by another matrix   of complex numbers and create a new matrix of complex   numbers? "
   ]
  },
  {
   "cell_type": "markdown",
   "metadata": {},
   "source": [
    "### Ans."
   ]
  },
  {
   "cell_type": "code",
   "execution_count": 88,
   "metadata": {},
   "outputs": [
    {
     "name": "stdout",
     "output_type": "stream",
     "text": [
      "First Array-\n",
      "[1.+2.j 3.+4.j]\n",
      "\n",
      "\n",
      "Second Array-\n",
      "[5.+6.j 7.+8.j]\n",
      "\n",
      "Product of above two arrays-\n",
      "(70-8j)\n"
     ]
    }
   ],
   "source": [
    "def program_87():\n",
    "    import numpy as np\n",
    "    cmplx_arr1 = np.array([1+2j, 3+4j])\n",
    "    print('First Array-')\n",
    "    print(cmplx_arr1)\n",
    "    print('\\n')\n",
    "    cmplx_arr2 = np.array([5+6j, 7+8j])\n",
    "    print('Second Array-')\n",
    "    print(cmplx_arr2)\n",
    "    print('\\nProduct of above two arrays-')\n",
    "    print(np.vdot(cmplx_arr1, cmplx_arr2))\n",
    "    \n",
    "program_87()"
   ]
  },
  {
   "cell_type": "markdown",
   "metadata": {},
   "source": [
    "### Q88.Write a NumPy program to generate the matrix product of two   Arrays? "
   ]
  },
  {
   "cell_type": "markdown",
   "metadata": {},
   "source": [
    "### Ans."
   ]
  },
  {
   "cell_type": "code",
   "execution_count": 89,
   "metadata": {},
   "outputs": [
    {
     "name": "stdout",
     "output_type": "stream",
     "text": [
      "x -\n",
      "[[1 0]\n",
      " [1 1]]\n",
      "\n",
      "\n",
      "y -\n",
      "[[3 1]\n",
      " [2 2]]\n",
      "\n",
      "Matrix product of above two arrays- \n",
      "[[3 1]\n",
      " [5 3]]\n"
     ]
    }
   ],
   "source": [
    "def program_88():\n",
    "    import numpy as np\n",
    "    x = np.array([[1,0],[1,1]])\n",
    "    print('x -')\n",
    "    print(x)\n",
    "    print('\\n')\n",
    "    y = np.array([[3,1],[2,2]])\n",
    "    print('y -')\n",
    "    print(y)\n",
    "    print('\\nMatrix product of above two arrays- ')\n",
    "    a = np.matmul(x,y)\n",
    "    print(a)\n",
    "    \n",
    "program_88()"
   ]
  },
  {
   "cell_type": "markdown",
   "metadata": {},
   "source": [
    "### Q89. Write the NumPy program to find roots of the following   Polynomials? "
   ]
  },
  {
   "cell_type": "markdown",
   "metadata": {},
   "source": [
    "### Ans."
   ]
  },
  {
   "cell_type": "code",
   "execution_count": 90,
   "metadata": {},
   "outputs": [
    {
     "name": "stdout",
     "output_type": "stream",
     "text": [
      "[0.28571429+0.24743583j 0.28571429-0.24743583j]\n",
      "[-1.          0.99999998  1.00000002  0.1       ]\n"
     ]
    }
   ],
   "source": [
    "def program_89():\n",
    "    import numpy as np\n",
    "    import numpy.polynomial.polynomial as poly\n",
    "    a = np.poly1d([7,-4,1])\n",
    "    print(np.roots(a))\n",
    "    b = np.poly1d([-10,11,9,-11,1])\n",
    "    print(np.roots(b))\n",
    "    \n",
    "program_89()"
   ]
  },
  {
   "cell_type": "markdown",
   "metadata": {},
   "source": [
    "### Q90. Write the NumPy program to calculate inverse of sine, cosine,  and inverse tangent for all elements in a given array?"
   ]
  },
  {
   "cell_type": "markdown",
   "metadata": {},
   "source": [
    "### Ans."
   ]
  },
  {
   "cell_type": "code",
   "execution_count": 91,
   "metadata": {},
   "outputs": [
    {
     "name": "stdout",
     "output_type": "stream",
     "text": [
      "Inverse sine: [-1.57079633  0.          1.57079633]\n",
      "Inverse cosine: [3.14159265 1.57079633 0.        ]\n",
      "Inverse tangent: [-0.78539816  0.          0.78539816]\n"
     ]
    }
   ],
   "source": [
    "def program_90():\n",
    "    import numpy as np\n",
    "    x = np.array([-1,0,1])\n",
    "    print(\"Inverse sine:\", np.arcsin(x))\n",
    "    print(\"Inverse cosine:\", np.arccos(x))\n",
    "    print(\"Inverse tangent:\", np.arctan(x))\n",
    "    \n",
    "program_90()"
   ]
  },
  {
   "cell_type": "markdown",
   "metadata": {},
   "source": [
    "### Q91.Write the NumPy program to calculate the difference between in   neighbouring elements, element-wise of a given array? "
   ]
  },
  {
   "cell_type": "markdown",
   "metadata": {},
   "source": [
    "### Ans."
   ]
  },
  {
   "cell_type": "code",
   "execution_count": 92,
   "metadata": {},
   "outputs": [
    {
     "name": "stdout",
     "output_type": "stream",
     "text": [
      "Original Array -\n",
      "[1 3 5 7 0] \n",
      "\n",
      "Difference between neighbouring elements, element-wise of the said array- \n",
      "[ 2  2  2 -7]\n"
     ]
    }
   ],
   "source": [
    "def program_91():\n",
    "    import numpy as np\n",
    "    print('Original Array -')\n",
    "    arr = np.array([1,3,5,7,0])\n",
    "    print('{} \\n'.format(arr))\n",
    "    print('Difference between neighbouring elements, element-wise of the said array- ')\n",
    "    print(np.diff(arr))\n",
    "\n",
    "program_91()"
   ]
  },
  {
   "cell_type": "markdown",
   "metadata": {},
   "source": [
    "### Q92. Write the Python program to find the maximum and the minimum   value of a given flattened array? "
   ]
  },
  {
   "cell_type": "markdown",
   "metadata": {},
   "source": [
    "### Ans."
   ]
  },
  {
   "cell_type": "code",
   "execution_count": 93,
   "metadata": {},
   "outputs": [
    {
     "name": "stdout",
     "output_type": "stream",
     "text": [
      "Original flattened array- \n",
      "[[0 1]\n",
      " [2 3]] \n",
      "\n",
      "Maximum value of the above flattened array- \n",
      "3\n",
      "\n",
      "\n",
      "Minimum value of the above flattened array- \n",
      "0\n"
     ]
    }
   ],
   "source": [
    "def program_92():\n",
    "    import numpy as np\n",
    "    print('Original flattened array- ')\n",
    "    arr = np.array([[0,1],[2,3]])\n",
    "    print('{} \\n'.format(arr))\n",
    "    print('Maximum value of the above flattened array- ')\n",
    "    print(np.max(arr))\n",
    "    print('\\n')\n",
    "    print('Minimum value of the above flattened array- ')\n",
    "    print(np.min(arr))\n",
    "\n",
    "program_92()"
   ]
  },
  {
   "cell_type": "markdown",
   "metadata": {},
   "source": [
    "### Q93. Write the NumPy program to calculate the difference between in   the maximum and the minimum values of a given array along the   second axis ? "
   ]
  },
  {
   "cell_type": "markdown",
   "metadata": {},
   "source": [
    "### Ans."
   ]
  },
  {
   "cell_type": "code",
   "execution_count": 94,
   "metadata": {},
   "outputs": [
    {
     "name": "stdout",
     "output_type": "stream",
     "text": [
      "Original flattened array- \n",
      "[[ 0  1  2  3  4  5]\n",
      " [ 6  7  8  9 10 11]] \n",
      "\n",
      "Difference between the maximum and the minimum values of the said array- \n",
      "[5 5]\n"
     ]
    }
   ],
   "source": [
    "def program_93():\n",
    "    import numpy as np\n",
    "    print('Original flattened array- ')\n",
    "    arr = np.array([[0,1,2,3,4,5],[6,7,8,9,10,11]])\n",
    "    print('{} \\n'.format(arr))\n",
    "    print('Difference between the maximum and the minimum values of the said array- ')\n",
    "    print(np.max(arr, axis=1) - np.min(arr, axis=1))\n",
    "    \n",
    "program_93()"
   ]
  },
  {
   "cell_type": "markdown",
   "metadata": {},
   "source": [
    "### Q94. Write the NumPy program to compute the weighted of the given   array ? "
   ]
  },
  {
   "cell_type": "markdown",
   "metadata": {},
   "source": [
    "### Ans."
   ]
  },
  {
   "cell_type": "code",
   "execution_count": 95,
   "metadata": {},
   "outputs": [
    {
     "name": "stdout",
     "output_type": "stream",
     "text": [
      "Original array- \n",
      "[0 1 2 3 4] \n",
      "\n",
      "Weighted average of the said array- \n",
      "2.6666666666666665\n"
     ]
    }
   ],
   "source": [
    "def program_94():\n",
    "    import numpy as np\n",
    "    print('Original array- ')\n",
    "    arr = np.arange(5)\n",
    "    print('{} \\n'.format(arr))\n",
    "    print('Weighted average of the said array- ')\n",
    "    print(np.average(arr, weights=[1,2,3,4,5]))\n",
    "\n",
    "program_94()"
   ]
  },
  {
   "cell_type": "markdown",
   "metadata": {},
   "source": [
    "### Q95.  Write the NumPy program to compute the mean, standard   deviation, and the variance of a given array along the second  axis?   "
   ]
  },
  {
   "cell_type": "markdown",
   "metadata": {},
   "source": [
    "### Ans."
   ]
  },
  {
   "cell_type": "code",
   "execution_count": 96,
   "metadata": {},
   "outputs": [
    {
     "name": "stdout",
     "output_type": "stream",
     "text": [
      "Original array- \n",
      "[0 1 2 3 4 5]\n",
      "Mean - 2.5\n",
      "std - 1.707825127659933\n",
      "variance - 2.9166666666666665\n"
     ]
    }
   ],
   "source": [
    "def program_95():\n",
    "    import numpy as np\n",
    "    print('Original array- ')\n",
    "    arr = np.arange(6)\n",
    "    print(arr)\n",
    "    \n",
    "    print('Mean - {}'.format(np.mean(arr)))\n",
    "    print('std - {}'.format(np.std(arr)))\n",
    "    print('variance - {}'.format(np.var(arr)))\n",
    "    \n",
    "program_95()"
   ]
  },
  {
   "cell_type": "markdown",
   "metadata": {},
   "source": [
    "### Q96. Write the Numpy program to compute the covariance matrix of the   two given arrays? "
   ]
  },
  {
   "cell_type": "markdown",
   "metadata": {},
   "source": [
    "### Ans."
   ]
  },
  {
   "cell_type": "code",
   "execution_count": 97,
   "metadata": {},
   "outputs": [
    {
     "name": "stdout",
     "output_type": "stream",
     "text": [
      "Original array1- \n",
      "[0 1 2]\n",
      "Original array2- \n",
      "[2 1 0]\n",
      "Covariance matrix of the said arrays- \n",
      "[[ 1. -1.]\n",
      " [-1.  1.]]\n"
     ]
    }
   ],
   "source": [
    "def program_96():\n",
    "    import numpy as np\n",
    "    print('Original array1- ')\n",
    "    arr1 = np.arange(3)\n",
    "    print(arr1)\n",
    "\n",
    "    print('Original array2- ')\n",
    "    arr2 = np.array([2,1,0])\n",
    "    print(arr2)\n",
    "    print('Covariance matrix of the said arrays- ')\n",
    "    print(np.cov(arr1, arr2))\n",
    "    \n",
    "program_96()"
   ]
  },
  {
   "cell_type": "markdown",
   "metadata": {},
   "source": [
    "### Q97. Write a NumPy program to compute the cross-correlation of two   given arrays ? "
   ]
  },
  {
   "cell_type": "markdown",
   "metadata": {},
   "source": [
    "### Ans."
   ]
  },
  {
   "cell_type": "code",
   "execution_count": 98,
   "metadata": {},
   "outputs": [
    {
     "name": "stdout",
     "output_type": "stream",
     "text": [
      "Original array1- \n",
      "[0 1 3]\n",
      "Original array2- \n",
      "[2 4 5]\n",
      "Cross-correlation of the said arrays- \n",
      "[[2.33333333 2.16666667]\n",
      " [2.16666667 2.33333333]]\n",
      "[19]\n"
     ]
    }
   ],
   "source": [
    "# @TODO: Please verify whether to calculate covariance or correlation?\n",
    "def program_97():\n",
    "    import numpy as np\n",
    "    print('Original array1- ')\n",
    "    arr1 = np.array([0,1,3])\n",
    "    print(arr1)\n",
    "\n",
    "    print('Original array2- ')\n",
    "    arr2 = np.array([2,4,5])\n",
    "    print(arr2)\n",
    "    print('Cross-correlation of the said arrays- ')\n",
    "    \n",
    "    print(np.cov(arr1,arr2))\n",
    "    print(np.correlate(arr1,arr2))\n",
    "    \n",
    "program_97()"
   ]
  },
  {
   "cell_type": "markdown",
   "metadata": {},
   "source": [
    "### Q98. Write the NumPy program to compute Pearson product-moment   correlation coefficients of two given arrays? "
   ]
  },
  {
   "cell_type": "markdown",
   "metadata": {},
   "source": [
    "### Ans."
   ]
  },
  {
   "cell_type": "code",
   "execution_count": 99,
   "metadata": {},
   "outputs": [
    {
     "name": "stdout",
     "output_type": "stream",
     "text": [
      "Original array1- \n",
      "[0 1 3]\n",
      "Original array2- \n",
      "[2 4 5]\n",
      "Pearson product-moment correlation coefficients of the said arrays- \n",
      "[[1.         0.92857143]\n",
      " [0.92857143 1.        ]]\n"
     ]
    }
   ],
   "source": [
    "def program_98():\n",
    "    import numpy as np\n",
    "\n",
    "    print('Original array1- ')\n",
    "    arr1 = np.array([0,1,3])\n",
    "    print(arr1)\n",
    "\n",
    "    print('Original array2- ')\n",
    "    arr2 = np.array([2,4,5])\n",
    "    print(arr2)\n",
    "    print('Pearson product-moment correlation coefficients of the said arrays- ')\n",
    "    \n",
    "    print(np.corrcoef(arr1, arr2))\n",
    "    \n",
    "program_98()"
   ]
  },
  {
   "cell_type": "markdown",
   "metadata": {},
   "source": [
    "### Q99. Write the python program to count the number of occurrences of   each value in a given array of non-negative integers? \n",
    " Note: bincount() Function- It  count the occurrence of each value in an array of the \n",
    " non- negative integers in the range of the array between the minimum and maximum values         including the values that did not occur. "
   ]
  },
  {
   "cell_type": "code",
   "execution_count": 100,
   "metadata": {},
   "outputs": [
    {
     "name": "stdout",
     "output_type": "stream",
     "text": [
      "Original array- \n",
      "[0 1 6 1 4 1 2 2 7]\n",
      "Number of occurrences of each value in array- \n",
      "[1 3 2 0 1 0 1 1]\n"
     ]
    }
   ],
   "source": [
    "def program_99():\n",
    "    import numpy as np\n",
    "    \n",
    "    print('Original array- ')\n",
    "    arr = np.array([0, 1, 6, 1, 4, 1, 2, 2, 7])\n",
    "    print(arr)\n",
    "\n",
    "    print('Number of occurrences of each value in array- ')\n",
    "    print(np.bincount(arr))\n",
    "    \n",
    "program_99()"
   ]
  },
  {
   "cell_type": "markdown",
   "metadata": {},
   "source": [
    "### Q100. Write a Numpy program to compute the histogram of nums   against the bins? "
   ]
  },
  {
   "cell_type": "markdown",
   "metadata": {},
   "source": [
    "### Ans."
   ]
  },
  {
   "cell_type": "code",
   "execution_count": 101,
   "metadata": {},
   "outputs": [
    {
     "data": {
      "image/png": "[encoded data removed]",
      "text/plain": [
       "<Figure size 432x288 with 1 Axes>"
      ]
     },
     "metadata": {
      "needs_background": "light"
     },
     "output_type": "display_data"
    }
   ],
   "source": [
    "def program_100():\n",
    "    import matplotlib.pyplot as plt\n",
    "    %matplotlib inline\n",
    "    plt.hist([0.5, 0.7, 1,1.2,1.3,2.1], bins=[0,1,2,3])\n",
    "    plt.plot()\n",
    "    plt.show()\n",
    "    \n",
    "program_100()"
   ]
  },
  {
   "cell_type": "markdown",
   "metadata": {},
   "source": [
    "### Q101. Write the Python program to add, subtract, multiply and divide   two pandas series ? "
   ]
  },
  {
   "cell_type": "markdown",
   "metadata": {},
   "source": [
    "### Ans."
   ]
  },
  {
   "cell_type": "code",
   "execution_count": 102,
   "metadata": {},
   "outputs": [
    {
     "name": "stdout",
     "output_type": "stream",
     "text": [
      "Addition:     0\n",
      "0   3\n",
      "1   7\n",
      "2  11\n",
      "3  15\n",
      "4  19\n",
      "Substract:    0\n",
      "0  1\n",
      "1  1\n",
      "2  1\n",
      "3  1\n",
      "4  1\n",
      "Multiply:     0\n",
      "0   2\n",
      "1  12\n",
      "2  30\n",
      "3  56\n",
      "4  90\n",
      "Division:           0\n",
      "0  2.000000\n",
      "1  1.333333\n",
      "2  1.200000\n",
      "3  1.142857\n",
      "4  1.111111\n"
     ]
    }
   ],
   "source": [
    "def program_101():\n",
    "    import pandas as pd\n",
    "    df1 = pd.DataFrame([2,4,6,8,10])\n",
    "    df2 = pd.DataFrame([1,3,5,7,9])\n",
    "    print('Addition: {}'.format(df1.add(df2)))\n",
    "    print('Substract: {}'.format(df1.sub(df2)))\n",
    "    print('Multiply: {}'.format(df1.mul(df2)))\n",
    "    print('Division: {}'.format(df1.div(df2)))\n",
    "    \n",
    "program_101()"
   ]
  },
  {
   "cell_type": "markdown",
   "metadata": {},
   "source": [
    "### Q102.Write a Python program to convert a dictionary to the Pandas Series? "
   ]
  },
  {
   "cell_type": "markdown",
   "metadata": {},
   "source": [
    "### Ans."
   ]
  },
  {
   "cell_type": "code",
   "execution_count": 103,
   "metadata": {},
   "outputs": [
    {
     "name": "stdout",
     "output_type": "stream",
     "text": [
      "Original Dictionary-\n",
      "{'a': 100, 'b': 200, 'c': 300, 'd': 400, 'e': 800}\n",
      "Converted series -\n",
      "a    100\n",
      "b    200\n",
      "c    300\n",
      "d    400\n",
      "e    800\n",
      "dtype: int64\n"
     ]
    }
   ],
   "source": [
    "def program_102():\n",
    "    import pandas as pd\n",
    "    print('Original Dictionary-')\n",
    "    d = {'a': 100, 'b': 200, 'c': 300, 'd': 400, 'e': 800}\n",
    "    print(d)\n",
    "    df = pd.Series(d)\n",
    "    print('Converted series -')\n",
    "    print(df)\n",
    "    \n",
    "program_102()"
   ]
  },
  {
   "cell_type": "markdown",
   "metadata": {},
   "source": [
    "### Q103. Write a python program to change the data type of given a column or a Series? "
   ]
  },
  {
   "cell_type": "markdown",
   "metadata": {},
   "source": [
    "### Ans."
   ]
  },
  {
   "cell_type": "code",
   "execution_count": 104,
   "metadata": {},
   "outputs": [
    {
     "name": "stdout",
     "output_type": "stream",
     "text": [
      "Original Data Series-\n",
      "0       100\n",
      "1       200\n",
      "2    python\n",
      "3    300.12\n",
      "4       400\n",
      "dtype: object\n",
      "\n",
      "\n",
      "Change the said data type to numeric- \n",
      "0    100.00\n",
      "1    200.00\n",
      "2       NaN\n",
      "3    300.12\n",
      "4    400.00\n",
      "dtype: float64\n"
     ]
    }
   ],
   "source": [
    "def program_103():\n",
    "    import pandas as pd\n",
    "    series = pd.Series((100, 200, 'python', 300.12, 400)) #, dtype='object')\n",
    "    print('Original Data Series-')\n",
    "    print(series)\n",
    "    print('\\n')\n",
    "    print('Change the said data type to numeric- ')\n",
    "    s1 = pd.to_numeric(series, errors='coerce')\n",
    "    print(s1)\n",
    "    \n",
    "program_103()"
   ]
  },
  {
   "cell_type": "markdown",
   "metadata": {},
   "source": [
    "### Q104. Write the python pandas program to convert the first column of a   DataFrame as a Series?"
   ]
  },
  {
   "cell_type": "markdown",
   "metadata": {},
   "source": [
    "### Ans."
   ]
  },
  {
   "cell_type": "code",
   "execution_count": 105,
   "metadata": {},
   "outputs": [
    {
     "name": "stdout",
     "output_type": "stream",
     "text": [
      "Original DataFrame- \n",
      "   col1  col2  col3\n",
      "0     1     4     7\n",
      "1     2     5     5\n",
      "2     3     6     8\n",
      "3     4     9    12\n",
      "4     7     5     1\n",
      "5    11     0    11\n",
      "\n",
      "\n",
      "1st column as a Series-\n",
      "0     1\n",
      "1     2\n",
      "2     3\n",
      "3     4\n",
      "4     7\n",
      "5    11\n",
      "Name: col1, dtype: int32\n",
      "<class 'pandas.core.series.Series'>\n"
     ]
    }
   ],
   "source": [
    "def program_104():\n",
    "    import pandas as pd\n",
    "    import numpy as np\n",
    "    print('Original DataFrame- ')\n",
    "    arr = np.array([[1,4,7],[2,5,5],[3,6,8],[4,9,12],[7,5,1],[11,0,11]]) #, columns=['col1','col2','col3'])\n",
    "    df = pd.DataFrame(arr,columns=['col1','col2','col3'])\n",
    "    print(df)\n",
    "    print('\\n')\n",
    "    print('1st column as a Series-')\n",
    "    series = df['col1']\n",
    "    print(series)\n",
    "    print(type(series))\n",
    "    \n",
    "program_104()"
   ]
  },
  {
   "cell_type": "markdown",
   "metadata": {},
   "source": [
    "### Q105. Write a pandas program to create the mean and standard   deviation of the data of a given Series? "
   ]
  },
  {
   "cell_type": "markdown",
   "metadata": {},
   "source": [
    "### Ans."
   ]
  },
  {
   "cell_type": "code",
   "execution_count": 106,
   "metadata": {},
   "outputs": [
    {
     "name": "stdout",
     "output_type": "stream",
     "text": [
      "Original Data Series- \n",
      "0     1\n",
      "1     2\n",
      "2     3\n",
      "3     4\n",
      "4     5\n",
      "5     6\n",
      "6     7\n",
      "7     8\n",
      "8     9\n",
      "9     5\n",
      "10    3\n",
      "dtype: int64\n",
      "Mean of the said Data Series- \n",
      "4.818181818181818\n",
      "Standard deviation of the said Data Series- \n",
      "2.522624895547565\n"
     ]
    }
   ],
   "source": [
    "def program_105():\n",
    "    import pandas as pd\n",
    "    import numpy as np\n",
    "    print('Original Data Series- ')\n",
    "    arr = np.array([1,2,3,4,5,6,7,8,9,5,3], dtype='int64')\n",
    "    series = pd.Series(arr)\n",
    "    print(series)\n",
    "    print('Mean of the said Data Series- ')\n",
    "    print(series.mean())\n",
    "    print('Standard deviation of the said Data Series- ')\n",
    "    print(series.std())\n",
    "    \n",
    "program_105()"
   ]
  },
  {
   "cell_type": "markdown",
   "metadata": {},
   "source": [
    "### Q106. Write a pandas program to get powers of an array values   element-wise? \n",
    "Note First array elements raised the powers from the second array."
   ]
  },
  {
   "cell_type": "markdown",
   "metadata": {},
   "source": [
    "### Ans."
   ]
  },
  {
   "cell_type": "code",
   "execution_count": 107,
   "metadata": {},
   "outputs": [
    {
     "name": "stdout",
     "output_type": "stream",
     "text": [
      "    X   Y   Z\n",
      "0  78  84  86\n",
      "1  85  94  97\n",
      "2  96  89  96\n",
      "3  80  83  72\n",
      "4  86  86  83\n"
     ]
    }
   ],
   "source": [
    "import pandas as pd\n",
    "df = pd.DataFrame({'X':[78,85,96,80,86], 'Y':[84,94,89,83,86],'Z':[86,97,96,72,83]});\n",
    "print(df)"
   ]
  },
  {
   "cell_type": "markdown",
   "metadata": {},
   "source": [
    "### Q107. Write the pandas program to get the first 3 rows of a given   DataFrame? \n",
    "\n",
    "Sample Python dictionary data and list labels: \n",
    "exam_data = {'name': ['Anastasia', 'Dima', 'Katherine', 'James', 'Emily', 'Michael', 'Matthew', 'Laura', 'Kevin', 'Jonas'], 'score': [12.5, 9, 16.5, np.nan, 9, 20, 14.5, np.nan, 8, 19], 'attempts'- [1, 3, 2, 3, 2, 3, 1, 1, 2, 1], 'qualify'- [ 'yes', 'no', 'yes' , 'no', ' no ', ' yes ', 'yes', 'no',  'no',  'yes' ] } labels = ['a', 'b', 'c', 'd', 'e', 'f', 'g', 'h', 'i', 'j' ] "
   ]
  },
  {
   "cell_type": "markdown",
   "metadata": {},
   "source": [
    "### Ans."
   ]
  },
  {
   "cell_type": "code",
   "execution_count": 108,
   "metadata": {},
   "outputs": [
    {
     "name": "stdout",
     "output_type": "stream",
     "text": [
      "        name  score  attempts qualify\n",
      "a  Anastasia   12.5         1     yes\n",
      "b       Dima    9.0         3      no\n",
      "c  Katherine   16.5         2     yes\n"
     ]
    }
   ],
   "source": [
    "import pandas as pd\n",
    "exam_data = {'name': ['Anastasia', 'Dima', 'Katherine', 'James', 'Emily', 'Michael', 'Matthew', 'Laura', 'Kevin', 'Jonas'], 'score': [12.5, 9, 16.5, np.nan, 9, 20, 14.5, np.nan, 8, 19], 'attempts':[1, 3, 2, 3, 2, 3, 1, 1, 2, 1], 'qualify':[ 'yes', 'no', 'yes' , 'no', ' no ', ' yes ', 'yes', 'no', 'no', 'yes' ] }\n",
    "labels = ['a', 'b', 'c', 'd', 'e', 'f', 'g', 'h', 'i', 'j' ] \n",
    "df= pd.DataFrame(exam_data, index=labels)\n",
    "print(df.iloc[0:3])"
   ]
  },
  {
   "cell_type": "markdown",
   "metadata": {},
   "source": [
    "### Q108:  Write the pandas program to select the specified columns and      the rows from a given data frame?"
   ]
  },
  {
   "cell_type": "markdown",
   "metadata": {},
   "source": [
    "### Ans."
   ]
  },
  {
   "cell_type": "code",
   "execution_count": 109,
   "metadata": {},
   "outputs": [
    {
     "name": "stdout",
     "output_type": "stream",
     "text": [
      "Select Specific columns and rows: \n",
      "      name  score\n",
      "b     Dima    9.0\n",
      "d    James    NaN\n",
      "f  Michael   20.0\n",
      "g  Matthew   14.5\n"
     ]
    }
   ],
   "source": [
    "import pandas as pd\n",
    "exam_data = {'name': ['Anastasia', 'Dima', 'Katherine', 'James', 'Emily', 'Michael', 'Matthew', 'Laura', 'Kevin', 'Jonas'], 'score': [12.5, 9, 16.5, np.nan, 9, 20, 14.5, np.nan, 8, 19], 'attempts':[1, 3, 2, 3, 2, 3, 1, 1, 2, 1], 'qualify':[ 'yes', 'no', 'yes' , 'no', ' no ', ' yes ', 'yes', 'no', 'no', 'yes' ] }\n",
    "labels = ['a', 'b', 'c', 'd', 'e', 'f', 'g', 'h', 'i', 'j' ] \n",
    "df= pd.DataFrame(exam_data, index=labels)\n",
    "print('Select Specific columns and rows: ')\n",
    "print(df.loc[['b','d','f','g'],['name', 'score']])"
   ]
  },
  {
   "cell_type": "markdown",
   "metadata": {},
   "source": [
    " ### Q109. Write the pandas program to calculate mean score for each   different student in DataFrame?"
   ]
  },
  {
   "cell_type": "markdown",
   "metadata": {},
   "source": [
    "### Ans."
   ]
  },
  {
   "cell_type": "code",
   "execution_count": 110,
   "metadata": {},
   "outputs": [
    {
     "name": "stdout",
     "output_type": "stream",
     "text": [
      "Mean score for each different student in data frame:\n",
      "13.5625\n"
     ]
    }
   ],
   "source": [
    "import pandas as pd\n",
    "exam_data = {'name': ['Anastasia', 'Dima', 'Katherine', 'James', 'Emily', 'Michael', 'Matthew', 'Laura', 'Kevin', 'Jonas'], 'score': [12.5, 9, 16.5, np.nan, 9, 20, 14.5, np.nan, 8, 19], 'attempts':[1, 3, 2, 3, 2, 3, 1, 1, 2, 1], 'qualify':[ 'yes', 'no', 'yes' , 'no', ' no ', ' yes ', 'yes', 'no', 'no', 'yes' ] }\n",
    "labels = ['a', 'b', 'c', 'd', 'e', 'f', 'g', 'h', 'i', 'j' ] \n",
    "df= pd.DataFrame(exam_data, index=labels)\n",
    "print('Mean score for each different student in data frame:')\n",
    "print(df['score'].mean())"
   ]
  },
  {
   "cell_type": "markdown",
   "metadata": {},
   "source": [
    "### Q110. Write the Pandas program to rename columns of a given   DataFrame ?"
   ]
  },
  {
   "cell_type": "markdown",
   "metadata": {},
   "source": [
    "### Ans."
   ]
  },
  {
   "cell_type": "code",
   "execution_count": 111,
   "metadata": {},
   "outputs": [
    {
     "name": "stdout",
     "output_type": "stream",
     "text": [
      "Original data frame:\n",
      "   col1  col2  col3\n",
      "0     1     4     7\n",
      "1     2     5     8\n",
      "2     3     6     9\n",
      "New data frame after renaming columns: \n",
      "   Column1  Column2  Column3\n",
      "0        1        4        7\n",
      "1        2        5        8\n",
      "2        3        6        9\n"
     ]
    }
   ],
   "source": [
    "import pandas as pd\n",
    "df = pd.DataFrame([[1,4,7],[2,5,8],[3,6,9]], columns=['col1','col2','col3'])\n",
    "print('Original data frame:')\n",
    "print(df)\n",
    "print('New data frame after renaming columns: ')\n",
    "#df.rename(columns=['Column1', 'Column2', 'Column3'])\n",
    "print(df.rename(columns={'col1':'Column1', 'col2':'Column2', 'col3':'Column3'}))"
   ]
  },
  {
   "cell_type": "markdown",
   "metadata": {},
   "source": [
    "### Q111. Write a pandas program to count city-wise number of people from   a given of data set (city, name of the person)?"
   ]
  },
  {
   "cell_type": "markdown",
   "metadata": {},
   "source": [
    "### Ans."
   ]
  },
  {
   "cell_type": "code",
   "execution_count": 112,
   "metadata": {},
   "outputs": [
    {
     "name": "stdout",
     "output_type": "stream",
     "text": [
      "          city  Number of people\n",
      "0   California                 4\n",
      "1      Georgia                 2\n",
      "2  Los Angeles                 4\n"
     ]
    }
   ],
   "source": [
    "import pandas as pd\n",
    "df = pd.DataFrame({'name': ['Anastasia', 'Dima', 'Katherine', 'James', 'Emily', 'Michael', 'Matthew', 'Laura', 'Kevin', 'Jonas'],\n",
    "'city': ['California', 'Los Angeles', 'California', 'California', 'California', 'Los Angeles', 'Los Angeles', 'Georgia', 'Georgia', 'Los Angeles']})\n",
    "\n",
    "print(df.groupby([\"city\"]).size().reset_index(name='Number of people'))\n"
   ]
  },
  {
   "cell_type": "markdown",
   "metadata": {},
   "source": [
    "### Q112. Write a pandas program to widen output display to see more   columns?"
   ]
  },
  {
   "cell_type": "markdown",
   "metadata": {},
   "source": [
    "### Ans."
   ]
  },
  {
   "cell_type": "code",
   "execution_count": 113,
   "metadata": {},
   "outputs": [
    {
     "name": "stdout",
     "output_type": "stream",
     "text": [
      "Original DataFrame\n",
      "   col1  col2  col3\n",
      "0     1     4     7\n",
      "1     4     5     8\n",
      "2     3     6     9\n",
      "3     4     7     0\n",
      "4     5     8     1\n"
     ]
    }
   ],
   "source": [
    "import pandas as pd\n",
    "import numpy as np\n",
    "d = {'col1': [1, 4, 3, 4, 5], 'col2': [4, 5, 6, 7, 8], 'col3': [7, 8, 9, 0, 1]}\n",
    "df = pd.DataFrame(data=d)\n",
    "pd.set_option('display.max_rows', 500)\n",
    "pd.set_option('display.max_columns', 500)\n",
    "pd.set_option('display.width', 1000)\n",
    "print(\"Original DataFrame\")\n",
    "print(df)"
   ]
  },
  {
   "cell_type": "markdown",
   "metadata": {},
   "source": [
    "### Q113. Write a pandas program to convert the data frame column type   from string to DateTime?\n",
    "\n",
    "Sample data- \n",
    "String Date- \n",
    "0 3/11/2000 \n",
    "1 3/12/2000 \n",
    "2 3/13/2000 \n",
    "dtype- object "
   ]
  },
  {
   "cell_type": "markdown",
   "metadata": {},
   "source": [
    "### Ans."
   ]
  },
  {
   "cell_type": "code",
   "execution_count": 114,
   "metadata": {},
   "outputs": [
    {
     "name": "stdout",
     "output_type": "stream",
     "text": [
      "String Date:\n",
      "0    3/11/2000\n",
      "1    3/12/2000\n",
      "2    3/13/2000\n",
      "dtype: object\n",
      "Original DataFrame (string to datetime):\n",
      "           0\n",
      "0 2000-03-11\n",
      "1 2000-03-12\n",
      "2 2000-03-13\n"
     ]
    }
   ],
   "source": [
    "import pandas as pd\n",
    "import numpy as np\n",
    "s = pd.Series(['3/11/2000', '3/12/2000', '3/13/2000'])\n",
    "print(\"String Date:\")\n",
    "print(s)\n",
    "r = pd.to_datetime(pd.Series(s))\n",
    "df = pd.DataFrame(r)\n",
    "print(\"Original DataFrame (string to datetime):\")\n",
    "print(df)"
   ]
  },
  {
   "cell_type": "markdown",
   "metadata": {},
   "source": [
    "### Q114. Write a pandas program to append the data to an empty   DataFrame?"
   ]
  },
  {
   "cell_type": "markdown",
   "metadata": {},
   "source": [
    "### Ans."
   ]
  },
  {
   "cell_type": "code",
   "execution_count": 115,
   "metadata": {},
   "outputs": [
    {
     "name": "stdout",
     "output_type": "stream",
     "text": [
      "After appending data:\n",
      "   col1  col2\n",
      "0     0     0\n",
      "1     1     1\n",
      "2     2     2\n"
     ]
    }
   ],
   "source": [
    "import pandas as pd\n",
    "import numpy as np\n",
    "df = pd.DataFrame()\n",
    "data = pd.DataFrame({\"col1\": range(3),\"col2\": range(3)})\n",
    "print(\"After appending data:\")\n",
    "df = df.append(data)\n",
    "print(df)"
   ]
  },
  {
   "cell_type": "markdown",
   "metadata": {},
   "source": [
    "### Q115. Write a pandas program to count the  number of columns of a   DataFrame? "
   ]
  },
  {
   "cell_type": "markdown",
   "metadata": {},
   "source": [
    "### Ans."
   ]
  },
  {
   "cell_type": "code",
   "execution_count": 116,
   "metadata": {},
   "outputs": [
    {
     "name": "stdout",
     "output_type": "stream",
     "text": [
      "Original DataFrame\n",
      "   col1  col2  col3\n",
      "0     1     4     7\n",
      "1     2     5     8\n",
      "2     3     6    12\n",
      "3     4     9     1\n",
      "4     7     5    11\n",
      "\n",
      "Number of columns:\n",
      "3\n"
     ]
    }
   ],
   "source": [
    "import pandas as pd\n",
    "d = {'col1': [1, 2, 3, 4, 7], 'col2': [4, 5, 6, 9, 5], 'col3': [7, 8, 12, 1, 11]}\n",
    "df = pd.DataFrame(data=d)\n",
    "print(\"Original DataFrame\")\n",
    "print(df)\n",
    "print(\"\\nNumber of columns:\")\n",
    "print(len(df.columns))"
   ]
  },
  {
   "cell_type": "markdown",
   "metadata": {},
   "source": [
    "### Q116. Write a Pandas program to remove the last n rows of a given   DataFrame ? "
   ]
  },
  {
   "cell_type": "markdown",
   "metadata": {},
   "source": [
    "### Ans."
   ]
  },
  {
   "cell_type": "code",
   "execution_count": 117,
   "metadata": {},
   "outputs": [
    {
     "name": "stdout",
     "output_type": "stream",
     "text": [
      "Original DataFrame\n",
      "   col1  col2  col3\n",
      "0     1     4     7\n",
      "1     2     5     5\n",
      "2     3     6     8\n",
      "3     4     9    12\n",
      "4     7     5     1\n",
      "5    11     0    11\n",
      "\n",
      "After removing last 3 rows, DataFrame:\n",
      "   col1  col2  col3\n",
      "0     1     4     7\n",
      "1     2     5     5\n",
      "2     3     6     8\n"
     ]
    }
   ],
   "source": [
    "import pandas as pd\n",
    "d = {'col1': [1, 2, 3, 4, 7, 11], 'col2': [4, 5, 6, 9, 5, 0], 'col3': [7, 5, 8, 12, 1,11]}\n",
    "df = pd.DataFrame(data=d)\n",
    "print(\"Original DataFrame\")\n",
    "print(df)\n",
    "print(\"\\nAfter removing last 3 rows, DataFrame:\")\n",
    "df1 = df.iloc[:3]\n",
    "print(df1)"
   ]
  },
  {
   "cell_type": "code",
   "execution_count": null,
   "metadata": {},
   "outputs": [],
   "source": []
  },
  {
   "cell_type": "markdown",
   "metadata": {},
   "source": [
    "### Q117. Write a Pandas program to import excel data (coalpublic2013.xlsx) into a Pandas data frame"
   ]
  },
  {
   "cell_type": "markdown",
   "metadata": {},
   "source": [
    "### Ans."
   ]
  },
  {
   "cell_type": "code",
   "execution_count": 118,
   "metadata": {},
   "outputs": [
    {
     "data": {
      "text/html": [
       "<div>\n",
       "<style scoped>\n",
       "    .dataframe tbody tr th:only-of-type {\n",
       "        vertical-align: middle;\n",
       "    }\n",
       "\n",
       "    .dataframe tbody tr th {\n",
       "        vertical-align: top;\n",
       "    }\n",
       "\n",
       "    .dataframe thead th {\n",
       "        text-align: right;\n",
       "    }\n",
       "</style>\n",
       "<table border=\"1\" class=\"dataframe\">\n",
       "  <thead>\n",
       "    <tr style=\"text-align: right;\">\n",
       "      <th></th>\n",
       "      <th>Year</th>\n",
       "      <th>MSHA ID</th>\n",
       "      <th>Mine_Name</th>\n",
       "      <th>Production</th>\n",
       "      <th>Labor_Hours</th>\n",
       "    </tr>\n",
       "  </thead>\n",
       "  <tbody>\n",
       "    <tr>\n",
       "      <th>0</th>\n",
       "      <td>2013</td>\n",
       "      <td>103381</td>\n",
       "      <td>Tacoa Highwall Miner</td>\n",
       "      <td>56004</td>\n",
       "      <td>22392</td>\n",
       "    </tr>\n",
       "    <tr>\n",
       "      <th>1</th>\n",
       "      <td>2013</td>\n",
       "      <td>103404</td>\n",
       "      <td>Reid School Mine</td>\n",
       "      <td>28807</td>\n",
       "      <td>28447</td>\n",
       "    </tr>\n",
       "    <tr>\n",
       "      <th>2</th>\n",
       "      <td>2013</td>\n",
       "      <td>100759</td>\n",
       "      <td>North River #1 Underground Min</td>\n",
       "      <td>1440115</td>\n",
       "      <td>474784</td>\n",
       "    </tr>\n",
       "    <tr>\n",
       "      <th>3</th>\n",
       "      <td>2013</td>\n",
       "      <td>103246</td>\n",
       "      <td>Bear Creek</td>\n",
       "      <td>87587</td>\n",
       "      <td>29193</td>\n",
       "    </tr>\n",
       "    <tr>\n",
       "      <th>4</th>\n",
       "      <td>2013</td>\n",
       "      <td>103451</td>\n",
       "      <td>Knight Mine</td>\n",
       "      <td>147499</td>\n",
       "      <td>46393</td>\n",
       "    </tr>\n",
       "  </tbody>\n",
       "</table>\n",
       "</div>"
      ],
      "text/plain": [
       "   Year  MSHA ID                       Mine_Name  Production  Labor_Hours\n",
       "0  2013   103381            Tacoa Highwall Miner       56004        22392\n",
       "1  2013   103404                Reid School Mine       28807        28447\n",
       "2  2013   100759  North River #1 Underground Min     1440115       474784\n",
       "3  2013   103246                      Bear Creek       87587        29193\n",
       "4  2013   103451                     Knight Mine      147499        46393"
      ]
     },
     "execution_count": 118,
     "metadata": {},
     "output_type": "execute_result"
    }
   ],
   "source": [
    "import pandas as pd\n",
    "\n",
    "df = pd.read_excel('coalpublic2013.xlsx')\n",
    "df.head()"
   ]
  },
  {
   "cell_type": "markdown",
   "metadata": {},
   "source": [
    "### Q118. Write a Pandas program to import excel data (coalpublic2013.xlsx) into a data frame and find details where \"Mine Name\" starts with \"P\". "
   ]
  },
  {
   "cell_type": "markdown",
   "metadata": {},
   "source": [
    "### Ans."
   ]
  },
  {
   "cell_type": "code",
   "execution_count": 119,
   "metadata": {},
   "outputs": [
    {
     "name": "stdout",
     "output_type": "stream",
     "text": [
      "    Year  MSHA ID                      Mine_Name  Production  Labor_Hours\n",
      "13  2013   103332                  Powhatan Mine      140521        61394\n",
      "18  2013   102976  Piney Woods Preparation Plant           0        14828\n",
      "19  2013   102976  Piney Woods Preparation Plant           0        23193\n",
      "46  2013   103321                 Poplar Springs      189370        76366\n"
     ]
    }
   ],
   "source": [
    "import pandas as pd\n",
    "\n",
    "def program_118():\n",
    "    df = pd.read_excel('coalpublic2013.xlsx')\n",
    "    v = df['Mine_Name'].str.startswith('P', na=False)\n",
    "    print(df[v])\n",
    "    \n",
    "program_118()"
   ]
  },
  {
   "cell_type": "markdown",
   "metadata": {},
   "source": [
    "### Q119. Write a Pandas program to import excel data (employee.xlsx) into a Pandas dataframe and find the list of employees where hire_date> 01-01-07"
   ]
  },
  {
   "cell_type": "markdown",
   "metadata": {},
   "source": [
    "### Ans."
   ]
  },
  {
   "cell_type": "code",
   "execution_count": 120,
   "metadata": {},
   "outputs": [
    {
     "name": "stdout",
     "output_type": "stream",
     "text": [
      "    emp_id   first_name   last_name  hire_date\n",
      "0      100       Steven        King 2003-06-17\n",
      "1      101        Neena     Kochhar 2005-09-21\n",
      "2      102          Lex     De Haan 2001-01-13\n",
      "3      103    Alexander      Hunold 2006-01-03\n",
      "4      104        Bruce       Ernst 2007-05-21\n",
      "5      105        David      Austin 2005-06-25\n",
      "6      106        Valli   Pataballa 2006-02-05\n",
      "7      107        Diana     Lorentz 2007-02-07\n",
      "8      108        Nancy   Greenberg 2002-08-17\n",
      "9      109       Daniel      Faviet 2002-08-16\n",
      "10     110         John        Chen 2005-09-28\n",
      "11     111       Ismael     Sciarra 2005-09-30\n",
      "12     112  Jose Manuel       Urman 2006-03-07\n",
      "13     113         Luis        Popp 2007-12-07\n",
      "14     114          Den    Raphaely 2002-12-07\n",
      "15     115    Alexander        Khoo 2003-05-18\n",
      "16     116       Shelli       Baida 2005-12-24\n",
      "17     117        Sigal      Tobias 2005-07-24\n",
      "18     118          Guy      Himuro 2006-11-15\n",
      "19     119        Karen  Colmenares 2007-08-10\n",
      "    emp_id first_name   last_name  hire_date\n",
      "4      104      Bruce       Ernst 2007-05-21\n",
      "7      107      Diana     Lorentz 2007-02-07\n",
      "13     113       Luis        Popp 2007-12-07\n",
      "19     119      Karen  Colmenares 2007-08-10\n"
     ]
    }
   ],
   "source": [
    "def program_119():\n",
    "    df = pd.read_excel('employee.xlsx')\n",
    "    print(df)\n",
    "    print(df[df['hire_date'] > '01-01-2007'])\n",
    "    \n",
    "program_119()"
   ]
  },
  {
   "cell_type": "markdown",
   "metadata": {},
   "source": [
    "### Q120. Write a Pandas program to import excel data (employee.xlsx ) into a Pandas dataframe and  find a list of the employees of a specified year \n"
   ]
  },
  {
   "cell_type": "markdown",
   "metadata": {},
   "source": [
    "### Ans."
   ]
  },
  {
   "cell_type": "code",
   "execution_count": 121,
   "metadata": {},
   "outputs": [
    {
     "name": "stdout",
     "output_type": "stream",
     "text": [
      "By setting index as hire_date\n",
      "            emp_id first_name   last_name\n",
      "hire_date                                \n",
      "2007-05-21     104      Bruce       Ernst\n",
      "2007-02-07     107      Diana     Lorentz\n",
      "2007-12-07     113       Luis        Popp\n",
      "2007-08-10     119      Karen  Colmenares\n",
      "\n",
      "\n",
      "Using between on Series\n",
      "    emp_id first_name   last_name  hire_date\n",
      "4      104      Bruce       Ernst 2007-05-21\n",
      "7      107      Diana     Lorentz 2007-02-07\n",
      "13     113       Luis        Popp 2007-12-07\n",
      "19     119      Karen  Colmenares 2007-08-10\n"
     ]
    }
   ],
   "source": [
    "def program_120():\n",
    "    df = pd.read_excel('employee.xlsx')\n",
    "    print('By setting index as hire_date')\n",
    "    df1 = df.set_index('hire_date')\n",
    "    print(df1['2007'])\n",
    "    print('\\n')\n",
    "    print('Using between on Series')\n",
    "    data = df['hire_date'].between('2007', '2008', inclusive=False)\n",
    "    print(df[data])\n",
    "    \n",
    "program_120()"
   ]
  },
  {
   "cell_type": "markdown",
   "metadata": {},
   "source": [
    "### Q121. Write a pandas program to import three datasheets from a given   excel data  (coalpublic2013.xlsx ) in to a single dataframe. "
   ]
  },
  {
   "cell_type": "markdown",
   "metadata": {},
   "source": [
    "### Ans."
   ]
  },
  {
   "cell_type": "code",
   "execution_count": 122,
   "metadata": {},
   "outputs": [
    {
     "name": "stdout",
     "output_type": "stream",
     "text": [
      "     Year  MSHA ID                       Mine_Name  Production  Labor_Hours\n",
      "0    2013   103381            Tacoa Highwall Miner       56004        22392\n",
      "1    2013   103404                Reid School Mine       28807        28447\n",
      "2    2013   100759  North River #1 Underground Min     1440115       474784\n",
      "3    2013   103246                      Bear Creek       87587        29193\n",
      "4    2013   103451                     Knight Mine      147499        46393\n",
      "5    2013   103433              Crane Central Mine       69339        47195\n",
      "6    2013   100329                    Concord Mine           0       144002\n",
      "7    2013   100851                  Oak Grove Mine     2269014      1001809\n",
      "8    2013   102901                Shoal Creek Mine           0        12396\n",
      "9    2013   102901                Shoal Creek Mine     1453024      1237415\n",
      "10   2013   103180             Sloan Mountain Mine      327780       196963\n",
      "11   2013   103182                        Fishtrap      175058        87314\n",
      "12   2013   103285                     Narley Mine      154861        90584\n",
      "13   2013   103332                   Powhatan Mine      140521        61394\n",
      "14   2013   103375                    Johnson Mine         580         1900\n",
      "15   2013   103419               Maxine-Pratt Mine      125824       107469\n",
      "16   2013   103432                   Skelton Creek        8252          220\n",
      "17   2013   103437         Black Warrior Mine No 1      145924        70926\n",
      "18   2013   102976   Piney Woods Preparation Plant           0        14828\n",
      "19   2013   102976   Piney Woods Preparation Plant           0        23193\n",
      "20   2013   103380                          Calera           0        12621\n",
      "21   2013   103380                          Calera           0         1402\n",
      "22   2013   103422                 Clark No 1 Mine      122727       140250\n",
      "23   2013   103467             Helena Surface Mine       59664        30539\n",
      "24   2013   101247                       No 4 Mine     2622528      1551141\n",
      "25   2013   101401                       No 7 Mine     5405412      2464719\n",
      "26   2013   103172  Searles Mine No. 2, 3, 4, 5, 6      258078       119542\n",
      "27   2013   103179             Fleetwood Mine No 1       75937        63745\n",
      "28   2013   103303                    Shannon Mine      317491       164388\n",
      "29   2013   103323                   Deerlick Mine      133452        46381\n",
      "30   2013   103364           Brc Alabama No. 7 Llc           0        14324\n",
      "31   2013   103436                Swann's Crossing      137511        77190\n",
      "32   2013   100347                    Choctaw Mine      537429       215295\n",
      "33   2013   101362                 Manchester Mine      219457       116914\n",
      "34   2013   102996                  Jap Creek Mine      375715       164093\n",
      "35   2013   103155              Corinth Prep Plant           0        27996\n",
      "36   2013   103155              Corinth Prep Plant           0        51994\n",
      "37   2013   103195     Mccollum/Sparks Branch Mine       71910        17411\n",
      "38   2013   103342             Reese's Branch Mine      263888       115123\n",
      "39   2013   103370             Cresent Valley Mine        2860          621\n",
      "40   2013   103372                 Cane Creek Mine       66258        32401\n",
      "41   2013   103376                      Town Creek      299167       176499\n",
      "42   2013   103389                Carbon Hill Mine       76241        84966\n",
      "43   2013   103410                Coal Valley Mine      407841       158591\n",
      "44   2013   103423                Dutton Hill Mine       37275         9162\n",
      "45   2013  1519322                         Ghm #25       25054         3108\n",
      "46   2013   103321                  Poplar Springs      189370        76366\n",
      "47   2013   103358                       Old Union      284563       161805\n",
      "48   2013  5000030                        Usibelli     1631584       286079\n",
      "49   2013   201195                    Kayenta Mine     7602722      1015333\n",
      "50   2013   103381            Tacoa Highwall Miner       56004        22392\n",
      "51   2013   103404                Reid School Mine       28807        28447\n",
      "52   2013   100759  North River #1 Underground Min     1440115       474784\n",
      "53   2013   103246                      Bear Creek       87587        29193\n",
      "54   2013   103451                     Knight Mine      147499        46393\n",
      "55   2013   103433              Crane Central Mine       69339        47195\n",
      "56   2013   100329                    Concord Mine           0       144002\n",
      "57   2013   100851                  Oak Grove Mine     2269014      1001809\n",
      "58   2013   102901                Shoal Creek Mine           0        12396\n",
      "59   2013   102901                Shoal Creek Mine     1453024      1237415\n",
      "60   2013   103180             Sloan Mountain Mine      327780       196963\n",
      "61   2013   103182                        Fishtrap      175058        87314\n",
      "62   2013   103285                     Narley Mine      154861        90584\n",
      "63   2013   103332                   Powhatan Mine      140521        61394\n",
      "64   2013   103375                    Johnson Mine         580         1900\n",
      "65   2013   103419               Maxine-Pratt Mine      125824       107469\n",
      "66   2013   103432                   Skelton Creek        8252          220\n",
      "67   2013   103437         Black Warrior Mine No 1      145924        70926\n",
      "68   2013   102976   Piney Woods Preparation Plant           0        14828\n",
      "69   2013   102976   Piney Woods Preparation Plant           0        23193\n",
      "70   2013   103380                          Calera           0        12621\n",
      "71   2013   103380                          Calera           0         1402\n",
      "72   2013   103422                 Clark No 1 Mine      122727       140250\n",
      "73   2013   103467             Helena Surface Mine       59664        30539\n",
      "74   2013   101247                       No 4 Mine     2622528      1551141\n",
      "75   2013   101401                       No 7 Mine     5405412      2464719\n",
      "76   2013   103172  Searles Mine No. 2, 3, 4, 5, 6      258078       119542\n",
      "77   2013   103179             Fleetwood Mine No 1       75937        63745\n",
      "78   2013   103303                    Shannon Mine      317491       164388\n",
      "79   2013   103323                   Deerlick Mine      133452        46381\n",
      "80   2013   103364           Brc Alabama No. 7 Llc           0        14324\n",
      "81   2013   103436                Swann's Crossing      137511        77190\n",
      "82   2013   100347                    Choctaw Mine      537429       215295\n",
      "83   2013   101362                 Manchester Mine      219457       116914\n",
      "84   2013   102996                  Jap Creek Mine      375715       164093\n",
      "85   2013   103155              Corinth Prep Plant           0        27996\n",
      "86   2013   103155              Corinth Prep Plant           0        51994\n",
      "87   2013   103195     Mccollum/Sparks Branch Mine       71910        17411\n",
      "88   2013   103342             Reese's Branch Mine      263888       115123\n",
      "89   2013   103370             Cresent Valley Mine        2860          621\n",
      "90   2013   103372                 Cane Creek Mine       66258        32401\n",
      "91   2013   103376                      Town Creek      299167       176499\n",
      "92   2013   103389                Carbon Hill Mine       76241        84966\n",
      "93   2013   103410                Coal Valley Mine      407841       158591\n",
      "94   2013   103423                Dutton Hill Mine       37275         9162\n",
      "95   2013  1519322                         Ghm #25       25054         3108\n",
      "96   2013   103321                  Poplar Springs      189370        76366\n",
      "97   2013   103358                       Old Union      284563       161805\n",
      "98   2013  5000030                        Usibelli     1631584       286079\n",
      "99   2013   201195                    Kayenta Mine     7602722      1015333\n",
      "100  2013   103381            Tacoa Highwall Miner       56004        22392\n",
      "101  2013   103404                Reid School Mine       28807        28447\n",
      "102  2013   100759  North River #1 Underground Min     1440115       474784\n",
      "103  2013   103246                      Bear Creek       87587        29193\n",
      "104  2013   103451                     Knight Mine      147499        46393\n",
      "105  2013   103433              Crane Central Mine       69339        47195\n",
      "106  2013   100329                    Concord Mine           0       144002\n",
      "107  2013   100851                  Oak Grove Mine     2269014      1001809\n",
      "108  2013   102901                Shoal Creek Mine           0        12396\n",
      "109  2013   102901                Shoal Creek Mine     1453024      1237415\n",
      "110  2013   103180             Sloan Mountain Mine      327780       196963\n",
      "111  2013   103182                        Fishtrap      175058        87314\n",
      "112  2013   103285                     Narley Mine      154861        90584\n",
      "113  2013   103332                   Powhatan Mine      140521        61394\n",
      "114  2013   103375                    Johnson Mine         580         1900\n",
      "115  2013   103419               Maxine-Pratt Mine      125824       107469\n",
      "116  2013   103432                   Skelton Creek        8252          220\n",
      "117  2013   103437         Black Warrior Mine No 1      145924        70926\n",
      "118  2013   102976   Piney Woods Preparation Plant           0        14828\n",
      "119  2013   102976   Piney Woods Preparation Plant           0        23193\n",
      "120  2013   103380                          Calera           0        12621\n",
      "121  2013   103380                          Calera           0         1402\n",
      "122  2013   103422                 Clark No 1 Mine      122727       140250\n",
      "123  2013   103467             Helena Surface Mine       59664        30539\n",
      "124  2013   101247                       No 4 Mine     2622528      1551141\n",
      "125  2013   101401                       No 7 Mine     5405412      2464719\n",
      "126  2013   103172  Searles Mine No. 2, 3, 4, 5, 6      258078       119542\n",
      "127  2013   103179             Fleetwood Mine No 1       75937        63745\n",
      "128  2013   103303                    Shannon Mine      317491       164388\n",
      "129  2013   103323                   Deerlick Mine      133452        46381\n",
      "130  2013   103364           Brc Alabama No. 7 Llc           0        14324\n",
      "131  2013   103436                Swann's Crossing      137511        77190\n",
      "132  2013   100347                    Choctaw Mine      537429       215295\n",
      "133  2013   101362                 Manchester Mine      219457       116914\n",
      "134  2013   102996                  Jap Creek Mine      375715       164093\n",
      "135  2013   103155              Corinth Prep Plant           0        27996\n",
      "136  2013   103155              Corinth Prep Plant           0        51994\n",
      "137  2013   103195     Mccollum/Sparks Branch Mine       71910        17411\n",
      "138  2013   103342             Reese's Branch Mine      263888       115123\n",
      "139  2013   103370             Cresent Valley Mine        2860          621\n",
      "140  2013   103372                 Cane Creek Mine       66258        32401\n",
      "141  2013   103376                      Town Creek      299167       176499\n",
      "142  2013   103389                Carbon Hill Mine       76241        84966\n",
      "143  2013   103410                Coal Valley Mine      407841       158591\n",
      "144  2013   103423                Dutton Hill Mine       37275         9162\n",
      "145  2013  1519322                         Ghm #25       25054         3108\n",
      "146  2013   103321                  Poplar Springs      189370        76366\n",
      "147  2013   103358                       Old Union      284563       161805\n",
      "148  2013  5000030                        Usibelli     1631584       286079\n",
      "149  2013   201195                    Kayenta Mine     7602722      1015333\n"
     ]
    }
   ],
   "source": [
    "def program_121():\n",
    "    df = pd.concat([pd.read_excel('coalpublic2013.xlsx', sheet_name='coalpublic2013'),\n",
    "                    pd.read_excel('coalpublic2013.xlsx', sheet_name='coalpublic2013'),\n",
    "                    pd.read_excel('coalpublic2013.xlsx', sheet_name='coalpublic2013')], \n",
    "                    ignore_index=True)\n",
    "    print(df)\n",
    "    \n",
    "program_121()"
   ]
  },
  {
   "cell_type": "markdown",
   "metadata": {},
   "source": [
    "### Q122. Write a pandas program to import three datasheets from a given excel data (employee.xlsx ) into a single data frame and export the result into new Excel file"
   ]
  },
  {
   "cell_type": "markdown",
   "metadata": {},
   "source": [
    "### Ans."
   ]
  },
  {
   "cell_type": "code",
   "execution_count": 123,
   "metadata": {},
   "outputs": [],
   "source": [
    "def program_122():\n",
    "    df = pd.concat([pd.read_excel('employee.xlsx', sheet_name='Sheet1'),\n",
    "                    pd.read_excel('employee.xlsx', sheet_name='Sheet2'),\n",
    "                    pd.read_excel('employee.xlsx', sheet_name='Sheet3')], \n",
    "                    ignore_index=True)\n",
    "    # Exporting data to employee_output.xlsx\n",
    "    df.to_excel('employee_output.xlsx')\n",
    "    \n",
    "program_122()"
   ]
  },
  {
   "cell_type": "markdown",
   "metadata": {},
   "source": [
    "### Q123. Write a pandas program to create the Pivot table with multiple   indexes from the data set of the  titanic.csv. "
   ]
  },
  {
   "cell_type": "markdown",
   "metadata": {},
   "source": [
    "### Ans."
   ]
  },
  {
   "cell_type": "code",
   "execution_count": 124,
   "metadata": {},
   "outputs": [
    {
     "name": "stdout",
     "output_type": "stream",
     "text": [
      "class     First   Second    Third\n",
      "sex                              \n",
      "female  2942.00  2125.50  2218.50\n",
      "male    4169.42  3043.33  6706.42\n"
     ]
    }
   ],
   "source": [
    "import numpy as np\n",
    "def program_123():\n",
    "    df = pd.read_csv('titanic.csv')\n",
    "    \n",
    "    #print(df.columns)\n",
    "    #print('\\n')\n",
    "    table = df.pivot_table('age', index = [\"sex\"],columns=[\"class\"], aggfunc=np.sum)\n",
    "    print(table)\n",
    "    \n",
    "program_123()"
   ]
  },
  {
   "cell_type": "markdown",
   "metadata": {},
   "source": [
    "### Q124. Write a Pandas program to create the Pivot table and find survival rate by gender?\n",
    "\n",
    "### Ans."
   ]
  },
  {
   "cell_type": "code",
   "execution_count": 125,
   "metadata": {},
   "outputs": [
    {
     "name": "stdout",
     "output_type": "stream",
     "text": [
      "SUM:         survived\n",
      "sex             \n",
      "female       233\n",
      "male         109\n",
      "\n",
      "\n",
      "MEAN:         survived\n",
      "sex             \n",
      "female  0.742038\n",
      "male    0.188908\n",
      "\n",
      "\n"
     ]
    }
   ],
   "source": [
    "def program_124():\n",
    "    df = pd.read_csv('titanic.csv')\n",
    "    table = df.pivot_table('survived', index = [\"sex\"], aggfunc=np.sum)\n",
    "    print('SUM: {}'.format(table))\n",
    "    print('\\n')\n",
    "    table = df.pivot_table('survived', index = [\"sex\"], aggfunc=np.mean)\n",
    "    print('MEAN: {}'.format(table))\n",
    "    print('\\n')\n",
    "    \n",
    "program_124()"
   ]
  },
  {
   "cell_type": "markdown",
   "metadata": {},
   "source": [
    "### Q125. Write a pandas program to make partition each of the passengers into 4 categories based on their age"
   ]
  },
  {
   "cell_type": "markdown",
   "metadata": {},
   "source": [
    "### Ans."
   ]
  },
  {
   "cell_type": "code",
   "execution_count": 126,
   "metadata": {},
   "outputs": [
    {
     "name": "stdout",
     "output_type": "stream",
     "text": [
      "0      (10, 30]\n",
      "1      (30, 60]\n",
      "2      (10, 30]\n",
      "3      (30, 60]\n",
      "4      (30, 60]\n",
      "5           NaN\n",
      "6      (30, 60]\n",
      "7       (0, 10]\n",
      "8      (10, 30]\n",
      "9      (10, 30]\n",
      "10      (0, 10]\n",
      "11     (30, 60]\n",
      "12     (10, 30]\n",
      "13     (30, 60]\n",
      "14     (10, 30]\n",
      "15     (30, 60]\n",
      "16      (0, 10]\n",
      "17          NaN\n",
      "18     (30, 60]\n",
      "19          NaN\n",
      "20     (30, 60]\n",
      "21     (30, 60]\n",
      "22     (10, 30]\n",
      "23     (10, 30]\n",
      "24      (0, 10]\n",
      "25     (30, 60]\n",
      "26          NaN\n",
      "27     (10, 30]\n",
      "28          NaN\n",
      "29          NaN\n",
      "30     (30, 60]\n",
      "31          NaN\n",
      "32          NaN\n",
      "33     (60, 80]\n",
      "34     (10, 30]\n",
      "35     (30, 60]\n",
      "36          NaN\n",
      "37     (10, 30]\n",
      "38     (10, 30]\n",
      "39     (10, 30]\n",
      "40     (30, 60]\n",
      "41     (10, 30]\n",
      "42          NaN\n",
      "43      (0, 10]\n",
      "44     (10, 30]\n",
      "45          NaN\n",
      "46          NaN\n",
      "47          NaN\n",
      "48          NaN\n",
      "49     (10, 30]\n",
      "50      (0, 10]\n",
      "51     (10, 30]\n",
      "52     (30, 60]\n",
      "53     (10, 30]\n",
      "54     (60, 80]\n",
      "55          NaN\n",
      "56     (10, 30]\n",
      "57     (10, 30]\n",
      "58      (0, 10]\n",
      "59     (10, 30]\n",
      "60     (10, 30]\n",
      "61     (30, 60]\n",
      "62     (30, 60]\n",
      "63      (0, 10]\n",
      "64          NaN\n",
      "65          NaN\n",
      "66     (10, 30]\n",
      "67     (10, 30]\n",
      "68     (10, 30]\n",
      "69     (10, 30]\n",
      "70     (30, 60]\n",
      "71     (10, 30]\n",
      "72     (10, 30]\n",
      "73     (10, 30]\n",
      "74     (30, 60]\n",
      "75     (10, 30]\n",
      "76          NaN\n",
      "77          NaN\n",
      "78      (0, 10]\n",
      "79     (10, 30]\n",
      "80     (10, 30]\n",
      "81     (10, 30]\n",
      "82          NaN\n",
      "83     (10, 30]\n",
      "84     (10, 30]\n",
      "85     (30, 60]\n",
      "86     (10, 30]\n",
      "87          NaN\n",
      "88     (10, 30]\n",
      "89     (10, 30]\n",
      "90     (10, 30]\n",
      "91     (10, 30]\n",
      "92     (30, 60]\n",
      "93     (10, 30]\n",
      "94     (30, 60]\n",
      "95          NaN\n",
      "96     (60, 80]\n",
      "97     (10, 30]\n",
      "98     (30, 60]\n",
      "99     (30, 60]\n",
      "100    (10, 30]\n",
      "101         NaN\n",
      "102    (10, 30]\n",
      "103    (30, 60]\n",
      "104    (30, 60]\n",
      "105    (10, 30]\n",
      "106    (10, 30]\n",
      "107         NaN\n",
      "108    (30, 60]\n",
      "109         NaN\n",
      "110    (30, 60]\n",
      "111    (10, 30]\n",
      "112    (10, 30]\n",
      "113    (10, 30]\n",
      "114    (10, 30]\n",
      "115    (10, 30]\n",
      "116    (60, 80]\n",
      "117    (10, 30]\n",
      "118    (10, 30]\n",
      "119     (0, 10]\n",
      "120    (10, 30]\n",
      "121         NaN\n",
      "122    (30, 60]\n",
      "123    (30, 60]\n",
      "124    (30, 60]\n",
      "125    (10, 30]\n",
      "126         NaN\n",
      "127    (10, 30]\n",
      "128         NaN\n",
      "129    (30, 60]\n",
      "130    (30, 60]\n",
      "131    (10, 30]\n",
      "132    (30, 60]\n",
      "133    (10, 30]\n",
      "134    (10, 30]\n",
      "135    (10, 30]\n",
      "136    (10, 30]\n",
      "137    (30, 60]\n",
      "138    (10, 30]\n",
      "139    (10, 30]\n",
      "140         NaN\n",
      "141    (10, 30]\n",
      "142    (10, 30]\n",
      "143    (10, 30]\n",
      "144    (10, 30]\n",
      "145    (10, 30]\n",
      "146    (10, 30]\n",
      "147     (0, 10]\n",
      "148    (30, 60]\n",
      "149    (30, 60]\n",
      "150    (30, 60]\n",
      "151    (10, 30]\n",
      "152    (30, 60]\n",
      "153    (30, 60]\n",
      "154         NaN\n",
      "155    (30, 60]\n",
      "156    (10, 30]\n",
      "157    (10, 30]\n",
      "158         NaN\n",
      "159         NaN\n",
      "160    (30, 60]\n",
      "161    (30, 60]\n",
      "162    (10, 30]\n",
      "163    (10, 30]\n",
      "164     (0, 10]\n",
      "165     (0, 10]\n",
      "166         NaN\n",
      "167    (30, 60]\n",
      "168         NaN\n",
      "169    (10, 30]\n",
      "170    (60, 80]\n",
      "171     (0, 10]\n",
      "172     (0, 10]\n",
      "173    (10, 30]\n",
      "174    (30, 60]\n",
      "175    (10, 30]\n",
      "176         NaN\n",
      "177    (30, 60]\n",
      "178    (10, 30]\n",
      "179    (30, 60]\n",
      "180         NaN\n",
      "181         NaN\n",
      "182     (0, 10]\n",
      "183     (0, 10]\n",
      "184     (0, 10]\n",
      "185         NaN\n",
      "186         NaN\n",
      "187    (30, 60]\n",
      "188    (30, 60]\n",
      "189    (30, 60]\n",
      "190    (30, 60]\n",
      "191    (10, 30]\n",
      "192    (10, 30]\n",
      "193     (0, 10]\n",
      "194    (30, 60]\n",
      "195    (30, 60]\n",
      "196         NaN\n",
      "197    (30, 60]\n",
      "198         NaN\n",
      "199    (10, 30]\n",
      "200    (10, 30]\n",
      "201         NaN\n",
      "202    (30, 60]\n",
      "203    (30, 60]\n",
      "204    (10, 30]\n",
      "205     (0, 10]\n",
      "206    (30, 60]\n",
      "207    (10, 30]\n",
      "208    (10, 30]\n",
      "209    (30, 60]\n",
      "210    (10, 30]\n",
      "211    (30, 60]\n",
      "212    (10, 30]\n",
      "213    (10, 30]\n",
      "214         NaN\n",
      "215    (30, 60]\n",
      "216    (10, 30]\n",
      "217    (30, 60]\n",
      "218    (30, 60]\n",
      "219    (10, 30]\n",
      "220    (10, 30]\n",
      "221    (10, 30]\n",
      "222    (30, 60]\n",
      "223         NaN\n",
      "224    (30, 60]\n",
      "225    (10, 30]\n",
      "226    (10, 30]\n",
      "227    (10, 30]\n",
      "228    (10, 30]\n",
      "229         NaN\n",
      "230    (30, 60]\n",
      "231    (10, 30]\n",
      "232    (30, 60]\n",
      "233     (0, 10]\n",
      "234    (10, 30]\n",
      "235         NaN\n",
      "236    (30, 60]\n",
      "237     (0, 10]\n",
      "238    (10, 30]\n",
      "239    (30, 60]\n",
      "240         NaN\n",
      "241         NaN\n",
      "242    (10, 30]\n",
      "243    (10, 30]\n",
      "244    (10, 30]\n",
      "245    (30, 60]\n",
      "246    (10, 30]\n",
      "247    (10, 30]\n",
      "248    (30, 60]\n",
      "249    (30, 60]\n",
      "         ...   \n",
      "641    (10, 30]\n",
      "642     (0, 10]\n",
      "643         NaN\n",
      "644     (0, 10]\n",
      "645    (30, 60]\n",
      "646    (10, 30]\n",
      "647    (30, 60]\n",
      "648         NaN\n",
      "649    (10, 30]\n",
      "650         NaN\n",
      "651    (10, 30]\n",
      "652    (10, 30]\n",
      "653         NaN\n",
      "654    (10, 30]\n",
      "655    (10, 30]\n",
      "656         NaN\n",
      "657    (30, 60]\n",
      "658    (10, 30]\n",
      "659    (30, 60]\n",
      "660    (30, 60]\n",
      "661    (30, 60]\n",
      "662    (30, 60]\n",
      "663    (30, 60]\n",
      "664    (10, 30]\n",
      "665    (30, 60]\n",
      "666    (10, 30]\n",
      "667         NaN\n",
      "668    (30, 60]\n",
      "669         NaN\n",
      "670    (30, 60]\n",
      "671    (30, 60]\n",
      "672    (60, 80]\n",
      "673    (30, 60]\n",
      "674         NaN\n",
      "675    (10, 30]\n",
      "676    (10, 30]\n",
      "677    (10, 30]\n",
      "678    (30, 60]\n",
      "679    (30, 60]\n",
      "680         NaN\n",
      "681    (10, 30]\n",
      "682    (10, 30]\n",
      "683    (10, 30]\n",
      "684    (30, 60]\n",
      "685    (10, 30]\n",
      "686    (10, 30]\n",
      "687    (10, 30]\n",
      "688    (10, 30]\n",
      "689    (10, 30]\n",
      "690    (30, 60]\n",
      "691     (0, 10]\n",
      "692         NaN\n",
      "693    (10, 30]\n",
      "694    (30, 60]\n",
      "695    (30, 60]\n",
      "696    (30, 60]\n",
      "697         NaN\n",
      "698    (30, 60]\n",
      "699    (30, 60]\n",
      "700    (10, 30]\n",
      "701    (30, 60]\n",
      "702    (10, 30]\n",
      "703    (10, 30]\n",
      "704    (10, 30]\n",
      "705    (30, 60]\n",
      "706    (30, 60]\n",
      "707    (30, 60]\n",
      "708    (10, 30]\n",
      "709         NaN\n",
      "710    (10, 30]\n",
      "711         NaN\n",
      "712    (30, 60]\n",
      "713    (10, 30]\n",
      "714    (30, 60]\n",
      "715    (10, 30]\n",
      "716    (30, 60]\n",
      "717    (10, 30]\n",
      "718         NaN\n",
      "719    (30, 60]\n",
      "720     (0, 10]\n",
      "721    (10, 30]\n",
      "722    (30, 60]\n",
      "723    (30, 60]\n",
      "724    (10, 30]\n",
      "725    (10, 30]\n",
      "726    (10, 30]\n",
      "727         NaN\n",
      "728    (10, 30]\n",
      "729    (10, 30]\n",
      "730    (10, 30]\n",
      "731    (10, 30]\n",
      "732         NaN\n",
      "733    (10, 30]\n",
      "734    (10, 30]\n",
      "735    (10, 30]\n",
      "736    (30, 60]\n",
      "737    (30, 60]\n",
      "738         NaN\n",
      "739         NaN\n",
      "740         NaN\n",
      "741    (30, 60]\n",
      "742    (10, 30]\n",
      "743    (10, 30]\n",
      "744    (30, 60]\n",
      "745    (60, 80]\n",
      "746    (10, 30]\n",
      "747    (10, 30]\n",
      "748    (10, 30]\n",
      "749    (30, 60]\n",
      "750     (0, 10]\n",
      "751     (0, 10]\n",
      "752    (30, 60]\n",
      "753    (10, 30]\n",
      "754    (30, 60]\n",
      "755     (0, 10]\n",
      "756    (10, 30]\n",
      "757    (10, 30]\n",
      "758    (30, 60]\n",
      "759    (30, 60]\n",
      "760         NaN\n",
      "761    (30, 60]\n",
      "762    (10, 30]\n",
      "763    (30, 60]\n",
      "764    (10, 30]\n",
      "765    (30, 60]\n",
      "766         NaN\n",
      "767    (30, 60]\n",
      "768         NaN\n",
      "769    (30, 60]\n",
      "770    (10, 30]\n",
      "771    (30, 60]\n",
      "772    (30, 60]\n",
      "773         NaN\n",
      "774    (30, 60]\n",
      "775    (10, 30]\n",
      "776         NaN\n",
      "777     (0, 10]\n",
      "778         NaN\n",
      "779    (30, 60]\n",
      "780    (10, 30]\n",
      "781    (10, 30]\n",
      "782    (10, 30]\n",
      "783         NaN\n",
      "784    (10, 30]\n",
      "785    (10, 30]\n",
      "786    (10, 30]\n",
      "787     (0, 10]\n",
      "788     (0, 10]\n",
      "789    (30, 60]\n",
      "790         NaN\n",
      "791    (10, 30]\n",
      "792         NaN\n",
      "793         NaN\n",
      "794    (10, 30]\n",
      "795    (30, 60]\n",
      "796    (30, 60]\n",
      "797    (30, 60]\n",
      "798    (10, 30]\n",
      "799    (10, 30]\n",
      "800    (30, 60]\n",
      "801    (30, 60]\n",
      "802    (10, 30]\n",
      "803     (0, 10]\n",
      "804    (10, 30]\n",
      "805    (30, 60]\n",
      "806    (30, 60]\n",
      "807    (10, 30]\n",
      "808    (30, 60]\n",
      "809    (30, 60]\n",
      "810    (10, 30]\n",
      "811    (30, 60]\n",
      "812    (30, 60]\n",
      "813     (0, 10]\n",
      "814    (30, 60]\n",
      "815         NaN\n",
      "816    (10, 30]\n",
      "817    (30, 60]\n",
      "818    (30, 60]\n",
      "819     (0, 10]\n",
      "820    (30, 60]\n",
      "821    (10, 30]\n",
      "822    (30, 60]\n",
      "823    (10, 30]\n",
      "824     (0, 10]\n",
      "825         NaN\n",
      "826         NaN\n",
      "827     (0, 10]\n",
      "828         NaN\n",
      "829    (60, 80]\n",
      "830    (10, 30]\n",
      "831     (0, 10]\n",
      "832         NaN\n",
      "833    (10, 30]\n",
      "834    (10, 30]\n",
      "835    (30, 60]\n",
      "836    (10, 30]\n",
      "837         NaN\n",
      "838    (30, 60]\n",
      "839         NaN\n",
      "840    (10, 30]\n",
      "841    (10, 30]\n",
      "842    (10, 30]\n",
      "843    (30, 60]\n",
      "844    (10, 30]\n",
      "845    (30, 60]\n",
      "846         NaN\n",
      "847    (30, 60]\n",
      "848    (10, 30]\n",
      "849         NaN\n",
      "850     (0, 10]\n",
      "851    (60, 80]\n",
      "852     (0, 10]\n",
      "853    (10, 30]\n",
      "854    (30, 60]\n",
      "855    (10, 30]\n",
      "856    (30, 60]\n",
      "857    (30, 60]\n",
      "858    (10, 30]\n",
      "859         NaN\n",
      "860    (30, 60]\n",
      "861    (10, 30]\n",
      "862    (30, 60]\n",
      "863         NaN\n",
      "864    (10, 30]\n",
      "865    (30, 60]\n",
      "866    (10, 30]\n",
      "867    (30, 60]\n",
      "868         NaN\n",
      "869     (0, 10]\n",
      "870    (10, 30]\n",
      "871    (30, 60]\n",
      "872    (30, 60]\n",
      "873    (30, 60]\n",
      "874    (10, 30]\n",
      "875    (10, 30]\n",
      "876    (10, 30]\n",
      "877    (10, 30]\n",
      "878         NaN\n",
      "879    (30, 60]\n",
      "880    (10, 30]\n",
      "881    (30, 60]\n",
      "882    (10, 30]\n",
      "883    (10, 30]\n",
      "884    (10, 30]\n",
      "885    (30, 60]\n",
      "886    (10, 30]\n",
      "887    (10, 30]\n",
      "888         NaN\n",
      "889    (10, 30]\n",
      "890    (30, 60]\n",
      "Name: age, Length: 891, dtype: category\n",
      "Categories (4, interval[int64]): [(0, 10] < (10, 30] < (30, 60] < (60, 80]]\n"
     ]
    }
   ],
   "source": [
    "def program_125():\n",
    "\tdf = pd.read_csv('titanic.csv')\n",
    "\tresult = pd.cut(df['age'], [0, 10, 30, 60, 80])\n",
    "\tprint(result)\n",
    "    \n",
    "program_125()"
   ]
  },
  {
   "cell_type": "markdown",
   "metadata": {},
   "source": [
    "### Q126. Write a pandas program to create the Pivot table and find survival rate by the gender, age of the different categories of various classes"
   ]
  },
  {
   "cell_type": "markdown",
   "metadata": {},
   "source": [
    "### Ans."
   ]
  },
  {
   "cell_type": "code",
   "execution_count": 127,
   "metadata": {},
   "outputs": [
    {
     "name": "stdout",
     "output_type": "stream",
     "text": [
      "SUM: class            First    Second     Third\n",
      "sex    age                                \n",
      "female 0.75        NaN       NaN  1.000000\n",
      "       1.00        NaN       NaN  1.000000\n",
      "       2.00   0.000000  1.000000  0.250000\n",
      "       3.00        NaN  1.000000  0.000000\n",
      "       4.00        NaN  1.000000  1.000000\n",
      "       5.00        NaN  1.000000  1.000000\n",
      "       6.00        NaN  1.000000  0.000000\n",
      "       7.00        NaN  1.000000       NaN\n",
      "       8.00        NaN  1.000000  0.000000\n",
      "       9.00        NaN       NaN  0.000000\n",
      "       10.00       NaN       NaN  0.000000\n",
      "       11.00       NaN       NaN  0.000000\n",
      "       13.00       NaN  1.000000  1.000000\n",
      "       14.00  1.000000  1.000000  0.500000\n",
      "       14.50       NaN       NaN  0.000000\n",
      "       15.00  1.000000       NaN  1.000000\n",
      "       16.00  1.000000       NaN  0.666667\n",
      "       17.00  1.000000  1.000000  0.500000\n",
      "       18.00  1.000000  1.000000  0.375000\n",
      "       19.00  1.000000  1.000000  1.000000\n",
      "       20.00       NaN       NaN  0.000000\n",
      "       21.00  1.000000  1.000000  0.250000\n",
      "       22.00  1.000000  1.000000  0.666667\n",
      "       23.00  1.000000  1.000000  0.500000\n",
      "       24.00  1.000000  0.857143  0.750000\n",
      "       25.00  0.000000  1.000000  0.000000\n",
      "       26.00  1.000000  0.000000  0.666667\n",
      "       27.00       NaN  0.666667  1.000000\n",
      "       28.00       NaN  1.000000  0.000000\n",
      "       29.00  1.000000  1.000000  0.333333\n",
      "       30.00  1.000000  1.000000  0.333333\n",
      "       30.50       NaN       NaN  0.000000\n",
      "       31.00  1.000000  1.000000  0.500000\n",
      "       32.00  1.000000  1.000000  0.000000\n",
      "       32.50       NaN  1.000000       NaN\n",
      "       33.00  1.000000  1.000000  1.000000\n",
      "       34.00       NaN  1.000000       NaN\n",
      "       35.00  1.000000  1.000000  1.000000\n",
      "       36.00  1.000000  1.000000  1.000000\n",
      "       37.00       NaN       NaN  0.000000\n",
      "       38.00  1.000000  0.000000  1.000000\n",
      "       39.00  1.000000       NaN  0.000000\n",
      "       40.00  1.000000  1.000000  0.000000\n",
      "       41.00  1.000000  1.000000  0.000000\n",
      "       42.00  1.000000  1.000000       NaN\n",
      "       43.00  1.000000       NaN  0.000000\n",
      "       44.00  1.000000  0.000000       NaN\n",
      "       45.00  1.000000  1.000000  0.000000\n",
      "       47.00  1.000000       NaN  0.000000\n",
      "       48.00  1.000000  1.000000  0.000000\n",
      "       49.00  1.000000       NaN       NaN\n",
      "       50.00  0.500000  1.000000       NaN\n",
      "       51.00  1.000000       NaN       NaN\n",
      "       52.00  1.000000       NaN       NaN\n",
      "       53.00  1.000000       NaN       NaN\n",
      "       54.00  1.000000  1.000000       NaN\n",
      "       55.00       NaN  1.000000       NaN\n",
      "       56.00  1.000000       NaN       NaN\n",
      "       57.00       NaN  0.000000       NaN\n",
      "       58.00  1.000000       NaN       NaN\n",
      "       60.00  1.000000       NaN       NaN\n",
      "       62.00  1.000000       NaN       NaN\n",
      "       63.00  1.000000       NaN  1.000000\n",
      "male   0.42        NaN       NaN  1.000000\n",
      "       0.67        NaN  1.000000       NaN\n",
      "       0.83        NaN  1.000000       NaN\n",
      "       0.92   1.000000       NaN       NaN\n",
      "       1.00        NaN  1.000000  0.333333\n",
      "       2.00        NaN  1.000000  0.000000\n",
      "       3.00        NaN  1.000000  1.000000\n",
      "       4.00   1.000000       NaN  0.250000\n",
      "       6.00        NaN       NaN  1.000000\n",
      "       7.00        NaN       NaN  0.000000\n",
      "       8.00        NaN  1.000000  0.000000\n",
      "       9.00        NaN       NaN  0.500000\n",
      "       10.00       NaN       NaN  0.000000\n",
      "       11.00  1.000000       NaN  0.000000\n",
      "       12.00       NaN       NaN  1.000000\n",
      "       14.00       NaN       NaN  0.000000\n",
      "       15.00       NaN       NaN  0.000000\n",
      "       16.00       NaN  0.000000  0.111111\n",
      "       17.00  1.000000       NaN  0.000000\n",
      "       18.00  0.000000  0.000000  0.125000\n",
      "       19.00  0.000000  0.250000  0.083333\n",
      "       20.00       NaN       NaN  0.230769\n",
      "       20.50       NaN       NaN  0.000000\n",
      "       21.00  0.000000  0.000000  0.076923\n",
      "       22.00  0.000000       NaN  0.071429\n",
      "       23.00  1.000000  0.000000  0.000000\n",
      "       23.50       NaN       NaN  0.000000\n",
      "       24.00  0.000000  0.000000  0.111111\n",
      "       24.50       NaN       NaN  0.000000\n",
      "       25.00  1.000000  0.000000  0.181818\n",
      "       26.00  1.000000  0.000000  0.181818\n",
      "       27.00  0.750000  0.000000  0.600000\n",
      "       28.00  0.500000  0.000000  0.000000\n",
      "       28.50       NaN       NaN  0.000000\n",
      "       29.00  0.000000  0.000000  0.375000\n",
      "       30.00  0.000000  0.000000  0.125000\n",
      "       30.50       NaN       NaN  0.000000\n",
      "       31.00  0.333333  0.250000  0.333333\n",
      "       32.00  1.000000  0.333333  0.454545\n",
      "       32.50       NaN  0.000000       NaN\n",
      "       33.00  0.000000  0.000000  0.000000\n",
      "       34.00  1.000000  0.166667  0.000000\n",
      "       34.50       NaN       NaN  0.000000\n",
      "       35.00  1.000000  0.000000  0.000000\n",
      "       36.00  0.666667  0.000000  0.000000\n",
      "       36.50       NaN  0.000000       NaN\n",
      "       37.00  0.333333  0.000000  0.000000\n",
      "       38.00  0.333333       NaN  0.000000\n",
      "       39.00  0.000000  0.000000  0.250000\n",
      "       40.00  0.333333       NaN  0.000000\n",
      "       40.50       NaN       NaN  0.000000\n",
      "       41.00       NaN       NaN  0.000000\n",
      "       42.00  0.666667  0.333333  0.000000\n",
      "       43.00       NaN  0.000000  0.000000\n",
      "       44.00  0.000000  0.000000  0.250000\n",
      "       45.00  0.250000       NaN  0.500000\n",
      "       45.50  0.000000       NaN  0.000000\n",
      "       46.00  0.000000  0.000000       NaN\n",
      "       47.00  0.000000  0.000000  0.000000\n",
      "       48.00  1.000000  0.000000  0.000000\n",
      "       49.00  0.666667       NaN  0.000000\n",
      "       50.00  0.333333  0.000000  0.000000\n",
      "       51.00  0.500000  0.000000  0.000000\n",
      "       52.00  0.500000  0.000000       NaN\n",
      "       54.00  0.000000  0.000000       NaN\n",
      "       55.00  0.000000       NaN       NaN\n",
      "       55.50       NaN       NaN  0.000000\n",
      "       56.00  0.333333       NaN       NaN\n",
      "       57.00       NaN  0.000000       NaN\n",
      "       58.00  0.000000       NaN       NaN\n",
      "       59.00       NaN  0.000000  0.000000\n",
      "       60.00  0.500000  0.000000       NaN\n",
      "       61.00  0.000000       NaN  0.000000\n",
      "       62.00  0.000000  1.000000       NaN\n",
      "       64.00  0.000000       NaN       NaN\n",
      "       65.00  0.000000       NaN  0.000000\n",
      "       66.00       NaN  0.000000       NaN\n",
      "       70.00  0.000000  0.000000       NaN\n",
      "       70.50       NaN       NaN  0.000000\n",
      "       71.00  0.000000       NaN       NaN\n",
      "       74.00       NaN       NaN  0.000000\n",
      "       80.00  1.000000       NaN       NaN\n",
      "\n",
      "\n"
     ]
    }
   ],
   "source": [
    "def program_126():\n",
    "    df = pd.read_csv('titanic.csv')\n",
    "    table = df.pivot_table('survived', index = [\"sex\", \"age\"], columns=['class']) #, aggfunc=np.sum)\n",
    "    print('SUM: {}'.format(table))\n",
    "    print('\\n')\n",
    "    \n",
    "program_126()"
   ]
  },
  {
   "cell_type": "markdown",
   "metadata": {},
   "source": [
    "### Q127. Write a pandas program to create the Pivot table and calculate   number of women and men were in a particular cabin class."
   ]
  },
  {
   "cell_type": "markdown",
   "metadata": {},
   "source": [
    "### Ans."
   ]
  },
  {
   "cell_type": "code",
   "execution_count": 128,
   "metadata": {},
   "outputs": [
    {
     "name": "stdout",
     "output_type": "stream",
     "text": [
      "        sex\n",
      "pclass     \n",
      "1       216\n",
      "2       184\n",
      "3       491\n"
     ]
    }
   ],
   "source": [
    "def program_127():\n",
    "\tdf = pd.read_csv('titanic.csv')\n",
    "\ttable = df.pivot_table('sex', index=['pclass'], aggfunc='count')\n",
    "\tprint(table)\n",
    "    \n",
    "program_127()"
   ]
  },
  {
   "cell_type": "markdown",
   "metadata": {},
   "source": [
    "### Q128. Write a pandas program to create the Pivot table and separate   the gender according to whether they travelled alone or not to get   the probability of surviva"
   ]
  },
  {
   "cell_type": "code",
   "execution_count": 129,
   "metadata": {},
   "outputs": [
    {
     "name": "stdout",
     "output_type": "stream",
     "text": [
      "class            First    Second     Third\n",
      "sex    alone                              \n",
      "female False  0.966667  0.931818  0.416667\n",
      "       True   0.970588  0.906250  0.616667\n",
      "male   False  0.425532  0.277778  0.180723\n",
      "       True   0.333333  0.097222  0.121212\n"
     ]
    }
   ],
   "source": [
    "def program_128():\n",
    "    df = pd.read_csv('titanic.csv')\n",
    "    #print(df)\n",
    "    table = df.pivot_table('survived', ['sex', 'alone'], 'class')\n",
    "    print(table)\n",
    "    \n",
    "program_128()"
   ]
  },
  {
   "cell_type": "markdown",
   "metadata": {},
   "source": [
    "### Q129. Write a pandas program to create the Pivot table and find the   probability of survival by class, gender, solo boarding, and the port   of embarkation. "
   ]
  },
  {
   "cell_type": "markdown",
   "metadata": {},
   "source": [
    "### Ans."
   ]
  },
  {
   "cell_type": "code",
   "execution_count": 130,
   "metadata": {},
   "outputs": [
    {
     "name": "stdout",
     "output_type": "stream",
     "text": [
      "                                 survived\n",
      "class  sex    alone embark_town          \n",
      "First  female False Cherbourg    1.000000\n",
      "                    Queenstown   1.000000\n",
      "                    Southampton  0.941176\n",
      "              True  Cherbourg    0.944444\n",
      "                    Southampton  1.000000\n",
      "       male   False Cherbourg    0.473684\n",
      "                    Queenstown   0.000000\n",
      "                    Southampton  0.407407\n",
      "              True  Cherbourg    0.347826\n",
      "                    Southampton  0.326923\n",
      "Second female False Cherbourg    1.000000\n",
      "                    Southampton  0.923077\n",
      "              True  Cherbourg    1.000000\n",
      "                    Queenstown   1.000000\n",
      "                    Southampton  0.892857\n",
      "       male   False Cherbourg    0.166667\n",
      "                    Southampton  0.300000\n",
      "              True  Cherbourg    0.250000\n",
      "                    Queenstown   0.000000\n",
      "                    Southampton  0.089552\n",
      "Third  female False Cherbourg    0.611111\n",
      "                    Queenstown   0.625000\n",
      "                    Southampton  0.327586\n",
      "              True  Cherbourg    0.800000\n",
      "                    Queenstown   0.760000\n",
      "                    Southampton  0.466667\n",
      "       male   False Cherbourg    0.500000\n",
      "                    Queenstown   0.100000\n",
      "                    Southampton  0.142857\n",
      "              True  Cherbourg    0.151515\n",
      "                    Queenstown   0.068966\n",
      "                    Southampton  0.123762\n"
     ]
    }
   ],
   "source": [
    "def program_129():\n",
    "    df = pd.read_csv('titanic.csv')\n",
    "    #print(df)\n",
    "    table = df.pivot_table('survived', ['class', 'sex', 'alone','embark_town']) #, 'class')\n",
    "    print(table)\n",
    "    \n",
    "program_129()"
   ]
  },
  {
   "cell_type": "markdown",
   "metadata": {},
   "source": [
    "### Q130. Write a pandas program to get current date, oldest date and   number of days between Current date and the  oldest date of Ufo   dataset"
   ]
  },
  {
   "cell_type": "markdown",
   "metadata": {},
   "source": [
    "### Ans."
   ]
  },
  {
   "cell_type": "code",
   "execution_count": 131,
   "metadata": {},
   "outputs": [
    {
     "name": "stdout",
     "output_type": "stream",
     "text": [
      "\n",
      "Current date of Ufo dataset:\n",
      "2004-12-08 05:30:00\n",
      "\n",
      "Oldest date of Ufo dataset:\n",
      "1910-06-01 15:00:00\n",
      "\n",
      "Number of days between Current date and oldest date of Ufo dataset:\n",
      "34523\n"
     ]
    }
   ],
   "source": [
    "def program_130():\n",
    "    df = pd.read_csv(r'ufo.csv')\n",
    "    df['Date_time'] = df['Date_time'].astype('datetime64[ns]')\n",
    "    print(\"\\nCurrent date of Ufo dataset:\")\n",
    "    print(df.Date_time.max())\n",
    "    print(\"\\nOldest date of Ufo dataset:\")\n",
    "    print(df.Date_time.min())\n",
    "    print(\"\\nNumber of days between Current date and oldest date of Ufo dataset:\")\n",
    "    print((df.Date_time.max() - df.Date_time.min()).days)\n",
    "    \n",
    "\n",
    "program_130()"
   ]
  },
  {
   "cell_type": "markdown",
   "metadata": {},
   "source": [
    "### Q131. Write a pandas program to get all sighting days of the   unidentified flying object (ufo) between 1950-10-10 and 1960-10-  10."
   ]
  },
  {
   "cell_type": "markdown",
   "metadata": {},
   "source": [
    "### Ans."
   ]
  },
  {
   "cell_type": "code",
   "execution_count": 132,
   "metadata": {},
   "outputs": [
    {
     "name": "stdout",
     "output_type": "stream",
     "text": [
      "\n",
      "Sighting days of the unidentified flying object (ufo) between 1950-10-10 and 1960-10-10:\n",
      "             Date_time                           city state/province country UFO_shape  length_of_encounter_seconds described_duration_of_encounter                                        description date_documented   latitude   longitude\n",
      "29 1950-06-01 16:00:00                   philadelphia             ms      us      disk                          600             ten minutes or less  Childhood sighting of disk witnessed by mother...      03/12/2008  32.771389  -89.116667\n",
      "30 1950-06-01 20:00:00                     pittsburgh             pa      us      oval                         1500                   20/25 minutes  One larger white object &amp; 2 smaller round ...      02/14/2006  40.440556  -79.996111\n",
      "31 1950-08-01 04:00:00                     louisville             ky      us     other                           60                        1 minute  In 1953&#44 at the age of 3 years old I was Co...      10/19/2011  38.254167  -85.759444\n",
      "32 1950-10-01 11:00:00                      pikeville             ky      us      disk                          600                              hr        SEVENTY SOME  FLYING DISK OBSERVED IN  1950      04/16/2005  37.479167  -82.518889\n",
      "33 1951-06-01 07:00:00               brandon (canada)             mb      ca      disk                         1800                      30 minutes  Circular Craft and Man in Black Sighted in Sum...      02/18/2001  49.833333  -99.950000\n",
      "34 1951-07-01 03:00:00                  otis orchards             wa      us      disk                          120                      ~2 minutes  Cigar shaped Disc darting back and forth (East...      12/23/2013  47.700556 -117.105278\n",
      "35 1951-02-03 22:00:00                  thompsonville             ct      us      disk                           30                      30 seconds  A golden-orange glowing bowl&#44 flat on top&#...      07/25/2004  41.996944  -72.599444\n",
      "36 1951-06-03 13:00:00                         jasper             nc      us      oval                          300                       5 minutes  MIDDAY OVAL SHAPE&#44 ANITQUE COLOR OBJECT SIT...      06/20/2005  35.201389  -77.206944\n",
      "37 1952-07-01 15:00:00                         sebeka             mn      us     other                         1800                          30 min  Silver donut shape object sighted over rural M...      12/12/2011  46.630000  -95.088611\n",
      "38 1952-07-01 22:00:00                        detroit             mi      us    sphere                          300                       5 minutes  object sits stationary for 5 minutes and then ...      10/31/2003  42.331389  -83.045833\n",
      "39 1952-08-01 21:30:00                          tampa             fl      us      oval                         9000                  2 hrs. 30 min.  Triangulation radar fix (USAF&#44 civil&#44 Na...      12/02/2000  27.947222  -82.458611\n",
      "40 1952-10-01 12:00:00                    kansas city             mo      us      disk                           90                         90 sec.  1952 daylight sighting of multiple discs in fo...      10/31/2008  39.099722  -94.578333\n",
      "41 1953-04-01 15:00:00                      haverhill             ma      us   chevron                            2                         seconds                Historical account&#44 Haverhill MA      09/02/2005  42.776111  -71.077778\n",
      "42 1953-04-01 18:00:00                      cambridge             ma      us    sphere                          180                       3 minutes  Two red-orange lights skirted Boston rooftops ...      07/14/2013  42.375000  -71.106111\n",
      "43 1953-07-01 05:30:00  colorado springs (mtsn nw of)             co      us      disk                           10                      10 seconds  Absolutely huge UFO hovered 40 feet above hous...      07/25/2004  38.833889 -104.820833\n",
      "44 1953-08-01 12:00:00                       berkeley             mo      us  fireball                          300                       5 minutes    Early 50&#39s sighting in Berkeley&#44 Missouri      01/22/2004  38.754444  -90.331111\n",
      "45 1954-02-01 02:00:00                      fairbanks             ak      us   unknown                         1140                         19 min.  RADAR INTERCEPT OF UFO BY USAF PILOT IN ALASKA...      01/10/2009  64.837778 -147.716389\n",
      "46 1954-06-01 00:00:00                        houston             tx      us      disk                          180                     2-3 minutes  I fulfilled my duty by passing on an unusual a...      06/12/2008  29.763056  -95.363056\n",
      "47 1954-06-01 06:00:00                           ovid             ny      us      disk                          600                         10 min.  I saw two silver/gray objects of different sha...      12/05/2001  42.676389  -76.823333\n",
      "48 1954-06-01 08:00:00  springfield (rural area near)             il      us  cylinder                          600                      5-10 mins.  This happened many years ago when I was a chil...      12/02/2000  39.801667  -89.643611\n",
      "49 1955-05-01 15:00:00                       holbrook             ma      us       egg                           60                        1 minute  I turned around and over the trees was a large...      04/16/2005  42.155000  -71.009167\n",
      "50 1955-06-01 02:00:00                         bagley             mn      us    circle                         7200                         2 hours  I was 5 years old at the time&#44 family of 4 ...      05/24/1999  47.521667  -95.398056\n",
      "51 1955-06-01 15:29:00                     cincinnati             oh      us      disk                          120               approx. 1-1/2 min  June 1955.  Bronze saucer/cylindrical craft; a...      06/18/2003  39.161944  -84.456944\n",
      "52 1955-06-01 17:00:00           martinez (outskirts)             ca      us    circle                         1800                      30 minutes  We observed a large object aprox.size &quot;fo...      02/16/2000  38.019444 -122.133056\n",
      "53 1956-01-01 05:30:00                        weirton             wv      us      disk                           10                      10 seconds  My Uncle Sam was driving to work very early on...      01/07/2000  40.418889  -80.589722\n",
      "54 1956-03-01 13:00:00                       petaluma             ca      us      oval                         1800                      30 minutes  Objects were several thousand feet in altitude...      01/28/1999  38.232500 -122.635556\n",
      "55 1956-05-01 12:00:00                         canton             oh      us     cigar                          120                       2 minutes  At first the silver disc was stationary. As it...      09/15/2005  40.798889  -81.378611\n",
      "56 1956-06-01 19:00:00                         belton             mo      us     other                          600                          10min.  THE EVENT WAS A PERSONAL CONTACT WITH AN ALIEN...      01/28/1999  38.811944  -94.531667\n",
      "57 1957-01-01 21:00:00                         dallas             tx      us   unknown                           20                      20 seconds  I was flying the first of 4 USAF aircraft on a...      08/24/2004  32.783333  -96.800000\n",
      "58 1957-05-01 12:00:00                         canton             oh      us     cigar                          180                       3 minutes  Cigar shaped object is motionless for more tha...      04/27/2004  40.798889  -81.378611\n",
      "59 1957-06-01 10:00:00                        el paso             tx      us      disk                            7                  5 to 7 seconds  The UFO did not make any sounds.  The craft&#3...      07/26/2002  31.758611 -106.486389\n",
      "60 1957-06-01 20:00:00                    glens falls             ny      us      disk                          240                         3or4min  there was no mistakeing what i was looking at ...      12/02/2000  43.309444  -73.644444\n",
      "61 1958-01-01 22:00:00                            pep             tx      us  fireball                            2                            2sec  Green fire balls&#44 Texas Panhandle&#44 late ...      12/12/2009  33.816111 -102.557778\n",
      "62 1958-06-01 02:00:00                      middlesex             nc      us    circle                         3600                          1 hour                               white glowing lights      03/11/2006  35.790000  -78.204167\n",
      "63 1958-06-01 19:00:00                  san francisco             ca      us      oval                          120                       2 minutes  A low flying huge silver flying saucer positio...      10/31/2003  37.775000 -122.418333\n",
      "64 1958-06-01 21:00:00          new york city (bronx)             ny      us      oval                           10                      10 seconds  7 brightly illuminated elliptical discs racing...      04/16/2005  40.714167  -74.006389\n",
      "65 1959-04-01 01:00:00                          miami             fl      us    sphere                         2700                   30-45 minutes  1959 childhood encounter with a spherical&#44 ...      02/14/2008  25.773889  -80.193889\n",
      "66 1959-05-01 18:30:00                       columbus             oh      us     light                          180                         2-3 min  Red-orange lights over seen motionless over Lo...      02/22/2002  39.961111  -82.998889\n",
      "67 1959-06-01 12:00:00                         orange             ct      us  cylinder                         3600                         1 hour?  Sighted craft and transport of object to the g...      03/19/2009  41.278333  -73.026111\n",
      "68 1959-06-01 18:30:00                         sidney             oh      us     light                          300                       5 minutes  Saw a bright light shining down.  Pulled over ...      04/27/2007  40.284167  -84.155556\n",
      "69 1960-02-01 22:15:00                       st. paul             mn      us     cigar                            3                       3 seconds  A cigar-shaped UFO glided down towards the ear...      03/16/2000  44.944444  -93.093056\n",
      "70 1960-02-01 23:00:00                       hartwell             ga      us     cigar                           45         approx 30 to 45 seconds  My father explained an event of a large cigar-...      04/16/2005  34.352778  -82.932222\n",
      "71 1960-04-01 21:00:00                        houston             tx      us     other                          300                      <5 minutes  Sharp right angle turn in flight direction aft...      12/19/2003  29.763056  -95.363056\n",
      "72 1960-05-01 20:00:00                         tucson             az      us     light                          300                     4-5 minutes  Lights only&#44 no sound&#44 moving across the...      09/02/2005  32.221667 -110.925833\n"
     ]
    }
   ],
   "source": [
    "def program_131():\n",
    "    df = pd.read_csv(r'ufo.csv')\n",
    "    df['Date_time'] = df['Date_time'].astype('datetime64[ns]')\n",
    "    print(\"\\nSighting days of the unidentified flying object (ufo) between 1950-10-10 and 1960-10-10:\")\n",
    "    selected_period = df[(df['Date_time'] >= '1950-01-01 00:00:00') & (df['Date_time'] <= '1960-12-31 23:59:59')]\n",
    "    print(selected_period)\n",
    "    \n",
    "\n",
    "program_131()"
   ]
  },
  {
   "cell_type": "markdown",
   "metadata": {},
   "source": [
    "### Q132. Write a Pandas program to extract the year, month, day, hour,  minute, second, and weekday from unidentified flying object (UFO)  reporting date"
   ]
  },
  {
   "cell_type": "markdown",
   "metadata": {},
   "source": [
    "### Ans."
   ]
  },
  {
   "cell_type": "code",
   "execution_count": 133,
   "metadata": {},
   "outputs": [
    {
     "name": "stdout",
     "output_type": "stream",
     "text": [
      "\n",
      "Year:\n",
      "0    1910\n",
      "1    1920\n",
      "2    1929\n",
      "3    1931\n",
      "4    1939\n",
      "Name: Date_time, dtype: int64\n",
      "\n",
      "Month:\n",
      "0    6\n",
      "1    6\n",
      "2    7\n",
      "3    6\n",
      "4    6\n",
      "Name: Date_time, dtype: int64\n",
      "\n",
      "Day:\n",
      "0     1\n",
      "1    11\n",
      "2     5\n",
      "3     1\n",
      "4     1\n",
      "Name: Date_time, dtype: int64\n",
      "\n",
      "Hour:\n",
      "0    15\n",
      "1    21\n",
      "2    14\n",
      "3    13\n",
      "4    20\n",
      "Name: Date_time, dtype: int64\n",
      "\n",
      "Minute:\n",
      "0    0\n",
      "1    0\n",
      "2    0\n",
      "3    0\n",
      "4    0\n",
      "Name: Date_time, dtype: int64\n",
      "\n",
      "Second:\n",
      "0    0\n",
      "1    0\n",
      "2    0\n",
      "3    0\n",
      "4    0\n",
      "Name: Date_time, dtype: int64\n",
      "\n",
      "Weekday:\n",
      "0    Wednesday\n",
      "1       Friday\n",
      "2       Friday\n",
      "3       Monday\n",
      "4     Thursday\n",
      "Name: Date_time, dtype: object\n"
     ]
    }
   ],
   "source": [
    "def program_132():\n",
    "    df = pd.read_csv(r'ufo.csv')\n",
    "    df['Date_time'] = df['Date_time'].astype('datetime64[ns]')\n",
    "    print(\"\\nYear:\")\n",
    "    print(df.Date_time.dt.year.head())\n",
    "    print(\"\\nMonth:\")\n",
    "    print(df.Date_time.dt.month.head())\n",
    "    print(\"\\nDay:\")\n",
    "    print(df.Date_time.dt.day.head())\n",
    "    print(\"\\nHour:\")\n",
    "    print(df.Date_time.dt.hour.head())\n",
    "    print(\"\\nMinute:\")\n",
    "    print(df.Date_time.dt.minute.head())\n",
    "    print(\"\\nSecond:\")\n",
    "    print(df.Date_time.dt.second.head())\n",
    "    print(\"\\nWeekday:\")\n",
    "    print(df.Date_time.dt.weekday_name.head())\n",
    "    \n",
    "program_132()"
   ]
  },
  {
   "cell_type": "markdown",
   "metadata": {},
   "source": [
    "### Q133. Write a pandas program to count year-country wise frequency of  reporting dates of the unidentified flying object(UFO). "
   ]
  },
  {
   "cell_type": "markdown",
   "metadata": {},
   "source": [
    "### Ans."
   ]
  },
  {
   "cell_type": "code",
   "execution_count": 134,
   "metadata": {},
   "outputs": [
    {
     "name": "stdout",
     "output_type": "stream",
     "text": [
      "\n",
      "Country-year wise frequency of reporting dates of UFO:\n",
      "Year  country\n",
      "1910  us          1\n",
      "1920  us          1\n",
      "1929  us          1\n",
      "1931  us          1\n",
      "1939  us          2\n",
      "1941  us          1\n",
      "1942  us          1\n",
      "1944  us          3\n",
      "1945  us          4\n",
      "1946  us          3\n",
      "1947  us          4\n",
      "1948  us          3\n",
      "1949  us          4\n",
      "1950  us          4\n",
      "1951  ca          1\n",
      "      us          3\n",
      "1952  us          4\n",
      "1953  us          4\n",
      "1954  us          4\n",
      "1955  us          4\n",
      "1956  us          4\n",
      "1957  us          4\n",
      "1958  us          4\n",
      "1959  us          4\n",
      "1960  us          4\n",
      "1961  us          4\n",
      "1962  us          4\n",
      "1963  us          4\n",
      "1964  us          4\n",
      "1965  us          4\n",
      "1966  us          4\n",
      "1967  us          4\n",
      "1968  us          4\n",
      "1969  us          4\n",
      "1970  us          4\n",
      "1971  ca          1\n",
      "      us          3\n",
      "1972  us          4\n",
      "1973  us          4\n",
      "1974  us          4\n",
      "1975  us          4\n",
      "1976  us          4\n",
      "1977  us          4\n",
      "1978  us          4\n",
      "1979  us          4\n",
      "1980  us          4\n",
      "1981  us          4\n",
      "1982  us          4\n",
      "1983  us          4\n",
      "1984  us          4\n",
      "1985  us          4\n",
      "1986  us          4\n",
      "1987  us          4\n",
      "1988  us          4\n",
      "1989  ca          1\n",
      "      us          3\n",
      "1990  us          4\n",
      "1991  us          4\n",
      "1992  us          8\n",
      "1993  ca          1\n",
      "      us         11\n",
      "1994  ca          1\n",
      "      us         10\n",
      "1995  ca          1\n",
      "      us         11\n",
      "1996  us         12\n",
      "1997  ca          1\n",
      "      us         13\n",
      "1998  us         13\n",
      "1999  us         11\n",
      "2000  ca          1\n",
      "      us         11\n",
      "2001  ca          1\n",
      "      us         14\n",
      "2002  ca          1\n",
      "      us         13\n",
      "2003  us          9\n",
      "2004  ca          1\n",
      "      us          6\n",
      "dtype: int64\n"
     ]
    }
   ],
   "source": [
    "def program_133():\n",
    "    df = pd.read_csv(r'ufo.csv')\n",
    "    df['Date_time'] = df['Date_time'].astype('datetime64[ns]')\n",
    "    df['Year'] = df['Date_time'].apply(lambda x: \"%d\" % (x.year))\n",
    "    result = df.groupby(['Year', 'country']).size()\n",
    "    print(\"\\nCountry-year wise frequency of reporting dates of UFO:\")\n",
    "    print(result)\n",
    "    \n",
    "program_133()"
   ]
  },
  {
   "cell_type": "markdown",
   "metadata": {},
   "source": [
    "### Q134.  Write a pandas program to get the difference (in days) between  documented date and reporting date of unidentified flying object   (UFO). "
   ]
  },
  {
   "cell_type": "markdown",
   "metadata": {},
   "source": [
    "### Ans."
   ]
  },
  {
   "cell_type": "code",
   "execution_count": 135,
   "metadata": {},
   "outputs": [
    {
     "name": "stdout",
     "output_type": "stream",
     "text": [
      "\n",
      "Difference (in days) between documented date and reporting date of UFO:\n",
      "              Date_time                            city state/province country  UFO_shape  length_of_encounter_seconds described_duration_of_encounter                                        description date_documented   latitude   longitude  Difference\n",
      "0   1910-06-01 15:00:00                     wills point             tx      us      cigar                          120                       2 minutes       Cigar shaped object moving from West to East      2005-04-16  32.709167  -96.008056       34652\n",
      "1   1920-06-11 21:00:00                          cicero             in      us    unknown                           60                        1 minute  ((NUFORC Note:  Probable hoax.  Note date.  PD...      2009-05-12  40.123889  -86.013333       32476\n",
      "2   1929-07-05 14:00:00            buchanan  (or burns)             or      us       disk                           60                            1min  we were traveling east of burns&#44clmbing up ...      2002-08-16  43.642500 -118.627500       26704\n",
      "3   1931-06-01 13:00:00                         abilene             ks      us       disk                         1800                 30 min. approx.  This is a what my mother related to me regardi...      2006-02-14  38.917222  -97.213611       27286\n",
      "4   1939-06-01 20:00:00                        waterloo             al      us   fireball                          300                       5 minutes  4 high school students see bright&#44 ground-l...      2014-02-21  34.918056  -88.064167       27293\n",
      "5   1939-07-07 02:00:00                          keokuk             ia      us       oval                          600                      10 minutes     Mother sees UFO above railroad tracks in 1939.      2005-09-02  40.397222  -91.384722       24163\n",
      "6   1941-06-01 13:00:00         ludington (hamlin lake)             mi      us       disk                           30                      30 seconds  As a boy some 60 plus years ago I saw a round ...      2003-10-07  43.955278  -86.452500       22772\n",
      "7   1942-06-01 22:30:00                       hapeville             ga      us    unknown                          180                         2-3 min       bright object approchjng Venus&#44 1940&#39s      2007-08-07  33.660000  -84.410278       23807\n",
      "8   1944-01-01 12:00:00                       san diego             ca      us      cigar                          180                       3 minutes  A sighting of one silver or white enlongated c...      2004-07-25  32.715278 -117.156389       22120\n",
      "9   1944-06-01 12:00:00                      los alamos             nm      us       disk                         3600                         1+ hour  Disk hovers over Los Alamos during the develop...      2009-05-12  35.888056 -106.306389       23720\n",
      "10  1944-04-02 11:00:00                          clovis             nm      us       disk                           90                           01:30  Saw UFO in 1944 over an airbase in New Mexico&...      2005-04-16  34.404722 -103.204722       22293\n",
      "11  1945-06-01 13:30:00                          jasper             fl      us   fireball                          300                         5minute  I belived it would be to our best Intrest to c...      2010-11-21  30.518056  -82.948333       23913\n",
      "12  1945-06-07 07:00:00                   winston-salem             nc      us       disk                            2                         seconds  I always thought this sighting should be on an...      2005-09-02  36.099722  -80.244444       22001\n",
      "13  1945-08-08 12:00:00                huntington beach             ca      us       disk                          300                       5 minutes  MY DAD SAYS HIS AUNT AND UNCLE SAW THIS CRAFT ...      2004-01-17  33.660278 -117.998333       21345\n",
      "14  1945-07-10 01:30:00                      portsmouth             va      us  formation                          180                           3 min  1945  RED  FLICKERING  V FORMATION  CRAFTS  MO...      2003-11-26  36.835278  -76.298611       21322\n",
      "15  1946-02-01 17:00:00                          merced             ca      us     sphere                           10                      10 seconds  Three luminescent chartreusse spheres moving &...      2005-10-11  37.302222 -120.481944       21801\n",
      "16  1946-07-01 13:30:00                  south portland             me      us       oval                           10                  10 seconds +/-  motionless&#44 dark oblong&#44 noon sky over o...      2008-06-12  43.641389  -70.241389       22626\n",
      "17  1946-01-08 02:00:00        new york city (brooklyn)             ny      us       disk                          300                           5 min  Huge round silver disk hovering over neighbors...      2008-03-04  40.714167  -74.006389       22700\n",
      "18  1947-06-01 02:30:00                       cleveland             oh      us      light                          300               about three hours  It was about 2:15 in the morning when my wife ...      2001-04-28  41.499444  -81.695556       19689\n",
      "19  1947-06-01 17:00:00           espanola (outside of)             nm      us     circle                          300                       5 minutes     Saucer shaped object  about  ten feet in diam.      2013-08-30  35.991111 -106.080000       24196\n",
      "20  1947-07-01 20:00:00                        cashmere             wa      us  formation                          120                       2 minutes  THE SIGHTING.&#9;It was a clear&#44 summer&#82...      2005-04-16  47.522500 -120.468611       21108\n",
      "21  1947-07-01 20:00:00                         maywood             ca      us       disk                          120                      2  minutes  1947 UFO sighting Date: ? sometime in early su...      2005-04-16  33.986667 -118.184444       21108\n",
      "22  1948-08-01 02:00:00        new york city (brooklyn)             ny      us     circle                          600                      10 minutes  A round overing craft over neighbors roof&#44 ...      2005-09-15  40.714167  -74.006389       20863\n",
      "23  1948-05-10 19:00:00                          scipio             in      us     sphere                           10                      10 seconds  Round red glowing ball going west in Northern ...      2005-04-16  39.079167  -85.717500       20794\n",
      "24  1948-12-12 23:30:00                      sharpsburg             md      us     circle                          180                       3 minutes  Small UFO at 100&#39&#44  airspeed less than 2...      2009-03-19  39.457500  -77.749167       22011\n",
      "25  1949-05-01 14:00:00               oak ridge (drive)             wv      us      other                           40                       40seconds  log shape whooshing object observed near charl...      2002-03-19  38.075000  -81.109722       19314\n",
      "26  1949-07-01 11:00:00                       fairbanks             ak      us       disk                          120                       2 minutes     Enormous metallic disc in Alaska sky&#44 1949.      2013-12-23  64.837778 -147.716389       23550\n",
      "27  1949-07-01 16:00:00                          marion             al      us  formation                           60                  under 1 minute  GEORGIA UFO GROUP Report/Tom Sheets:  Witness ...      2004-08-24  32.632222  -87.319167       20142\n",
      "28  1949-04-10 15:00:00                         seattle             wa      us       disk                          600                     ten minutes                        UFO Hovers over Seattle sky      2004-04-27  47.606389 -122.330833       20105\n",
      "29  1950-06-01 16:00:00                    philadelphia             ms      us       disk                          600             ten minutes or less  Childhood sighting of disk witnessed by mother...      2008-03-12  32.771389  -89.116667       21103\n",
      "30  1950-06-01 20:00:00                      pittsburgh             pa      us       oval                         1500                   20/25 minutes  One larger white object &amp; 2 smaller round ...      2006-02-14  40.440556  -79.996111       20346\n",
      "31  1950-08-01 04:00:00                      louisville             ky      us      other                           60                        1 minute  In 1953&#44 at the age of 3 years old I was Co...      2011-10-19  38.254167  -85.759444       22358\n",
      "32  1950-10-01 11:00:00                       pikeville             ky      us       disk                          600                              hr        SEVENTY SOME  FLYING DISK OBSERVED IN  1950      2005-04-16  37.479167  -82.518889       19920\n",
      "33  1951-06-01 07:00:00                brandon (canada)             mb      ca       disk                         1800                      30 minutes  Circular Craft and Man in Black Sighted in Sum...      2001-02-18  49.833333  -99.950000       18159\n",
      "34  1951-07-01 03:00:00                   otis orchards             wa      us       disk                          120                      ~2 minutes  Cigar shaped Disc darting back and forth (East...      2013-12-23  47.700556 -117.105278       22820\n",
      "35  1951-02-03 22:00:00                   thompsonville             ct      us       disk                           30                      30 seconds  A golden-orange glowing bowl&#44 flat on top&#...      2004-07-25  41.996944  -72.599444       19530\n",
      "36  1951-06-03 13:00:00                          jasper             nc      us       oval                          300                       5 minutes  MIDDAY OVAL SHAPE&#44 ANITQUE COLOR OBJECT SIT...      2005-06-20  35.201389  -77.206944       19740\n",
      "37  1952-07-01 15:00:00                          sebeka             mn      us      other                         1800                          30 min  Silver donut shape object sighted over rural M...      2011-12-12  46.630000  -95.088611       21712\n",
      "38  1952-07-01 22:00:00                         detroit             mi      us     sphere                          300                       5 minutes  object sits stationary for 5 minutes and then ...      2003-10-31  42.331389  -83.045833       18748\n",
      "39  1952-08-01 21:30:00                           tampa             fl      us       oval                         9000                  2 hrs. 30 min.  Triangulation radar fix (USAF&#44 civil&#44 Na...      2000-12-02  27.947222  -82.458611       17654\n",
      "40  1952-10-01 12:00:00                     kansas city             mo      us       disk                           90                         90 sec.  1952 daylight sighting of multiple discs in fo...      2008-10-31  39.099722  -94.578333       20483\n",
      "41  1953-04-01 15:00:00                       haverhill             ma      us    chevron                            2                         seconds                Historical account&#44 Haverhill MA      2005-09-02  42.776111  -71.077778       19146\n",
      "42  1953-04-01 18:00:00                       cambridge             ma      us     sphere                          180                       3 minutes  Two red-orange lights skirted Boston rooftops ...      2013-07-14  42.375000  -71.106111       22018\n",
      "43  1953-07-01 05:30:00   colorado springs (mtsn nw of)             co      us       disk                           10                      10 seconds  Absolutely huge UFO hovered 40 feet above hous...      2004-07-25  38.833889 -104.820833       18651\n",
      "44  1953-08-01 12:00:00                        berkeley             mo      us   fireball                          300                       5 minutes    Early 50&#39s sighting in Berkeley&#44 Missouri      2004-01-22  38.754444  -90.331111       18435\n",
      "45  1954-02-01 02:00:00                       fairbanks             ak      us    unknown                         1140                         19 min.  RADAR INTERCEPT OF UFO BY USAF PILOT IN ALASKA...      2009-01-10  64.837778 -147.716389       20066\n",
      "46  1954-06-01 00:00:00                         houston             tx      us       disk                          180                     2-3 minutes  I fulfilled my duty by passing on an unusual a...      2008-06-12  29.763056  -95.363056       19735\n",
      "47  1954-06-01 06:00:00                            ovid             ny      us       disk                          600                         10 min.  I saw two silver/gray objects of different sha...      2001-12-05  42.676389  -76.823333       17353\n",
      "48  1954-06-01 08:00:00   springfield (rural area near)             il      us   cylinder                          600                      5-10 mins.  This happened many years ago when I was a chil...      2000-12-02  39.801667  -89.643611       16985\n",
      "49  1955-05-01 15:00:00                        holbrook             ma      us        egg                           60                        1 minute  I turned around and over the trees was a large...      2005-04-16  42.155000  -71.009167       18247\n",
      "50  1955-06-01 02:00:00                          bagley             mn      us     circle                         7200                         2 hours  I was 5 years old at the time&#44 family of 4 ...      1999-05-24  47.521667  -95.398056       16062\n",
      "51  1955-06-01 15:29:00                      cincinnati             oh      us       disk                          120               approx. 1-1/2 min  June 1955.  Bronze saucer/cylindrical craft; a...      2003-06-18  39.161944  -84.456944       17548\n",
      "52  1955-06-01 17:00:00            martinez (outskirts)             ca      us     circle                         1800                      30 minutes  We observed a large object aprox.size &quot;fo...      2000-02-16  38.019444 -122.133056       16330\n",
      "53  1956-01-01 05:30:00                         weirton             wv      us       disk                           10                      10 seconds  My Uncle Sam was driving to work very early on...      2000-01-07  40.418889  -80.589722       16076\n",
      "54  1956-03-01 13:00:00                        petaluma             ca      us       oval                         1800                      30 minutes  Objects were several thousand feet in altitude...      1999-01-28  38.232500 -122.635556       15672\n",
      "55  1956-05-01 12:00:00                          canton             oh      us      cigar                          120                       2 minutes  At first the silver disc was stationary. As it...      2005-09-15  40.798889  -81.378611       18033\n",
      "56  1956-06-01 19:00:00                          belton             mo      us      other                          600                          10min.  THE EVENT WAS A PERSONAL CONTACT WITH AN ALIEN...      1999-01-28  38.811944  -94.531667       15580\n",
      "57  1957-01-01 21:00:00                          dallas             tx      us    unknown                           20                      20 seconds  I was flying the first of 4 USAF aircraft on a...      2004-08-24  32.783333  -96.800000       17401\n",
      "58  1957-05-01 12:00:00                          canton             oh      us      cigar                          180                       3 minutes  Cigar shaped object is motionless for more tha...      2004-04-27  40.798889  -81.378611       17162\n",
      "59  1957-06-01 10:00:00                         el paso             tx      us       disk                            7                  5 to 7 seconds  The UFO did not make any sounds.  The craft&#3...      2002-07-26  31.758611 -106.486389       16490\n",
      "60  1957-06-01 20:00:00                     glens falls             ny      us       disk                          240                         3or4min  there was no mistakeing what i was looking at ...      2000-12-02  43.309444  -73.644444       15889\n",
      "61  1958-01-01 22:00:00                             pep             tx      us   fireball                            2                            2sec  Green fire balls&#44 Texas Panhandle&#44 late ...      2009-12-12  33.816111 -102.557778       18972\n",
      "62  1958-06-01 02:00:00                       middlesex             nc      us     circle                         3600                          1 hour                               white glowing lights      2006-03-11  35.790000  -78.204167       17449\n",
      "63  1958-06-01 19:00:00                   san francisco             ca      us       oval                          120                       2 minutes  A low flying huge silver flying saucer positio...      2003-10-31  37.775000 -122.418333       16587\n",
      "64  1958-06-01 21:00:00           new york city (bronx)             ny      us       oval                           10                      10 seconds  7 brightly illuminated elliptical discs racing...      2005-04-16  40.714167  -74.006389       17120\n",
      "65  1959-04-01 01:00:00                           miami             fl      us     sphere                         2700                   30-45 minutes  1959 childhood encounter with a spherical&#44 ...      2008-02-14  25.773889  -80.193889       17850\n",
      "66  1959-05-01 18:30:00                        columbus             oh      us      light                          180                         2-3 min  Red-orange lights over seen motionless over Lo...      2002-02-22  39.961111  -82.998889       15637\n",
      "67  1959-06-01 12:00:00                          orange             ct      us   cylinder                         3600                         1 hour?  Sighted craft and transport of object to the g...      2009-03-19  41.278333  -73.026111       18188\n",
      "68  1959-06-01 18:30:00                          sidney             oh      us      light                          300                       5 minutes  Saw a bright light shining down.  Pulled over ...      2007-04-27  40.284167  -84.155556       17496\n",
      "69  1960-02-01 22:15:00                        st. paul             mn      us      cigar                            3                       3 seconds  A cigar-shaped UFO glided down towards the ear...      2000-03-16  44.944444  -93.093056       14653\n",
      "70  1960-02-01 23:00:00                        hartwell             ga      us      cigar                           45         approx 30 to 45 seconds  My father explained an event of a large cigar-...      2005-04-16  34.352778  -82.932222       16510\n",
      "71  1960-04-01 21:00:00                         houston             tx      us      other                          300                      <5 minutes  Sharp right angle turn in flight direction aft...      2003-12-19  29.763056  -95.363056       15966\n",
      "72  1960-05-01 20:00:00                          tucson             az      us      light                          300                     4-5 minutes  Lights only&#44 no sound&#44 moving across the...      2005-09-02  32.221667 -110.925833       16559\n",
      "73  1961-01-01 12:00:00                     santa clara             ca      us     circle                        10800                         3 hours         Stationary circular object 12 oclock high.      2004-01-17  37.354167 -121.954167       15720\n",
      "74  1961-01-01 13:00:00                    kendallville             in      us     circle                           30                      30 seconds  It was a clear Indiana day and I saw something...      2007-10-08  41.441389  -85.265000       17080\n",
      "75  1961-04-01 20:00:00                      shenandoah             pa      us      light                          120                     few minutes           UFOs spotted coming from behind the moon      2003-07-16  40.820278  -76.201111       15445\n",
      "76  1961-05-01 22:00:00                          auburn             wa      us      cigar                          300                           5 min  Grandmother saw a cigar shaped craft which she...      2001-11-20  47.307500 -122.227222       14812\n",
      "77  1962-01-01 08:00:00                        key west             fl      us     sphere                          300                  3 to 5 minutes  in the very early morning hours of 1962&#44 I ...      1998-03-07  24.555278  -81.782778       13213\n",
      "78  1962-03-01 08:00:00                       snohomish             wa      us    diamond                         1500                      25 minutes  I saw a UFO shoot incredibly fast and straight...      2007-11-28  47.913056 -122.096944       16707\n",
      "79  1962-06-01 00:00:00                    bartlesville             ok      us    unknown                          120                    minute or so  Childhood visitation 1962&#44 possible implant...      2012-07-04  36.747222  -95.980556       18296\n",
      "80  1962-06-01 12:00:00                    ellwood city             pa      us       disk                           60                       1 minutes  came down never touched ground had mist like a...      1999-01-28  40.861667  -80.286667       13389\n",
      "81  1963-01-01 22:00:00                   helena (near)             mt      us    diamond                         3600                          1 hour              Diamond shaped UFO blocks USAF runway      2012-02-10  46.592778 -112.035278       17936\n",
      "82  1963-04-01 07:00:00                          tucson             az      us   triangle                          600                      10 minutes  Observed in western sky @ about 100 ft. flying...      1999-08-10  32.221667 -110.925833       13279\n",
      "83  1963-06-01 00:00:00                           cocoa             fl      us    unknown                          900                        one hour  We are not alone&#44  I swear it before God Al...      2006-12-14  28.385833  -80.742222       15902\n",
      "84  1963-06-01 02:00:00                st. louis county             mo      us      cigar                          300                   5 mins approx  Cigar shaped craft hovering over swimming pool...      2007-08-07  38.627222  -90.197778       16137\n",
      "85  1964-05-01 22:00:00                      orangevale             ca      us      light                          300                    five minutes  Chased by a single light - Sacramento&#44 CA 1964      2004-06-18  38.678611 -121.224722       14657\n",
      "86  1964-06-01 04:30:00                     haltom city             tx      us      light                          600                      10 minutes         Light beam travel across roof-tops...1964.      2007-02-01  32.799444  -97.268889       15584\n",
      "87  1964-06-01 15:00:00                        sallisaw             ok      us      light                         1800                      30 minutes  &#39&#39ON ICE PROJECT&#39&#39 - UNDERGROUND C...      2011-05-12  35.460278  -94.787222       17145\n",
      "88  1964-07-01 12:00:00                  laurel springs             nj      us      other                          300                     5 minutes ?  Large glowing rock&#44 covered the sky&#44 ver...      2003-09-28  39.820000  -75.006667       14332\n",
      "89  1965-01-01 17:00:00                          mokena             il      us      light                           20                      20 seconds                         Light over Mokena Illinios      2010-11-21  41.526111  -87.889167       16759\n",
      "90  1965-01-01 20:00:00                          conway             ar      us      light                         3600                          1 hour  At a drive-in during the summer my brother and...      1998-06-02  35.088611  -92.441944       12204\n",
      "91  1965-01-01 20:00:00                      st. ansgar             ia      us   fireball                           20                      20 seconds                                 winter nite wonder      2007-02-01  43.378333  -92.918611       15370\n",
      "92  1965-04-01 15:30:00                         schertz             tx      us       disk                           15                         15 secs  Flying Disk seen approx 150 ft above ground ne...      1999-01-28  29.551944  -98.269444       12354\n",
      "93  1966-01-01 17:00:00                       flagstaff             az      us       disk                          600                      10 minutes  Spotted two black disk shaped objects flying o...      2001-01-03  35.198056 -111.650556       12785\n",
      "94  1966-02-01 01:00:00                        randolph             oh      us       oval                           10             five to ten seconds  extremely fast UFO stopping dead still in mid ...      2008-08-12  41.032778  -81.248611       15532\n",
      "95  1966-04-01 19:00:00                        richmond             mo      us       disk                         3600                          1 hour  Four Teenagers Site UFO on Country Road near R...      2000-12-02  39.278611  -93.976667       12663\n",
      "96  1966-04-01 21:00:00                   new braintree             ma      us     circle                         1800                    ~ 30 minutes  A large red glowing &quot;plasma cloud&quot; a...      2001-04-01  42.316667  -72.126389       12783\n",
      "97  1967-03-01 19:30:00                        whittier             ca      us       oval                            2                       2 seconds  Two observers witnessed 500-foot long oval cra...      2005-04-16  33.979167 -118.031944       13925\n",
      "98  1967-04-01 00:00:00                        valdosta             ga      us       disk                          180                     2-3 minutes  The craft moved about in the sky just like a h...      2008-10-31  30.832500  -83.278611       15189\n",
      "99  1967-04-01 17:45:00                       las vegas             nv      us      light                          120                       2 minutes  pulsating white round  light that changed betw...      2003-07-16  36.175000 -115.136389       13254\n",
      "100 1967-04-01 21:00:00                       homestead             fl      us    unknown                         7200                         2 hours  Red lights along the side&#44 white light in f...      2005-06-20  25.468333  -80.477778       13959\n",
      "101 1968-01-01 00:00:00                      burlington             nj      us     circle                         1200                           20min  New Years night in the late 60&#39s I&#44 my f...      2009-03-19  40.071111  -74.865278       15053\n",
      "102 1968-01-01 00:00:00                        lawndale             ca      us     circle                           60                        1 minute                                Craft with a portal      2009-12-12  33.887222 -118.351667       15321\n",
      "103 1968-01-01 21:00:00                     west monroe             la      us      light                         1200                      20 minutes  On the way into town&#44 a light appeared over...      1999-07-05  32.509167  -92.119167       11507\n",
      "104 1968-01-01 23:00:00                         wheaton             md      us     circle                           60                        1 minute  Woke up by loud noise&#44 parents said to come...      2013-11-11  39.039722  -77.055556       16750\n",
      "105 1969-01-01 20:00:00                     farmerville             la      us      other                          120                       2 minutes  Five bright white&#44 small balls jumped out o...      1999-07-05  32.773333  -92.405556       11141\n",
      "106 1969-03-01 00:00:00                           omaha             ne      us       oval                           30                  thirty seconds  Football shaped glowing orange light drifts st...      2011-12-12  41.258611  -95.937500       15626\n",
      "107 1969-03-01 15:00:00                        oak lawn             il      us       disk                         1800                          30 min  2 Large UFOs seen by my brother and his drivin...      2005-01-19  41.710833  -87.758056       13107\n",
      "108 1969-03-01 21:00:00                     perth amboy             nj      us      light                          120                       2 minutes  While observing Venus through telescopes&#44 m...      2005-06-20  40.506667  -74.265833       13259\n",
      "109 1970-01-01 02:00:00                          joplin             mo      us    unknown                         1800                          30 min            Large object moved slowly over the city      2010-07-06  37.084167  -94.513056       14795\n",
      "110 1970-01-01 12:00:00                    grand rapids             mi      us       disk                         1800                      30 minutes  Low flying&#44 zig-zagging disc with lights in...      2003-11-11  42.963333  -85.668056       12366\n",
      "111 1970-05-01 00:00:00           new york city (bronx)             ny      us      other                          300                       5 minutes  Bronx&#44 NY : It was a  solid silver -colored...      2004-01-17  40.714167  -74.006389       12314\n",
      "112 1970-05-01 00:00:00        new york city (p. s. 54)             ny      us      other                          180                       3 ninutes  I and scores of others witness a silver pyrami...      2004-01-17  40.714167  -74.006389       12314\n",
      "113 1971-01-01 01:00:00          niagara falls (canada)             on      ca       oval                          300                          5 min.  In van driving home. Van stalled beside Winery...      2000-12-02  43.100000  -79.050000       10927\n",
      "114 1971-02-01 18:30:00                    waverly hall             ga      us     circle                         3000                   45-50 minutes  saw bright circular object almosr directly ove...      1998-06-18  32.683333  -84.738333        9998\n",
      "115 1971-02-01 19:00:00                          gorham             nh      us      light                          300                       5 minutes  Bright lite seen moving eraticaly over mountai...      2005-09-02  44.387778  -71.173611       12631\n",
      "116 1971-04-01 21:00:00                   boulder creek             ca      us      cigar                         1200                           20min  I saw the craft slowly and silently gliding al...      2004-01-22  37.126111 -122.121111       11983\n",
      "117 1972-01-01 16:00:00                         seattle             wa      us   triangle                           30                         30 sec.  Man reports sighting in l972 or 1973.  Heard w...      1999-11-02  47.606389 -122.330833       10166\n",
      "118 1972-01-01 20:00:00                      huntsville             al      us    unknown                          120                       2 minutes  3 lights&#44 light speed&#44 no sound&#44 90 d...      2005-04-16  34.730278  -86.586111       12158\n",
      "119 1972-03-01 23:30:00                         salinas             ca      us      cigar                          180                      2 - 3 min.  Huge object. At least 2 football fields long. ...      1999-04-02  36.677778 -121.654444        9892\n",
      "120 1972-04-01 19:00:00                    indianapolis             in      us       disk                         3600                   1 hour aprox.  Indianapolis Multi-Colored Round object 1972-7...      2011-05-02  39.768333  -86.158056       14274\n",
      "121 1973-01-01 23:30:00                     chattanooga             tn      us       oval                           30                         30 sec.  3 objects in a tri-angle formation also in sta...      1999-12-16  35.045556  -85.309722        9844\n",
      "122 1973-02-01 22:00:00                        honolulu             hi      us     sphere                          300                       5 minutes  I was standing on the shore looking out toward...      2008-10-31  21.306944 -157.858333       13055\n",
      "123 1973-02-01 23:00:00                    port sulphur             la      us     circle                            3                       3 seconds                               Drag Racing UFO&#39s      2004-10-27  29.480278  -89.693889       11590\n",
      "124 1973-03-01 01:00:00  santa fe (near&#44 on highway)             nm      us    unknown                          600                      10 minutes  I had an Out of Body experience while driving ...      2004-02-12  35.686944 -105.937222       11304\n",
      "125 1974-01-01 01:00:00                            kent             wa      us      cigar                          300                        5:00 min  Cigar shaped with distint window shapes the wi...      1999-01-28  47.381111 -122.233611        9157\n",
      "126 1974-04-01 07:30:00                          aurora             co      us   changing                            5                       5 seconds  Ever changing Object sighted&#44 Aurora&#44 Co...      2009-03-19  39.729444 -104.831389       12770\n",
      "127 1974-05-01 17:00:00                        franklin             ky      us       oval                          300                       5 minutes                                         Round Disk      2013-02-18  36.722222  -86.577222       14172\n",
      "128 1974-06-01 00:00:00                       bardstown             ky      us       disk                          600                    5-1o minutes  yellowish gold saucer with lights hovering ove...      2009-08-05  37.809167  -85.466944       12849\n",
      "129 1975-01-01 03:00:00                       jamestown             ny      us     sphere                          120                   a few minutes  I was 13-15.  I was in my parent house on Moon...      1998-03-07  42.096944  -79.235556        8465\n",
      "130 1975-01-01 12:00:00                         phoenix             az      us       disk                          300                       5 minutes      Saucer sighting in 1970s near Phoenix&#44 AZ.      2009-03-19  33.448333 -112.073333       12495\n",
      "131 1975-01-01 19:00:00                    waverly hall             ga      us     sphere                          600                      5 - 10 min                                    Hovering Sphere      2003-11-26  32.683333  -84.738333       10555\n",
      "132 1975-01-01 20:00:00                          denver             co      us       disk                          180                       3 minutes  Flying saucer seen by 100 people at drive-in t...      2002-12-23  39.739167 -104.984167       10217\n",
      "133 1976-05-01 12:00:00                      st. thomas             pa      us    diamond                          120                  couple minutes                 2 craft seen for a couple minutes.      2005-07-05  39.917500  -77.798056       10656\n",
      "134 1976-05-01 20:00:00                        coventry             ri      us  formation                          180                            3min      red orbs &#39dancing&#39 around a central orb      2004-06-18  41.700000  -71.683333       10274\n",
      "135 1976-05-01 22:00:00                        lakewood             co      us   triangle                          420                         5-7 min  lighte object over lakewood Colorado. event  l...      2007-11-28  39.704722 -105.080833       11532\n",
      "136 1976-05-01 23:00:00                           miami             fl      us     sphere                         2400                      40 minutes  Orange sphere with alternating sound&#44 30 fe...      2006-10-30  25.773889  -80.193889       11138\n",
      "137 1977-01-01 12:00:00                      great neck             ny      us   cylinder                         1800                      30 minutes  When I was a child&#44 I witnessed shiney gold...      2007-02-01  40.800556  -73.728889       10987\n",
      "138 1977-01-01 19:30:00       new york city (manhattan)             ny      us     sphere                           60                   30-60 seconds  A small gray ball moved past my bedroom window...      2005-09-02  40.714167  -74.006389       10470\n",
      "139 1977-01-01 20:00:00                    la crescenta             ca      us  formation                        10800                    2 to 3 hours                   Triangle formation in foothills.      2007-11-28  34.224167 -118.239167       11287\n",
      "140 1977-01-01 20:00:00                     westminster             ca      us       disk                          300                       5 minutes  There were two ships&#44 saucer shaped&#44 sil...      2010-02-14  33.759167 -118.005833       12096\n",
      "141 1978-01-01 01:00:00                       june lake             ca      us       disk                          900                          15 min                seen flying saucers at june lake ca      2006-02-14  37.779722 -119.074444       10270\n",
      "142 1978-01-01 13:00:00                           sagle             id      us     sphere                           20                      20 seconds  Hovering gray&#44 grapefruit size&#44 shaped s...      2007-10-08  48.202500 -116.546667       10871\n",
      "143 1978-02-01 22:00:00                          dublin             nh      us   triangle                         1200                       15-20 min  I was with five friends at prep school in Dubl...      2000-12-09  42.907500  -72.063056        8346\n",
      "144 1978-03-01 17:00:00                       los gatos             ca      us       oval                           60                 1 min / approx.  Large elipsoid object (greenish hugh) hovering...      1999-01-28  37.226667 -121.973611        7637\n",
      "145 1979-01-01 17:00:00                          orange             ca      us       disk                         1200                      20 minutes  In Broad daylight saucer appeared 50 feet abov...      2005-09-15  33.787778 -117.852222        9753\n",
      "146 1979-01-01 20:00:00                   redondo beach             ca      us       disk                           15                         15 sec.  Low-altitude disk flying slowly; red lights ar...      2000-02-23  33.849167 -118.387500        7722\n",
      "147 1979-02-01 02:30:00                  lake arrowhead             ca      us     circle                          180                           3 min  My husband&#44 3 children&#44 and I moved to L...      2005-04-16  34.248333 -117.188333        9570\n",
      "148 1979-03-01 04:00:00                         medford             or      us    unknown                          300                           5 min  While in flight landing at Medford from Klamma...      1998-09-26  42.326667 -122.874444        7148\n",
      "149 1980-01-01 01:00:00                    indianapolis             in      us      light                          420                       7 minutes  Very bright green light without sound moved ov...      2007-06-12  39.768333  -86.158056       10023\n",
      "150 1980-01-01 23:30:00                        chicopee             ma      us    diamond                          300                       5 minutes  I heard a noise like thunder&#44 went to the k...      2000-02-16  42.148611  -72.608333        7350\n",
      "151 1980-03-01 00:30:00                          oxford             ct      us      cigar                          120                       2 minutes              Large Cigar shaped object very close.      2004-07-25  41.433889  -73.117222        8911\n",
      "152 1980-03-01 18:00:00                          bisbee             az      us      other                         1800                      30 minutes  Large&#44 nearby&#44 stationary&#44 metallic&#...      2003-10-07  31.448056 -109.927778        8619\n",
      "153 1981-01-01 00:01:00                        el cajon             ca      us     sphere                         1800                       30 minute  My husband and I were at home just bringing in...      2004-01-22  32.794722 -116.961667        8420\n",
      "154 1981-01-01 01:00:00                         el reno             ok      us       disk                         1800                         30 mins                       New Years 1981 Crashing Disc      2002-01-11  35.532222  -97.954722        7679\n",
      "155 1981-03-01 17:45:00                   mckinleyville             ca      us      other                           20                        00:00:20  Large (house-sized)&#44 slow moving (45-60 mph...      2012-12-20  40.946667 -124.099444       11616\n",
      "156 1981-03-01 22:00:00                        campbell             ca      us      cigar                          180                       3 minutes  Multiple sighting in Campbell CA of spacecraft...      2006-03-11  37.287222 -121.948889        9140\n",
      "157 1982-01-01 20:00:00                   orange county             nc      us     circle                          900                      15 minutes                       this was no helicopter squad      2002-12-23  35.129444  -78.522500        7660\n",
      "158 1982-05-01 20:00:00                      piscataway             nj      us       disk                          900                      15 minutes  In May 1982&#44 I had a close up day light sig...      2007-03-08  40.499167  -74.399444        9076\n",
      "159 1982-06-01 00:00:00                         oakland             md      us      light                           60                        1 minute  Bright light in woods moves toward witness; wi...      2006-05-15  39.407778  -79.406944        8749\n",
      "160 1982-06-01 01:00:00                         hershey             pa      us       oval                           30                      30 seconds                     Sleath Blimp sighted in Pa&#44      2006-10-30  40.285833  -76.650556        8916\n",
      "161 1983-03-01 19:00:00                       sandpoint             id      us       disk                          180                       3 minutes  Outside in our front yard&#44 we heard a craft...      2001-04-28  48.276667 -116.552222        6632\n",
      "162 1983-03-01 20:00:00                     o&#39fallon             il      us       disk                          180                  2 or 3 minutes  Disk seen hovering over residential area in O&...      2008-10-31  38.592222  -89.911111        9375\n",
      "163 1983-05-01 17:30:00               north kansas city             mo      us      other                          120                       2 minutes                        Something Above Us that Day      2011-12-12  39.130000  -94.561944       10451\n",
      "164 1983-05-01 19:00:00       washington county (rural)             ms      us    diamond                         7200                         2 hours  Diamond shaped craft sighting followed by miss...      2009-03-19  31.578611  -91.299167        9453\n",
      "165 1984-03-01 22:00:00                          eugene             or      us   triangle                          600                      10 minutes  Large Black colored triangle shaped ship. Euge...      2002-07-26  44.052222 -123.085556        6720\n",
      "166 1984-05-01 18:00:00                          joliet             il      us     circle                          180                       3 minutes  Driving with Mom and saw a grey disk hovering ...      2007-08-07  41.525000  -88.081667        8497\n",
      "167 1984-05-01 19:00:00             glen rose (malvern)             ar      us   triangle                         1200                    20 minutes ?  This happened some years ago: I had taken my d...      2005-05-11  34.455556  -92.729444        7679\n",
      "168 1984-05-01 20:00:00                      burnsville             mn      us  rectangle                          300                         5 mins.  Enormous Rectangle object with rows of red and...      2009-06-09  44.767778  -93.277500        9169\n",
      "169 1985-01-01 01:00:00                           holly             mi      us      other                          900                           15min  group of lihtts two circled real fast then the...      2006-03-11  42.791944  -83.627778        7738\n",
      "170 1985-01-01 21:00:00                           largo             fl      us      other                          300                       5 minutes  Very large UFO&#44 irregular in shape&#44  glo...      2005-05-11  27.909167  -82.787500        7434\n",
      "171 1985-02-01 22:30:00                        portland             or      us      light                          900                         15 mins  multiple points of light hovering? over the we...      2001-08-05  45.523611 -122.675000        6028\n",
      "172 1985-03-01 20:30:00                         wichita             ks      us   triangle                            2                     1-2 seconds  I was lying on my pool deck when out of my per...      2000-02-23  37.692222  -97.337222        5471\n",
      "173 1986-01-01 03:00:00                       crestwood             ky      us       oval                          180                     2-3 minutes  A faint beam of white light that seemed to com...      2004-04-27  38.324167  -85.472500        6690\n",
      "174 1986-04-01 14:30:00                         chicago             il      us     sphere                           10                      10 seconds  SOCCER-SIZED CRYTAL-LIKE SPIKED BALL&#44 Easil...      2007-02-01  41.850000  -87.650000        7610\n",
      "175 1986-04-01 22:00:00     red lodge (6 mi n; hwy 212)             mt      us    unknown                           90                         1.5 min  Definitely an aircraft but totally silent and ...      2002-01-11  45.185833 -109.246111        5763\n",
      "176 1986-04-01 22:15:00                     brownsville             tx      us       disk                         1200                10 to 20 minutes                           UFO tries to communicate      2002-03-19  25.901389  -97.497222        5830\n",
      "177 1987-01-01 00:00:00                   castro valley             ca      us       oval                           10                    9-10 seconds  One single&#44 beach ball sized .... &amp;quot...      2013-07-03  37.694167 -122.085278        9680\n",
      "178 1987-02-01 14:00:00                           lucas             tx      us      other                          120                       2 minutes                                 Car in the clouds.      2013-12-02  33.084167  -96.576389        9800\n",
      "179 1987-03-01 01:00:00                          revere             ma      us      light                         3600                          1 hour                  Dancing Lights in sky as a child.      2001-03-06  42.408333  -71.012500        5118\n",
      "180 1987-03-01 19:00:00                     weaverville             nc      us   triangle                          120                           2 min                         UFO IN ASHEVILLE N.C. 1987      2002-01-29  35.696944  -82.560833        5447\n",
      "181 1988-01-01 03:00:00                         roselle             il      us   triangle                          180                         2-3 min  fast moving Triangle with no sound and orange ...      2006-10-30  41.984722  -88.079722        6876\n",
      "182 1988-08-02 20:00:00                         clinton             ms      us     circle                          300                       5 minutes  A colorful ring of lights hovering over someon...      2003-11-08  32.341389  -90.321667        5575\n",
      "183 1988-09-03 15:30:00                         harvard             ma      us     sphere                          180                       3 minutes  Bright silver craft witnessed by many people. ...      2013-12-12  42.500000  -71.583333        9230\n",
      "184 1988-07-04 21:00:00                    jacksonville             fl      us   triangle                            4                       4 seconds  I saw object but my family did not even though...      2003-03-04  30.331944  -81.655833        5355\n",
      "185 1989-01-01 23:59:00                         wagoner             ok      us      light                          120                        1-2 mins  My friend and I who were both 16 at the time w...      1998-03-07  35.959444  -95.369167        3351\n",
      "186 1989-09-02 12:00:00              pickering (canada)             on      ca   triangle                          180                          3 min.  as i was reading a sighting from someboby in o...      2003-10-31  43.866667  -79.033333        5171\n",
      "187 1989-07-03 23:00:00                      belleville             ks      us   triangle                           30                      30 seconds           Triangular craft descends into the water      2007-02-01  39.824444  -97.632222        6421\n",
      "188 1989-01-05 00:15:00                    philadelphia             pa      us      cigar                          600                      10 minutes  An object followed my car parallel to me then ...      2006-10-30  39.952222  -75.164167        6506\n",
      "189 1990-05-01 20:00:00                         kingman             az      us      flash                          300                           5 min                                  Comet in Kingman?      2005-05-11  35.189444 -114.052222        5488\n",
      "190 1990-09-02 21:00:00                          dallas             tx      us      light                           45                          45 sec                  VERY BRIGHT LIGHTS FROM UP ABOVE.      2003-08-28  32.783333  -96.800000        4742\n",
      "191 1990-07-03 23:00:00               north miami beach             fl      us      light                          600                     10 minutes?       90 degree turn&#44 possible missing time (?)      2004-04-27  25.932778  -80.162778        5046\n",
      "192 1990-10-05 22:00:00                          fresno             ca      us   changing                         7200                        1-2hours                          Three objects in the sky.      2005-05-24  36.747778 -119.771389        5344\n",
      "193 1991-03-01 04:30:00                     minneapolis             mn      us        egg                          600                      10 minutes  5-6 silver&#44 egg-shaped craft desending one ...      2000-06-06  44.980000  -93.263611        3384\n",
      "194 1991-09-02 21:30:00                     morgan hill             ca      us    unknown                         1800                          30 min  We witnessed about 12 black objects pass overh...      1999-08-10  37.130556 -121.653333        2898\n",
      "195 1991-06-03 22:00:00                           dixon             il      us       disk                          600                      10 minutes  saw what we thought was a helicopter in troubl...      1999-04-26  41.838889  -89.479444        2883\n",
      "196 1991-07-04 23:00:00                         wichita             ks      us       disk                         3600               more than an hour  It was summer&#44 I had my dauther who is now ...      2008-08-12  37.692222  -97.337222        6248\n",
      "197 1992-02-01 20:00:00                     grants pass             or      us      light                          600                          10 min  Going across sky.  Thought it was airplane at ...      1999-04-02  42.439167 -123.327222        2616\n",
      "198 1992-04-02 22:24:00                    pebble beach             ca      us      light                           20                   15-20 seconds  A green light was iluminating the ocean as we ...      1999-01-28  36.566389 -121.945556        2491\n",
      "199 1992-09-03 19:00:00                      wilmington             nc      us       disk                          540                      5 - 9 mins               multiple saucers&#44 there and gone.      2005-02-08  34.225556  -77.945000        4540\n",
      "200 1992-07-04 23:00:00                          seatac             wa      us    unknown                           20                       15-20 sec  unidentified object in sky over seatac/des moi...      2007-04-27  47.453889 -122.320556        5409\n",
      "201 1992-08-05 23:00:00                      wilmington             ny      us   triangle                           10                      10 seconds  Mystery lights flew over my home and car withi...      2014-03-21  44.388333  -73.815833        7897\n",
      "202 1992-04-08 21:00:00                        hartford             ct      us    unknown                           25                           25sec  stange light in the night sky unlike i never s...      2009-06-09  41.763611  -72.685556        6270\n",
      "203 1992-10-09 08:00:00                        seminole             tx      us  rectangle                           30                      30 seconds  I saw a UFO very clearly and can describe it t...      2013-11-20  32.718889 -102.644444        7711\n",
      "204 1992-10-10 17:00:00                     panama city             fl      us  formation                         3600                       1 hour(?)  During a road trip to Panama City a friend and...      1999-01-28  30.158611  -85.660278        2300\n",
      "205 1993-03-01 05:30:00                          ganado             az      us      other                      6312000                         20years  For many years since 1978 to 2004 there have b...      2007-08-07  35.711389 -109.541389        5271\n",
      "206 1993-11-02 02:00:00                      evansville             in      us   triangle                         1800                      30 minutes  Driving home from work one evening late around...      2004-09-09  37.974722  -87.555833        3963\n",
      "207 1993-09-03 15:00:00                     burnt ranch             ca      us       disk                         1800                         30 min.  Huge disk with hour glass directly above (cent...      1999-02-16  40.809167 -123.473056        1991\n",
      "208 1993-08-04 20:30:00                         lahaina             hi      us    chevron                            4                         3-4 sec  Maui&#44 August 1993&#44 incredibly fast &amp;...      2005-05-24  20.878333 -156.682500        4310\n",
      "209 1993-07-05 20:00:00                       papillion             ne      us  rectangle                          360                  5 or 6 minutes                                  unexplained craft      2005-02-24  41.154444  -96.041944        4251\n",
      "210 1993-09-06 00:30:00                         seattle             wa      us   triangle                            6                       6 seconds                                lights over Seattle      2003-09-09  47.606389 -122.330833        3654\n",
      "211 1993-07-07 23:00:00                          marion             in      us   cylinder                         1800                   20-30 minutes  A black van asked me and the other witness if ...      2004-01-17  40.558333  -85.659167        3845\n",
      "212 1993-09-08 23:30:00               edmonton (canada)             ab      ca      cigar                        18000                       4-5 hours  Lots of different ufo sightings and unexplaina...      2014-01-16  53.550000 -113.500000        7434\n",
      "213 1993-08-09 23:50:00                     westminster             co      us   triangle                           60                        1 minute  A white puffy cottonball appeared and then a t...      1999-08-30  39.836667 -105.036667        2211\n",
      "214 1993-04-10 13:00:00                    three rivers             tx      us     sphere                         1200                      20 minutes                       Spherical UFO tracks vehicle      2009-01-10  28.460000  -98.182222        5753\n",
      "215 1993-06-11 01:00:00                           lusby             md      us      other                        32400                         9 hours  Possible alien encounter and or abduction in 1...      2012-08-05  38.410556  -76.455556        6994\n",
      "216 1993-07-12 23:30:00                   niagara falls             ny      us  formation                           30                      20-30 sec.  While walking with two friends in single file....      1999-04-02  43.094444  -79.056944        2089\n",
      "217 1994-01-01 18:00:00                        ringwood             nj      us    unknown                          240                        4minutes           Strange light&#44 stranger disappearance      2005-04-16  41.113333  -74.245833        4122\n",
      "218 1994-05-02 22:00:00             glassville (canada)             nb      ca    diamond                          300                       5 minutes  My Dad and I were driving down the street when...      1999-04-02  46.483333  -67.416667        1795\n",
      "219 1994-03-03 23:00:00                 moab (south of)             ut      us   triangle                           60                 one full minute         Rotating triangle of lights south of Moab.      2001-08-05  38.573333 -109.549167        2711\n",
      "220 1994-04-04 17:00:00                       hollywood             fl      us     circle                         7200                           2 hrs             Orange Orbs in Broward County Florida.      2005-02-22  26.010833  -80.149722        3976\n",
      "221 1994-05-05 21:00:00            newport beach (near)             ca      us      flash                            5                    five seconds  saw what I first thought was a comet or some o...      1999-01-28  33.618889 -117.928056        1728\n",
      "222 1994-12-06 21:20:00                      farmington             mo      us    chevron                          120                       2 minutes  No lights&#44 no sound&#44 and HUGE.  Quite an...      2003-08-28  37.780833  -90.421667        3186\n",
      "223 1994-08-07 22:30:00                       ypsilanti             mi      us  formation                         2700                         45 min.  3 objects&#44  amber in color&#44  bell shaped...      2009-05-12  42.241111  -83.613056        5391\n",
      "224 1994-03-09 21:00:00                          canton             mi      us    unknown                          120                           2 min                  UFO Encounter in Canton Michigan.      2007-04-27  42.308611  -83.482222        4796\n",
      "225 1994-03-10 18:00:00                         wyoming             mi      us       disk                           60                           1 min  disk shaped looked to be black with colored fl...      2006-05-15  42.913333  -85.705278        4448\n",
      "226 1994-04-11 21:00:00                    harrisonburg             la      us       disk                           30                      30 seconds  large&#44 well-lit saucer passes only a hundre...      2005-02-22  31.771944  -91.821389        3969\n",
      "227 1994-01-12 18:00:00                       cedar key             fl      us    chevron                          300                       5 minutes  Huge bluish black delta  wing 50 feet or less ...      2003-09-04  29.138333  -83.035278        3521\n",
      "228 1995-01-01 02:00:00                      el granada             ca      us   fireball                           45                      45 seconds  Glowing fireball  object crashed at Maverick&#...      2002-11-04  37.502778 -122.468333        2863\n",
      "229 1995-07-02 13:30:00                       pendleton             ny      us      other                          900                        10-15min  It was a bright sunny day.  The wind was wippi...      2002-01-11  43.086944  -78.728056        2384\n",
      "230 1995-07-03 22:00:00              penticton (canada)             bc      ca      light                          300                       5 minutes              Darting lights high over Penticton BC      2007-11-28  49.500000 -119.583333        4530\n",
      "231 1995-04-04 04:00:00                    williamsburg             va      us     sphere                         1500                      25 minutes                             Sphere witnessed in VA      2003-10-31  37.270556  -76.707778        3131\n",
      "232 1995-01-05 20:10:00                          sumner             wa      us       disk                           40                       20-40 sec  ship flew almost over my head and it was commi...      2010-11-21  47.203333 -122.239167        5798\n",
      "233 1995-05-06 21:00:00                       watertown             ct      us      light                          120                       2 minutes  Strange Hovering Light - Noticed and Approache...      2006-07-16  41.606111  -73.118611        4088\n",
      "234 1995-02-07 20:35:00                          tacoma             wa      us    unknown                            7                         5-7 sec  Work crew on railrodad loading dock witness ap...      1999-11-02  47.253056 -122.443056        1728\n",
      "235 1995-07-08 23:00:00                         ravenna             oh      us    unknown                          600                      10 minutes  red lights and slow moving objest over  sait m...      2006-05-15  41.157500  -81.242222        3963\n",
      "236 1995-11-09 16:30:00                       elizabeth             nj      us       oval                           90                    90 seconds ?  While driving on Route 1&amp;9 in Elizabeth Ne...      1999-08-30  40.663889  -74.211111        1389\n",
      "237 1995-06-10 23:00:00                   crescent city             ca      us       oval                         1200                         20 mins  there were two they were around us red white b...      2004-06-04  41.756111 -124.200556        3281\n",
      "238 1995-09-11 16:30:00                     pierce city             mo      us      cigar                            5                          5 sec.  Cigar- shaped metallic object hovers over fiel...      2003-09-24  36.945833  -94.000000        2934\n",
      "239 1995-11-12 23:20:00                             roy             ut      us   triangle                          600                      10 minutes  At 11:20 PM as I saw a triange shaped object w...      1999-01-28  41.161667 -112.025556        1172\n",
      "240 1996-02-01 15:00:00                         doyline             la      us   triangle                          180                       3 minutes                     TRIANGLER CRAFT NEAR BARKSDALE      2005-06-20  32.535556  -93.410833        3426\n",
      "241 1996-08-02 11:33:00                         fishers             in      us     circle                           10                    8-10 seconds  I was raised and served in the military my fir...      2004-10-27  39.955556  -86.013889        3007\n",
      "242 1996-07-03 10:00:00                university place             wa      us   fireball                           30                      30 seconds  It was the fourth of july&#44 actually the eve...      1999-04-02  47.235833 -122.549167        1002\n",
      "243 1996-07-04 22:00:00                      wilmington             nc      us   triangle                           60                        1 minute  My wife and I were stargazing on a beautiful c...      2008-08-12  34.225556  -77.945000        4421\n",
      "244 1996-04-05 23:30:00                       arlington             wa      us       disk                          300                           5 min  Craft hovered over a barn on the side of the r...      2001-08-05  48.198889 -122.123889        1947\n",
      "245 1996-07-05 18:15:00                     springfield             ma      us     circle                           40                       30-40 sec  the object floted inplace&#44 then circled the...      2003-09-24  42.101389  -72.590278        2636\n",
      "246 1996-09-05 01:00:00                           faith             nc      us   triangle                           30                         30 secs  Large black triangle&#44 lights on the corners...      2008-01-21  35.586944  -80.463056        4154\n",
      "247 1996-11-06 17:00:00                        san jose             il      us  formation                          240                     3-4 minutes  Coming home from voting in &quot;96&quot; my w...      1999-01-28  40.305556  -89.602778         812\n",
      "248 1996-08-08 20:30:00                        tularosa             nm      us     sphere                           45                        35-45sec  Glowing orb of light follows test sled and the...      2004-06-18  33.073889 -106.018056        2870\n",
      "249 1996-06-10 22:00:00               blythe (north of)             ca      us     sphere                          120                           2 min  Orange luminescent globe hovering in desert sk...      2007-02-24  33.610278 -114.595556        3910\n",
      "250 1996-05-11 17:00:00                         norwood             pa      us  formation                          120                       2 minutes  18 Bright fast &quot;Pearl&quot; like UFOs in ...      2010-11-21  39.891667  -75.300000        5306\n",
      "251 1996-08-12 13:00:00                     cheektowaga             ny      us       disk                          900                   10-15 minutes  Very large dark grey object  over small commun...      2008-02-14  42.903333  -78.755000        4202\n",
      "252 1997-02-01 21:30:00              vancouver (canada)             bc      ca    unknown                          600                      10 minutes  Stationary up in sky&#44 very high up in cloud...      2004-09-01  49.250000 -123.133333        2768\n",
      "253 1997-03-01 21:20:00                      louisville             ky      us   fireball                            2                       2 seconds  A hovering ball of orange light that came back...      2001-08-05  38.254167  -85.759444        1617\n",
      "254 1997-06-01 10:00:00                 american canyon             ca      us   triangle                           60                           1 min  I SAW A TRIANGULAR SHAPED CRAFT AND I SAW INSI...      2002-02-22  38.175000 -122.259722        1726\n",
      "255 1997-05-02 22:05:00                       oceanside             ca      us      other                          600                      10 minutes  AN ILLUMINATED OBJECT WAS FIRST SIGHTED IN THE...      1999-01-28  33.195833 -117.378611         635\n",
      "256 1997-05-03 21:03:00                        stafford             tx      us      other                           10                      10 seconds  Through telescope&#44observed amoeba or transl...      1999-01-28  29.615833  -95.557500         634\n",
      "257 1997-07-04 21:00:00                            troy             il      us      light                            4                     3-4 seconds  large blue light silently travelling across th...      2005-07-05  38.729167  -89.883056        2922\n",
      "258 1997-10-05 19:00:00                        cheyenne             wy      us      other                           90                         1.5 min  Seen a object in clear sky.looked like commet ...      2002-01-11  41.140000 -104.819722        1558\n",
      "259 1997-09-06 04:47:00                       covington             wa      us   triangle                          900                          15 min  Triangle shaped with six lights underneath.  O...      1999-01-28  47.348333 -122.113611         508\n",
      "260 1997-07-07 23:00:00                    coopersville             mi      us    unknown                        64800                          18 hrs  Fireball impact &#44 intelligent colorful ligh...      2011-01-31  43.063889  -85.934722        4955\n",
      "261 1997-08-08 23:00:00                           kenai             ak      us      cigar                          600                      10 minutis            BACK in 1997 I seen a Cigar shaped UFO.      2005-09-02  60.554444 -151.258333        2946\n",
      "262 1997-12-09 17:55:00                            reno             nv      us      light                         1090                           18:10  Stationary bright red light&#44 simular to jup...      1998-03-07  39.529722 -119.812778          87\n",
      "263 1997-02-10 18:00:00                       brentwood             tn      us      light                          120                       2 minutes                                changing bright orb      2001-11-20  36.033056  -86.782778        1743\n",
      "264 1997-11-11 01:00:00                     o&#39fallon             mo      us   triangle                          120                           2 min  ON THIS PARTICULAR NIGHT I HAD JUST GOTTING OF...      1999-08-10  38.810556  -90.699722         636\n",
      "265 1997-07-12 13:00:00                         trenton             oh      us       disk                          480                     5-8 minutes  Saucer/lights&#44 no sound.  Lasted around 7 m...      2014-02-27  39.480833  -84.457778        6073\n",
      "266 1998-04-01 13:00:00                      providence             ri      us     circle                          240                       4 minutes  Mostly sunny sky very large stayed about 5 min...      2009-04-14  41.823889  -71.413333        4030\n",
      "267 1998-10-02 09:30:00                        el monte             ca      us     circle                          600                   about 10 min.  I noticed three craft flying in a straght line...      1999-02-16  34.068611 -118.026667         136\n",
      "268 1998-03-03 20:00:00                         houston             tx      us     sphere                            7                       7 seconds  Strolling with my wife in the Heights part of ...      2012-07-04  29.763056  -95.363056        5236\n",
      "269 1998-06-04 06:19:00                        ocotillo             ca      us   triangle                          720                      12 minutes  On a morning hike&#44 we settled to rest after...      1999-05-24  32.738611 -115.993333         353\n",
      "270 1998-02-05 00:45:00                         memphis             tn      us   triangle                           10                           00:10  Black triangle near I-55 south of Memphis&#44 ...      2002-01-11  35.149444  -90.048889        1435\n",
      "271 1998-02-06 00:00:00                       worcester             ma      us   fireball                            3                     2-3 seconds  I was driving at midnite and saw a fireball th...      1999-01-28  42.262500  -71.802778         356\n",
      "272 1998-06-07 21:05:00                         phoenix             az      us   fireball                            2                       2 seconds  Bright flickering&#44 lightning like flash&#44...      1999-05-24  33.448333 -112.073333         350\n",
      "273 1998-01-08 22:38:00                       fairbanks             ak      us       oval                            3                          3 secs  A large phlorescent green oval shaped object m...      1999-02-16  64.837778 -147.716389         403\n",
      "274 1998-12-08 20:00:00         vilonia (just south of)             ar      us     circle                          300                  5 min.  aprox.  I was talking to some friends outside. I saw a...      2002-09-28  35.083889  -92.207778        1389\n",
      "275 1998-04-09 21:15:00                colorado springs             co      us      other                          900                         15 mins  Saw object hovering over Co Springs. Couldn&#3...      1999-01-28  38.833889 -104.820833         293\n",
      "276 1998-12-09 01:30:00                         alamosa             co      us       oval                           45                      45 seconds  I am a police officer in alamosa colorado. on ...      1999-01-28  37.469444 -105.869444          49\n",
      "277 1998-04-10 05:45:00                        el cajon             ca      us      cigar                          600                      10 minutes  Observed object&#44 nothing around it.  Pulsin...      1999-01-28  32.794722 -116.961667         292\n",
      "278 1998-07-11 22:43:00           franklin park (60131)             il      us     circle                            1                           00:01    Yellow circle in northeast sky moving northward      1998-11-21  41.935278  -87.865556         132\n",
      "279 1999-06-01 00:00:00                         fremont             mi      us      light                         2700                    45 minutes +  Bounding&#44 glowing neon orbs of light over F...      2012-07-04  43.467500  -85.941944        4782\n",
      "280 1999-07-02 23:54:00                    grand rapids             mi      us      light                           60                40 to 60 seconds  I WAS SITTING ON MY PORCH&#44 I WAS FACING EAS...      2002-07-01  42.963333  -85.668056        1094\n",
      "281 1999-12-05 05:05:00                          dalton             ga      us     circle                           15                     15 seconds?  A bright yellow object traveling from west to ...      1999-12-16  34.769722  -84.970278          10\n",
      "282 1999-07-06 22:00:00          omaha (~ 60 mi. nw of)             ne      us   triangle                          300                       5 minutes                         Triangular object observed      2010-04-13  41.258611  -95.937500        3933\n",
      "283 1999-07-07 16:30:00                         seattle             wa      us      light                         1200                      20 minutes                       Star Wars blows up incoming.      2014-01-10  47.606389 -122.330833        5300\n",
      "284 1999-10-07 23:02:00                     springfield             ma      us  formation                           10                      10 seconds  We saw a v-shaped formation of orangy-yellow r...      1999-10-19  42.101389  -72.590278          11\n",
      "285 1999-07-08 21:45:00                       pottstown             pa      us     sphere                           60                        1 minute  we saw 2 orange spheres appear high over the P...      1999-07-14  40.245278  -75.650000           5\n",
      "286 1999-06-09 21:15:00                       las vegas             nv      us      light                           60                           1 min  4 quickly moving red lights in the NW sky just...      1999-06-23  36.175000 -115.136389          13\n",
      "287 1999-03-10 02:00:00                       johnstown             pa      us      cigar                         3600                       1 hourish                                      My encounter.      2012-01-12  40.326667  -78.922222        4690\n",
      "288 1999-03-11 15:00:00             south san francisco             ca      us       disk                          240                       4 minutes  I was looking up because I  was carring laungr...      2013-04-12  37.654722 -122.406667        5145\n",
      "289 1999-05-12 00:00:00                     bloomington             in      us      light                           15                   10-15 seconds  Light that was in a cloud bank above apartment...      1999-05-24  39.165278  -86.526389          12\n",
      "290 2000-02-01 23:00:00                         babbitt             mn      us      other                          600                    8-10 minutes  Opaque white beams of light that repeatedly  h...      2003-10-31  47.708611  -91.944444        1367\n",
      "291 2000-03-02 22:45:00                        paterson             nj      us      light                          600                      10 minutes  At around 10.45 p.m when I just looked at the ...      2000-03-07  40.916667  -74.172222           4\n",
      "292 2000-05-03 20:00:00                    mt. pleasant             ia      us      light                          300                       5 minutes  One craft crossed in front of an airplane that...      2000-05-11  40.963611  -91.557778           7\n",
      "293 2000-02-04 20:30:00                        prescott             az      us     circle                          120                          2 min.  Bright yellow-orange circular objects flying i...      2000-02-16  34.540000 -112.467778          11\n",
      "294 2000-05-05 20:30:00                  johnson county             ks      us     sphere                         1800                      30 minutes  White light with alternating green and red lights      2000-05-11  37.570556 -101.750556           5\n",
      "295 2000-03-06 19:55:00                   silver spring             md      us      other                          600                           10min  v shape but no lights &#44 very grayand thin t...      2000-03-07  38.990556  -77.026389           0\n",
      "296 2000-12-07 19:30:00             white rock (canada)             bc      ca    unknown                         3600                   approx 1 hour  It was a foggy evening&#44 I was looking out o...      2001-02-18  49.033333 -122.816667          72\n",
      "297 2000-11-08 22:30:00                          eugene             or      us      light                            8                           8sec.  What appeared to be a falling star &#44 change...      2003-02-25  44.052222 -123.085556         838\n",
      "298 2000-12-09 21:00:00                          beaver             pa      us   triangle                           90                             1.3  Like a red traffic light&#44 behind the trees&...      2000-12-20  40.695278  -80.305000          10\n",
      "299 2000-06-10 02:30:00                       polk city             ia      us     circle                          300                       5 minutes  Strange circular object seen moving against th...      2004-08-24  41.771389  -93.712778        1535\n",
      "300 2000-02-11 21:15:00                        rockford             il      us   fireball                          900                   10-15 minutes  While out for a family night we observed five ...      2000-02-23  42.271111  -89.093889          11\n",
      "301 2000-07-12 20:00:00                         gilbert             az      us      light                          900                10 to 15 minutes  The object was south of the phoenix area.  It ...      2000-07-23  33.352778 -111.788333          10\n",
      "302 2001-01-01 01:00:00                      sacramento             ca      us     circle                           10                      10 seconds                                 Big Bouncing Light      2008-10-31  38.581667 -121.493333        2859\n",
      "303 2001-05-02 00:02:00              vancouver (canada)             bc      ca      light                           30                      30 seconds  3 lights travelling very fast with the 2 on th...      2002-07-26  49.250000 -123.133333         449\n",
      "304 2001-03-03 19:00:00                        pontotoc             ms      us      light                         3600                    about 1 hour              Bright light in the sky. UFO or What?      2001-03-16  34.247778  -88.998611          12\n",
      "305 2001-08-04 16:00:00                         wheaton             il      us     circle                          120                        1-2 min.  white/silver circle at first stationary&#44 th...      2001-08-12  41.866111  -88.106944           7\n",
      "306 2001-06-05 00:01:00                          yakima             wa      us      light                          480                       8 minutes                                       Just a light      2001-08-05  46.602222 -120.504722          60\n",
      "307 2001-11-05 21:25:00                        glendale             az      us     circle                            6                     5 to 6 sec.                     UFO Sighting - Glendale&#44 AZ      2001-11-20  33.538611 -112.185278          14\n",
      "308 2001-04-06 21:00:00                    mount carmel             il      us   fireball                         1200                      20 minutes  At an area just west of Mount Carmel Il&#44 my...      2001-04-28  38.410833  -87.761389          21\n",
      "309 2001-02-07 16:00:00         linthicum (bwi airport)             md      us  rectangle                          900                          15 min  This was not any aircraft I have ever seen and...      2001-02-18  39.205000  -76.653056          10\n",
      "310 2001-04-08 20:00:00                         portage             in      us    unknown                         1200                           20:00  unknown blue object that stooped car engine th...      2002-08-16  41.575833  -87.176111         494\n",
      "311 2001-09-09 21:00:00                          groton             nh      us     sphere                          900                          15 min  I went outside that evening with my video came...      2003-03-04  43.701667  -71.836111         540\n",
      "312 2001-06-10 04:00:00                      san carlos             az      us      light                         1800                      30 minutes  Bright Light seen in circular form over the ea...      2001-08-05  33.345278 -110.452500          55\n",
      "313 2001-01-11 21:50:00                       las vegas             nm      us   fireball                            4                     2-4 seconds  Green Fireball&#44 falling from 15 to 20 degre...      2001-02-18  35.593889 -105.223333          37\n",
      "314 2001-12-11 14:03:00                      chesapeake             va      us      cigar                          360                       6 minutes  I saw 5 cigar shaped crafts in a V formation w...      2002-01-11  36.818889  -76.275278          30\n",
      "315 2001-03-12 21:00:00                       beaverton             or      us      light                          600                      10 minutes  3 Red nocturnal &quot;visitors&quot; seen in W...      2001-03-16  45.487222 -122.802500           3\n",
      "316 2001-09-12 00:00:00                     los angeles             ca      us     circle                           60                  1 minute or so                             3 UFO over Los Angeles      2008-08-12  34.052222 -118.242778        2526\n",
      "317 2002-03-01 06:15:00                          naples             fl      us   triangle                          180                       3 minutes  Black Triangle&#44 clearly seen slowly moving ...      2002-03-19  26.141667  -81.795000          17\n",
      "318 2002-08-01 15:25:00                      south bend             in      us       oval                          600                      10 minutes  A red oval-like object flew at constant speed ...      2002-08-16  41.683333  -86.250000          14\n",
      "319 2002-01-02 17:30:00                     osage beach             mo      us      cigar                          600                      10 minutes  Cigar shaped object seen near Lake of the Ozar...      2002-01-11  38.150278  -92.617778           8\n",
      "320 2002-07-03 01:00:00                           akron             oh      us       oval                           20                      20 seconds  white oval object seemed to move out of our si...      2002-08-16  41.081389  -81.519167          43\n",
      "321 2002-07-04 20:23:00                  san bernardino             ca      us    unknown                           15                      15 sec&#44  Flash of halogen-quality light on fast moving ...      2002-07-26  34.108333 -117.288889          21\n",
      "322 2002-09-05 23:00:00                         houston             tx      us       disk                          120                          2 mins  Extreme large&#44 very bright orb gave off no ...      2007-04-27  29.763056  -95.363056        1694\n",
      "323 2002-10-05 23:00:00                         alameda             ca      us      light                            7                       7 seconds                              stationary star moves      2002-10-15  37.765278 -122.240556           9\n",
      "324 2002-05-06 15:50:00            st. louis (kirkwood)             mo      us       disk                          180                  2 or 3 minutes  A saucer that glowed like the moon and was the...      2002-05-14  38.627222  -90.197778           7\n",
      "325 2002-01-07 18:00:00                 fort washington             md      us   teardrop                            2                         seconds  Luminous green&#44 white outlined tear shaped ...      2002-01-11  38.707222  -77.023333           3\n",
      "326 2002-09-08 16:00:00       new york city (manhattan)             ny      us     sphere                         7200                           1-2hr  Eleven objects over Manhatten for nearly 2 hours.      2002-09-13  40.714167  -74.006389           4\n",
      "327 2002-05-09 18:00:00               winnipeg (canada)             mb      ca  formation                         2400                     30to40 mins  they were flashing orbes of light&#44consistin...      2002-05-14  49.883333  -97.166667           4\n",
      "328 2002-05-10 23:30:00                       san diego             ca      us   triangle                          300                       5 minutes  Huge Triangle shaped object with amber lights ...      2002-12-23  32.715278 -117.156389         226\n",
      "329 2002-01-11 18:45:00                   daytona beach             fl      us      light                         3600                more than 1 hour  Bright lights seen over ocean in Daytona Beach...      2002-01-29  29.210556  -81.023056          17\n",
      "330 2002-02-12 20:00:00                          lorain             oh      us       disk                          120                     1-2 minutes    UFO near Cleveland Ohio&#44 evening of 2/12/02.      2002-02-22  41.452778  -82.182500           9\n",
      "331 2003-04-01 01:00:00                         holmdel             nj      us   fireball                            1                        1 second  High speed  blue white streak across the sky t...      2003-06-03  40.345000  -74.184444          62\n",
      "332 2003-10-02 02:45:00                       kerrville             tx      us     circle                           15                      15 seconds  first i saw 8 white lights in a V formation of...      2003-10-07  30.047222  -99.140000           4\n",
      "333 2003-11-04 20:00:00                       belvidere             nc      us      other                          600                      10 minutes  My family saw strange flying object making wil...      2003-11-08  36.268611  -76.536111           3\n",
      "334 2003-01-06 10:10:00                       montclair             ca      us   fireball                           10                         10 sec.  burning or bright object not falling to earth ...      2003-03-11  34.077500 -117.688889          63\n",
      "335 2003-05-07 02:00:00                       jonesboro             ar      us    diamond                           30                      30 seconds  Diamond shaped fuselage with multiple red ligh...      2003-05-09  35.842222  -90.704167           1\n",
      "336 2003-07-08 00:30:00                  grand junction             co      us     sphere                           60                        1 minute                                   orbs in Colorado      2003-07-16  39.063889 -108.550000           7\n",
      "337 2003-04-09 21:00:00                      santa rosa             ca      us      other                           40                          40 sec  STAR LIKE OBJECT FLYING .GENTLEY ACROSS SKY AN...      2003-04-22  38.440556 -122.713333          12\n",
      "338 2003-03-10 20:52:00                  warner springs             ca      us      light                          600                         10 min.  In the eastern sky (over head&#44 not near the...      2003-03-21  33.282222 -116.632778          10\n",
      "339 2003-07-11 20:50:00                          golden             co      us    unknown                          480                     6-8 minutes  3 lights triangular shaped&#44 AAA fire&#44 li...      2003-09-24  39.755556 -105.220556          74\n",
      "340 2004-02-01 01:00:00                      south bend             in      us    unknown                         3600                         >1 hour  We saw some object in the sky move very slowly...      2004-02-12  41.683333  -86.250000          10\n",
      "341 2004-10-02 18:20:00                     west covina             ca      us    unknown                          600                      10 minutes  white&#44 caterpillar contrails over Los Angel...      2004-10-27  34.090000 -117.889444          24\n",
      "342 2004-04-05 20:35:00                           miami             fl      us    unknown                           60                        1 minute  It looked like a star and moved in a circular ...      2004-04-09  25.773889  -80.193889           3\n",
      "343 2004-10-06 23:00:00                     placerville             ca      us       disk                         3600                          1 hour  I saw 5 saucers above Placerville CA.  ((NUFOR...      2004-10-27  38.729722 -120.797500          20\n",
      "344 2004-11-07 20:30:00                   lavina (near)             mt      us       disk                         3600                    over an hour  Many unusual lights on one object.  ((NUFORC N...      2004-11-09  46.294722 -108.937222           1\n",
      "345 2004-12-08 05:30:00               montreal (canada)             qc      ca       oval                           30                about 30 seconds  Bright yellow light at the horizon in the East...      2007-08-07  45.500000  -73.583333         971\n",
      "346 2004-02-10 05:15:00                       mansfield             oh      us      other                            3                       3 seconds         THE OBJECT WAS STREAKING&#44 THEN VANISHED      2004-02-12  40.758333  -82.515556           1\n"
     ]
    }
   ],
   "source": [
    "def program_134():\n",
    "    df = pd.read_csv(r'ufo.csv')\n",
    "    df['Date_time'] = df['Date_time'].astype('datetime64[ns]')\n",
    "    df['date_documented'] = df['date_documented'].astype('datetime64[ns]')\n",
    "    print(\"\\nDifference (in days) between documented date and reporting date of UFO:\")\n",
    "    df['Difference'] = (df['date_documented'] - df['Date_time']).dt.days\n",
    "    print(df)\n",
    "    \n",
    "program_134()"
   ]
  },
  {
   "cell_type": "markdown",
   "metadata": {},
   "source": [
    "### Q135. Write a pandas program to generate sequences of fixed-  frequency dates and time spans."
   ]
  },
  {
   "cell_type": "markdown",
   "metadata": {},
   "source": [
    "### Ans."
   ]
  },
  {
   "cell_type": "code",
   "execution_count": 136,
   "metadata": {},
   "outputs": [
    {
     "name": "stdout",
     "output_type": "stream",
     "text": [
      "Hourly frequency:\n",
      "DatetimeIndex(['2018-01-01 00:00:00', '2018-01-01 01:00:00', '2018-01-01 02:00:00', '2018-01-01 03:00:00', '2018-01-01 04:00:00', '2018-01-01 05:00:00', '2018-01-01 06:00:00', '2018-01-01 07:00:00', '2018-01-01 08:00:00', '2018-01-01 09:00:00', '2018-01-01 10:00:00', '2018-01-01 11:00:00'], dtype='datetime64[ns]', freq='H')\n",
      "\n",
      "Minutely frequency:\n",
      "DatetimeIndex(['2018-01-01 00:00:00', '2018-01-01 00:01:00', '2018-01-01 00:02:00', '2018-01-01 00:03:00', '2018-01-01 00:04:00', '2018-01-01 00:05:00', '2018-01-01 00:06:00', '2018-01-01 00:07:00', '2018-01-01 00:08:00', '2018-01-01 00:09:00', '2018-01-01 00:10:00', '2018-01-01 00:11:00'], dtype='datetime64[ns]', freq='T')\n",
      "\n",
      "Secondly frequency:\n",
      "DatetimeIndex(['2018-01-01 00:00:00', '2018-01-01 00:00:01', '2018-01-01 00:00:02', '2018-01-01 00:00:03', '2018-01-01 00:00:04', '2018-01-01 00:00:05', '2018-01-01 00:00:06', '2018-01-01 00:00:07', '2018-01-01 00:00:08', '2018-01-01 00:00:09', '2018-01-01 00:00:10', '2018-01-01 00:00:11'], dtype='datetime64[ns]', freq='S')\n",
      "nMultiple Hourly frequency:\n",
      "DatetimeIndex(['2018-01-01 00:00:00', '2018-01-01 02:00:00', '2018-01-01 04:00:00', '2018-01-01 06:00:00', '2018-01-01 08:00:00', '2018-01-01 10:00:00', '2018-01-01 12:00:00', '2018-01-01 14:00:00', '2018-01-01 16:00:00', '2018-01-01 18:00:00', '2018-01-01 20:00:00', '2018-01-01 22:00:00'], dtype='datetime64[ns]', freq='2H')\n",
      "\n",
      "Multiple Minutely frequency:\n",
      "DatetimeIndex(['2018-01-01 00:00:00', '2018-01-01 00:05:00', '2018-01-01 00:10:00', '2018-01-01 00:15:00', '2018-01-01 00:20:00', '2018-01-01 00:25:00', '2018-01-01 00:30:00', '2018-01-01 00:35:00', '2018-01-01 00:40:00', '2018-01-01 00:45:00', '2018-01-01 00:50:00', '2018-01-01 00:55:00'], dtype='datetime64[ns]', freq='5T')\n",
      "\n",
      "Multiple Secondly frequency:\n",
      "DatetimeIndex(['2018-03-30', '2018-06-29', '2018-09-28', '2018-12-31', '2019-03-29', '2019-06-28', '2019-09-30', '2019-12-31', '2020-03-31', '2020-06-30', '2020-09-30', '2020-12-31'], dtype='datetime64[ns]', freq='BQ-DEC')\n",
      "\n",
      "Weekly frequency:\n",
      "DatetimeIndex(['2018-01-07', '2018-01-14', '2018-01-21', '2018-01-28', '2018-02-04', '2018-02-11', '2018-02-18', '2018-02-25', '2018-03-04', '2018-03-11', '2018-03-18', '2018-03-25'], dtype='datetime64[ns]', freq='W-SUN')\n",
      "\n",
      "Combine together day and intraday offsets-1:\n",
      "DatetimeIndex(['2018-01-01 00:00:00', '2018-01-01 02:20:00', '2018-01-01 04:40:00', '2018-01-01 07:00:00', '2018-01-01 09:20:00', '2018-01-01 11:40:00', '2018-01-01 14:00:00', '2018-01-01 16:20:00', '2018-01-01 18:40:00', '2018-01-01 21:00:00', '2018-01-01 23:20:00', '2018-01-02 01:40:00'], dtype='datetime64[ns]', freq='140T')\n",
      "\n",
      "Combine together day and intraday offsets-2:\n",
      "DatetimeIndex(['2018-01-01 00:00:00', '2018-01-02 00:00:00.000010', '2018-01-03 00:00:00.000020', '2018-01-04 00:00:00.000030', '2018-01-05 00:00:00.000040', '2018-01-06 00:00:00.000050', '2018-01-07 00:00:00.000060', '2018-01-08 00:00:00.000070', '2018-01-09 00:00:00.000080', '2018-01-10 00:00:00.000090', '2018-01-11 00:00:00.000100', '2018-01-12 00:00:00.000110'], dtype='datetime64[ns]', freq='86400000010U')\n"
     ]
    }
   ],
   "source": [
    "def program_135():\n",
    "    dtr = pd.date_range('2018-01-01', periods=12, freq='H')\n",
    "    print(\"Hourly frequency:\")\n",
    "    print(dtr)\n",
    "    dtr = pd.date_range('2018-01-01', periods=12, freq='min')\n",
    "    print(\"\\nMinutely frequency:\")\n",
    "    print(dtr)\n",
    "    dtr = pd.date_range('2018-01-01', periods=12, freq='S')\n",
    "    print(\"\\nSecondly frequency:\")\n",
    "    print(dtr)\n",
    "    dtr = pd.date_range('2018-01-01', periods=12, freq='2H')\n",
    "    print(\"nMultiple Hourly frequency:\")\n",
    "    print(dtr)\n",
    "    dtr = pd.date_range('2018-01-01', periods=12, freq='5min')\n",
    "    print(\"\\nMultiple Minutely frequency:\")\n",
    "    print(dtr)\n",
    "    dtr = pd.date_range('2018-01-01', periods=12, freq='BQ')\n",
    "    print(\"\\nMultiple Secondly frequency:\")\n",
    "    print(dtr)\n",
    "    dtr = pd.date_range('2018-01-01', periods=12, freq='w')\n",
    "    print(\"\\nWeekly frequency:\")\n",
    "    print(dtr)\n",
    "    dtr = pd.date_range('2018-01-01', periods=12, freq='2h20min')\n",
    "    print(\"\\nCombine together day and intraday offsets-1:\")\n",
    "    print(dtr)\n",
    "    dtr = pd.date_range('2018-01-01', periods=12, freq='1D10U')\n",
    "    print(\"\\nCombine together day and intraday offsets-2:\")\n",
    "    print(dtr)\n",
    "    \n",
    "program_135()"
   ]
  },
  {
   "cell_type": "markdown",
   "metadata": {},
   "source": [
    "### Q136. Write a pandas program to manipulate and convert date times   with timezone information"
   ]
  },
  {
   "cell_type": "markdown",
   "metadata": {},
   "source": [
    "### Ans."
   ]
  },
  {
   "cell_type": "code",
   "execution_count": 137,
   "metadata": {},
   "outputs": [
    {
     "name": "stdout",
     "output_type": "stream",
     "text": [
      "DatetimeIndex(['2018-01-01 00:00:00+00:00', '2018-01-01 01:00:00+00:00', '2018-01-01 02:00:00+00:00'], dtype='datetime64[ns, UTC]', freq='H')\n",
      "\n",
      "From UTC to Asia/Calcutta:\n",
      "DatetimeIndex(['2018-01-01 05:30:00+05:30', '2018-01-01 06:30:00+05:30', '2018-01-01 07:30:00+05:30'], dtype='datetime64[ns, Asia/Calcutta]', freq='H')\n"
     ]
    }
   ],
   "source": [
    "def program_136():\n",
    "    dtt = pd.date_range('2018-01-01', periods=3, freq='H')\n",
    "    dtt = dtt.tz_localize('UTC')\n",
    "    print(dtt)\n",
    "    print(\"\\nFrom UTC to Asia/Calcutta:\")\n",
    "    dtt = dtt.tz_convert('Asia/Calcutta')\n",
    "    print(dtt)\n",
    "    \n",
    "program_136()"
   ]
  },
  {
   "cell_type": "markdown",
   "metadata": {},
   "source": [
    "### Q137. Write a pandas program to create the graphical analysis of UFO   (unidentified flying object)   Sightings year."
   ]
  },
  {
   "cell_type": "markdown",
   "metadata": {},
   "source": [
    "### Ans."
   ]
  },
  {
   "cell_type": "code",
   "execution_count": 138,
   "metadata": {
    "scrolled": true
   },
   "outputs": [
    {
     "data": {
      "image/png": "[encoded data removed]",
      "text/plain": [
       "<Figure size 1080x576 with 1 Axes>"
      ]
     },
     "metadata": {
      "needs_background": "light"
     },
     "output_type": "display_data"
    }
   ],
   "source": [
    "import pandas as pd\n",
    "import matplotlib.pyplot as plt\n",
    "import seaborn as sns\n",
    "%matplotlib inline\n",
    "    \n",
    "def program_137():\n",
    "    df = pd.read_csv(r'ufo.csv')\n",
    "    df['Date_time'] = df['Date_time'].astype('datetime64[ns]')\n",
    "    df[\"ufo_yr\"] = df.Date_time.dt.year\n",
    "    years_data = df.ufo_yr.value_counts()\n",
    "    years_index = years_data.index  # x ticks\n",
    "    years_values = years_data.get_values()\n",
    "    plt.figure(figsize=(15,8))\n",
    "    plt.xticks(rotation = 60)\n",
    "    plt.title('UFO Sightings by Year')\n",
    "    plt.xlabel(\"Year\")\n",
    "    plt.ylabel(\"Number of reports\")\n",
    "    years_plot = sns.barplot(x=years_index[:60],y=years_values[:60], palette = \"Blues\")\n",
    "    plt.show()\n",
    "    \n",
    "program_137()"
   ]
  },
  {
   "cell_type": "markdown",
   "metadata": {},
   "source": [
    "### Q138. Write a pandas program to create a comparison of the top 10   years in which the (UFO) was sighted VS each Month. "
   ]
  },
  {
   "cell_type": "markdown",
   "metadata": {},
   "source": [
    "### Ans."
   ]
  },
  {
   "cell_type": "code",
   "execution_count": 139,
   "metadata": {},
   "outputs": [
    {
     "name": "stdout",
     "output_type": "stream",
     "text": [
      "\n",
      "Comparison of the top 10 years in which the UFO was sighted vs each month:\n",
      "Date_time   1    2    3    4    5    6    7    8    9    10   11   12\n",
      "Date_time                                                            \n",
      "1993       NaN  NaN  1.0  1.0  NaN  1.0  3.0  2.0  3.0  NaN  1.0  NaN\n",
      "1994       2.0  NaN  3.0  2.0  2.0  NaN  NaN  1.0  NaN  NaN  NaN  1.0\n",
      "1995       2.0  1.0  NaN  1.0  1.0  1.0  3.0  NaN  1.0  NaN  2.0  NaN\n",
      "1996       NaN  1.0  NaN  1.0  1.0  1.0  3.0  3.0  1.0  NaN  1.0  NaN\n",
      "1997       NaN  2.0  1.0  NaN  2.0  1.0  3.0  1.0  1.0  1.0  1.0  1.0\n",
      "1998       1.0  2.0  1.0  3.0  NaN  2.0  1.0  NaN  NaN  1.0  NaN  2.0\n",
      "1999       NaN  NaN  2.0  NaN  1.0  2.0  4.0  NaN  NaN  1.0  NaN  1.0\n",
      "2000       NaN  3.0  2.0  NaN  2.0  1.0  1.0  NaN  NaN  NaN  1.0  2.0\n",
      "2001       2.0  1.0  2.0  2.0  1.0  2.0  NaN  1.0  2.0  NaN  1.0  1.0\n",
      "2002       3.0  1.0  1.0  NaN  3.0  NaN  2.0  1.0  2.0  1.0  NaN  NaN\n"
     ]
    }
   ],
   "source": [
    "import pandas as pd\n",
    "\n",
    "def program_138(df):\n",
    "    df['Date_time'] = df['Date_time'].astype('datetime64[ns]')\n",
    "    most_sightings_years = df['Date_time'].dt.year.value_counts().head(10)\n",
    "    def is_top_years(year):\n",
    "       if year in most_sightings_years.index:\n",
    "           return year\n",
    "    month_vs_year = df.pivot_table(columns=df['Date_time'].dt.month,index=df['Date_time'].dt.year.apply(is_top_years),aggfunc='count',values='city')\n",
    "    month_vs_year.index = month_vs_year.index.astype(int)\n",
    "    month_vs_year.columns = month_vs_year.columns.astype(int)\n",
    "    print(\"\\nComparison of the top 10 years in which the UFO was sighted vs each month:\")\n",
    "    print(month_vs_year.head(10))\n",
    "    \n",
    "if __name__ == '__main__':\n",
    "    df = pd.read_csv(r'ufo.csv')\n",
    "    program_138(df)\n",
    "    \n"
   ]
  },
  {
   "cell_type": "markdown",
   "metadata": {},
   "source": [
    "### Q139. Write a pandas program to create a heatmap (rectangular data as  a colour-encoded matrix) for comparison of top 10 years in   which  (UFO ) was sighted VS each Month."
   ]
  },
  {
   "cell_type": "markdown",
   "metadata": {},
   "source": [
    "### Ans."
   ]
  },
  {
   "cell_type": "code",
   "execution_count": 140,
   "metadata": {},
   "outputs": [
    {
     "name": "stdout",
     "output_type": "stream",
     "text": [
      "\n",
      "Heatmap for comparison of the top 10 years in which the UFO was sighted vs each month:\n"
     ]
    },
    {
     "data": {
      "image/png": "[encoded data removed]",
      "text/plain": [
       "<Figure size 720x576 with 2 Axes>"
      ]
     },
     "metadata": {
      "needs_background": "light"
     },
     "output_type": "display_data"
    }
   ],
   "source": [
    "import pandas as pd\n",
    "import matplotlib.pyplot as plt\n",
    "import seaborn as sns\n",
    "%matplotlib inline\n",
    "\n",
    "def program_139(df):\n",
    "\n",
    "    df['Date_time'] = df['Date_time'].astype('datetime64[ns]')\n",
    "    most_sightings_years = df['Date_time'].dt.year.value_counts().head(10)\n",
    "    def is_top_years(year):\n",
    "       if year in most_sightings_years.index:\n",
    "           return year\n",
    "    month_vs_year = df.pivot_table(columns=df['Date_time'].dt.month,index=df['Date_time'].dt.year.apply(is_top_years),aggfunc='count',values='city')\n",
    "    month_vs_year.columns = month_vs_year.columns.astype(int)\n",
    "    print(\"\\nHeatmap for comparison of the top 10 years in which the UFO was sighted vs each month:\")\n",
    "    plt.figure(figsize=(10,8))\n",
    "    ax = sns.heatmap(month_vs_year, vmin=0, vmax=4)\n",
    "    ax.set_xlabel('Month').set_size(20)\n",
    "    ax.set_ylabel('Year').set_size(20)\n",
    "    plt.show()\n",
    "\n",
    "if __name__ == '__main__':\n",
    "    df = pd.read_csv(r'ufo.csv')\n",
    "    program_139(df)"
   ]
  },
  {
   "cell_type": "markdown",
   "metadata": {},
   "source": [
    "### Q140. Write a pandas program to create a Timewheel of Hour VS Year comparison of the top 10 years in which the (UFO) was sighted."
   ]
  },
  {
   "cell_type": "markdown",
   "metadata": {},
   "source": [
    "### Ans."
   ]
  },
  {
   "cell_type": "code",
   "execution_count": 141,
   "metadata": {},
   "outputs": [
    {
     "name": "stdout",
     "output_type": "stream",
     "text": [
      "\n",
      "Comparison of the top 10 years in which the UFO was sighted vs each month:\n"
     ]
    },
    {
     "name": "stderr",
     "output_type": "stream",
     "text": [
      "c:\\program files\\python36\\lib\\site-packages\\matplotlib\\colors.py:504: RuntimeWarning: invalid value encountered in less\n",
      "  xa[xa < 0] = -1\n"
     ]
    },
    {
     "data": {
      "image/png": "[encoded data removed]",
      "text/plain": [
       "<Figure size 576x576 with 1 Axes>"
      ]
     },
     "metadata": {},
     "output_type": "display_data"
    }
   ],
   "source": [
    "import pandas as pd\n",
    "import matplotlib.pyplot as plt\n",
    "import matplotlib as mpl\n",
    "import matplotlib.cm as cm\n",
    "%matplotlib inline\n",
    "\n",
    "def program_140(df):\n",
    "    df['Date_time'] = df['Date_time'].astype('datetime64[ns]')\n",
    "    most_sightings_years = df['Date_time'].dt.year.value_counts().head(10)\n",
    "    def is_top_years(year):\n",
    "       if year in most_sightings_years.index:\n",
    "           return year\n",
    "    month_vs_year = df.pivot_table(columns=df['Date_time'].dt.month,index=df['Date_time'].dt.year.apply(is_top_years),aggfunc='count',values='city')\n",
    "    month_vs_year.index = month_vs_year.index.astype(int)\n",
    "    month_vs_year.columns = month_vs_year.columns.astype(int)\n",
    "    print(\"\\nComparison of the top 10 years in which the UFO was sighted vs each month:\")\n",
    "    def pie_heatmap(table, cmap='coolwarm_r', vmin=None, vmax=None,inner_r=0.25, pie_args={}):\n",
    "       n, m = table.shape\n",
    "       vmin= table.min().min() if vmin is None else vmin\n",
    "       vmax= table.max().max() if vmax is None else vmax\n",
    "\n",
    "       centre_circle = plt.Circle((0,0),inner_r,edgecolor='black',facecolor='white',fill=True,linewidth=0.25)\n",
    "       plt.gcf().gca().add_artist(centre_circle)\n",
    "       norm = mpl.colors.Normalize(vmin=vmin, vmax=vmax)\n",
    "       cmapper = cm.ScalarMappable(norm=norm, cmap=cmap)\n",
    "\n",
    "       for i, (row_name, row) in enumerate(table.iterrows()):\n",
    "           labels = None if i > 0 else table.columns\n",
    "           wedges = plt.pie([1] * m,radius=inner_r+float(n-i)/n, colors=[cmapper.to_rgba(x) for x in row.values],\n",
    "               labels=labels, startangle=90, counterclock=False, wedgeprops={'linewidth':-1}, **pie_args)\n",
    "           plt.setp(wedges[0], edgecolor='grey',linewidth=1.5)\n",
    "           wedges = plt.pie([1], radius=inner_r+float(n-i-1)/n, colors=['w'], labels=[row_name], startangle=-90, wedgeprops={'linewidth':0})\n",
    "           plt.setp(wedges[0], edgecolor='grey',linewidth=1.5)\n",
    "    plt.figure(figsize=(8,8))\n",
    "    plt.title(\"Timewheel of Hour Vs Year\",y=1.08,fontsize=30)\n",
    "    pie_heatmap(month_vs_year, vmin=-20,vmax=80,inner_r=0.2)\n",
    "    plt.show()\n",
    "    \n",
    "if __name__ == '__main__':\n",
    "    df = pd.read_csv(r'ufo.csv')\n",
    "    program_140(df)"
   ]
  },
  {
   "cell_type": "markdown",
   "metadata": {},
   "source": [
    "### Q141.  Write a python program to draw the line using given axis values   with the suitable label in the x-axis, y-axis, and a title"
   ]
  },
  {
   "cell_type": "markdown",
   "metadata": {},
   "source": [
    "### Ans."
   ]
  },
  {
   "cell_type": "code",
   "execution_count": 142,
   "metadata": {},
   "outputs": [
    {
     "data": {
      "image/png": "[encoded data removed]",
      "text/plain": [
       "<Figure size 432x288 with 1 Axes>"
      ]
     },
     "metadata": {
      "needs_background": "light"
     },
     "output_type": "display_data"
    }
   ],
   "source": [
    "def program_141():\n",
    "\ttry:\n",
    "\t\tline_1 = plt.plot([1.0,2.0,3.0], [2.0,4.0,1.0], 'b')\n",
    "\t\tplt.axis([1.0, 3.0, 1.0, 4.0])\n",
    "\t\tplt.xticks(np.arange(1.0, 3.1, 0.5))\n",
    "\t\tplt.xlabel('x-axis')\n",
    "\t\tplt.ylabel('y-axis')\n",
    "\t\tplt.title('Sample graph!')\n",
    "\t\tplt.show()\n",
    "\texcept Exception as e:\n",
    "\t\traise e\n",
    "        \n",
    "program_141()"
   ]
  },
  {
   "cell_type": "markdown",
   "metadata": {},
   "source": [
    "### Q142. Write a python program to draw the line charts of the financial   data of the Alphabet Inc., between October"
   ]
  },
  {
   "cell_type": "markdown",
   "metadata": {},
   "source": [
    "### Ans."
   ]
  },
  {
   "cell_type": "code",
   "execution_count": 143,
   "metadata": {},
   "outputs": [
    {
     "data": {
      "image/png": "[encoded data removed]",
      "text/plain": [
       "<Figure size 432x288 with 1 Axes>"
      ]
     },
     "metadata": {
      "needs_background": "light"
     },
     "output_type": "display_data"
    }
   ],
   "source": [
    "def program_142():\n",
    "\ttry:\n",
    "\t\tdata = pd.read_csv('fdata.csv')\n",
    "\t\tplt.plot(data['Date'], data['Open'], 'blue')\n",
    "\t\tplt.plot(data['Date'], data['High'], 'orange')\n",
    "\t\tplt.plot(data['Date'], data['Low'], 'green')\n",
    "\t\tplt.plot(data['Date'], data['Close'], 'red')\n",
    "\t\tplt.legend(('Open', 'High', 'Low', 'Close'), loc='upper right')\n",
    "\t\tplt.show()\n",
    "\n",
    "\texcept Exception as e:\n",
    "\t\traise e\n",
    "        \n",
    "program_142()"
   ]
  },
  {
   "cell_type": "markdown",
   "metadata": {},
   "source": [
    "### Q143. Write a Python program to plot two or more lines on same plot   with the suitable legends of each line"
   ]
  },
  {
   "cell_type": "markdown",
   "metadata": {},
   "source": [
    "### Ans."
   ]
  },
  {
   "cell_type": "code",
   "execution_count": 144,
   "metadata": {},
   "outputs": [
    {
     "data": {
      "image/png": "[encoded data removed]",
      "text/plain": [
       "<Figure size 432x288 with 1 Axes>"
      ]
     },
     "metadata": {
      "needs_background": "light"
     },
     "output_type": "display_data"
    }
   ],
   "source": [
    "def program_143():\n",
    "\ttry:\n",
    "\t\t# line_1 = [(10,20), (20,40), (30,10)]\n",
    "\t\t# line_2 = [(10,40),(20,10), (30,30)]\n",
    "\t\tline_1 = plt.plot([10,20,30], [20,40,10], 'b')\n",
    "\t\tline_2 = plt.plot([10,20,30], [40,10,30], 'g')\n",
    "\n",
    "\t\tplt.axis([10, 30, 10, 40])\n",
    "\t\tplt.xticks(np.arange(10, 31, 5))\n",
    "\t\tplt.legend(('line 1', 'line 2'), loc='upper right')\n",
    "\t\tplt.xlabel('x-axis')\n",
    "\t\tplt.ylabel('y-axis')\n",
    "\t\tplt.title('Two or more lines on same plot with suitable legends')\n",
    "\t\tplt.show()\n",
    "\texcept Exception as e:\n",
    "\t\traise e\n",
    "        \n",
    "program_143()"
   ]
  },
  {
   "cell_type": "code",
   "execution_count": null,
   "metadata": {},
   "outputs": [],
   "source": []
  },
  {
   "cell_type": "markdown",
   "metadata": {},
   "source": [
    "### Q144. Write a python programming to display a bar chart of the   popularity of programming languages. "
   ]
  },
  {
   "cell_type": "markdown",
   "metadata": {},
   "source": [
    "### Ans."
   ]
  },
  {
   "cell_type": "code",
   "execution_count": 145,
   "metadata": {},
   "outputs": [
    {
     "name": "stdout",
     "output_type": "stream",
     "text": [
      "[0, 1, 2, 3, 4, 5]\n"
     ]
    },
    {
     "data": {
      "image/png": "[encoded data removed]",
      "text/plain": [
       "<Figure size 432x288 with 1 Axes>"
      ]
     },
     "metadata": {
      "needs_background": "light"
     },
     "output_type": "display_data"
    },
    {
     "name": "stdout",
     "output_type": "stream",
     "text": [
      "Error in callback <function install_repl_displayhook.<locals>.post_execute at 0x000001BE8BC031E0> (for post_execute):\n"
     ]
    },
    {
     "ename": "TypeError",
     "evalue": "can't multiply sequence by non-int of type 'float'",
     "output_type": "error",
     "traceback": [
      "\u001b[1;31m---------------------------------------------------------------------------\u001b[0m",
      "\u001b[1;31mTypeError\u001b[0m                                 Traceback (most recent call last)",
      "\u001b[1;32mc:\\program files\\python36\\lib\\site-packages\\matplotlib\\pyplot.py\u001b[0m in \u001b[0;36mpost_execute\u001b[1;34m()\u001b[0m\n\u001b[0;32m    147\u001b[0m             \u001b[1;32mdef\u001b[0m \u001b[0mpost_execute\u001b[0m\u001b[1;33m(\u001b[0m\u001b[1;33m)\u001b[0m\u001b[1;33m:\u001b[0m\u001b[1;33m\u001b[0m\u001b[0m\n\u001b[0;32m    148\u001b[0m                 \u001b[1;32mif\u001b[0m \u001b[0mmatplotlib\u001b[0m\u001b[1;33m.\u001b[0m\u001b[0mis_interactive\u001b[0m\u001b[1;33m(\u001b[0m\u001b[1;33m)\u001b[0m\u001b[1;33m:\u001b[0m\u001b[1;33m\u001b[0m\u001b[0m\n\u001b[1;32m--> 149\u001b[1;33m                     \u001b[0mdraw_all\u001b[0m\u001b[1;33m(\u001b[0m\u001b[1;33m)\u001b[0m\u001b[1;33m\u001b[0m\u001b[0m\n\u001b[0m\u001b[0;32m    150\u001b[0m \u001b[1;33m\u001b[0m\u001b[0m\n\u001b[0;32m    151\u001b[0m             \u001b[1;31m# IPython >= 2\u001b[0m\u001b[1;33m\u001b[0m\u001b[1;33m\u001b[0m\u001b[0m\n",
      "\u001b[1;32mc:\\program files\\python36\\lib\\site-packages\\matplotlib\\_pylab_helpers.py\u001b[0m in \u001b[0;36mdraw_all\u001b[1;34m(cls, force)\u001b[0m\n\u001b[0;32m    134\u001b[0m         \u001b[1;32mfor\u001b[0m \u001b[0mf_mgr\u001b[0m \u001b[1;32min\u001b[0m \u001b[0mcls\u001b[0m\u001b[1;33m.\u001b[0m\u001b[0mget_all_fig_managers\u001b[0m\u001b[1;33m(\u001b[0m\u001b[1;33m)\u001b[0m\u001b[1;33m:\u001b[0m\u001b[1;33m\u001b[0m\u001b[0m\n\u001b[0;32m    135\u001b[0m             \u001b[1;32mif\u001b[0m \u001b[0mforce\u001b[0m \u001b[1;32mor\u001b[0m \u001b[0mf_mgr\u001b[0m\u001b[1;33m.\u001b[0m\u001b[0mcanvas\u001b[0m\u001b[1;33m.\u001b[0m\u001b[0mfigure\u001b[0m\u001b[1;33m.\u001b[0m\u001b[0mstale\u001b[0m\u001b[1;33m:\u001b[0m\u001b[1;33m\u001b[0m\u001b[0m\n\u001b[1;32m--> 136\u001b[1;33m                 \u001b[0mf_mgr\u001b[0m\u001b[1;33m.\u001b[0m\u001b[0mcanvas\u001b[0m\u001b[1;33m.\u001b[0m\u001b[0mdraw_idle\u001b[0m\u001b[1;33m(\u001b[0m\u001b[1;33m)\u001b[0m\u001b[1;33m\u001b[0m\u001b[0m\n\u001b[0m\u001b[0;32m    137\u001b[0m \u001b[1;33m\u001b[0m\u001b[0m\n\u001b[0;32m    138\u001b[0m \u001b[0matexit\u001b[0m\u001b[1;33m.\u001b[0m\u001b[0mregister\u001b[0m\u001b[1;33m(\u001b[0m\u001b[0mGcf\u001b[0m\u001b[1;33m.\u001b[0m\u001b[0mdestroy_all\u001b[0m\u001b[1;33m)\u001b[0m\u001b[1;33m\u001b[0m\u001b[0m\n",
      "\u001b[1;32mc:\\program files\\python36\\lib\\site-packages\\matplotlib\\backend_bases.py\u001b[0m in \u001b[0;36mdraw_idle\u001b[1;34m(self, *args, **kwargs)\u001b[0m\n\u001b[0;32m   2053\u001b[0m         \u001b[1;32mif\u001b[0m \u001b[1;32mnot\u001b[0m \u001b[0mself\u001b[0m\u001b[1;33m.\u001b[0m\u001b[0m_is_idle_drawing\u001b[0m\u001b[1;33m:\u001b[0m\u001b[1;33m\u001b[0m\u001b[0m\n\u001b[0;32m   2054\u001b[0m             \u001b[1;32mwith\u001b[0m \u001b[0mself\u001b[0m\u001b[1;33m.\u001b[0m\u001b[0m_idle_draw_cntx\u001b[0m\u001b[1;33m(\u001b[0m\u001b[1;33m)\u001b[0m\u001b[1;33m:\u001b[0m\u001b[1;33m\u001b[0m\u001b[0m\n\u001b[1;32m-> 2055\u001b[1;33m                 \u001b[0mself\u001b[0m\u001b[1;33m.\u001b[0m\u001b[0mdraw\u001b[0m\u001b[1;33m(\u001b[0m\u001b[1;33m*\u001b[0m\u001b[0margs\u001b[0m\u001b[1;33m,\u001b[0m \u001b[1;33m**\u001b[0m\u001b[0mkwargs\u001b[0m\u001b[1;33m)\u001b[0m\u001b[1;33m\u001b[0m\u001b[0m\n\u001b[0m\u001b[0;32m   2056\u001b[0m \u001b[1;33m\u001b[0m\u001b[0m\n\u001b[0;32m   2057\u001b[0m     \u001b[1;32mdef\u001b[0m \u001b[0mdraw_cursor\u001b[0m\u001b[1;33m(\u001b[0m\u001b[0mself\u001b[0m\u001b[1;33m,\u001b[0m \u001b[0mevent\u001b[0m\u001b[1;33m)\u001b[0m\u001b[1;33m:\u001b[0m\u001b[1;33m\u001b[0m\u001b[0m\n",
      "\u001b[1;32mc:\\program files\\python36\\lib\\site-packages\\matplotlib\\backends\\backend_agg.py\u001b[0m in \u001b[0;36mdraw\u001b[1;34m(self)\u001b[0m\n\u001b[0;32m    435\u001b[0m             \u001b[1;31m# if toolbar:\u001b[0m\u001b[1;33m\u001b[0m\u001b[1;33m\u001b[0m\u001b[0m\n\u001b[0;32m    436\u001b[0m             \u001b[1;31m#     toolbar.set_cursor(cursors.WAIT)\u001b[0m\u001b[1;33m\u001b[0m\u001b[1;33m\u001b[0m\u001b[0m\n\u001b[1;32m--> 437\u001b[1;33m             \u001b[0mself\u001b[0m\u001b[1;33m.\u001b[0m\u001b[0mfigure\u001b[0m\u001b[1;33m.\u001b[0m\u001b[0mdraw\u001b[0m\u001b[1;33m(\u001b[0m\u001b[0mself\u001b[0m\u001b[1;33m.\u001b[0m\u001b[0mrenderer\u001b[0m\u001b[1;33m)\u001b[0m\u001b[1;33m\u001b[0m\u001b[0m\n\u001b[0m\u001b[0;32m    438\u001b[0m             \u001b[1;31m# A GUI class may be need to update a window using this draw, so\u001b[0m\u001b[1;33m\u001b[0m\u001b[1;33m\u001b[0m\u001b[0m\n\u001b[0;32m    439\u001b[0m             \u001b[1;31m# don't forget to call the superclass.\u001b[0m\u001b[1;33m\u001b[0m\u001b[1;33m\u001b[0m\u001b[0m\n",
      "\u001b[1;32mc:\\program files\\python36\\lib\\site-packages\\matplotlib\\artist.py\u001b[0m in \u001b[0;36mdraw_wrapper\u001b[1;34m(artist, renderer, *args, **kwargs)\u001b[0m\n\u001b[0;32m     53\u001b[0m                 \u001b[0mrenderer\u001b[0m\u001b[1;33m.\u001b[0m\u001b[0mstart_filter\u001b[0m\u001b[1;33m(\u001b[0m\u001b[1;33m)\u001b[0m\u001b[1;33m\u001b[0m\u001b[0m\n\u001b[0;32m     54\u001b[0m \u001b[1;33m\u001b[0m\u001b[0m\n\u001b[1;32m---> 55\u001b[1;33m             \u001b[1;32mreturn\u001b[0m \u001b[0mdraw\u001b[0m\u001b[1;33m(\u001b[0m\u001b[0martist\u001b[0m\u001b[1;33m,\u001b[0m \u001b[0mrenderer\u001b[0m\u001b[1;33m,\u001b[0m \u001b[1;33m*\u001b[0m\u001b[0margs\u001b[0m\u001b[1;33m,\u001b[0m \u001b[1;33m**\u001b[0m\u001b[0mkwargs\u001b[0m\u001b[1;33m)\u001b[0m\u001b[1;33m\u001b[0m\u001b[0m\n\u001b[0m\u001b[0;32m     56\u001b[0m         \u001b[1;32mfinally\u001b[0m\u001b[1;33m:\u001b[0m\u001b[1;33m\u001b[0m\u001b[0m\n\u001b[0;32m     57\u001b[0m             \u001b[1;32mif\u001b[0m \u001b[0martist\u001b[0m\u001b[1;33m.\u001b[0m\u001b[0mget_agg_filter\u001b[0m\u001b[1;33m(\u001b[0m\u001b[1;33m)\u001b[0m \u001b[1;32mis\u001b[0m \u001b[1;32mnot\u001b[0m \u001b[1;32mNone\u001b[0m\u001b[1;33m:\u001b[0m\u001b[1;33m\u001b[0m\u001b[0m\n",
      "\u001b[1;32mc:\\program files\\python36\\lib\\site-packages\\matplotlib\\figure.py\u001b[0m in \u001b[0;36mdraw\u001b[1;34m(self, renderer)\u001b[0m\n\u001b[0;32m   1491\u001b[0m \u001b[1;33m\u001b[0m\u001b[0m\n\u001b[0;32m   1492\u001b[0m             mimage._draw_list_compositing_images(\n\u001b[1;32m-> 1493\u001b[1;33m                 renderer, self, artists, self.suppressComposite)\n\u001b[0m\u001b[0;32m   1494\u001b[0m \u001b[1;33m\u001b[0m\u001b[0m\n\u001b[0;32m   1495\u001b[0m             \u001b[0mrenderer\u001b[0m\u001b[1;33m.\u001b[0m\u001b[0mclose_group\u001b[0m\u001b[1;33m(\u001b[0m\u001b[1;34m'figure'\u001b[0m\u001b[1;33m)\u001b[0m\u001b[1;33m\u001b[0m\u001b[0m\n",
      "\u001b[1;32mc:\\program files\\python36\\lib\\site-packages\\matplotlib\\image.py\u001b[0m in \u001b[0;36m_draw_list_compositing_images\u001b[1;34m(renderer, parent, artists, suppress_composite)\u001b[0m\n\u001b[0;32m    139\u001b[0m     \u001b[1;32mif\u001b[0m \u001b[0mnot_composite\u001b[0m \u001b[1;32mor\u001b[0m \u001b[1;32mnot\u001b[0m \u001b[0mhas_images\u001b[0m\u001b[1;33m:\u001b[0m\u001b[1;33m\u001b[0m\u001b[0m\n\u001b[0;32m    140\u001b[0m         \u001b[1;32mfor\u001b[0m \u001b[0ma\u001b[0m \u001b[1;32min\u001b[0m \u001b[0martists\u001b[0m\u001b[1;33m:\u001b[0m\u001b[1;33m\u001b[0m\u001b[0m\n\u001b[1;32m--> 141\u001b[1;33m             \u001b[0ma\u001b[0m\u001b[1;33m.\u001b[0m\u001b[0mdraw\u001b[0m\u001b[1;33m(\u001b[0m\u001b[0mrenderer\u001b[0m\u001b[1;33m)\u001b[0m\u001b[1;33m\u001b[0m\u001b[0m\n\u001b[0m\u001b[0;32m    142\u001b[0m     \u001b[1;32melse\u001b[0m\u001b[1;33m:\u001b[0m\u001b[1;33m\u001b[0m\u001b[0m\n\u001b[0;32m    143\u001b[0m         \u001b[1;31m# Composite any adjacent images together\u001b[0m\u001b[1;33m\u001b[0m\u001b[1;33m\u001b[0m\u001b[0m\n",
      "\u001b[1;32mc:\\program files\\python36\\lib\\site-packages\\matplotlib\\artist.py\u001b[0m in \u001b[0;36mdraw_wrapper\u001b[1;34m(artist, renderer, *args, **kwargs)\u001b[0m\n\u001b[0;32m     53\u001b[0m                 \u001b[0mrenderer\u001b[0m\u001b[1;33m.\u001b[0m\u001b[0mstart_filter\u001b[0m\u001b[1;33m(\u001b[0m\u001b[1;33m)\u001b[0m\u001b[1;33m\u001b[0m\u001b[0m\n\u001b[0;32m     54\u001b[0m \u001b[1;33m\u001b[0m\u001b[0m\n\u001b[1;32m---> 55\u001b[1;33m             \u001b[1;32mreturn\u001b[0m \u001b[0mdraw\u001b[0m\u001b[1;33m(\u001b[0m\u001b[0martist\u001b[0m\u001b[1;33m,\u001b[0m \u001b[0mrenderer\u001b[0m\u001b[1;33m,\u001b[0m \u001b[1;33m*\u001b[0m\u001b[0margs\u001b[0m\u001b[1;33m,\u001b[0m \u001b[1;33m**\u001b[0m\u001b[0mkwargs\u001b[0m\u001b[1;33m)\u001b[0m\u001b[1;33m\u001b[0m\u001b[0m\n\u001b[0m\u001b[0;32m     56\u001b[0m         \u001b[1;32mfinally\u001b[0m\u001b[1;33m:\u001b[0m\u001b[1;33m\u001b[0m\u001b[0m\n\u001b[0;32m     57\u001b[0m             \u001b[1;32mif\u001b[0m \u001b[0martist\u001b[0m\u001b[1;33m.\u001b[0m\u001b[0mget_agg_filter\u001b[0m\u001b[1;33m(\u001b[0m\u001b[1;33m)\u001b[0m \u001b[1;32mis\u001b[0m \u001b[1;32mnot\u001b[0m \u001b[1;32mNone\u001b[0m\u001b[1;33m:\u001b[0m\u001b[1;33m\u001b[0m\u001b[0m\n",
      "\u001b[1;32mc:\\program files\\python36\\lib\\site-packages\\matplotlib\\axes\\_base.py\u001b[0m in \u001b[0;36mdraw\u001b[1;34m(self, renderer, inframe)\u001b[0m\n\u001b[0;32m   2633\u001b[0m             \u001b[0mrenderer\u001b[0m\u001b[1;33m.\u001b[0m\u001b[0mstop_rasterizing\u001b[0m\u001b[1;33m(\u001b[0m\u001b[1;33m)\u001b[0m\u001b[1;33m\u001b[0m\u001b[0m\n\u001b[0;32m   2634\u001b[0m \u001b[1;33m\u001b[0m\u001b[0m\n\u001b[1;32m-> 2635\u001b[1;33m         \u001b[0mmimage\u001b[0m\u001b[1;33m.\u001b[0m\u001b[0m_draw_list_compositing_images\u001b[0m\u001b[1;33m(\u001b[0m\u001b[0mrenderer\u001b[0m\u001b[1;33m,\u001b[0m \u001b[0mself\u001b[0m\u001b[1;33m,\u001b[0m \u001b[0martists\u001b[0m\u001b[1;33m)\u001b[0m\u001b[1;33m\u001b[0m\u001b[0m\n\u001b[0m\u001b[0;32m   2636\u001b[0m \u001b[1;33m\u001b[0m\u001b[0m\n\u001b[0;32m   2637\u001b[0m         \u001b[0mrenderer\u001b[0m\u001b[1;33m.\u001b[0m\u001b[0mclose_group\u001b[0m\u001b[1;33m(\u001b[0m\u001b[1;34m'axes'\u001b[0m\u001b[1;33m)\u001b[0m\u001b[1;33m\u001b[0m\u001b[0m\n",
      "\u001b[1;32mc:\\program files\\python36\\lib\\site-packages\\matplotlib\\image.py\u001b[0m in \u001b[0;36m_draw_list_compositing_images\u001b[1;34m(renderer, parent, artists, suppress_composite)\u001b[0m\n\u001b[0;32m    139\u001b[0m     \u001b[1;32mif\u001b[0m \u001b[0mnot_composite\u001b[0m \u001b[1;32mor\u001b[0m \u001b[1;32mnot\u001b[0m \u001b[0mhas_images\u001b[0m\u001b[1;33m:\u001b[0m\u001b[1;33m\u001b[0m\u001b[0m\n\u001b[0;32m    140\u001b[0m         \u001b[1;32mfor\u001b[0m \u001b[0ma\u001b[0m \u001b[1;32min\u001b[0m \u001b[0martists\u001b[0m\u001b[1;33m:\u001b[0m\u001b[1;33m\u001b[0m\u001b[0m\n\u001b[1;32m--> 141\u001b[1;33m             \u001b[0ma\u001b[0m\u001b[1;33m.\u001b[0m\u001b[0mdraw\u001b[0m\u001b[1;33m(\u001b[0m\u001b[0mrenderer\u001b[0m\u001b[1;33m)\u001b[0m\u001b[1;33m\u001b[0m\u001b[0m\n\u001b[0m\u001b[0;32m    142\u001b[0m     \u001b[1;32melse\u001b[0m\u001b[1;33m:\u001b[0m\u001b[1;33m\u001b[0m\u001b[0m\n\u001b[0;32m    143\u001b[0m         \u001b[1;31m# Composite any adjacent images together\u001b[0m\u001b[1;33m\u001b[0m\u001b[1;33m\u001b[0m\u001b[0m\n",
      "\u001b[1;32mc:\\program files\\python36\\lib\\site-packages\\matplotlib\\artist.py\u001b[0m in \u001b[0;36mdraw_wrapper\u001b[1;34m(artist, renderer, *args, **kwargs)\u001b[0m\n\u001b[0;32m     53\u001b[0m                 \u001b[0mrenderer\u001b[0m\u001b[1;33m.\u001b[0m\u001b[0mstart_filter\u001b[0m\u001b[1;33m(\u001b[0m\u001b[1;33m)\u001b[0m\u001b[1;33m\u001b[0m\u001b[0m\n\u001b[0;32m     54\u001b[0m \u001b[1;33m\u001b[0m\u001b[0m\n\u001b[1;32m---> 55\u001b[1;33m             \u001b[1;32mreturn\u001b[0m \u001b[0mdraw\u001b[0m\u001b[1;33m(\u001b[0m\u001b[0martist\u001b[0m\u001b[1;33m,\u001b[0m \u001b[0mrenderer\u001b[0m\u001b[1;33m,\u001b[0m \u001b[1;33m*\u001b[0m\u001b[0margs\u001b[0m\u001b[1;33m,\u001b[0m \u001b[1;33m**\u001b[0m\u001b[0mkwargs\u001b[0m\u001b[1;33m)\u001b[0m\u001b[1;33m\u001b[0m\u001b[0m\n\u001b[0m\u001b[0;32m     56\u001b[0m         \u001b[1;32mfinally\u001b[0m\u001b[1;33m:\u001b[0m\u001b[1;33m\u001b[0m\u001b[0m\n\u001b[0;32m     57\u001b[0m             \u001b[1;32mif\u001b[0m \u001b[0martist\u001b[0m\u001b[1;33m.\u001b[0m\u001b[0mget_agg_filter\u001b[0m\u001b[1;33m(\u001b[0m\u001b[1;33m)\u001b[0m \u001b[1;32mis\u001b[0m \u001b[1;32mnot\u001b[0m \u001b[1;32mNone\u001b[0m\u001b[1;33m:\u001b[0m\u001b[1;33m\u001b[0m\u001b[0m\n",
      "\u001b[1;32mc:\\program files\\python36\\lib\\site-packages\\matplotlib\\axis.py\u001b[0m in \u001b[0;36mdraw\u001b[1;34m(self, renderer, *args, **kwargs)\u001b[0m\n\u001b[0;32m   1188\u001b[0m         \u001b[0mrenderer\u001b[0m\u001b[1;33m.\u001b[0m\u001b[0mopen_group\u001b[0m\u001b[1;33m(\u001b[0m\u001b[0m__name__\u001b[0m\u001b[1;33m)\u001b[0m\u001b[1;33m\u001b[0m\u001b[0m\n\u001b[0;32m   1189\u001b[0m \u001b[1;33m\u001b[0m\u001b[0m\n\u001b[1;32m-> 1190\u001b[1;33m         \u001b[0mticks_to_draw\u001b[0m \u001b[1;33m=\u001b[0m \u001b[0mself\u001b[0m\u001b[1;33m.\u001b[0m\u001b[0m_update_ticks\u001b[0m\u001b[1;33m(\u001b[0m\u001b[0mrenderer\u001b[0m\u001b[1;33m)\u001b[0m\u001b[1;33m\u001b[0m\u001b[0m\n\u001b[0m\u001b[0;32m   1191\u001b[0m         ticklabelBoxes, ticklabelBoxes2 = self._get_tick_bboxes(ticks_to_draw,\n\u001b[0;32m   1192\u001b[0m                                                                 renderer)\n",
      "\u001b[1;32mc:\\program files\\python36\\lib\\site-packages\\matplotlib\\axis.py\u001b[0m in \u001b[0;36m_update_ticks\u001b[1;34m(self, renderer)\u001b[0m\n\u001b[0;32m   1026\u001b[0m \u001b[1;33m\u001b[0m\u001b[0m\n\u001b[0;32m   1027\u001b[0m         \u001b[0minterval\u001b[0m \u001b[1;33m=\u001b[0m \u001b[0mself\u001b[0m\u001b[1;33m.\u001b[0m\u001b[0mget_view_interval\u001b[0m\u001b[1;33m(\u001b[0m\u001b[1;33m)\u001b[0m\u001b[1;33m\u001b[0m\u001b[0m\n\u001b[1;32m-> 1028\u001b[1;33m         \u001b[0mtick_tups\u001b[0m \u001b[1;33m=\u001b[0m \u001b[0mlist\u001b[0m\u001b[1;33m(\u001b[0m\u001b[0mself\u001b[0m\u001b[1;33m.\u001b[0m\u001b[0miter_ticks\u001b[0m\u001b[1;33m(\u001b[0m\u001b[1;33m)\u001b[0m\u001b[1;33m)\u001b[0m  \u001b[1;31m# iter_ticks calls the locator\u001b[0m\u001b[1;33m\u001b[0m\u001b[0m\n\u001b[0m\u001b[0;32m   1029\u001b[0m         \u001b[1;32mif\u001b[0m \u001b[0mself\u001b[0m\u001b[1;33m.\u001b[0m\u001b[0m_smart_bounds\u001b[0m \u001b[1;32mand\u001b[0m \u001b[0mtick_tups\u001b[0m\u001b[1;33m:\u001b[0m\u001b[1;33m\u001b[0m\u001b[0m\n\u001b[0;32m   1030\u001b[0m             \u001b[1;31m# handle inverted limits\u001b[0m\u001b[1;33m\u001b[0m\u001b[1;33m\u001b[0m\u001b[0m\n",
      "\u001b[1;32mc:\\program files\\python36\\lib\\site-packages\\matplotlib\\axis.py\u001b[0m in \u001b[0;36miter_ticks\u001b[1;34m(self)\u001b[0m\n\u001b[0;32m    976\u001b[0m \u001b[1;33m\u001b[0m\u001b[0m\n\u001b[0;32m    977\u001b[0m         \u001b[0mminorLocs\u001b[0m \u001b[1;33m=\u001b[0m \u001b[0mself\u001b[0m\u001b[1;33m.\u001b[0m\u001b[0mminor\u001b[0m\u001b[1;33m.\u001b[0m\u001b[0mlocator\u001b[0m\u001b[1;33m(\u001b[0m\u001b[1;33m)\u001b[0m\u001b[1;33m\u001b[0m\u001b[0m\n\u001b[1;32m--> 978\u001b[1;33m         \u001b[0mminorTicks\u001b[0m \u001b[1;33m=\u001b[0m \u001b[0mself\u001b[0m\u001b[1;33m.\u001b[0m\u001b[0mget_minor_ticks\u001b[0m\u001b[1;33m(\u001b[0m\u001b[0mlen\u001b[0m\u001b[1;33m(\u001b[0m\u001b[0mminorLocs\u001b[0m\u001b[1;33m)\u001b[0m\u001b[1;33m)\u001b[0m\u001b[1;33m\u001b[0m\u001b[0m\n\u001b[0m\u001b[0;32m    979\u001b[0m         \u001b[0mself\u001b[0m\u001b[1;33m.\u001b[0m\u001b[0mminor\u001b[0m\u001b[1;33m.\u001b[0m\u001b[0mformatter\u001b[0m\u001b[1;33m.\u001b[0m\u001b[0mset_locs\u001b[0m\u001b[1;33m(\u001b[0m\u001b[0mminorLocs\u001b[0m\u001b[1;33m)\u001b[0m\u001b[1;33m\u001b[0m\u001b[0m\n\u001b[0;32m    980\u001b[0m         minorLabels = [self.minor.formatter(val, i)\n",
      "\u001b[1;32mc:\\program files\\python36\\lib\\site-packages\\matplotlib\\axis.py\u001b[0m in \u001b[0;36mget_minor_ticks\u001b[1;34m(self, numticks)\u001b[0m\n\u001b[0;32m   1413\u001b[0m         \u001b[1;32mwhile\u001b[0m \u001b[0mlen\u001b[0m\u001b[1;33m(\u001b[0m\u001b[0mself\u001b[0m\u001b[1;33m.\u001b[0m\u001b[0mminorTicks\u001b[0m\u001b[1;33m)\u001b[0m \u001b[1;33m<\u001b[0m \u001b[0mnumticks\u001b[0m\u001b[1;33m:\u001b[0m\u001b[1;33m\u001b[0m\u001b[0m\n\u001b[0;32m   1414\u001b[0m             \u001b[1;31m# update the new tick label properties from the old\u001b[0m\u001b[1;33m\u001b[0m\u001b[1;33m\u001b[0m\u001b[0m\n\u001b[1;32m-> 1415\u001b[1;33m             \u001b[0mtick\u001b[0m \u001b[1;33m=\u001b[0m \u001b[0mself\u001b[0m\u001b[1;33m.\u001b[0m\u001b[0m_get_tick\u001b[0m\u001b[1;33m(\u001b[0m\u001b[0mmajor\u001b[0m\u001b[1;33m=\u001b[0m\u001b[1;32mFalse\u001b[0m\u001b[1;33m)\u001b[0m\u001b[1;33m\u001b[0m\u001b[0m\n\u001b[0m\u001b[0;32m   1416\u001b[0m             \u001b[0mself\u001b[0m\u001b[1;33m.\u001b[0m\u001b[0mminorTicks\u001b[0m\u001b[1;33m.\u001b[0m\u001b[0mappend\u001b[0m\u001b[1;33m(\u001b[0m\u001b[0mtick\u001b[0m\u001b[1;33m)\u001b[0m\u001b[1;33m\u001b[0m\u001b[0m\n\u001b[0;32m   1417\u001b[0m             \u001b[1;32mif\u001b[0m \u001b[0mself\u001b[0m\u001b[1;33m.\u001b[0m\u001b[0m_gridOnMinor\u001b[0m\u001b[1;33m:\u001b[0m\u001b[1;33m\u001b[0m\u001b[0m\n",
      "\u001b[1;32mc:\\program files\\python36\\lib\\site-packages\\matplotlib\\axis.py\u001b[0m in \u001b[0;36m_get_tick\u001b[1;34m(self, major)\u001b[0m\n\u001b[0;32m   1790\u001b[0m         \u001b[1;32melse\u001b[0m\u001b[1;33m:\u001b[0m\u001b[1;33m\u001b[0m\u001b[0m\n\u001b[0;32m   1791\u001b[0m             \u001b[0mtick_kw\u001b[0m \u001b[1;33m=\u001b[0m \u001b[0mself\u001b[0m\u001b[1;33m.\u001b[0m\u001b[0m_minor_tick_kw\u001b[0m\u001b[1;33m\u001b[0m\u001b[0m\n\u001b[1;32m-> 1792\u001b[1;33m         \u001b[1;32mreturn\u001b[0m \u001b[0mXTick\u001b[0m\u001b[1;33m(\u001b[0m\u001b[0mself\u001b[0m\u001b[1;33m.\u001b[0m\u001b[0maxes\u001b[0m\u001b[1;33m,\u001b[0m \u001b[1;36m0\u001b[0m\u001b[1;33m,\u001b[0m \u001b[1;34m''\u001b[0m\u001b[1;33m,\u001b[0m \u001b[0mmajor\u001b[0m\u001b[1;33m=\u001b[0m\u001b[0mmajor\u001b[0m\u001b[1;33m,\u001b[0m \u001b[1;33m**\u001b[0m\u001b[0mtick_kw\u001b[0m\u001b[1;33m)\u001b[0m\u001b[1;33m\u001b[0m\u001b[0m\n\u001b[0m\u001b[0;32m   1793\u001b[0m \u001b[1;33m\u001b[0m\u001b[0m\n\u001b[0;32m   1794\u001b[0m     \u001b[1;32mdef\u001b[0m \u001b[0m_get_label\u001b[0m\u001b[1;33m(\u001b[0m\u001b[0mself\u001b[0m\u001b[1;33m)\u001b[0m\u001b[1;33m:\u001b[0m\u001b[1;33m\u001b[0m\u001b[0m\n",
      "\u001b[1;32mc:\\program files\\python36\\lib\\site-packages\\matplotlib\\axis.py\u001b[0m in \u001b[0;36m__init__\u001b[1;34m(self, axes, loc, label, size, width, color, tickdir, pad, labelsize, labelcolor, zorder, gridOn, tick1On, tick2On, label1On, label2On, major, labelrotation, grid_color, grid_linestyle, grid_linewidth, grid_alpha, **kw)\u001b[0m\n\u001b[0;32m    176\u001b[0m         \u001b[0mself\u001b[0m\u001b[1;33m.\u001b[0m\u001b[0mtick1line\u001b[0m \u001b[1;33m=\u001b[0m \u001b[0mself\u001b[0m\u001b[1;33m.\u001b[0m\u001b[0m_get_tick1line\u001b[0m\u001b[1;33m(\u001b[0m\u001b[1;33m)\u001b[0m\u001b[1;33m\u001b[0m\u001b[0m\n\u001b[0;32m    177\u001b[0m         \u001b[0mself\u001b[0m\u001b[1;33m.\u001b[0m\u001b[0mtick2line\u001b[0m \u001b[1;33m=\u001b[0m \u001b[0mself\u001b[0m\u001b[1;33m.\u001b[0m\u001b[0m_get_tick2line\u001b[0m\u001b[1;33m(\u001b[0m\u001b[1;33m)\u001b[0m\u001b[1;33m\u001b[0m\u001b[0m\n\u001b[1;32m--> 178\u001b[1;33m         \u001b[0mself\u001b[0m\u001b[1;33m.\u001b[0m\u001b[0mgridline\u001b[0m \u001b[1;33m=\u001b[0m \u001b[0mself\u001b[0m\u001b[1;33m.\u001b[0m\u001b[0m_get_gridline\u001b[0m\u001b[1;33m(\u001b[0m\u001b[1;33m)\u001b[0m\u001b[1;33m\u001b[0m\u001b[0m\n\u001b[0m\u001b[0;32m    179\u001b[0m \u001b[1;33m\u001b[0m\u001b[0m\n\u001b[0;32m    180\u001b[0m         \u001b[0mself\u001b[0m\u001b[1;33m.\u001b[0m\u001b[0mlabel1\u001b[0m \u001b[1;33m=\u001b[0m \u001b[0mself\u001b[0m\u001b[1;33m.\u001b[0m\u001b[0m_get_text1\u001b[0m\u001b[1;33m(\u001b[0m\u001b[1;33m)\u001b[0m\u001b[1;33m\u001b[0m\u001b[0m\n",
      "\u001b[1;32mc:\\program files\\python36\\lib\\site-packages\\matplotlib\\axis.py\u001b[0m in \u001b[0;36m_get_gridline\u001b[1;34m(self)\u001b[0m\n\u001b[0;32m    501\u001b[0m                           \u001b[0malpha\u001b[0m\u001b[1;33m=\u001b[0m\u001b[0mself\u001b[0m\u001b[1;33m.\u001b[0m\u001b[0m_grid_alpha\u001b[0m\u001b[1;33m,\u001b[0m\u001b[1;33m\u001b[0m\u001b[0m\n\u001b[0;32m    502\u001b[0m                           \u001b[0mmarkersize\u001b[0m\u001b[1;33m=\u001b[0m\u001b[1;36m0\u001b[0m\u001b[1;33m,\u001b[0m\u001b[1;33m\u001b[0m\u001b[0m\n\u001b[1;32m--> 503\u001b[1;33m                           **self._grid_kw)\n\u001b[0m\u001b[0;32m    504\u001b[0m         \u001b[0ml\u001b[0m\u001b[1;33m.\u001b[0m\u001b[0mset_transform\u001b[0m\u001b[1;33m(\u001b[0m\u001b[0mself\u001b[0m\u001b[1;33m.\u001b[0m\u001b[0maxes\u001b[0m\u001b[1;33m.\u001b[0m\u001b[0mget_xaxis_transform\u001b[0m\u001b[1;33m(\u001b[0m\u001b[0mwhich\u001b[0m\u001b[1;33m=\u001b[0m\u001b[1;34m'grid'\u001b[0m\u001b[1;33m)\u001b[0m\u001b[1;33m)\u001b[0m\u001b[1;33m\u001b[0m\u001b[0m\n\u001b[0;32m    505\u001b[0m         \u001b[0ml\u001b[0m\u001b[1;33m.\u001b[0m\u001b[0mget_path\u001b[0m\u001b[1;33m(\u001b[0m\u001b[1;33m)\u001b[0m\u001b[1;33m.\u001b[0m\u001b[0m_interpolation_steps\u001b[0m \u001b[1;33m=\u001b[0m \u001b[0mGRIDLINE_INTERPOLATION_STEPS\u001b[0m\u001b[1;33m\u001b[0m\u001b[0m\n",
      "\u001b[1;32mc:\\program files\\python36\\lib\\site-packages\\matplotlib\\lines.py\u001b[0m in \u001b[0;36m__init__\u001b[1;34m(self, xdata, ydata, linewidth, linestyle, color, marker, markersize, markeredgewidth, markeredgecolor, markerfacecolor, markerfacecoloralt, fillstyle, antialiased, dash_capstyle, solid_capstyle, dash_joinstyle, solid_joinstyle, pickradius, drawstyle, markevery, **kwargs)\u001b[0m\n\u001b[0;32m    389\u001b[0m         \u001b[0mself\u001b[0m\u001b[1;33m.\u001b[0m\u001b[0m_us_dashOffset\u001b[0m \u001b[1;33m=\u001b[0m \u001b[1;36m0\u001b[0m\u001b[1;33m\u001b[0m\u001b[0m\n\u001b[0;32m    390\u001b[0m \u001b[1;33m\u001b[0m\u001b[0m\n\u001b[1;32m--> 391\u001b[1;33m         \u001b[0mself\u001b[0m\u001b[1;33m.\u001b[0m\u001b[0mset_linestyle\u001b[0m\u001b[1;33m(\u001b[0m\u001b[0mlinestyle\u001b[0m\u001b[1;33m)\u001b[0m\u001b[1;33m\u001b[0m\u001b[0m\n\u001b[0m\u001b[0;32m    392\u001b[0m         \u001b[0mself\u001b[0m\u001b[1;33m.\u001b[0m\u001b[0mset_drawstyle\u001b[0m\u001b[1;33m(\u001b[0m\u001b[0mdrawstyle\u001b[0m\u001b[1;33m)\u001b[0m\u001b[1;33m\u001b[0m\u001b[0m\n\u001b[0;32m    393\u001b[0m         \u001b[0mself\u001b[0m\u001b[1;33m.\u001b[0m\u001b[0mset_linewidth\u001b[0m\u001b[1;33m(\u001b[0m\u001b[0mlinewidth\u001b[0m\u001b[1;33m)\u001b[0m\u001b[1;33m\u001b[0m\u001b[0m\n",
      "\u001b[1;32mc:\\program files\\python36\\lib\\site-packages\\matplotlib\\lines.py\u001b[0m in \u001b[0;36mset_linestyle\u001b[1;34m(self, ls)\u001b[0m\n\u001b[0;32m   1123\u001b[0m         \u001b[1;31m# compute the linewidth scaled dashes\u001b[0m\u001b[1;33m\u001b[0m\u001b[1;33m\u001b[0m\u001b[0m\n\u001b[0;32m   1124\u001b[0m         self._dashOffset, self._dashSeq = _scale_dashes(\n\u001b[1;32m-> 1125\u001b[1;33m             self._us_dashOffset, self._us_dashSeq, self._linewidth)\n\u001b[0m\u001b[0;32m   1126\u001b[0m \u001b[1;33m\u001b[0m\u001b[0m\n\u001b[0;32m   1127\u001b[0m     \u001b[1;33m@\u001b[0m\u001b[0mdocstring\u001b[0m\u001b[1;33m.\u001b[0m\u001b[0mdedent_interpd\u001b[0m\u001b[1;33m\u001b[0m\u001b[0m\n",
      "\u001b[1;32mc:\\program files\\python36\\lib\\site-packages\\matplotlib\\lines.py\u001b[0m in \u001b[0;36m_scale_dashes\u001b[1;34m(offset, dashes, lw)\u001b[0m\n\u001b[0;32m     66\u001b[0m     \u001b[0mscaled_offset\u001b[0m \u001b[1;33m=\u001b[0m \u001b[0mscaled_dashes\u001b[0m \u001b[1;33m=\u001b[0m \u001b[1;32mNone\u001b[0m\u001b[1;33m\u001b[0m\u001b[0m\n\u001b[0;32m     67\u001b[0m     \u001b[1;32mif\u001b[0m \u001b[0moffset\u001b[0m \u001b[1;32mis\u001b[0m \u001b[1;32mnot\u001b[0m \u001b[1;32mNone\u001b[0m\u001b[1;33m:\u001b[0m\u001b[1;33m\u001b[0m\u001b[0m\n\u001b[1;32m---> 68\u001b[1;33m         \u001b[0mscaled_offset\u001b[0m \u001b[1;33m=\u001b[0m \u001b[0moffset\u001b[0m \u001b[1;33m*\u001b[0m \u001b[0mlw\u001b[0m\u001b[1;33m\u001b[0m\u001b[0m\n\u001b[0m\u001b[0;32m     69\u001b[0m     \u001b[1;32mif\u001b[0m \u001b[0mdashes\u001b[0m \u001b[1;32mis\u001b[0m \u001b[1;32mnot\u001b[0m \u001b[1;32mNone\u001b[0m\u001b[1;33m:\u001b[0m\u001b[1;33m\u001b[0m\u001b[0m\n\u001b[0;32m     70\u001b[0m         scaled_dashes = [x * lw if x is not None else None\n",
      "\u001b[1;31mTypeError\u001b[0m: can't multiply sequence by non-int of type 'float'"
     ]
    },
    {
     "ename": "TypeError",
     "evalue": "can't multiply sequence by non-int of type 'float'",
     "output_type": "error",
     "traceback": [
      "\u001b[1;31m---------------------------------------------------------------------------\u001b[0m",
      "\u001b[1;31mTypeError\u001b[0m                                 Traceback (most recent call last)",
      "\u001b[1;32mc:\\program files\\python36\\lib\\site-packages\\IPython\\core\\formatters.py\u001b[0m in \u001b[0;36m__call__\u001b[1;34m(self, obj)\u001b[0m\n\u001b[0;32m    339\u001b[0m                 \u001b[1;32mpass\u001b[0m\u001b[1;33m\u001b[0m\u001b[0m\n\u001b[0;32m    340\u001b[0m             \u001b[1;32melse\u001b[0m\u001b[1;33m:\u001b[0m\u001b[1;33m\u001b[0m\u001b[0m\n\u001b[1;32m--> 341\u001b[1;33m                 \u001b[1;32mreturn\u001b[0m \u001b[0mprinter\u001b[0m\u001b[1;33m(\u001b[0m\u001b[0mobj\u001b[0m\u001b[1;33m)\u001b[0m\u001b[1;33m\u001b[0m\u001b[0m\n\u001b[0m\u001b[0;32m    342\u001b[0m             \u001b[1;31m# Finally look for special method names\u001b[0m\u001b[1;33m\u001b[0m\u001b[1;33m\u001b[0m\u001b[0m\n\u001b[0;32m    343\u001b[0m             \u001b[0mmethod\u001b[0m \u001b[1;33m=\u001b[0m \u001b[0mget_real_method\u001b[0m\u001b[1;33m(\u001b[0m\u001b[0mobj\u001b[0m\u001b[1;33m,\u001b[0m \u001b[0mself\u001b[0m\u001b[1;33m.\u001b[0m\u001b[0mprint_method\u001b[0m\u001b[1;33m)\u001b[0m\u001b[1;33m\u001b[0m\u001b[0m\n",
      "\u001b[1;32mc:\\program files\\python36\\lib\\site-packages\\IPython\\core\\pylabtools.py\u001b[0m in \u001b[0;36m<lambda>\u001b[1;34m(fig)\u001b[0m\n\u001b[0;32m    242\u001b[0m \u001b[1;33m\u001b[0m\u001b[0m\n\u001b[0;32m    243\u001b[0m     \u001b[1;32mif\u001b[0m \u001b[1;34m'png'\u001b[0m \u001b[1;32min\u001b[0m \u001b[0mformats\u001b[0m\u001b[1;33m:\u001b[0m\u001b[1;33m\u001b[0m\u001b[0m\n\u001b[1;32m--> 244\u001b[1;33m         \u001b[0mpng_formatter\u001b[0m\u001b[1;33m.\u001b[0m\u001b[0mfor_type\u001b[0m\u001b[1;33m(\u001b[0m\u001b[0mFigure\u001b[0m\u001b[1;33m,\u001b[0m \u001b[1;32mlambda\u001b[0m \u001b[0mfig\u001b[0m\u001b[1;33m:\u001b[0m \u001b[0mprint_figure\u001b[0m\u001b[1;33m(\u001b[0m\u001b[0mfig\u001b[0m\u001b[1;33m,\u001b[0m \u001b[1;34m'png'\u001b[0m\u001b[1;33m,\u001b[0m \u001b[1;33m**\u001b[0m\u001b[0mkwargs\u001b[0m\u001b[1;33m)\u001b[0m\u001b[1;33m)\u001b[0m\u001b[1;33m\u001b[0m\u001b[0m\n\u001b[0m\u001b[0;32m    245\u001b[0m     \u001b[1;32mif\u001b[0m \u001b[1;34m'retina'\u001b[0m \u001b[1;32min\u001b[0m \u001b[0mformats\u001b[0m \u001b[1;32mor\u001b[0m \u001b[1;34m'png2x'\u001b[0m \u001b[1;32min\u001b[0m \u001b[0mformats\u001b[0m\u001b[1;33m:\u001b[0m\u001b[1;33m\u001b[0m\u001b[0m\n\u001b[0;32m    246\u001b[0m         \u001b[0mpng_formatter\u001b[0m\u001b[1;33m.\u001b[0m\u001b[0mfor_type\u001b[0m\u001b[1;33m(\u001b[0m\u001b[0mFigure\u001b[0m\u001b[1;33m,\u001b[0m \u001b[1;32mlambda\u001b[0m \u001b[0mfig\u001b[0m\u001b[1;33m:\u001b[0m \u001b[0mretina_figure\u001b[0m\u001b[1;33m(\u001b[0m\u001b[0mfig\u001b[0m\u001b[1;33m,\u001b[0m \u001b[1;33m**\u001b[0m\u001b[0mkwargs\u001b[0m\u001b[1;33m)\u001b[0m\u001b[1;33m)\u001b[0m\u001b[1;33m\u001b[0m\u001b[0m\n",
      "\u001b[1;32mc:\\program files\\python36\\lib\\site-packages\\IPython\\core\\pylabtools.py\u001b[0m in \u001b[0;36mprint_figure\u001b[1;34m(fig, fmt, bbox_inches, **kwargs)\u001b[0m\n\u001b[0;32m    126\u001b[0m \u001b[1;33m\u001b[0m\u001b[0m\n\u001b[0;32m    127\u001b[0m     \u001b[0mbytes_io\u001b[0m \u001b[1;33m=\u001b[0m \u001b[0mBytesIO\u001b[0m\u001b[1;33m(\u001b[0m\u001b[1;33m)\u001b[0m\u001b[1;33m\u001b[0m\u001b[0m\n\u001b[1;32m--> 128\u001b[1;33m     \u001b[0mfig\u001b[0m\u001b[1;33m.\u001b[0m\u001b[0mcanvas\u001b[0m\u001b[1;33m.\u001b[0m\u001b[0mprint_figure\u001b[0m\u001b[1;33m(\u001b[0m\u001b[0mbytes_io\u001b[0m\u001b[1;33m,\u001b[0m \u001b[1;33m**\u001b[0m\u001b[0mkw\u001b[0m\u001b[1;33m)\u001b[0m\u001b[1;33m\u001b[0m\u001b[0m\n\u001b[0m\u001b[0;32m    129\u001b[0m     \u001b[0mdata\u001b[0m \u001b[1;33m=\u001b[0m \u001b[0mbytes_io\u001b[0m\u001b[1;33m.\u001b[0m\u001b[0mgetvalue\u001b[0m\u001b[1;33m(\u001b[0m\u001b[1;33m)\u001b[0m\u001b[1;33m\u001b[0m\u001b[0m\n\u001b[0;32m    130\u001b[0m     \u001b[1;32mif\u001b[0m \u001b[0mfmt\u001b[0m \u001b[1;33m==\u001b[0m \u001b[1;34m'svg'\u001b[0m\u001b[1;33m:\u001b[0m\u001b[1;33m\u001b[0m\u001b[0m\n",
      "\u001b[1;32mc:\\program files\\python36\\lib\\site-packages\\matplotlib\\backend_bases.py\u001b[0m in \u001b[0;36mprint_figure\u001b[1;34m(self, filename, dpi, facecolor, edgecolor, orientation, format, **kwargs)\u001b[0m\n\u001b[0;32m   2210\u001b[0m                     \u001b[0morientation\u001b[0m\u001b[1;33m=\u001b[0m\u001b[0morientation\u001b[0m\u001b[1;33m,\u001b[0m\u001b[1;33m\u001b[0m\u001b[0m\n\u001b[0;32m   2211\u001b[0m                     \u001b[0mdryrun\u001b[0m\u001b[1;33m=\u001b[0m\u001b[1;32mTrue\u001b[0m\u001b[1;33m,\u001b[0m\u001b[1;33m\u001b[0m\u001b[0m\n\u001b[1;32m-> 2212\u001b[1;33m                     **kwargs)\n\u001b[0m\u001b[0;32m   2213\u001b[0m                 \u001b[0mrenderer\u001b[0m \u001b[1;33m=\u001b[0m \u001b[0mself\u001b[0m\u001b[1;33m.\u001b[0m\u001b[0mfigure\u001b[0m\u001b[1;33m.\u001b[0m\u001b[0m_cachedRenderer\u001b[0m\u001b[1;33m\u001b[0m\u001b[0m\n\u001b[0;32m   2214\u001b[0m                 \u001b[0mbbox_inches\u001b[0m \u001b[1;33m=\u001b[0m \u001b[0mself\u001b[0m\u001b[1;33m.\u001b[0m\u001b[0mfigure\u001b[0m\u001b[1;33m.\u001b[0m\u001b[0mget_tightbbox\u001b[0m\u001b[1;33m(\u001b[0m\u001b[0mrenderer\u001b[0m\u001b[1;33m)\u001b[0m\u001b[1;33m\u001b[0m\u001b[0m\n",
      "\u001b[1;32mc:\\program files\\python36\\lib\\site-packages\\matplotlib\\backends\\backend_agg.py\u001b[0m in \u001b[0;36mprint_png\u001b[1;34m(self, filename_or_obj, *args, **kwargs)\u001b[0m\n\u001b[0;32m    515\u001b[0m \u001b[1;33m\u001b[0m\u001b[0m\n\u001b[0;32m    516\u001b[0m     \u001b[1;32mdef\u001b[0m \u001b[0mprint_png\u001b[0m\u001b[1;33m(\u001b[0m\u001b[0mself\u001b[0m\u001b[1;33m,\u001b[0m \u001b[0mfilename_or_obj\u001b[0m\u001b[1;33m,\u001b[0m \u001b[1;33m*\u001b[0m\u001b[0margs\u001b[0m\u001b[1;33m,\u001b[0m \u001b[1;33m**\u001b[0m\u001b[0mkwargs\u001b[0m\u001b[1;33m)\u001b[0m\u001b[1;33m:\u001b[0m\u001b[1;33m\u001b[0m\u001b[0m\n\u001b[1;32m--> 517\u001b[1;33m         \u001b[0mFigureCanvasAgg\u001b[0m\u001b[1;33m.\u001b[0m\u001b[0mdraw\u001b[0m\u001b[1;33m(\u001b[0m\u001b[0mself\u001b[0m\u001b[1;33m)\u001b[0m\u001b[1;33m\u001b[0m\u001b[0m\n\u001b[0m\u001b[0;32m    518\u001b[0m         \u001b[0mrenderer\u001b[0m \u001b[1;33m=\u001b[0m \u001b[0mself\u001b[0m\u001b[1;33m.\u001b[0m\u001b[0mget_renderer\u001b[0m\u001b[1;33m(\u001b[0m\u001b[1;33m)\u001b[0m\u001b[1;33m\u001b[0m\u001b[0m\n\u001b[0;32m    519\u001b[0m         \u001b[0moriginal_dpi\u001b[0m \u001b[1;33m=\u001b[0m \u001b[0mrenderer\u001b[0m\u001b[1;33m.\u001b[0m\u001b[0mdpi\u001b[0m\u001b[1;33m\u001b[0m\u001b[0m\n",
      "\u001b[1;32mc:\\program files\\python36\\lib\\site-packages\\matplotlib\\backends\\backend_agg.py\u001b[0m in \u001b[0;36mdraw\u001b[1;34m(self)\u001b[0m\n\u001b[0;32m    435\u001b[0m             \u001b[1;31m# if toolbar:\u001b[0m\u001b[1;33m\u001b[0m\u001b[1;33m\u001b[0m\u001b[0m\n\u001b[0;32m    436\u001b[0m             \u001b[1;31m#     toolbar.set_cursor(cursors.WAIT)\u001b[0m\u001b[1;33m\u001b[0m\u001b[1;33m\u001b[0m\u001b[0m\n\u001b[1;32m--> 437\u001b[1;33m             \u001b[0mself\u001b[0m\u001b[1;33m.\u001b[0m\u001b[0mfigure\u001b[0m\u001b[1;33m.\u001b[0m\u001b[0mdraw\u001b[0m\u001b[1;33m(\u001b[0m\u001b[0mself\u001b[0m\u001b[1;33m.\u001b[0m\u001b[0mrenderer\u001b[0m\u001b[1;33m)\u001b[0m\u001b[1;33m\u001b[0m\u001b[0m\n\u001b[0m\u001b[0;32m    438\u001b[0m             \u001b[1;31m# A GUI class may be need to update a window using this draw, so\u001b[0m\u001b[1;33m\u001b[0m\u001b[1;33m\u001b[0m\u001b[0m\n\u001b[0;32m    439\u001b[0m             \u001b[1;31m# don't forget to call the superclass.\u001b[0m\u001b[1;33m\u001b[0m\u001b[1;33m\u001b[0m\u001b[0m\n",
      "\u001b[1;32mc:\\program files\\python36\\lib\\site-packages\\matplotlib\\artist.py\u001b[0m in \u001b[0;36mdraw_wrapper\u001b[1;34m(artist, renderer, *args, **kwargs)\u001b[0m\n\u001b[0;32m     53\u001b[0m                 \u001b[0mrenderer\u001b[0m\u001b[1;33m.\u001b[0m\u001b[0mstart_filter\u001b[0m\u001b[1;33m(\u001b[0m\u001b[1;33m)\u001b[0m\u001b[1;33m\u001b[0m\u001b[0m\n\u001b[0;32m     54\u001b[0m \u001b[1;33m\u001b[0m\u001b[0m\n\u001b[1;32m---> 55\u001b[1;33m             \u001b[1;32mreturn\u001b[0m \u001b[0mdraw\u001b[0m\u001b[1;33m(\u001b[0m\u001b[0martist\u001b[0m\u001b[1;33m,\u001b[0m \u001b[0mrenderer\u001b[0m\u001b[1;33m,\u001b[0m \u001b[1;33m*\u001b[0m\u001b[0margs\u001b[0m\u001b[1;33m,\u001b[0m \u001b[1;33m**\u001b[0m\u001b[0mkwargs\u001b[0m\u001b[1;33m)\u001b[0m\u001b[1;33m\u001b[0m\u001b[0m\n\u001b[0m\u001b[0;32m     56\u001b[0m         \u001b[1;32mfinally\u001b[0m\u001b[1;33m:\u001b[0m\u001b[1;33m\u001b[0m\u001b[0m\n\u001b[0;32m     57\u001b[0m             \u001b[1;32mif\u001b[0m \u001b[0martist\u001b[0m\u001b[1;33m.\u001b[0m\u001b[0mget_agg_filter\u001b[0m\u001b[1;33m(\u001b[0m\u001b[1;33m)\u001b[0m \u001b[1;32mis\u001b[0m \u001b[1;32mnot\u001b[0m \u001b[1;32mNone\u001b[0m\u001b[1;33m:\u001b[0m\u001b[1;33m\u001b[0m\u001b[0m\n",
      "\u001b[1;32mc:\\program files\\python36\\lib\\site-packages\\matplotlib\\figure.py\u001b[0m in \u001b[0;36mdraw\u001b[1;34m(self, renderer)\u001b[0m\n\u001b[0;32m   1491\u001b[0m \u001b[1;33m\u001b[0m\u001b[0m\n\u001b[0;32m   1492\u001b[0m             mimage._draw_list_compositing_images(\n\u001b[1;32m-> 1493\u001b[1;33m                 renderer, self, artists, self.suppressComposite)\n\u001b[0m\u001b[0;32m   1494\u001b[0m \u001b[1;33m\u001b[0m\u001b[0m\n\u001b[0;32m   1495\u001b[0m             \u001b[0mrenderer\u001b[0m\u001b[1;33m.\u001b[0m\u001b[0mclose_group\u001b[0m\u001b[1;33m(\u001b[0m\u001b[1;34m'figure'\u001b[0m\u001b[1;33m)\u001b[0m\u001b[1;33m\u001b[0m\u001b[0m\n",
      "\u001b[1;32mc:\\program files\\python36\\lib\\site-packages\\matplotlib\\image.py\u001b[0m in \u001b[0;36m_draw_list_compositing_images\u001b[1;34m(renderer, parent, artists, suppress_composite)\u001b[0m\n\u001b[0;32m    139\u001b[0m     \u001b[1;32mif\u001b[0m \u001b[0mnot_composite\u001b[0m \u001b[1;32mor\u001b[0m \u001b[1;32mnot\u001b[0m \u001b[0mhas_images\u001b[0m\u001b[1;33m:\u001b[0m\u001b[1;33m\u001b[0m\u001b[0m\n\u001b[0;32m    140\u001b[0m         \u001b[1;32mfor\u001b[0m \u001b[0ma\u001b[0m \u001b[1;32min\u001b[0m \u001b[0martists\u001b[0m\u001b[1;33m:\u001b[0m\u001b[1;33m\u001b[0m\u001b[0m\n\u001b[1;32m--> 141\u001b[1;33m             \u001b[0ma\u001b[0m\u001b[1;33m.\u001b[0m\u001b[0mdraw\u001b[0m\u001b[1;33m(\u001b[0m\u001b[0mrenderer\u001b[0m\u001b[1;33m)\u001b[0m\u001b[1;33m\u001b[0m\u001b[0m\n\u001b[0m\u001b[0;32m    142\u001b[0m     \u001b[1;32melse\u001b[0m\u001b[1;33m:\u001b[0m\u001b[1;33m\u001b[0m\u001b[0m\n\u001b[0;32m    143\u001b[0m         \u001b[1;31m# Composite any adjacent images together\u001b[0m\u001b[1;33m\u001b[0m\u001b[1;33m\u001b[0m\u001b[0m\n",
      "\u001b[1;32mc:\\program files\\python36\\lib\\site-packages\\matplotlib\\artist.py\u001b[0m in \u001b[0;36mdraw_wrapper\u001b[1;34m(artist, renderer, *args, **kwargs)\u001b[0m\n\u001b[0;32m     53\u001b[0m                 \u001b[0mrenderer\u001b[0m\u001b[1;33m.\u001b[0m\u001b[0mstart_filter\u001b[0m\u001b[1;33m(\u001b[0m\u001b[1;33m)\u001b[0m\u001b[1;33m\u001b[0m\u001b[0m\n\u001b[0;32m     54\u001b[0m \u001b[1;33m\u001b[0m\u001b[0m\n\u001b[1;32m---> 55\u001b[1;33m             \u001b[1;32mreturn\u001b[0m \u001b[0mdraw\u001b[0m\u001b[1;33m(\u001b[0m\u001b[0martist\u001b[0m\u001b[1;33m,\u001b[0m \u001b[0mrenderer\u001b[0m\u001b[1;33m,\u001b[0m \u001b[1;33m*\u001b[0m\u001b[0margs\u001b[0m\u001b[1;33m,\u001b[0m \u001b[1;33m**\u001b[0m\u001b[0mkwargs\u001b[0m\u001b[1;33m)\u001b[0m\u001b[1;33m\u001b[0m\u001b[0m\n\u001b[0m\u001b[0;32m     56\u001b[0m         \u001b[1;32mfinally\u001b[0m\u001b[1;33m:\u001b[0m\u001b[1;33m\u001b[0m\u001b[0m\n\u001b[0;32m     57\u001b[0m             \u001b[1;32mif\u001b[0m \u001b[0martist\u001b[0m\u001b[1;33m.\u001b[0m\u001b[0mget_agg_filter\u001b[0m\u001b[1;33m(\u001b[0m\u001b[1;33m)\u001b[0m \u001b[1;32mis\u001b[0m \u001b[1;32mnot\u001b[0m \u001b[1;32mNone\u001b[0m\u001b[1;33m:\u001b[0m\u001b[1;33m\u001b[0m\u001b[0m\n",
      "\u001b[1;32mc:\\program files\\python36\\lib\\site-packages\\matplotlib\\axes\\_base.py\u001b[0m in \u001b[0;36mdraw\u001b[1;34m(self, renderer, inframe)\u001b[0m\n\u001b[0;32m   2633\u001b[0m             \u001b[0mrenderer\u001b[0m\u001b[1;33m.\u001b[0m\u001b[0mstop_rasterizing\u001b[0m\u001b[1;33m(\u001b[0m\u001b[1;33m)\u001b[0m\u001b[1;33m\u001b[0m\u001b[0m\n\u001b[0;32m   2634\u001b[0m \u001b[1;33m\u001b[0m\u001b[0m\n\u001b[1;32m-> 2635\u001b[1;33m         \u001b[0mmimage\u001b[0m\u001b[1;33m.\u001b[0m\u001b[0m_draw_list_compositing_images\u001b[0m\u001b[1;33m(\u001b[0m\u001b[0mrenderer\u001b[0m\u001b[1;33m,\u001b[0m \u001b[0mself\u001b[0m\u001b[1;33m,\u001b[0m \u001b[0martists\u001b[0m\u001b[1;33m)\u001b[0m\u001b[1;33m\u001b[0m\u001b[0m\n\u001b[0m\u001b[0;32m   2636\u001b[0m \u001b[1;33m\u001b[0m\u001b[0m\n\u001b[0;32m   2637\u001b[0m         \u001b[0mrenderer\u001b[0m\u001b[1;33m.\u001b[0m\u001b[0mclose_group\u001b[0m\u001b[1;33m(\u001b[0m\u001b[1;34m'axes'\u001b[0m\u001b[1;33m)\u001b[0m\u001b[1;33m\u001b[0m\u001b[0m\n",
      "\u001b[1;32mc:\\program files\\python36\\lib\\site-packages\\matplotlib\\image.py\u001b[0m in \u001b[0;36m_draw_list_compositing_images\u001b[1;34m(renderer, parent, artists, suppress_composite)\u001b[0m\n\u001b[0;32m    139\u001b[0m     \u001b[1;32mif\u001b[0m \u001b[0mnot_composite\u001b[0m \u001b[1;32mor\u001b[0m \u001b[1;32mnot\u001b[0m \u001b[0mhas_images\u001b[0m\u001b[1;33m:\u001b[0m\u001b[1;33m\u001b[0m\u001b[0m\n\u001b[0;32m    140\u001b[0m         \u001b[1;32mfor\u001b[0m \u001b[0ma\u001b[0m \u001b[1;32min\u001b[0m \u001b[0martists\u001b[0m\u001b[1;33m:\u001b[0m\u001b[1;33m\u001b[0m\u001b[0m\n\u001b[1;32m--> 141\u001b[1;33m             \u001b[0ma\u001b[0m\u001b[1;33m.\u001b[0m\u001b[0mdraw\u001b[0m\u001b[1;33m(\u001b[0m\u001b[0mrenderer\u001b[0m\u001b[1;33m)\u001b[0m\u001b[1;33m\u001b[0m\u001b[0m\n\u001b[0m\u001b[0;32m    142\u001b[0m     \u001b[1;32melse\u001b[0m\u001b[1;33m:\u001b[0m\u001b[1;33m\u001b[0m\u001b[0m\n\u001b[0;32m    143\u001b[0m         \u001b[1;31m# Composite any adjacent images together\u001b[0m\u001b[1;33m\u001b[0m\u001b[1;33m\u001b[0m\u001b[0m\n",
      "\u001b[1;32mc:\\program files\\python36\\lib\\site-packages\\matplotlib\\artist.py\u001b[0m in \u001b[0;36mdraw_wrapper\u001b[1;34m(artist, renderer, *args, **kwargs)\u001b[0m\n\u001b[0;32m     53\u001b[0m                 \u001b[0mrenderer\u001b[0m\u001b[1;33m.\u001b[0m\u001b[0mstart_filter\u001b[0m\u001b[1;33m(\u001b[0m\u001b[1;33m)\u001b[0m\u001b[1;33m\u001b[0m\u001b[0m\n\u001b[0;32m     54\u001b[0m \u001b[1;33m\u001b[0m\u001b[0m\n\u001b[1;32m---> 55\u001b[1;33m             \u001b[1;32mreturn\u001b[0m \u001b[0mdraw\u001b[0m\u001b[1;33m(\u001b[0m\u001b[0martist\u001b[0m\u001b[1;33m,\u001b[0m \u001b[0mrenderer\u001b[0m\u001b[1;33m,\u001b[0m \u001b[1;33m*\u001b[0m\u001b[0margs\u001b[0m\u001b[1;33m,\u001b[0m \u001b[1;33m**\u001b[0m\u001b[0mkwargs\u001b[0m\u001b[1;33m)\u001b[0m\u001b[1;33m\u001b[0m\u001b[0m\n\u001b[0m\u001b[0;32m     56\u001b[0m         \u001b[1;32mfinally\u001b[0m\u001b[1;33m:\u001b[0m\u001b[1;33m\u001b[0m\u001b[0m\n\u001b[0;32m     57\u001b[0m             \u001b[1;32mif\u001b[0m \u001b[0martist\u001b[0m\u001b[1;33m.\u001b[0m\u001b[0mget_agg_filter\u001b[0m\u001b[1;33m(\u001b[0m\u001b[1;33m)\u001b[0m \u001b[1;32mis\u001b[0m \u001b[1;32mnot\u001b[0m \u001b[1;32mNone\u001b[0m\u001b[1;33m:\u001b[0m\u001b[1;33m\u001b[0m\u001b[0m\n",
      "\u001b[1;32mc:\\program files\\python36\\lib\\site-packages\\matplotlib\\axis.py\u001b[0m in \u001b[0;36mdraw\u001b[1;34m(self, renderer, *args, **kwargs)\u001b[0m\n\u001b[0;32m   1188\u001b[0m         \u001b[0mrenderer\u001b[0m\u001b[1;33m.\u001b[0m\u001b[0mopen_group\u001b[0m\u001b[1;33m(\u001b[0m\u001b[0m__name__\u001b[0m\u001b[1;33m)\u001b[0m\u001b[1;33m\u001b[0m\u001b[0m\n\u001b[0;32m   1189\u001b[0m \u001b[1;33m\u001b[0m\u001b[0m\n\u001b[1;32m-> 1190\u001b[1;33m         \u001b[0mticks_to_draw\u001b[0m \u001b[1;33m=\u001b[0m \u001b[0mself\u001b[0m\u001b[1;33m.\u001b[0m\u001b[0m_update_ticks\u001b[0m\u001b[1;33m(\u001b[0m\u001b[0mrenderer\u001b[0m\u001b[1;33m)\u001b[0m\u001b[1;33m\u001b[0m\u001b[0m\n\u001b[0m\u001b[0;32m   1191\u001b[0m         ticklabelBoxes, ticklabelBoxes2 = self._get_tick_bboxes(ticks_to_draw,\n\u001b[0;32m   1192\u001b[0m                                                                 renderer)\n",
      "\u001b[1;32mc:\\program files\\python36\\lib\\site-packages\\matplotlib\\axis.py\u001b[0m in \u001b[0;36m_update_ticks\u001b[1;34m(self, renderer)\u001b[0m\n\u001b[0;32m   1026\u001b[0m \u001b[1;33m\u001b[0m\u001b[0m\n\u001b[0;32m   1027\u001b[0m         \u001b[0minterval\u001b[0m \u001b[1;33m=\u001b[0m \u001b[0mself\u001b[0m\u001b[1;33m.\u001b[0m\u001b[0mget_view_interval\u001b[0m\u001b[1;33m(\u001b[0m\u001b[1;33m)\u001b[0m\u001b[1;33m\u001b[0m\u001b[0m\n\u001b[1;32m-> 1028\u001b[1;33m         \u001b[0mtick_tups\u001b[0m \u001b[1;33m=\u001b[0m \u001b[0mlist\u001b[0m\u001b[1;33m(\u001b[0m\u001b[0mself\u001b[0m\u001b[1;33m.\u001b[0m\u001b[0miter_ticks\u001b[0m\u001b[1;33m(\u001b[0m\u001b[1;33m)\u001b[0m\u001b[1;33m)\u001b[0m  \u001b[1;31m# iter_ticks calls the locator\u001b[0m\u001b[1;33m\u001b[0m\u001b[0m\n\u001b[0m\u001b[0;32m   1029\u001b[0m         \u001b[1;32mif\u001b[0m \u001b[0mself\u001b[0m\u001b[1;33m.\u001b[0m\u001b[0m_smart_bounds\u001b[0m \u001b[1;32mand\u001b[0m \u001b[0mtick_tups\u001b[0m\u001b[1;33m:\u001b[0m\u001b[1;33m\u001b[0m\u001b[0m\n\u001b[0;32m   1030\u001b[0m             \u001b[1;31m# handle inverted limits\u001b[0m\u001b[1;33m\u001b[0m\u001b[1;33m\u001b[0m\u001b[0m\n",
      "\u001b[1;32mc:\\program files\\python36\\lib\\site-packages\\matplotlib\\axis.py\u001b[0m in \u001b[0;36miter_ticks\u001b[1;34m(self)\u001b[0m\n\u001b[0;32m    976\u001b[0m \u001b[1;33m\u001b[0m\u001b[0m\n\u001b[0;32m    977\u001b[0m         \u001b[0mminorLocs\u001b[0m \u001b[1;33m=\u001b[0m \u001b[0mself\u001b[0m\u001b[1;33m.\u001b[0m\u001b[0mminor\u001b[0m\u001b[1;33m.\u001b[0m\u001b[0mlocator\u001b[0m\u001b[1;33m(\u001b[0m\u001b[1;33m)\u001b[0m\u001b[1;33m\u001b[0m\u001b[0m\n\u001b[1;32m--> 978\u001b[1;33m         \u001b[0mminorTicks\u001b[0m \u001b[1;33m=\u001b[0m \u001b[0mself\u001b[0m\u001b[1;33m.\u001b[0m\u001b[0mget_minor_ticks\u001b[0m\u001b[1;33m(\u001b[0m\u001b[0mlen\u001b[0m\u001b[1;33m(\u001b[0m\u001b[0mminorLocs\u001b[0m\u001b[1;33m)\u001b[0m\u001b[1;33m)\u001b[0m\u001b[1;33m\u001b[0m\u001b[0m\n\u001b[0m\u001b[0;32m    979\u001b[0m         \u001b[0mself\u001b[0m\u001b[1;33m.\u001b[0m\u001b[0mminor\u001b[0m\u001b[1;33m.\u001b[0m\u001b[0mformatter\u001b[0m\u001b[1;33m.\u001b[0m\u001b[0mset_locs\u001b[0m\u001b[1;33m(\u001b[0m\u001b[0mminorLocs\u001b[0m\u001b[1;33m)\u001b[0m\u001b[1;33m\u001b[0m\u001b[0m\n\u001b[0;32m    980\u001b[0m         minorLabels = [self.minor.formatter(val, i)\n",
      "\u001b[1;32mc:\\program files\\python36\\lib\\site-packages\\matplotlib\\axis.py\u001b[0m in \u001b[0;36mget_minor_ticks\u001b[1;34m(self, numticks)\u001b[0m\n\u001b[0;32m   1413\u001b[0m         \u001b[1;32mwhile\u001b[0m \u001b[0mlen\u001b[0m\u001b[1;33m(\u001b[0m\u001b[0mself\u001b[0m\u001b[1;33m.\u001b[0m\u001b[0mminorTicks\u001b[0m\u001b[1;33m)\u001b[0m \u001b[1;33m<\u001b[0m \u001b[0mnumticks\u001b[0m\u001b[1;33m:\u001b[0m\u001b[1;33m\u001b[0m\u001b[0m\n\u001b[0;32m   1414\u001b[0m             \u001b[1;31m# update the new tick label properties from the old\u001b[0m\u001b[1;33m\u001b[0m\u001b[1;33m\u001b[0m\u001b[0m\n\u001b[1;32m-> 1415\u001b[1;33m             \u001b[0mtick\u001b[0m \u001b[1;33m=\u001b[0m \u001b[0mself\u001b[0m\u001b[1;33m.\u001b[0m\u001b[0m_get_tick\u001b[0m\u001b[1;33m(\u001b[0m\u001b[0mmajor\u001b[0m\u001b[1;33m=\u001b[0m\u001b[1;32mFalse\u001b[0m\u001b[1;33m)\u001b[0m\u001b[1;33m\u001b[0m\u001b[0m\n\u001b[0m\u001b[0;32m   1416\u001b[0m             \u001b[0mself\u001b[0m\u001b[1;33m.\u001b[0m\u001b[0mminorTicks\u001b[0m\u001b[1;33m.\u001b[0m\u001b[0mappend\u001b[0m\u001b[1;33m(\u001b[0m\u001b[0mtick\u001b[0m\u001b[1;33m)\u001b[0m\u001b[1;33m\u001b[0m\u001b[0m\n\u001b[0;32m   1417\u001b[0m             \u001b[1;32mif\u001b[0m \u001b[0mself\u001b[0m\u001b[1;33m.\u001b[0m\u001b[0m_gridOnMinor\u001b[0m\u001b[1;33m:\u001b[0m\u001b[1;33m\u001b[0m\u001b[0m\n",
      "\u001b[1;32mc:\\program files\\python36\\lib\\site-packages\\matplotlib\\axis.py\u001b[0m in \u001b[0;36m_get_tick\u001b[1;34m(self, major)\u001b[0m\n\u001b[0;32m   1790\u001b[0m         \u001b[1;32melse\u001b[0m\u001b[1;33m:\u001b[0m\u001b[1;33m\u001b[0m\u001b[0m\n\u001b[0;32m   1791\u001b[0m             \u001b[0mtick_kw\u001b[0m \u001b[1;33m=\u001b[0m \u001b[0mself\u001b[0m\u001b[1;33m.\u001b[0m\u001b[0m_minor_tick_kw\u001b[0m\u001b[1;33m\u001b[0m\u001b[0m\n\u001b[1;32m-> 1792\u001b[1;33m         \u001b[1;32mreturn\u001b[0m \u001b[0mXTick\u001b[0m\u001b[1;33m(\u001b[0m\u001b[0mself\u001b[0m\u001b[1;33m.\u001b[0m\u001b[0maxes\u001b[0m\u001b[1;33m,\u001b[0m \u001b[1;36m0\u001b[0m\u001b[1;33m,\u001b[0m \u001b[1;34m''\u001b[0m\u001b[1;33m,\u001b[0m \u001b[0mmajor\u001b[0m\u001b[1;33m=\u001b[0m\u001b[0mmajor\u001b[0m\u001b[1;33m,\u001b[0m \u001b[1;33m**\u001b[0m\u001b[0mtick_kw\u001b[0m\u001b[1;33m)\u001b[0m\u001b[1;33m\u001b[0m\u001b[0m\n\u001b[0m\u001b[0;32m   1793\u001b[0m \u001b[1;33m\u001b[0m\u001b[0m\n\u001b[0;32m   1794\u001b[0m     \u001b[1;32mdef\u001b[0m \u001b[0m_get_label\u001b[0m\u001b[1;33m(\u001b[0m\u001b[0mself\u001b[0m\u001b[1;33m)\u001b[0m\u001b[1;33m:\u001b[0m\u001b[1;33m\u001b[0m\u001b[0m\n",
      "\u001b[1;32mc:\\program files\\python36\\lib\\site-packages\\matplotlib\\axis.py\u001b[0m in \u001b[0;36m__init__\u001b[1;34m(self, axes, loc, label, size, width, color, tickdir, pad, labelsize, labelcolor, zorder, gridOn, tick1On, tick2On, label1On, label2On, major, labelrotation, grid_color, grid_linestyle, grid_linewidth, grid_alpha, **kw)\u001b[0m\n\u001b[0;32m    176\u001b[0m         \u001b[0mself\u001b[0m\u001b[1;33m.\u001b[0m\u001b[0mtick1line\u001b[0m \u001b[1;33m=\u001b[0m \u001b[0mself\u001b[0m\u001b[1;33m.\u001b[0m\u001b[0m_get_tick1line\u001b[0m\u001b[1;33m(\u001b[0m\u001b[1;33m)\u001b[0m\u001b[1;33m\u001b[0m\u001b[0m\n\u001b[0;32m    177\u001b[0m         \u001b[0mself\u001b[0m\u001b[1;33m.\u001b[0m\u001b[0mtick2line\u001b[0m \u001b[1;33m=\u001b[0m \u001b[0mself\u001b[0m\u001b[1;33m.\u001b[0m\u001b[0m_get_tick2line\u001b[0m\u001b[1;33m(\u001b[0m\u001b[1;33m)\u001b[0m\u001b[1;33m\u001b[0m\u001b[0m\n\u001b[1;32m--> 178\u001b[1;33m         \u001b[0mself\u001b[0m\u001b[1;33m.\u001b[0m\u001b[0mgridline\u001b[0m \u001b[1;33m=\u001b[0m \u001b[0mself\u001b[0m\u001b[1;33m.\u001b[0m\u001b[0m_get_gridline\u001b[0m\u001b[1;33m(\u001b[0m\u001b[1;33m)\u001b[0m\u001b[1;33m\u001b[0m\u001b[0m\n\u001b[0m\u001b[0;32m    179\u001b[0m \u001b[1;33m\u001b[0m\u001b[0m\n\u001b[0;32m    180\u001b[0m         \u001b[0mself\u001b[0m\u001b[1;33m.\u001b[0m\u001b[0mlabel1\u001b[0m \u001b[1;33m=\u001b[0m \u001b[0mself\u001b[0m\u001b[1;33m.\u001b[0m\u001b[0m_get_text1\u001b[0m\u001b[1;33m(\u001b[0m\u001b[1;33m)\u001b[0m\u001b[1;33m\u001b[0m\u001b[0m\n",
      "\u001b[1;32mc:\\program files\\python36\\lib\\site-packages\\matplotlib\\axis.py\u001b[0m in \u001b[0;36m_get_gridline\u001b[1;34m(self)\u001b[0m\n\u001b[0;32m    501\u001b[0m                           \u001b[0malpha\u001b[0m\u001b[1;33m=\u001b[0m\u001b[0mself\u001b[0m\u001b[1;33m.\u001b[0m\u001b[0m_grid_alpha\u001b[0m\u001b[1;33m,\u001b[0m\u001b[1;33m\u001b[0m\u001b[0m\n\u001b[0;32m    502\u001b[0m                           \u001b[0mmarkersize\u001b[0m\u001b[1;33m=\u001b[0m\u001b[1;36m0\u001b[0m\u001b[1;33m,\u001b[0m\u001b[1;33m\u001b[0m\u001b[0m\n\u001b[1;32m--> 503\u001b[1;33m                           **self._grid_kw)\n\u001b[0m\u001b[0;32m    504\u001b[0m         \u001b[0ml\u001b[0m\u001b[1;33m.\u001b[0m\u001b[0mset_transform\u001b[0m\u001b[1;33m(\u001b[0m\u001b[0mself\u001b[0m\u001b[1;33m.\u001b[0m\u001b[0maxes\u001b[0m\u001b[1;33m.\u001b[0m\u001b[0mget_xaxis_transform\u001b[0m\u001b[1;33m(\u001b[0m\u001b[0mwhich\u001b[0m\u001b[1;33m=\u001b[0m\u001b[1;34m'grid'\u001b[0m\u001b[1;33m)\u001b[0m\u001b[1;33m)\u001b[0m\u001b[1;33m\u001b[0m\u001b[0m\n\u001b[0;32m    505\u001b[0m         \u001b[0ml\u001b[0m\u001b[1;33m.\u001b[0m\u001b[0mget_path\u001b[0m\u001b[1;33m(\u001b[0m\u001b[1;33m)\u001b[0m\u001b[1;33m.\u001b[0m\u001b[0m_interpolation_steps\u001b[0m \u001b[1;33m=\u001b[0m \u001b[0mGRIDLINE_INTERPOLATION_STEPS\u001b[0m\u001b[1;33m\u001b[0m\u001b[0m\n",
      "\u001b[1;32mc:\\program files\\python36\\lib\\site-packages\\matplotlib\\lines.py\u001b[0m in \u001b[0;36m__init__\u001b[1;34m(self, xdata, ydata, linewidth, linestyle, color, marker, markersize, markeredgewidth, markeredgecolor, markerfacecolor, markerfacecoloralt, fillstyle, antialiased, dash_capstyle, solid_capstyle, dash_joinstyle, solid_joinstyle, pickradius, drawstyle, markevery, **kwargs)\u001b[0m\n\u001b[0;32m    389\u001b[0m         \u001b[0mself\u001b[0m\u001b[1;33m.\u001b[0m\u001b[0m_us_dashOffset\u001b[0m \u001b[1;33m=\u001b[0m \u001b[1;36m0\u001b[0m\u001b[1;33m\u001b[0m\u001b[0m\n\u001b[0;32m    390\u001b[0m \u001b[1;33m\u001b[0m\u001b[0m\n\u001b[1;32m--> 391\u001b[1;33m         \u001b[0mself\u001b[0m\u001b[1;33m.\u001b[0m\u001b[0mset_linestyle\u001b[0m\u001b[1;33m(\u001b[0m\u001b[0mlinestyle\u001b[0m\u001b[1;33m)\u001b[0m\u001b[1;33m\u001b[0m\u001b[0m\n\u001b[0m\u001b[0;32m    392\u001b[0m         \u001b[0mself\u001b[0m\u001b[1;33m.\u001b[0m\u001b[0mset_drawstyle\u001b[0m\u001b[1;33m(\u001b[0m\u001b[0mdrawstyle\u001b[0m\u001b[1;33m)\u001b[0m\u001b[1;33m\u001b[0m\u001b[0m\n\u001b[0;32m    393\u001b[0m         \u001b[0mself\u001b[0m\u001b[1;33m.\u001b[0m\u001b[0mset_linewidth\u001b[0m\u001b[1;33m(\u001b[0m\u001b[0mlinewidth\u001b[0m\u001b[1;33m)\u001b[0m\u001b[1;33m\u001b[0m\u001b[0m\n",
      "\u001b[1;32mc:\\program files\\python36\\lib\\site-packages\\matplotlib\\lines.py\u001b[0m in \u001b[0;36mset_linestyle\u001b[1;34m(self, ls)\u001b[0m\n\u001b[0;32m   1123\u001b[0m         \u001b[1;31m# compute the linewidth scaled dashes\u001b[0m\u001b[1;33m\u001b[0m\u001b[1;33m\u001b[0m\u001b[0m\n\u001b[0;32m   1124\u001b[0m         self._dashOffset, self._dashSeq = _scale_dashes(\n\u001b[1;32m-> 1125\u001b[1;33m             self._us_dashOffset, self._us_dashSeq, self._linewidth)\n\u001b[0m\u001b[0;32m   1126\u001b[0m \u001b[1;33m\u001b[0m\u001b[0m\n\u001b[0;32m   1127\u001b[0m     \u001b[1;33m@\u001b[0m\u001b[0mdocstring\u001b[0m\u001b[1;33m.\u001b[0m\u001b[0mdedent_interpd\u001b[0m\u001b[1;33m\u001b[0m\u001b[0m\n",
      "\u001b[1;32mc:\\program files\\python36\\lib\\site-packages\\matplotlib\\lines.py\u001b[0m in \u001b[0;36m_scale_dashes\u001b[1;34m(offset, dashes, lw)\u001b[0m\n\u001b[0;32m     66\u001b[0m     \u001b[0mscaled_offset\u001b[0m \u001b[1;33m=\u001b[0m \u001b[0mscaled_dashes\u001b[0m \u001b[1;33m=\u001b[0m \u001b[1;32mNone\u001b[0m\u001b[1;33m\u001b[0m\u001b[0m\n\u001b[0;32m     67\u001b[0m     \u001b[1;32mif\u001b[0m \u001b[0moffset\u001b[0m \u001b[1;32mis\u001b[0m \u001b[1;32mnot\u001b[0m \u001b[1;32mNone\u001b[0m\u001b[1;33m:\u001b[0m\u001b[1;33m\u001b[0m\u001b[0m\n\u001b[1;32m---> 68\u001b[1;33m         \u001b[0mscaled_offset\u001b[0m \u001b[1;33m=\u001b[0m \u001b[0moffset\u001b[0m \u001b[1;33m*\u001b[0m \u001b[0mlw\u001b[0m\u001b[1;33m\u001b[0m\u001b[0m\n\u001b[0m\u001b[0;32m     69\u001b[0m     \u001b[1;32mif\u001b[0m \u001b[0mdashes\u001b[0m \u001b[1;32mis\u001b[0m \u001b[1;32mnot\u001b[0m \u001b[1;32mNone\u001b[0m\u001b[1;33m:\u001b[0m\u001b[1;33m\u001b[0m\u001b[0m\n\u001b[0;32m     70\u001b[0m         scaled_dashes = [x * lw if x is not None else None\n",
      "\u001b[1;31mTypeError\u001b[0m: can't multiply sequence by non-int of type 'float'"
     ]
    },
    {
     "data": {
      "text/plain": [
       "<Figure size 432x288 with 1 Axes>"
      ]
     },
     "metadata": {
      "needs_background": "light"
     },
     "output_type": "display_data"
    }
   ],
   "source": [
    "import matplotlib.pyplot as plt\n",
    "%matplotlib inline\n",
    "\n",
    "def program_144(lang, popularity):\n",
    "    x_pos = [i for i, _ in enumerate(lang)]\n",
    "    print(x_pos)\n",
    "    plt.bar(x_pos, popularity, color=(0.4, 0.6, 0.8, 1.0), edgecolor='blue')\n",
    "    \n",
    "    plt.xlabel(\"Languages\")\n",
    "    plt.ylabel(\"Popularity\")\n",
    "    plt.title(\"PopularitY of Programming Language\\n\" + \"Worldwide, Oct 2017 compared to a year ago\")\n",
    "    plt.xticks(x_pos, lang)\n",
    "    plt.show()\n",
    "    plt.minorticks_on()\n",
    "    plt.grid(which='major', linestyle='-', linewidth='0.5', color='red')\n",
    "    plt.grid(which='minor', linestyle=':', linewidth='0.5', color='black')\n",
    "    \n",
    "    \n",
    "if __name__ == '__main__':\n",
    "    languages = ['Java', 'Python', 'PHP', 'JavaScript', 'C#', 'C++']\n",
    "    popularity = [22.2, 17.6, 8.8, 8, 7.7, 6.7]\n",
    "    program_144(languages, popularity)\n",
    "    "
   ]
  },
  {
   "cell_type": "markdown",
   "metadata": {},
   "source": [
    "### Q145.  Write a python programming to display a horizontal bar chart of   the popularity of programming languages. "
   ]
  },
  {
   "cell_type": "markdown",
   "metadata": {},
   "source": [
    "### Ans."
   ]
  },
  {
   "cell_type": "code",
   "execution_count": 146,
   "metadata": {},
   "outputs": [
    {
     "name": "stdout",
     "output_type": "stream",
     "text": [
      "[0, 1, 2, 3, 4, 5]\n"
     ]
    },
    {
     "data": {
      "image/png": "[encoded data removed]",
      "text/plain": [
       "<Figure size 432x288 with 1 Axes>"
      ]
     },
     "metadata": {
      "needs_background": "light"
     },
     "output_type": "display_data"
    },
    {
     "ename": "TypeError",
     "evalue": "can't multiply sequence by non-int of type 'float'",
     "output_type": "error",
     "traceback": [
      "\u001b[1;31m---------------------------------------------------------------------------\u001b[0m",
      "\u001b[1;31mTypeError\u001b[0m                                 Traceback (most recent call last)",
      "\u001b[1;32mc:\\program files\\python36\\lib\\site-packages\\IPython\\core\\formatters.py\u001b[0m in \u001b[0;36m__call__\u001b[1;34m(self, obj)\u001b[0m\n\u001b[0;32m    339\u001b[0m                 \u001b[1;32mpass\u001b[0m\u001b[1;33m\u001b[0m\u001b[0m\n\u001b[0;32m    340\u001b[0m             \u001b[1;32melse\u001b[0m\u001b[1;33m:\u001b[0m\u001b[1;33m\u001b[0m\u001b[0m\n\u001b[1;32m--> 341\u001b[1;33m                 \u001b[1;32mreturn\u001b[0m \u001b[0mprinter\u001b[0m\u001b[1;33m(\u001b[0m\u001b[0mobj\u001b[0m\u001b[1;33m)\u001b[0m\u001b[1;33m\u001b[0m\u001b[0m\n\u001b[0m\u001b[0;32m    342\u001b[0m             \u001b[1;31m# Finally look for special method names\u001b[0m\u001b[1;33m\u001b[0m\u001b[1;33m\u001b[0m\u001b[0m\n\u001b[0;32m    343\u001b[0m             \u001b[0mmethod\u001b[0m \u001b[1;33m=\u001b[0m \u001b[0mget_real_method\u001b[0m\u001b[1;33m(\u001b[0m\u001b[0mobj\u001b[0m\u001b[1;33m,\u001b[0m \u001b[0mself\u001b[0m\u001b[1;33m.\u001b[0m\u001b[0mprint_method\u001b[0m\u001b[1;33m)\u001b[0m\u001b[1;33m\u001b[0m\u001b[0m\n",
      "\u001b[1;32mc:\\program files\\python36\\lib\\site-packages\\IPython\\core\\pylabtools.py\u001b[0m in \u001b[0;36m<lambda>\u001b[1;34m(fig)\u001b[0m\n\u001b[0;32m    242\u001b[0m \u001b[1;33m\u001b[0m\u001b[0m\n\u001b[0;32m    243\u001b[0m     \u001b[1;32mif\u001b[0m \u001b[1;34m'png'\u001b[0m \u001b[1;32min\u001b[0m \u001b[0mformats\u001b[0m\u001b[1;33m:\u001b[0m\u001b[1;33m\u001b[0m\u001b[0m\n\u001b[1;32m--> 244\u001b[1;33m         \u001b[0mpng_formatter\u001b[0m\u001b[1;33m.\u001b[0m\u001b[0mfor_type\u001b[0m\u001b[1;33m(\u001b[0m\u001b[0mFigure\u001b[0m\u001b[1;33m,\u001b[0m \u001b[1;32mlambda\u001b[0m \u001b[0mfig\u001b[0m\u001b[1;33m:\u001b[0m \u001b[0mprint_figure\u001b[0m\u001b[1;33m(\u001b[0m\u001b[0mfig\u001b[0m\u001b[1;33m,\u001b[0m \u001b[1;34m'png'\u001b[0m\u001b[1;33m,\u001b[0m \u001b[1;33m**\u001b[0m\u001b[0mkwargs\u001b[0m\u001b[1;33m)\u001b[0m\u001b[1;33m)\u001b[0m\u001b[1;33m\u001b[0m\u001b[0m\n\u001b[0m\u001b[0;32m    245\u001b[0m     \u001b[1;32mif\u001b[0m \u001b[1;34m'retina'\u001b[0m \u001b[1;32min\u001b[0m \u001b[0mformats\u001b[0m \u001b[1;32mor\u001b[0m \u001b[1;34m'png2x'\u001b[0m \u001b[1;32min\u001b[0m \u001b[0mformats\u001b[0m\u001b[1;33m:\u001b[0m\u001b[1;33m\u001b[0m\u001b[0m\n\u001b[0;32m    246\u001b[0m         \u001b[0mpng_formatter\u001b[0m\u001b[1;33m.\u001b[0m\u001b[0mfor_type\u001b[0m\u001b[1;33m(\u001b[0m\u001b[0mFigure\u001b[0m\u001b[1;33m,\u001b[0m \u001b[1;32mlambda\u001b[0m \u001b[0mfig\u001b[0m\u001b[1;33m:\u001b[0m \u001b[0mretina_figure\u001b[0m\u001b[1;33m(\u001b[0m\u001b[0mfig\u001b[0m\u001b[1;33m,\u001b[0m \u001b[1;33m**\u001b[0m\u001b[0mkwargs\u001b[0m\u001b[1;33m)\u001b[0m\u001b[1;33m)\u001b[0m\u001b[1;33m\u001b[0m\u001b[0m\n",
      "\u001b[1;32mc:\\program files\\python36\\lib\\site-packages\\IPython\\core\\pylabtools.py\u001b[0m in \u001b[0;36mprint_figure\u001b[1;34m(fig, fmt, bbox_inches, **kwargs)\u001b[0m\n\u001b[0;32m    126\u001b[0m \u001b[1;33m\u001b[0m\u001b[0m\n\u001b[0;32m    127\u001b[0m     \u001b[0mbytes_io\u001b[0m \u001b[1;33m=\u001b[0m \u001b[0mBytesIO\u001b[0m\u001b[1;33m(\u001b[0m\u001b[1;33m)\u001b[0m\u001b[1;33m\u001b[0m\u001b[0m\n\u001b[1;32m--> 128\u001b[1;33m     \u001b[0mfig\u001b[0m\u001b[1;33m.\u001b[0m\u001b[0mcanvas\u001b[0m\u001b[1;33m.\u001b[0m\u001b[0mprint_figure\u001b[0m\u001b[1;33m(\u001b[0m\u001b[0mbytes_io\u001b[0m\u001b[1;33m,\u001b[0m \u001b[1;33m**\u001b[0m\u001b[0mkw\u001b[0m\u001b[1;33m)\u001b[0m\u001b[1;33m\u001b[0m\u001b[0m\n\u001b[0m\u001b[0;32m    129\u001b[0m     \u001b[0mdata\u001b[0m \u001b[1;33m=\u001b[0m \u001b[0mbytes_io\u001b[0m\u001b[1;33m.\u001b[0m\u001b[0mgetvalue\u001b[0m\u001b[1;33m(\u001b[0m\u001b[1;33m)\u001b[0m\u001b[1;33m\u001b[0m\u001b[0m\n\u001b[0;32m    130\u001b[0m     \u001b[1;32mif\u001b[0m \u001b[0mfmt\u001b[0m \u001b[1;33m==\u001b[0m \u001b[1;34m'svg'\u001b[0m\u001b[1;33m:\u001b[0m\u001b[1;33m\u001b[0m\u001b[0m\n",
      "\u001b[1;32mc:\\program files\\python36\\lib\\site-packages\\matplotlib\\backend_bases.py\u001b[0m in \u001b[0;36mprint_figure\u001b[1;34m(self, filename, dpi, facecolor, edgecolor, orientation, format, **kwargs)\u001b[0m\n\u001b[0;32m   2210\u001b[0m                     \u001b[0morientation\u001b[0m\u001b[1;33m=\u001b[0m\u001b[0morientation\u001b[0m\u001b[1;33m,\u001b[0m\u001b[1;33m\u001b[0m\u001b[0m\n\u001b[0;32m   2211\u001b[0m                     \u001b[0mdryrun\u001b[0m\u001b[1;33m=\u001b[0m\u001b[1;32mTrue\u001b[0m\u001b[1;33m,\u001b[0m\u001b[1;33m\u001b[0m\u001b[0m\n\u001b[1;32m-> 2212\u001b[1;33m                     **kwargs)\n\u001b[0m\u001b[0;32m   2213\u001b[0m                 \u001b[0mrenderer\u001b[0m \u001b[1;33m=\u001b[0m \u001b[0mself\u001b[0m\u001b[1;33m.\u001b[0m\u001b[0mfigure\u001b[0m\u001b[1;33m.\u001b[0m\u001b[0m_cachedRenderer\u001b[0m\u001b[1;33m\u001b[0m\u001b[0m\n\u001b[0;32m   2214\u001b[0m                 \u001b[0mbbox_inches\u001b[0m \u001b[1;33m=\u001b[0m \u001b[0mself\u001b[0m\u001b[1;33m.\u001b[0m\u001b[0mfigure\u001b[0m\u001b[1;33m.\u001b[0m\u001b[0mget_tightbbox\u001b[0m\u001b[1;33m(\u001b[0m\u001b[0mrenderer\u001b[0m\u001b[1;33m)\u001b[0m\u001b[1;33m\u001b[0m\u001b[0m\n",
      "\u001b[1;32mc:\\program files\\python36\\lib\\site-packages\\matplotlib\\backends\\backend_agg.py\u001b[0m in \u001b[0;36mprint_png\u001b[1;34m(self, filename_or_obj, *args, **kwargs)\u001b[0m\n\u001b[0;32m    515\u001b[0m \u001b[1;33m\u001b[0m\u001b[0m\n\u001b[0;32m    516\u001b[0m     \u001b[1;32mdef\u001b[0m \u001b[0mprint_png\u001b[0m\u001b[1;33m(\u001b[0m\u001b[0mself\u001b[0m\u001b[1;33m,\u001b[0m \u001b[0mfilename_or_obj\u001b[0m\u001b[1;33m,\u001b[0m \u001b[1;33m*\u001b[0m\u001b[0margs\u001b[0m\u001b[1;33m,\u001b[0m \u001b[1;33m**\u001b[0m\u001b[0mkwargs\u001b[0m\u001b[1;33m)\u001b[0m\u001b[1;33m:\u001b[0m\u001b[1;33m\u001b[0m\u001b[0m\n\u001b[1;32m--> 517\u001b[1;33m         \u001b[0mFigureCanvasAgg\u001b[0m\u001b[1;33m.\u001b[0m\u001b[0mdraw\u001b[0m\u001b[1;33m(\u001b[0m\u001b[0mself\u001b[0m\u001b[1;33m)\u001b[0m\u001b[1;33m\u001b[0m\u001b[0m\n\u001b[0m\u001b[0;32m    518\u001b[0m         \u001b[0mrenderer\u001b[0m \u001b[1;33m=\u001b[0m \u001b[0mself\u001b[0m\u001b[1;33m.\u001b[0m\u001b[0mget_renderer\u001b[0m\u001b[1;33m(\u001b[0m\u001b[1;33m)\u001b[0m\u001b[1;33m\u001b[0m\u001b[0m\n\u001b[0;32m    519\u001b[0m         \u001b[0moriginal_dpi\u001b[0m \u001b[1;33m=\u001b[0m \u001b[0mrenderer\u001b[0m\u001b[1;33m.\u001b[0m\u001b[0mdpi\u001b[0m\u001b[1;33m\u001b[0m\u001b[0m\n",
      "\u001b[1;32mc:\\program files\\python36\\lib\\site-packages\\matplotlib\\backends\\backend_agg.py\u001b[0m in \u001b[0;36mdraw\u001b[1;34m(self)\u001b[0m\n\u001b[0;32m    435\u001b[0m             \u001b[1;31m# if toolbar:\u001b[0m\u001b[1;33m\u001b[0m\u001b[1;33m\u001b[0m\u001b[0m\n\u001b[0;32m    436\u001b[0m             \u001b[1;31m#     toolbar.set_cursor(cursors.WAIT)\u001b[0m\u001b[1;33m\u001b[0m\u001b[1;33m\u001b[0m\u001b[0m\n\u001b[1;32m--> 437\u001b[1;33m             \u001b[0mself\u001b[0m\u001b[1;33m.\u001b[0m\u001b[0mfigure\u001b[0m\u001b[1;33m.\u001b[0m\u001b[0mdraw\u001b[0m\u001b[1;33m(\u001b[0m\u001b[0mself\u001b[0m\u001b[1;33m.\u001b[0m\u001b[0mrenderer\u001b[0m\u001b[1;33m)\u001b[0m\u001b[1;33m\u001b[0m\u001b[0m\n\u001b[0m\u001b[0;32m    438\u001b[0m             \u001b[1;31m# A GUI class may be need to update a window using this draw, so\u001b[0m\u001b[1;33m\u001b[0m\u001b[1;33m\u001b[0m\u001b[0m\n\u001b[0;32m    439\u001b[0m             \u001b[1;31m# don't forget to call the superclass.\u001b[0m\u001b[1;33m\u001b[0m\u001b[1;33m\u001b[0m\u001b[0m\n",
      "\u001b[1;32mc:\\program files\\python36\\lib\\site-packages\\matplotlib\\artist.py\u001b[0m in \u001b[0;36mdraw_wrapper\u001b[1;34m(artist, renderer, *args, **kwargs)\u001b[0m\n\u001b[0;32m     53\u001b[0m                 \u001b[0mrenderer\u001b[0m\u001b[1;33m.\u001b[0m\u001b[0mstart_filter\u001b[0m\u001b[1;33m(\u001b[0m\u001b[1;33m)\u001b[0m\u001b[1;33m\u001b[0m\u001b[0m\n\u001b[0;32m     54\u001b[0m \u001b[1;33m\u001b[0m\u001b[0m\n\u001b[1;32m---> 55\u001b[1;33m             \u001b[1;32mreturn\u001b[0m \u001b[0mdraw\u001b[0m\u001b[1;33m(\u001b[0m\u001b[0martist\u001b[0m\u001b[1;33m,\u001b[0m \u001b[0mrenderer\u001b[0m\u001b[1;33m,\u001b[0m \u001b[1;33m*\u001b[0m\u001b[0margs\u001b[0m\u001b[1;33m,\u001b[0m \u001b[1;33m**\u001b[0m\u001b[0mkwargs\u001b[0m\u001b[1;33m)\u001b[0m\u001b[1;33m\u001b[0m\u001b[0m\n\u001b[0m\u001b[0;32m     56\u001b[0m         \u001b[1;32mfinally\u001b[0m\u001b[1;33m:\u001b[0m\u001b[1;33m\u001b[0m\u001b[0m\n\u001b[0;32m     57\u001b[0m             \u001b[1;32mif\u001b[0m \u001b[0martist\u001b[0m\u001b[1;33m.\u001b[0m\u001b[0mget_agg_filter\u001b[0m\u001b[1;33m(\u001b[0m\u001b[1;33m)\u001b[0m \u001b[1;32mis\u001b[0m \u001b[1;32mnot\u001b[0m \u001b[1;32mNone\u001b[0m\u001b[1;33m:\u001b[0m\u001b[1;33m\u001b[0m\u001b[0m\n",
      "\u001b[1;32mc:\\program files\\python36\\lib\\site-packages\\matplotlib\\figure.py\u001b[0m in \u001b[0;36mdraw\u001b[1;34m(self, renderer)\u001b[0m\n\u001b[0;32m   1491\u001b[0m \u001b[1;33m\u001b[0m\u001b[0m\n\u001b[0;32m   1492\u001b[0m             mimage._draw_list_compositing_images(\n\u001b[1;32m-> 1493\u001b[1;33m                 renderer, self, artists, self.suppressComposite)\n\u001b[0m\u001b[0;32m   1494\u001b[0m \u001b[1;33m\u001b[0m\u001b[0m\n\u001b[0;32m   1495\u001b[0m             \u001b[0mrenderer\u001b[0m\u001b[1;33m.\u001b[0m\u001b[0mclose_group\u001b[0m\u001b[1;33m(\u001b[0m\u001b[1;34m'figure'\u001b[0m\u001b[1;33m)\u001b[0m\u001b[1;33m\u001b[0m\u001b[0m\n",
      "\u001b[1;32mc:\\program files\\python36\\lib\\site-packages\\matplotlib\\image.py\u001b[0m in \u001b[0;36m_draw_list_compositing_images\u001b[1;34m(renderer, parent, artists, suppress_composite)\u001b[0m\n\u001b[0;32m    139\u001b[0m     \u001b[1;32mif\u001b[0m \u001b[0mnot_composite\u001b[0m \u001b[1;32mor\u001b[0m \u001b[1;32mnot\u001b[0m \u001b[0mhas_images\u001b[0m\u001b[1;33m:\u001b[0m\u001b[1;33m\u001b[0m\u001b[0m\n\u001b[0;32m    140\u001b[0m         \u001b[1;32mfor\u001b[0m \u001b[0ma\u001b[0m \u001b[1;32min\u001b[0m \u001b[0martists\u001b[0m\u001b[1;33m:\u001b[0m\u001b[1;33m\u001b[0m\u001b[0m\n\u001b[1;32m--> 141\u001b[1;33m             \u001b[0ma\u001b[0m\u001b[1;33m.\u001b[0m\u001b[0mdraw\u001b[0m\u001b[1;33m(\u001b[0m\u001b[0mrenderer\u001b[0m\u001b[1;33m)\u001b[0m\u001b[1;33m\u001b[0m\u001b[0m\n\u001b[0m\u001b[0;32m    142\u001b[0m     \u001b[1;32melse\u001b[0m\u001b[1;33m:\u001b[0m\u001b[1;33m\u001b[0m\u001b[0m\n\u001b[0;32m    143\u001b[0m         \u001b[1;31m# Composite any adjacent images together\u001b[0m\u001b[1;33m\u001b[0m\u001b[1;33m\u001b[0m\u001b[0m\n",
      "\u001b[1;32mc:\\program files\\python36\\lib\\site-packages\\matplotlib\\artist.py\u001b[0m in \u001b[0;36mdraw_wrapper\u001b[1;34m(artist, renderer, *args, **kwargs)\u001b[0m\n\u001b[0;32m     53\u001b[0m                 \u001b[0mrenderer\u001b[0m\u001b[1;33m.\u001b[0m\u001b[0mstart_filter\u001b[0m\u001b[1;33m(\u001b[0m\u001b[1;33m)\u001b[0m\u001b[1;33m\u001b[0m\u001b[0m\n\u001b[0;32m     54\u001b[0m \u001b[1;33m\u001b[0m\u001b[0m\n\u001b[1;32m---> 55\u001b[1;33m             \u001b[1;32mreturn\u001b[0m \u001b[0mdraw\u001b[0m\u001b[1;33m(\u001b[0m\u001b[0martist\u001b[0m\u001b[1;33m,\u001b[0m \u001b[0mrenderer\u001b[0m\u001b[1;33m,\u001b[0m \u001b[1;33m*\u001b[0m\u001b[0margs\u001b[0m\u001b[1;33m,\u001b[0m \u001b[1;33m**\u001b[0m\u001b[0mkwargs\u001b[0m\u001b[1;33m)\u001b[0m\u001b[1;33m\u001b[0m\u001b[0m\n\u001b[0m\u001b[0;32m     56\u001b[0m         \u001b[1;32mfinally\u001b[0m\u001b[1;33m:\u001b[0m\u001b[1;33m\u001b[0m\u001b[0m\n\u001b[0;32m     57\u001b[0m             \u001b[1;32mif\u001b[0m \u001b[0martist\u001b[0m\u001b[1;33m.\u001b[0m\u001b[0mget_agg_filter\u001b[0m\u001b[1;33m(\u001b[0m\u001b[1;33m)\u001b[0m \u001b[1;32mis\u001b[0m \u001b[1;32mnot\u001b[0m \u001b[1;32mNone\u001b[0m\u001b[1;33m:\u001b[0m\u001b[1;33m\u001b[0m\u001b[0m\n",
      "\u001b[1;32mc:\\program files\\python36\\lib\\site-packages\\matplotlib\\axes\\_base.py\u001b[0m in \u001b[0;36mdraw\u001b[1;34m(self, renderer, inframe)\u001b[0m\n\u001b[0;32m   2633\u001b[0m             \u001b[0mrenderer\u001b[0m\u001b[1;33m.\u001b[0m\u001b[0mstop_rasterizing\u001b[0m\u001b[1;33m(\u001b[0m\u001b[1;33m)\u001b[0m\u001b[1;33m\u001b[0m\u001b[0m\n\u001b[0;32m   2634\u001b[0m \u001b[1;33m\u001b[0m\u001b[0m\n\u001b[1;32m-> 2635\u001b[1;33m         \u001b[0mmimage\u001b[0m\u001b[1;33m.\u001b[0m\u001b[0m_draw_list_compositing_images\u001b[0m\u001b[1;33m(\u001b[0m\u001b[0mrenderer\u001b[0m\u001b[1;33m,\u001b[0m \u001b[0mself\u001b[0m\u001b[1;33m,\u001b[0m \u001b[0martists\u001b[0m\u001b[1;33m)\u001b[0m\u001b[1;33m\u001b[0m\u001b[0m\n\u001b[0m\u001b[0;32m   2636\u001b[0m \u001b[1;33m\u001b[0m\u001b[0m\n\u001b[0;32m   2637\u001b[0m         \u001b[0mrenderer\u001b[0m\u001b[1;33m.\u001b[0m\u001b[0mclose_group\u001b[0m\u001b[1;33m(\u001b[0m\u001b[1;34m'axes'\u001b[0m\u001b[1;33m)\u001b[0m\u001b[1;33m\u001b[0m\u001b[0m\n",
      "\u001b[1;32mc:\\program files\\python36\\lib\\site-packages\\matplotlib\\image.py\u001b[0m in \u001b[0;36m_draw_list_compositing_images\u001b[1;34m(renderer, parent, artists, suppress_composite)\u001b[0m\n\u001b[0;32m    139\u001b[0m     \u001b[1;32mif\u001b[0m \u001b[0mnot_composite\u001b[0m \u001b[1;32mor\u001b[0m \u001b[1;32mnot\u001b[0m \u001b[0mhas_images\u001b[0m\u001b[1;33m:\u001b[0m\u001b[1;33m\u001b[0m\u001b[0m\n\u001b[0;32m    140\u001b[0m         \u001b[1;32mfor\u001b[0m \u001b[0ma\u001b[0m \u001b[1;32min\u001b[0m \u001b[0martists\u001b[0m\u001b[1;33m:\u001b[0m\u001b[1;33m\u001b[0m\u001b[0m\n\u001b[1;32m--> 141\u001b[1;33m             \u001b[0ma\u001b[0m\u001b[1;33m.\u001b[0m\u001b[0mdraw\u001b[0m\u001b[1;33m(\u001b[0m\u001b[0mrenderer\u001b[0m\u001b[1;33m)\u001b[0m\u001b[1;33m\u001b[0m\u001b[0m\n\u001b[0m\u001b[0;32m    142\u001b[0m     \u001b[1;32melse\u001b[0m\u001b[1;33m:\u001b[0m\u001b[1;33m\u001b[0m\u001b[0m\n\u001b[0;32m    143\u001b[0m         \u001b[1;31m# Composite any adjacent images together\u001b[0m\u001b[1;33m\u001b[0m\u001b[1;33m\u001b[0m\u001b[0m\n",
      "\u001b[1;32mc:\\program files\\python36\\lib\\site-packages\\matplotlib\\artist.py\u001b[0m in \u001b[0;36mdraw_wrapper\u001b[1;34m(artist, renderer, *args, **kwargs)\u001b[0m\n\u001b[0;32m     53\u001b[0m                 \u001b[0mrenderer\u001b[0m\u001b[1;33m.\u001b[0m\u001b[0mstart_filter\u001b[0m\u001b[1;33m(\u001b[0m\u001b[1;33m)\u001b[0m\u001b[1;33m\u001b[0m\u001b[0m\n\u001b[0;32m     54\u001b[0m \u001b[1;33m\u001b[0m\u001b[0m\n\u001b[1;32m---> 55\u001b[1;33m             \u001b[1;32mreturn\u001b[0m \u001b[0mdraw\u001b[0m\u001b[1;33m(\u001b[0m\u001b[0martist\u001b[0m\u001b[1;33m,\u001b[0m \u001b[0mrenderer\u001b[0m\u001b[1;33m,\u001b[0m \u001b[1;33m*\u001b[0m\u001b[0margs\u001b[0m\u001b[1;33m,\u001b[0m \u001b[1;33m**\u001b[0m\u001b[0mkwargs\u001b[0m\u001b[1;33m)\u001b[0m\u001b[1;33m\u001b[0m\u001b[0m\n\u001b[0m\u001b[0;32m     56\u001b[0m         \u001b[1;32mfinally\u001b[0m\u001b[1;33m:\u001b[0m\u001b[1;33m\u001b[0m\u001b[0m\n\u001b[0;32m     57\u001b[0m             \u001b[1;32mif\u001b[0m \u001b[0martist\u001b[0m\u001b[1;33m.\u001b[0m\u001b[0mget_agg_filter\u001b[0m\u001b[1;33m(\u001b[0m\u001b[1;33m)\u001b[0m \u001b[1;32mis\u001b[0m \u001b[1;32mnot\u001b[0m \u001b[1;32mNone\u001b[0m\u001b[1;33m:\u001b[0m\u001b[1;33m\u001b[0m\u001b[0m\n",
      "\u001b[1;32mc:\\program files\\python36\\lib\\site-packages\\matplotlib\\axis.py\u001b[0m in \u001b[0;36mdraw\u001b[1;34m(self, renderer, *args, **kwargs)\u001b[0m\n\u001b[0;32m   1188\u001b[0m         \u001b[0mrenderer\u001b[0m\u001b[1;33m.\u001b[0m\u001b[0mopen_group\u001b[0m\u001b[1;33m(\u001b[0m\u001b[0m__name__\u001b[0m\u001b[1;33m)\u001b[0m\u001b[1;33m\u001b[0m\u001b[0m\n\u001b[0;32m   1189\u001b[0m \u001b[1;33m\u001b[0m\u001b[0m\n\u001b[1;32m-> 1190\u001b[1;33m         \u001b[0mticks_to_draw\u001b[0m \u001b[1;33m=\u001b[0m \u001b[0mself\u001b[0m\u001b[1;33m.\u001b[0m\u001b[0m_update_ticks\u001b[0m\u001b[1;33m(\u001b[0m\u001b[0mrenderer\u001b[0m\u001b[1;33m)\u001b[0m\u001b[1;33m\u001b[0m\u001b[0m\n\u001b[0m\u001b[0;32m   1191\u001b[0m         ticklabelBoxes, ticklabelBoxes2 = self._get_tick_bboxes(ticks_to_draw,\n\u001b[0;32m   1192\u001b[0m                                                                 renderer)\n",
      "\u001b[1;32mc:\\program files\\python36\\lib\\site-packages\\matplotlib\\axis.py\u001b[0m in \u001b[0;36m_update_ticks\u001b[1;34m(self, renderer)\u001b[0m\n\u001b[0;32m   1026\u001b[0m \u001b[1;33m\u001b[0m\u001b[0m\n\u001b[0;32m   1027\u001b[0m         \u001b[0minterval\u001b[0m \u001b[1;33m=\u001b[0m \u001b[0mself\u001b[0m\u001b[1;33m.\u001b[0m\u001b[0mget_view_interval\u001b[0m\u001b[1;33m(\u001b[0m\u001b[1;33m)\u001b[0m\u001b[1;33m\u001b[0m\u001b[0m\n\u001b[1;32m-> 1028\u001b[1;33m         \u001b[0mtick_tups\u001b[0m \u001b[1;33m=\u001b[0m \u001b[0mlist\u001b[0m\u001b[1;33m(\u001b[0m\u001b[0mself\u001b[0m\u001b[1;33m.\u001b[0m\u001b[0miter_ticks\u001b[0m\u001b[1;33m(\u001b[0m\u001b[1;33m)\u001b[0m\u001b[1;33m)\u001b[0m  \u001b[1;31m# iter_ticks calls the locator\u001b[0m\u001b[1;33m\u001b[0m\u001b[0m\n\u001b[0m\u001b[0;32m   1029\u001b[0m         \u001b[1;32mif\u001b[0m \u001b[0mself\u001b[0m\u001b[1;33m.\u001b[0m\u001b[0m_smart_bounds\u001b[0m \u001b[1;32mand\u001b[0m \u001b[0mtick_tups\u001b[0m\u001b[1;33m:\u001b[0m\u001b[1;33m\u001b[0m\u001b[0m\n\u001b[0;32m   1030\u001b[0m             \u001b[1;31m# handle inverted limits\u001b[0m\u001b[1;33m\u001b[0m\u001b[1;33m\u001b[0m\u001b[0m\n",
      "\u001b[1;32mc:\\program files\\python36\\lib\\site-packages\\matplotlib\\axis.py\u001b[0m in \u001b[0;36miter_ticks\u001b[1;34m(self)\u001b[0m\n\u001b[0;32m    976\u001b[0m \u001b[1;33m\u001b[0m\u001b[0m\n\u001b[0;32m    977\u001b[0m         \u001b[0mminorLocs\u001b[0m \u001b[1;33m=\u001b[0m \u001b[0mself\u001b[0m\u001b[1;33m.\u001b[0m\u001b[0mminor\u001b[0m\u001b[1;33m.\u001b[0m\u001b[0mlocator\u001b[0m\u001b[1;33m(\u001b[0m\u001b[1;33m)\u001b[0m\u001b[1;33m\u001b[0m\u001b[0m\n\u001b[1;32m--> 978\u001b[1;33m         \u001b[0mminorTicks\u001b[0m \u001b[1;33m=\u001b[0m \u001b[0mself\u001b[0m\u001b[1;33m.\u001b[0m\u001b[0mget_minor_ticks\u001b[0m\u001b[1;33m(\u001b[0m\u001b[0mlen\u001b[0m\u001b[1;33m(\u001b[0m\u001b[0mminorLocs\u001b[0m\u001b[1;33m)\u001b[0m\u001b[1;33m)\u001b[0m\u001b[1;33m\u001b[0m\u001b[0m\n\u001b[0m\u001b[0;32m    979\u001b[0m         \u001b[0mself\u001b[0m\u001b[1;33m.\u001b[0m\u001b[0mminor\u001b[0m\u001b[1;33m.\u001b[0m\u001b[0mformatter\u001b[0m\u001b[1;33m.\u001b[0m\u001b[0mset_locs\u001b[0m\u001b[1;33m(\u001b[0m\u001b[0mminorLocs\u001b[0m\u001b[1;33m)\u001b[0m\u001b[1;33m\u001b[0m\u001b[0m\n\u001b[0;32m    980\u001b[0m         minorLabels = [self.minor.formatter(val, i)\n",
      "\u001b[1;32mc:\\program files\\python36\\lib\\site-packages\\matplotlib\\axis.py\u001b[0m in \u001b[0;36mget_minor_ticks\u001b[1;34m(self, numticks)\u001b[0m\n\u001b[0;32m   1413\u001b[0m         \u001b[1;32mwhile\u001b[0m \u001b[0mlen\u001b[0m\u001b[1;33m(\u001b[0m\u001b[0mself\u001b[0m\u001b[1;33m.\u001b[0m\u001b[0mminorTicks\u001b[0m\u001b[1;33m)\u001b[0m \u001b[1;33m<\u001b[0m \u001b[0mnumticks\u001b[0m\u001b[1;33m:\u001b[0m\u001b[1;33m\u001b[0m\u001b[0m\n\u001b[0;32m   1414\u001b[0m             \u001b[1;31m# update the new tick label properties from the old\u001b[0m\u001b[1;33m\u001b[0m\u001b[1;33m\u001b[0m\u001b[0m\n\u001b[1;32m-> 1415\u001b[1;33m             \u001b[0mtick\u001b[0m \u001b[1;33m=\u001b[0m \u001b[0mself\u001b[0m\u001b[1;33m.\u001b[0m\u001b[0m_get_tick\u001b[0m\u001b[1;33m(\u001b[0m\u001b[0mmajor\u001b[0m\u001b[1;33m=\u001b[0m\u001b[1;32mFalse\u001b[0m\u001b[1;33m)\u001b[0m\u001b[1;33m\u001b[0m\u001b[0m\n\u001b[0m\u001b[0;32m   1416\u001b[0m             \u001b[0mself\u001b[0m\u001b[1;33m.\u001b[0m\u001b[0mminorTicks\u001b[0m\u001b[1;33m.\u001b[0m\u001b[0mappend\u001b[0m\u001b[1;33m(\u001b[0m\u001b[0mtick\u001b[0m\u001b[1;33m)\u001b[0m\u001b[1;33m\u001b[0m\u001b[0m\n\u001b[0;32m   1417\u001b[0m             \u001b[1;32mif\u001b[0m \u001b[0mself\u001b[0m\u001b[1;33m.\u001b[0m\u001b[0m_gridOnMinor\u001b[0m\u001b[1;33m:\u001b[0m\u001b[1;33m\u001b[0m\u001b[0m\n",
      "\u001b[1;32mc:\\program files\\python36\\lib\\site-packages\\matplotlib\\axis.py\u001b[0m in \u001b[0;36m_get_tick\u001b[1;34m(self, major)\u001b[0m\n\u001b[0;32m   1790\u001b[0m         \u001b[1;32melse\u001b[0m\u001b[1;33m:\u001b[0m\u001b[1;33m\u001b[0m\u001b[0m\n\u001b[0;32m   1791\u001b[0m             \u001b[0mtick_kw\u001b[0m \u001b[1;33m=\u001b[0m \u001b[0mself\u001b[0m\u001b[1;33m.\u001b[0m\u001b[0m_minor_tick_kw\u001b[0m\u001b[1;33m\u001b[0m\u001b[0m\n\u001b[1;32m-> 1792\u001b[1;33m         \u001b[1;32mreturn\u001b[0m \u001b[0mXTick\u001b[0m\u001b[1;33m(\u001b[0m\u001b[0mself\u001b[0m\u001b[1;33m.\u001b[0m\u001b[0maxes\u001b[0m\u001b[1;33m,\u001b[0m \u001b[1;36m0\u001b[0m\u001b[1;33m,\u001b[0m \u001b[1;34m''\u001b[0m\u001b[1;33m,\u001b[0m \u001b[0mmajor\u001b[0m\u001b[1;33m=\u001b[0m\u001b[0mmajor\u001b[0m\u001b[1;33m,\u001b[0m \u001b[1;33m**\u001b[0m\u001b[0mtick_kw\u001b[0m\u001b[1;33m)\u001b[0m\u001b[1;33m\u001b[0m\u001b[0m\n\u001b[0m\u001b[0;32m   1793\u001b[0m \u001b[1;33m\u001b[0m\u001b[0m\n\u001b[0;32m   1794\u001b[0m     \u001b[1;32mdef\u001b[0m \u001b[0m_get_label\u001b[0m\u001b[1;33m(\u001b[0m\u001b[0mself\u001b[0m\u001b[1;33m)\u001b[0m\u001b[1;33m:\u001b[0m\u001b[1;33m\u001b[0m\u001b[0m\n",
      "\u001b[1;32mc:\\program files\\python36\\lib\\site-packages\\matplotlib\\axis.py\u001b[0m in \u001b[0;36m__init__\u001b[1;34m(self, axes, loc, label, size, width, color, tickdir, pad, labelsize, labelcolor, zorder, gridOn, tick1On, tick2On, label1On, label2On, major, labelrotation, grid_color, grid_linestyle, grid_linewidth, grid_alpha, **kw)\u001b[0m\n\u001b[0;32m    176\u001b[0m         \u001b[0mself\u001b[0m\u001b[1;33m.\u001b[0m\u001b[0mtick1line\u001b[0m \u001b[1;33m=\u001b[0m \u001b[0mself\u001b[0m\u001b[1;33m.\u001b[0m\u001b[0m_get_tick1line\u001b[0m\u001b[1;33m(\u001b[0m\u001b[1;33m)\u001b[0m\u001b[1;33m\u001b[0m\u001b[0m\n\u001b[0;32m    177\u001b[0m         \u001b[0mself\u001b[0m\u001b[1;33m.\u001b[0m\u001b[0mtick2line\u001b[0m \u001b[1;33m=\u001b[0m \u001b[0mself\u001b[0m\u001b[1;33m.\u001b[0m\u001b[0m_get_tick2line\u001b[0m\u001b[1;33m(\u001b[0m\u001b[1;33m)\u001b[0m\u001b[1;33m\u001b[0m\u001b[0m\n\u001b[1;32m--> 178\u001b[1;33m         \u001b[0mself\u001b[0m\u001b[1;33m.\u001b[0m\u001b[0mgridline\u001b[0m \u001b[1;33m=\u001b[0m \u001b[0mself\u001b[0m\u001b[1;33m.\u001b[0m\u001b[0m_get_gridline\u001b[0m\u001b[1;33m(\u001b[0m\u001b[1;33m)\u001b[0m\u001b[1;33m\u001b[0m\u001b[0m\n\u001b[0m\u001b[0;32m    179\u001b[0m \u001b[1;33m\u001b[0m\u001b[0m\n\u001b[0;32m    180\u001b[0m         \u001b[0mself\u001b[0m\u001b[1;33m.\u001b[0m\u001b[0mlabel1\u001b[0m \u001b[1;33m=\u001b[0m \u001b[0mself\u001b[0m\u001b[1;33m.\u001b[0m\u001b[0m_get_text1\u001b[0m\u001b[1;33m(\u001b[0m\u001b[1;33m)\u001b[0m\u001b[1;33m\u001b[0m\u001b[0m\n",
      "\u001b[1;32mc:\\program files\\python36\\lib\\site-packages\\matplotlib\\axis.py\u001b[0m in \u001b[0;36m_get_gridline\u001b[1;34m(self)\u001b[0m\n\u001b[0;32m    501\u001b[0m                           \u001b[0malpha\u001b[0m\u001b[1;33m=\u001b[0m\u001b[0mself\u001b[0m\u001b[1;33m.\u001b[0m\u001b[0m_grid_alpha\u001b[0m\u001b[1;33m,\u001b[0m\u001b[1;33m\u001b[0m\u001b[0m\n\u001b[0;32m    502\u001b[0m                           \u001b[0mmarkersize\u001b[0m\u001b[1;33m=\u001b[0m\u001b[1;36m0\u001b[0m\u001b[1;33m,\u001b[0m\u001b[1;33m\u001b[0m\u001b[0m\n\u001b[1;32m--> 503\u001b[1;33m                           **self._grid_kw)\n\u001b[0m\u001b[0;32m    504\u001b[0m         \u001b[0ml\u001b[0m\u001b[1;33m.\u001b[0m\u001b[0mset_transform\u001b[0m\u001b[1;33m(\u001b[0m\u001b[0mself\u001b[0m\u001b[1;33m.\u001b[0m\u001b[0maxes\u001b[0m\u001b[1;33m.\u001b[0m\u001b[0mget_xaxis_transform\u001b[0m\u001b[1;33m(\u001b[0m\u001b[0mwhich\u001b[0m\u001b[1;33m=\u001b[0m\u001b[1;34m'grid'\u001b[0m\u001b[1;33m)\u001b[0m\u001b[1;33m)\u001b[0m\u001b[1;33m\u001b[0m\u001b[0m\n\u001b[0;32m    505\u001b[0m         \u001b[0ml\u001b[0m\u001b[1;33m.\u001b[0m\u001b[0mget_path\u001b[0m\u001b[1;33m(\u001b[0m\u001b[1;33m)\u001b[0m\u001b[1;33m.\u001b[0m\u001b[0m_interpolation_steps\u001b[0m \u001b[1;33m=\u001b[0m \u001b[0mGRIDLINE_INTERPOLATION_STEPS\u001b[0m\u001b[1;33m\u001b[0m\u001b[0m\n",
      "\u001b[1;32mc:\\program files\\python36\\lib\\site-packages\\matplotlib\\lines.py\u001b[0m in \u001b[0;36m__init__\u001b[1;34m(self, xdata, ydata, linewidth, linestyle, color, marker, markersize, markeredgewidth, markeredgecolor, markerfacecolor, markerfacecoloralt, fillstyle, antialiased, dash_capstyle, solid_capstyle, dash_joinstyle, solid_joinstyle, pickradius, drawstyle, markevery, **kwargs)\u001b[0m\n\u001b[0;32m    389\u001b[0m         \u001b[0mself\u001b[0m\u001b[1;33m.\u001b[0m\u001b[0m_us_dashOffset\u001b[0m \u001b[1;33m=\u001b[0m \u001b[1;36m0\u001b[0m\u001b[1;33m\u001b[0m\u001b[0m\n\u001b[0;32m    390\u001b[0m \u001b[1;33m\u001b[0m\u001b[0m\n\u001b[1;32m--> 391\u001b[1;33m         \u001b[0mself\u001b[0m\u001b[1;33m.\u001b[0m\u001b[0mset_linestyle\u001b[0m\u001b[1;33m(\u001b[0m\u001b[0mlinestyle\u001b[0m\u001b[1;33m)\u001b[0m\u001b[1;33m\u001b[0m\u001b[0m\n\u001b[0m\u001b[0;32m    392\u001b[0m         \u001b[0mself\u001b[0m\u001b[1;33m.\u001b[0m\u001b[0mset_drawstyle\u001b[0m\u001b[1;33m(\u001b[0m\u001b[0mdrawstyle\u001b[0m\u001b[1;33m)\u001b[0m\u001b[1;33m\u001b[0m\u001b[0m\n\u001b[0;32m    393\u001b[0m         \u001b[0mself\u001b[0m\u001b[1;33m.\u001b[0m\u001b[0mset_linewidth\u001b[0m\u001b[1;33m(\u001b[0m\u001b[0mlinewidth\u001b[0m\u001b[1;33m)\u001b[0m\u001b[1;33m\u001b[0m\u001b[0m\n",
      "\u001b[1;32mc:\\program files\\python36\\lib\\site-packages\\matplotlib\\lines.py\u001b[0m in \u001b[0;36mset_linestyle\u001b[1;34m(self, ls)\u001b[0m\n\u001b[0;32m   1123\u001b[0m         \u001b[1;31m# compute the linewidth scaled dashes\u001b[0m\u001b[1;33m\u001b[0m\u001b[1;33m\u001b[0m\u001b[0m\n\u001b[0;32m   1124\u001b[0m         self._dashOffset, self._dashSeq = _scale_dashes(\n\u001b[1;32m-> 1125\u001b[1;33m             self._us_dashOffset, self._us_dashSeq, self._linewidth)\n\u001b[0m\u001b[0;32m   1126\u001b[0m \u001b[1;33m\u001b[0m\u001b[0m\n\u001b[0;32m   1127\u001b[0m     \u001b[1;33m@\u001b[0m\u001b[0mdocstring\u001b[0m\u001b[1;33m.\u001b[0m\u001b[0mdedent_interpd\u001b[0m\u001b[1;33m\u001b[0m\u001b[0m\n",
      "\u001b[1;32mc:\\program files\\python36\\lib\\site-packages\\matplotlib\\lines.py\u001b[0m in \u001b[0;36m_scale_dashes\u001b[1;34m(offset, dashes, lw)\u001b[0m\n\u001b[0;32m     66\u001b[0m     \u001b[0mscaled_offset\u001b[0m \u001b[1;33m=\u001b[0m \u001b[0mscaled_dashes\u001b[0m \u001b[1;33m=\u001b[0m \u001b[1;32mNone\u001b[0m\u001b[1;33m\u001b[0m\u001b[0m\n\u001b[0;32m     67\u001b[0m     \u001b[1;32mif\u001b[0m \u001b[0moffset\u001b[0m \u001b[1;32mis\u001b[0m \u001b[1;32mnot\u001b[0m \u001b[1;32mNone\u001b[0m\u001b[1;33m:\u001b[0m\u001b[1;33m\u001b[0m\u001b[0m\n\u001b[1;32m---> 68\u001b[1;33m         \u001b[0mscaled_offset\u001b[0m \u001b[1;33m=\u001b[0m \u001b[0moffset\u001b[0m \u001b[1;33m*\u001b[0m \u001b[0mlw\u001b[0m\u001b[1;33m\u001b[0m\u001b[0m\n\u001b[0m\u001b[0;32m     69\u001b[0m     \u001b[1;32mif\u001b[0m \u001b[0mdashes\u001b[0m \u001b[1;32mis\u001b[0m \u001b[1;32mnot\u001b[0m \u001b[1;32mNone\u001b[0m\u001b[1;33m:\u001b[0m\u001b[1;33m\u001b[0m\u001b[0m\n\u001b[0;32m     70\u001b[0m         scaled_dashes = [x * lw if x is not None else None\n",
      "\u001b[1;31mTypeError\u001b[0m: can't multiply sequence by non-int of type 'float'"
     ]
    },
    {
     "data": {
      "text/plain": [
       "<Figure size 432x288 with 1 Axes>"
      ]
     },
     "metadata": {
      "needs_background": "light"
     },
     "output_type": "display_data"
    }
   ],
   "source": [
    "import matplotlib.pyplot as plt\n",
    "%matplotlib inline\n",
    "\n",
    "def program_145(lang, popularity):\n",
    "    x_pos = [i for i, _ in enumerate(lang)]\n",
    "    print(x_pos)\n",
    "    plt.barh(x_pos, popularity, color='green')\n",
    "    plt.xlabel(\"Popularity\")\n",
    "    plt.ylabel(\"Languages\")\n",
    "    plt.title(\"PopularitY of Programming Language\\n\" + \"Worldwide, Oct 2017 compared to a year ago\")\n",
    "    plt.yticks(x_pos, x)\n",
    "    plt.show()\n",
    "    \n",
    "    plt.minorticks_on()\n",
    "    plt.grid(which='major', linestyle='-', linewidth='0.5', color='red')\n",
    "    plt.grid(which='minor', linestyle=':', linewidth='0.5', color='black')\n",
    "    plt.show()\n",
    "    \n",
    "    \n",
    "if __name__ == '__main__':\n",
    "    languages = ['Java', 'Python', 'PHP', 'JavaScript', 'C#', 'C++']\n",
    "    popularity = [22.2, 17.6, 8.8, 8, 7.7, 6.7]\n",
    "    program_145(languages, popularity)"
   ]
  },
  {
   "cell_type": "markdown",
   "metadata": {},
   "source": [
    "### Q146.  Write a python programming to display a bar chart of the   Popularity of programming languages. Increase bottom margin"
   ]
  },
  {
   "cell_type": "markdown",
   "metadata": {},
   "source": [
    "### Ans."
   ]
  },
  {
   "cell_type": "code",
   "execution_count": 147,
   "metadata": {},
   "outputs": [
    {
     "data": {
      "image/png": "[encoded data removed]",
      "text/plain": [
       "<Figure size 432x288 with 1 Axes>"
      ]
     },
     "metadata": {
      "needs_background": "light"
     },
     "output_type": "display_data"
    }
   ],
   "source": [
    "def program_146():\n",
    "\ttry:\n",
    "\t\tls_prog_lang = ['Java', 'Python', 'PHP', 'JavaScript', 'C#', 'C++']\n",
    "\t\tls_popularity = [22.2, 17.6, 8.8, 8, 7.7, 6.7]\n",
    "\t\tx_pos = [i for i, _ in enumerate(ls_prog_lang)]\n",
    "\t\tplt.bar(x_pos, ls_popularity)\n",
    "\t\t\n",
    "\t\tplt.show()\n",
    "\texcept Exception as e:\n",
    "\t\traise e\n",
    "        \n",
    "program_146()"
   ]
  },
  {
   "cell_type": "markdown",
   "metadata": {},
   "source": [
    "### Q147. Write a python program to create the bar plot from a DataFrame"
   ]
  },
  {
   "cell_type": "markdown",
   "metadata": {},
   "source": [
    "### Ans."
   ]
  },
  {
   "cell_type": "code",
   "execution_count": 148,
   "metadata": {},
   "outputs": [
    {
     "data": {
      "image/png": "[encoded data removed]",
      "text/plain": [
       "<Figure size 432x288 with 1 Axes>"
      ]
     },
     "metadata": {
      "needs_background": "light"
     },
     "output_type": "display_data"
    }
   ],
   "source": [
    "def program_147():\n",
    "\ttry:\n",
    "\t\tdata = {'a': [4,2,4,2,2], 'b': [8,3,7,6,4], 'c': [5,4,4,4,3], 'd': [7,2,7,8,3], 'e': [6,6,8,6,2]}\n",
    "\t\tdf = pd.DataFrame.from_dict(data=data) #, index=[2,4,6,8,10])\n",
    "\t\tdf.index = [2,4,6,8,10]\n",
    "\t\tdf.plot(kind='bar')\n",
    "\t\tplt.minorticks_on()\n",
    "\t\tplt.grid(linestyle='-', which='major',color='green')\n",
    "\t\tplt.grid(linestyle=':', which='minor',color='black')\n",
    "\t\tplt.show()\n",
    "\n",
    "\texcept Exception as e:\n",
    "\t\traise e\n",
    "        \n",
    "program_147()"
   ]
  },
  {
   "cell_type": "markdown",
   "metadata": {},
   "source": [
    "### Q148. Write a python program to draw the scatter plot comparing two subject marks of Mathematics and Science. Use marks of 10 students. "
   ]
  },
  {
   "cell_type": "markdown",
   "metadata": {},
   "source": [
    "### Ans."
   ]
  },
  {
   "cell_type": "code",
   "execution_count": 149,
   "metadata": {},
   "outputs": [
    {
     "data": {
      "image/png": "[encoded data removed]",
      "text/plain": [
       "<Figure size 432x288 with 1 Axes>"
      ]
     },
     "metadata": {
      "needs_background": "light"
     },
     "output_type": "display_data"
    }
   ],
   "source": [
    "def program_148():\n",
    "\ttry:\n",
    "\t\tmath_marks = [88, 92 , 80, 89, 100, 80, 60, 100, 80, 34]\n",
    "\t\tscience_marks = [35, 79, 79 , 48, 100, 88, 32, 45, 20, 30]\n",
    "\t\tmarks_range = [10, 20, 30, 40, 50, 60, 70, 80, 90, 100]\n",
    "\n",
    "\t\tplt.scatter(marks_range, math_marks, color=('red'), label='Maths marks')\n",
    "\t\tplt.scatter(marks_range,science_marks, color=('green'), label='Science marks')\n",
    "\n",
    "\t\tplt.xlabel(\"Marks Range\")\n",
    "\t\tplt.ylabel(\"Marks Scored\")\n",
    "\t\tplt.title(\"Scatter Plot\")\n",
    "\t\tplt.legend(loc='upper right')\n",
    "\t\tplt.show()\n",
    "\n",
    "\texcept Exception as e:\n",
    "\t\traise e\n",
    "        \n",
    "program_148()"
   ]
  },
  {
   "cell_type": "code",
   "execution_count": null,
   "metadata": {},
   "outputs": [],
   "source": []
  },
  {
   "cell_type": "markdown",
   "metadata": {},
   "source": [
    "### Q149.  Write a python program to draw the scatter plot for three different  groups comparing weights and heights."
   ]
  },
  {
   "cell_type": "markdown",
   "metadata": {},
   "source": [
    "### Ans."
   ]
  },
  {
   "cell_type": "code",
   "execution_count": 150,
   "metadata": {},
   "outputs": [
    {
     "data": {
      "image/png": "[encoded data removed]",
      "text/plain": [
       "<Figure size 432x288 with 1 Axes>"
      ]
     },
     "metadata": {
      "needs_background": "light"
     },
     "output_type": "display_data"
    }
   ],
   "source": [
    "import matplotlib.pyplot as plt\n",
    "import numpy as np \n",
    "\n",
    "weight1=[67,57.2,59.6,59.64,55.8,61.2,60.45,61,56.23,56]\n",
    "height1=[101.7,197.6,98.3,125.1,113.7,157.7,136,148.9,125.3,114.9] \n",
    "weight2=[61.9,64,62.1,64.2,62.3,65.4,62.4,61.4,62.5,63.6]\n",
    "height2=[152.8,155.3,135.1,125.2,151.3,135,182.2,195.9,165.1,125.1] \n",
    "weight3=[68.2,67.2,68.4,68.7,71,71.3,70.8,70,71.1,71.7]\n",
    "height3=[165.8,170.9,192.8,135.4,161.4,136.1,167.1,235.1,181.1,177.3]\n",
    "weight=np.concatenate((weight1,weight2,weight3))\n",
    "height=np.concatenate((height1,height2,height3))\n",
    "plt.scatter(weight, height, marker='*', color=['red','green','blue'])\n",
    "plt.xlabel('weight', fontsize=16)\n",
    "plt.ylabel('height', fontsize=16)\n",
    "plt.title('Group wise Weight vs Height scatter plot',fontsize=20)\n",
    "plt.show()"
   ]
  },
  {
   "cell_type": "markdown",
   "metadata": {},
   "source": [
    "### Q150.  Write a python program to draw a scatter plot to find sea-level  rise in past 100 years. "
   ]
  },
  {
   "cell_type": "markdown",
   "metadata": {},
   "source": [
    "### Ans."
   ]
  },
  {
   "cell_type": "code",
   "execution_count": 151,
   "metadata": {},
   "outputs": [
    {
     "name": "stdout",
     "output_type": "stream",
     "text": [
      "Index(['Year', 'CSIRO Adjusted Sea Level', 'Lower Error Bound', 'Upper Error Bound', 'NOAA Adjusted Sea Level'], dtype='object')\n"
     ]
    },
    {
     "data": {
      "image/png": "[encoded data removed]",
      "text/plain": [
       "<Figure size 432x288 with 1 Axes>"
      ]
     },
     "metadata": {
      "needs_background": "light"
     },
     "output_type": "display_data"
    }
   ],
   "source": [
    "def program_150():\n",
    "\ttry:\n",
    "\t\tdf = pd.read_csv('sealevel_data.csv')\n",
    "\t\tprint(df.columns)\n",
    "\t\tyear_series = df['Year']\n",
    "\t\tsealevel_series = df['CSIRO Adjusted Sea Level']\n",
    "\n",
    "\t\tplt.scatter(year_series, sealevel_series)\n",
    "\t\tplt.xlabel('Year')\n",
    "\t\tplt.ylabel('Sea Level (inches)')\n",
    "\t\tplt.title('Rise in Sealevel')\n",
    "\t\tplt.show()\n",
    "\texcept Exception as e:\n",
    "\t\traise e\n",
    "        \n",
    "program_150()"
   ]
  }
 ],
 "metadata": {
  "kernelspec": {
   "display_name": "Python 3",
   "language": "python",
   "name": "python3"
  },
  "language_info": {
   "codemirror_mode": {
    "name": "ipython",
    "version": 3
   },
   "file_extension": ".py",
   "mimetype": "text/x-python",
   "name": "python",
   "nbconvert_exporter": "python",
   "pygments_lexer": "ipython3",
   "version": "3.6.6"
  }
 },
 "nbformat": 4,
 "nbformat_minor": 2
}
